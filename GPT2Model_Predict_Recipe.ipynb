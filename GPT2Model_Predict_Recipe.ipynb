{
  "nbformat": 4,
  "nbformat_minor": 0,
  "metadata": {
    "colab": {
      "name": "GPT2Model_Predict-Recipe.ipynb",
      "provenance": [],
      "collapsed_sections": [],
      "authorship_tag": "ABX9TyPQh8BSYdzlIGc/IF9gqD8f",
      "include_colab_link": true
    },
    "kernelspec": {
      "name": "python3",
      "display_name": "Python 3"
    },
    "accelerator": "GPU",
    "widgets": {
      "application/vnd.jupyter.widget-state+json": {
        "3107820987334ca98c6ef62c8173f291": {
          "model_module": "@jupyter-widgets/controls",
          "model_name": "HBoxModel",
          "state": {
            "_view_name": "HBoxView",
            "_dom_classes": [],
            "_model_name": "HBoxModel",
            "_view_module": "@jupyter-widgets/controls",
            "_model_module_version": "1.5.0",
            "_view_count": null,
            "_view_module_version": "1.5.0",
            "box_style": "",
            "layout": "IPY_MODEL_2077bd4596bd4c019537969bb5418540",
            "_model_module": "@jupyter-widgets/controls",
            "children": [
              "IPY_MODEL_fc9b489d3ae1469884575ebe558c222f",
              "IPY_MODEL_af57349d0614456cb57ebd234b6ef6f5"
            ]
          }
        },
        "2077bd4596bd4c019537969bb5418540": {
          "model_module": "@jupyter-widgets/base",
          "model_name": "LayoutModel",
          "state": {
            "_view_name": "LayoutView",
            "grid_template_rows": null,
            "right": null,
            "justify_content": null,
            "_view_module": "@jupyter-widgets/base",
            "overflow": null,
            "_model_module_version": "1.2.0",
            "_view_count": null,
            "flex_flow": null,
            "width": null,
            "min_width": null,
            "border": null,
            "align_items": null,
            "bottom": null,
            "_model_module": "@jupyter-widgets/base",
            "top": null,
            "grid_column": null,
            "overflow_y": null,
            "overflow_x": null,
            "grid_auto_flow": null,
            "grid_area": null,
            "grid_template_columns": null,
            "flex": null,
            "_model_name": "LayoutModel",
            "justify_items": null,
            "grid_row": null,
            "max_height": null,
            "align_content": null,
            "visibility": null,
            "align_self": null,
            "height": null,
            "min_height": null,
            "padding": null,
            "grid_auto_rows": null,
            "grid_gap": null,
            "max_width": null,
            "order": null,
            "_view_module_version": "1.2.0",
            "grid_template_areas": null,
            "object_position": null,
            "object_fit": null,
            "grid_auto_columns": null,
            "margin": null,
            "display": null,
            "left": null
          }
        },
        "fc9b489d3ae1469884575ebe558c222f": {
          "model_module": "@jupyter-widgets/controls",
          "model_name": "FloatProgressModel",
          "state": {
            "_view_name": "ProgressView",
            "style": "IPY_MODEL_dc6ea04fb94d49db84e69c62d0870a2e",
            "_dom_classes": [],
            "description": "Downloading: 100%",
            "_model_name": "FloatProgressModel",
            "bar_style": "success",
            "max": 762,
            "_view_module": "@jupyter-widgets/controls",
            "_model_module_version": "1.5.0",
            "value": 762,
            "_view_count": null,
            "_view_module_version": "1.5.0",
            "orientation": "horizontal",
            "min": 0,
            "description_tooltip": null,
            "_model_module": "@jupyter-widgets/controls",
            "layout": "IPY_MODEL_c8d4b8001eaf42f7995041d0a74e986f"
          }
        },
        "af57349d0614456cb57ebd234b6ef6f5": {
          "model_module": "@jupyter-widgets/controls",
          "model_name": "HTMLModel",
          "state": {
            "_view_name": "HTMLView",
            "style": "IPY_MODEL_46272de8aff8400cb3c9197d9188831d",
            "_dom_classes": [],
            "description": "",
            "_model_name": "HTMLModel",
            "placeholder": "​",
            "_view_module": "@jupyter-widgets/controls",
            "_model_module_version": "1.5.0",
            "value": " 762/762 [00:00&lt;00:00, 1.23kB/s]",
            "_view_count": null,
            "_view_module_version": "1.5.0",
            "description_tooltip": null,
            "_model_module": "@jupyter-widgets/controls",
            "layout": "IPY_MODEL_638991390817454ca1bdde7d09d7960d"
          }
        },
        "dc6ea04fb94d49db84e69c62d0870a2e": {
          "model_module": "@jupyter-widgets/controls",
          "model_name": "ProgressStyleModel",
          "state": {
            "_view_name": "StyleView",
            "_model_name": "ProgressStyleModel",
            "description_width": "initial",
            "_view_module": "@jupyter-widgets/base",
            "_model_module_version": "1.5.0",
            "_view_count": null,
            "_view_module_version": "1.2.0",
            "bar_color": null,
            "_model_module": "@jupyter-widgets/controls"
          }
        },
        "c8d4b8001eaf42f7995041d0a74e986f": {
          "model_module": "@jupyter-widgets/base",
          "model_name": "LayoutModel",
          "state": {
            "_view_name": "LayoutView",
            "grid_template_rows": null,
            "right": null,
            "justify_content": null,
            "_view_module": "@jupyter-widgets/base",
            "overflow": null,
            "_model_module_version": "1.2.0",
            "_view_count": null,
            "flex_flow": null,
            "width": null,
            "min_width": null,
            "border": null,
            "align_items": null,
            "bottom": null,
            "_model_module": "@jupyter-widgets/base",
            "top": null,
            "grid_column": null,
            "overflow_y": null,
            "overflow_x": null,
            "grid_auto_flow": null,
            "grid_area": null,
            "grid_template_columns": null,
            "flex": null,
            "_model_name": "LayoutModel",
            "justify_items": null,
            "grid_row": null,
            "max_height": null,
            "align_content": null,
            "visibility": null,
            "align_self": null,
            "height": null,
            "min_height": null,
            "padding": null,
            "grid_auto_rows": null,
            "grid_gap": null,
            "max_width": null,
            "order": null,
            "_view_module_version": "1.2.0",
            "grid_template_areas": null,
            "object_position": null,
            "object_fit": null,
            "grid_auto_columns": null,
            "margin": null,
            "display": null,
            "left": null
          }
        },
        "46272de8aff8400cb3c9197d9188831d": {
          "model_module": "@jupyter-widgets/controls",
          "model_name": "DescriptionStyleModel",
          "state": {
            "_view_name": "StyleView",
            "_model_name": "DescriptionStyleModel",
            "description_width": "",
            "_view_module": "@jupyter-widgets/base",
            "_model_module_version": "1.5.0",
            "_view_count": null,
            "_view_module_version": "1.2.0",
            "_model_module": "@jupyter-widgets/controls"
          }
        },
        "638991390817454ca1bdde7d09d7960d": {
          "model_module": "@jupyter-widgets/base",
          "model_name": "LayoutModel",
          "state": {
            "_view_name": "LayoutView",
            "grid_template_rows": null,
            "right": null,
            "justify_content": null,
            "_view_module": "@jupyter-widgets/base",
            "overflow": null,
            "_model_module_version": "1.2.0",
            "_view_count": null,
            "flex_flow": null,
            "width": null,
            "min_width": null,
            "border": null,
            "align_items": null,
            "bottom": null,
            "_model_module": "@jupyter-widgets/base",
            "top": null,
            "grid_column": null,
            "overflow_y": null,
            "overflow_x": null,
            "grid_auto_flow": null,
            "grid_area": null,
            "grid_template_columns": null,
            "flex": null,
            "_model_name": "LayoutModel",
            "justify_items": null,
            "grid_row": null,
            "max_height": null,
            "align_content": null,
            "visibility": null,
            "align_self": null,
            "height": null,
            "min_height": null,
            "padding": null,
            "grid_auto_rows": null,
            "grid_gap": null,
            "max_width": null,
            "order": null,
            "_view_module_version": "1.2.0",
            "grid_template_areas": null,
            "object_position": null,
            "object_fit": null,
            "grid_auto_columns": null,
            "margin": null,
            "display": null,
            "left": null
          }
        },
        "322425e8b04e480ebff8f316eb2d2840": {
          "model_module": "@jupyter-widgets/controls",
          "model_name": "HBoxModel",
          "state": {
            "_view_name": "HBoxView",
            "_dom_classes": [],
            "_model_name": "HBoxModel",
            "_view_module": "@jupyter-widgets/controls",
            "_model_module_version": "1.5.0",
            "_view_count": null,
            "_view_module_version": "1.5.0",
            "box_style": "",
            "layout": "IPY_MODEL_4be5682e69be441e81383012a5ff1c52",
            "_model_module": "@jupyter-widgets/controls",
            "children": [
              "IPY_MODEL_06db88b9208b4a41ac5d6a729e1a4260",
              "IPY_MODEL_387bb57583174ac593b9293addac197c"
            ]
          }
        },
        "4be5682e69be441e81383012a5ff1c52": {
          "model_module": "@jupyter-widgets/base",
          "model_name": "LayoutModel",
          "state": {
            "_view_name": "LayoutView",
            "grid_template_rows": null,
            "right": null,
            "justify_content": null,
            "_view_module": "@jupyter-widgets/base",
            "overflow": null,
            "_model_module_version": "1.2.0",
            "_view_count": null,
            "flex_flow": null,
            "width": null,
            "min_width": null,
            "border": null,
            "align_items": null,
            "bottom": null,
            "_model_module": "@jupyter-widgets/base",
            "top": null,
            "grid_column": null,
            "overflow_y": null,
            "overflow_x": null,
            "grid_auto_flow": null,
            "grid_area": null,
            "grid_template_columns": null,
            "flex": null,
            "_model_name": "LayoutModel",
            "justify_items": null,
            "grid_row": null,
            "max_height": null,
            "align_content": null,
            "visibility": null,
            "align_self": null,
            "height": null,
            "min_height": null,
            "padding": null,
            "grid_auto_rows": null,
            "grid_gap": null,
            "max_width": null,
            "order": null,
            "_view_module_version": "1.2.0",
            "grid_template_areas": null,
            "object_position": null,
            "object_fit": null,
            "grid_auto_columns": null,
            "margin": null,
            "display": null,
            "left": null
          }
        },
        "06db88b9208b4a41ac5d6a729e1a4260": {
          "model_module": "@jupyter-widgets/controls",
          "model_name": "FloatProgressModel",
          "state": {
            "_view_name": "ProgressView",
            "style": "IPY_MODEL_5abe745fab684662810e62400e60bafe",
            "_dom_classes": [],
            "description": "Downloading: 100%",
            "_model_name": "FloatProgressModel",
            "bar_style": "success",
            "max": 1042301,
            "_view_module": "@jupyter-widgets/controls",
            "_model_module_version": "1.5.0",
            "value": 1042301,
            "_view_count": null,
            "_view_module_version": "1.5.0",
            "orientation": "horizontal",
            "min": 0,
            "description_tooltip": null,
            "_model_module": "@jupyter-widgets/controls",
            "layout": "IPY_MODEL_305bd6308f0f4ecfa124b4adc0a683a6"
          }
        },
        "387bb57583174ac593b9293addac197c": {
          "model_module": "@jupyter-widgets/controls",
          "model_name": "HTMLModel",
          "state": {
            "_view_name": "HTMLView",
            "style": "IPY_MODEL_04a90527a4cb43f6835f239f7eecc85e",
            "_dom_classes": [],
            "description": "",
            "_model_name": "HTMLModel",
            "placeholder": "​",
            "_view_module": "@jupyter-widgets/controls",
            "_model_module_version": "1.5.0",
            "value": " 1.04M/1.04M [00:01&lt;00:00, 807kB/s]",
            "_view_count": null,
            "_view_module_version": "1.5.0",
            "description_tooltip": null,
            "_model_module": "@jupyter-widgets/controls",
            "layout": "IPY_MODEL_022d5528eb9d4b9f85c56fd0bd2cd3ff"
          }
        },
        "5abe745fab684662810e62400e60bafe": {
          "model_module": "@jupyter-widgets/controls",
          "model_name": "ProgressStyleModel",
          "state": {
            "_view_name": "StyleView",
            "_model_name": "ProgressStyleModel",
            "description_width": "initial",
            "_view_module": "@jupyter-widgets/base",
            "_model_module_version": "1.5.0",
            "_view_count": null,
            "_view_module_version": "1.2.0",
            "bar_color": null,
            "_model_module": "@jupyter-widgets/controls"
          }
        },
        "305bd6308f0f4ecfa124b4adc0a683a6": {
          "model_module": "@jupyter-widgets/base",
          "model_name": "LayoutModel",
          "state": {
            "_view_name": "LayoutView",
            "grid_template_rows": null,
            "right": null,
            "justify_content": null,
            "_view_module": "@jupyter-widgets/base",
            "overflow": null,
            "_model_module_version": "1.2.0",
            "_view_count": null,
            "flex_flow": null,
            "width": null,
            "min_width": null,
            "border": null,
            "align_items": null,
            "bottom": null,
            "_model_module": "@jupyter-widgets/base",
            "top": null,
            "grid_column": null,
            "overflow_y": null,
            "overflow_x": null,
            "grid_auto_flow": null,
            "grid_area": null,
            "grid_template_columns": null,
            "flex": null,
            "_model_name": "LayoutModel",
            "justify_items": null,
            "grid_row": null,
            "max_height": null,
            "align_content": null,
            "visibility": null,
            "align_self": null,
            "height": null,
            "min_height": null,
            "padding": null,
            "grid_auto_rows": null,
            "grid_gap": null,
            "max_width": null,
            "order": null,
            "_view_module_version": "1.2.0",
            "grid_template_areas": null,
            "object_position": null,
            "object_fit": null,
            "grid_auto_columns": null,
            "margin": null,
            "display": null,
            "left": null
          }
        },
        "04a90527a4cb43f6835f239f7eecc85e": {
          "model_module": "@jupyter-widgets/controls",
          "model_name": "DescriptionStyleModel",
          "state": {
            "_view_name": "StyleView",
            "_model_name": "DescriptionStyleModel",
            "description_width": "",
            "_view_module": "@jupyter-widgets/base",
            "_model_module_version": "1.5.0",
            "_view_count": null,
            "_view_module_version": "1.2.0",
            "_model_module": "@jupyter-widgets/controls"
          }
        },
        "022d5528eb9d4b9f85c56fd0bd2cd3ff": {
          "model_module": "@jupyter-widgets/base",
          "model_name": "LayoutModel",
          "state": {
            "_view_name": "LayoutView",
            "grid_template_rows": null,
            "right": null,
            "justify_content": null,
            "_view_module": "@jupyter-widgets/base",
            "overflow": null,
            "_model_module_version": "1.2.0",
            "_view_count": null,
            "flex_flow": null,
            "width": null,
            "min_width": null,
            "border": null,
            "align_items": null,
            "bottom": null,
            "_model_module": "@jupyter-widgets/base",
            "top": null,
            "grid_column": null,
            "overflow_y": null,
            "overflow_x": null,
            "grid_auto_flow": null,
            "grid_area": null,
            "grid_template_columns": null,
            "flex": null,
            "_model_name": "LayoutModel",
            "justify_items": null,
            "grid_row": null,
            "max_height": null,
            "align_content": null,
            "visibility": null,
            "align_self": null,
            "height": null,
            "min_height": null,
            "padding": null,
            "grid_auto_rows": null,
            "grid_gap": null,
            "max_width": null,
            "order": null,
            "_view_module_version": "1.2.0",
            "grid_template_areas": null,
            "object_position": null,
            "object_fit": null,
            "grid_auto_columns": null,
            "margin": null,
            "display": null,
            "left": null
          }
        },
        "d8356f686c2940f3b5b4b3585f549817": {
          "model_module": "@jupyter-widgets/controls",
          "model_name": "HBoxModel",
          "state": {
            "_view_name": "HBoxView",
            "_dom_classes": [],
            "_model_name": "HBoxModel",
            "_view_module": "@jupyter-widgets/controls",
            "_model_module_version": "1.5.0",
            "_view_count": null,
            "_view_module_version": "1.5.0",
            "box_style": "",
            "layout": "IPY_MODEL_66adb9d9aec64159bb0f18a0e581c9bf",
            "_model_module": "@jupyter-widgets/controls",
            "children": [
              "IPY_MODEL_916613ad98d841c5b3329d7ad835e8da",
              "IPY_MODEL_94de5774cf8e452d84d84ff9f8b3d479"
            ]
          }
        },
        "66adb9d9aec64159bb0f18a0e581c9bf": {
          "model_module": "@jupyter-widgets/base",
          "model_name": "LayoutModel",
          "state": {
            "_view_name": "LayoutView",
            "grid_template_rows": null,
            "right": null,
            "justify_content": null,
            "_view_module": "@jupyter-widgets/base",
            "overflow": null,
            "_model_module_version": "1.2.0",
            "_view_count": null,
            "flex_flow": null,
            "width": null,
            "min_width": null,
            "border": null,
            "align_items": null,
            "bottom": null,
            "_model_module": "@jupyter-widgets/base",
            "top": null,
            "grid_column": null,
            "overflow_y": null,
            "overflow_x": null,
            "grid_auto_flow": null,
            "grid_area": null,
            "grid_template_columns": null,
            "flex": null,
            "_model_name": "LayoutModel",
            "justify_items": null,
            "grid_row": null,
            "max_height": null,
            "align_content": null,
            "visibility": null,
            "align_self": null,
            "height": null,
            "min_height": null,
            "padding": null,
            "grid_auto_rows": null,
            "grid_gap": null,
            "max_width": null,
            "order": null,
            "_view_module_version": "1.2.0",
            "grid_template_areas": null,
            "object_position": null,
            "object_fit": null,
            "grid_auto_columns": null,
            "margin": null,
            "display": null,
            "left": null
          }
        },
        "916613ad98d841c5b3329d7ad835e8da": {
          "model_module": "@jupyter-widgets/controls",
          "model_name": "FloatProgressModel",
          "state": {
            "_view_name": "ProgressView",
            "style": "IPY_MODEL_b4b61da32b4147e9b226ab7704903305",
            "_dom_classes": [],
            "description": "Downloading: 100%",
            "_model_name": "FloatProgressModel",
            "bar_style": "success",
            "max": 456318,
            "_view_module": "@jupyter-widgets/controls",
            "_model_module_version": "1.5.0",
            "value": 456318,
            "_view_count": null,
            "_view_module_version": "1.5.0",
            "orientation": "horizontal",
            "min": 0,
            "description_tooltip": null,
            "_model_module": "@jupyter-widgets/controls",
            "layout": "IPY_MODEL_7f2877c8b8bd466488b9cd175aaa4d3a"
          }
        },
        "94de5774cf8e452d84d84ff9f8b3d479": {
          "model_module": "@jupyter-widgets/controls",
          "model_name": "HTMLModel",
          "state": {
            "_view_name": "HTMLView",
            "style": "IPY_MODEL_baaec1b6d6174175af8a0d6afab890fc",
            "_dom_classes": [],
            "description": "",
            "_model_name": "HTMLModel",
            "placeholder": "​",
            "_view_module": "@jupyter-widgets/controls",
            "_model_module_version": "1.5.0",
            "value": " 456k/456k [00:00&lt;00:00, 1.26MB/s]",
            "_view_count": null,
            "_view_module_version": "1.5.0",
            "description_tooltip": null,
            "_model_module": "@jupyter-widgets/controls",
            "layout": "IPY_MODEL_13b75d43d99040ed810cc56bd1da73de"
          }
        },
        "b4b61da32b4147e9b226ab7704903305": {
          "model_module": "@jupyter-widgets/controls",
          "model_name": "ProgressStyleModel",
          "state": {
            "_view_name": "StyleView",
            "_model_name": "ProgressStyleModel",
            "description_width": "initial",
            "_view_module": "@jupyter-widgets/base",
            "_model_module_version": "1.5.0",
            "_view_count": null,
            "_view_module_version": "1.2.0",
            "bar_color": null,
            "_model_module": "@jupyter-widgets/controls"
          }
        },
        "7f2877c8b8bd466488b9cd175aaa4d3a": {
          "model_module": "@jupyter-widgets/base",
          "model_name": "LayoutModel",
          "state": {
            "_view_name": "LayoutView",
            "grid_template_rows": null,
            "right": null,
            "justify_content": null,
            "_view_module": "@jupyter-widgets/base",
            "overflow": null,
            "_model_module_version": "1.2.0",
            "_view_count": null,
            "flex_flow": null,
            "width": null,
            "min_width": null,
            "border": null,
            "align_items": null,
            "bottom": null,
            "_model_module": "@jupyter-widgets/base",
            "top": null,
            "grid_column": null,
            "overflow_y": null,
            "overflow_x": null,
            "grid_auto_flow": null,
            "grid_area": null,
            "grid_template_columns": null,
            "flex": null,
            "_model_name": "LayoutModel",
            "justify_items": null,
            "grid_row": null,
            "max_height": null,
            "align_content": null,
            "visibility": null,
            "align_self": null,
            "height": null,
            "min_height": null,
            "padding": null,
            "grid_auto_rows": null,
            "grid_gap": null,
            "max_width": null,
            "order": null,
            "_view_module_version": "1.2.0",
            "grid_template_areas": null,
            "object_position": null,
            "object_fit": null,
            "grid_auto_columns": null,
            "margin": null,
            "display": null,
            "left": null
          }
        },
        "baaec1b6d6174175af8a0d6afab890fc": {
          "model_module": "@jupyter-widgets/controls",
          "model_name": "DescriptionStyleModel",
          "state": {
            "_view_name": "StyleView",
            "_model_name": "DescriptionStyleModel",
            "description_width": "",
            "_view_module": "@jupyter-widgets/base",
            "_model_module_version": "1.5.0",
            "_view_count": null,
            "_view_module_version": "1.2.0",
            "_model_module": "@jupyter-widgets/controls"
          }
        },
        "13b75d43d99040ed810cc56bd1da73de": {
          "model_module": "@jupyter-widgets/base",
          "model_name": "LayoutModel",
          "state": {
            "_view_name": "LayoutView",
            "grid_template_rows": null,
            "right": null,
            "justify_content": null,
            "_view_module": "@jupyter-widgets/base",
            "overflow": null,
            "_model_module_version": "1.2.0",
            "_view_count": null,
            "flex_flow": null,
            "width": null,
            "min_width": null,
            "border": null,
            "align_items": null,
            "bottom": null,
            "_model_module": "@jupyter-widgets/base",
            "top": null,
            "grid_column": null,
            "overflow_y": null,
            "overflow_x": null,
            "grid_auto_flow": null,
            "grid_area": null,
            "grid_template_columns": null,
            "flex": null,
            "_model_name": "LayoutModel",
            "justify_items": null,
            "grid_row": null,
            "max_height": null,
            "align_content": null,
            "visibility": null,
            "align_self": null,
            "height": null,
            "min_height": null,
            "padding": null,
            "grid_auto_rows": null,
            "grid_gap": null,
            "max_width": null,
            "order": null,
            "_view_module_version": "1.2.0",
            "grid_template_areas": null,
            "object_position": null,
            "object_fit": null,
            "grid_auto_columns": null,
            "margin": null,
            "display": null,
            "left": null
          }
        },
        "8ed97a02853340718cc520aeeadc00df": {
          "model_module": "@jupyter-widgets/controls",
          "model_name": "HBoxModel",
          "state": {
            "_view_name": "HBoxView",
            "_dom_classes": [],
            "_model_name": "HBoxModel",
            "_view_module": "@jupyter-widgets/controls",
            "_model_module_version": "1.5.0",
            "_view_count": null,
            "_view_module_version": "1.5.0",
            "box_style": "",
            "layout": "IPY_MODEL_a7f1b5777a13499e8a7f057bbfc273c9",
            "_model_module": "@jupyter-widgets/controls",
            "children": [
              "IPY_MODEL_3ca54165588d4cf89892825068c9c186",
              "IPY_MODEL_02738b3ca031495eadb27152af54da9a"
            ]
          }
        },
        "a7f1b5777a13499e8a7f057bbfc273c9": {
          "model_module": "@jupyter-widgets/base",
          "model_name": "LayoutModel",
          "state": {
            "_view_name": "LayoutView",
            "grid_template_rows": null,
            "right": null,
            "justify_content": null,
            "_view_module": "@jupyter-widgets/base",
            "overflow": null,
            "_model_module_version": "1.2.0",
            "_view_count": null,
            "flex_flow": null,
            "width": null,
            "min_width": null,
            "border": null,
            "align_items": null,
            "bottom": null,
            "_model_module": "@jupyter-widgets/base",
            "top": null,
            "grid_column": null,
            "overflow_y": null,
            "overflow_x": null,
            "grid_auto_flow": null,
            "grid_area": null,
            "grid_template_columns": null,
            "flex": null,
            "_model_name": "LayoutModel",
            "justify_items": null,
            "grid_row": null,
            "max_height": null,
            "align_content": null,
            "visibility": null,
            "align_self": null,
            "height": null,
            "min_height": null,
            "padding": null,
            "grid_auto_rows": null,
            "grid_gap": null,
            "max_width": null,
            "order": null,
            "_view_module_version": "1.2.0",
            "grid_template_areas": null,
            "object_position": null,
            "object_fit": null,
            "grid_auto_columns": null,
            "margin": null,
            "display": null,
            "left": null
          }
        },
        "3ca54165588d4cf89892825068c9c186": {
          "model_module": "@jupyter-widgets/controls",
          "model_name": "FloatProgressModel",
          "state": {
            "_view_name": "ProgressView",
            "style": "IPY_MODEL_8b6b8a56ddc044f6a2bddf3f158c5bc6",
            "_dom_classes": [],
            "description": "Downloading: 100%",
            "_model_name": "FloatProgressModel",
            "bar_style": "success",
            "max": 352833716,
            "_view_module": "@jupyter-widgets/controls",
            "_model_module_version": "1.5.0",
            "value": 352833716,
            "_view_count": null,
            "_view_module_version": "1.5.0",
            "orientation": "horizontal",
            "min": 0,
            "description_tooltip": null,
            "_model_module": "@jupyter-widgets/controls",
            "layout": "IPY_MODEL_5fc8ba5c20194010a455a74bf5f51fcc"
          }
        },
        "02738b3ca031495eadb27152af54da9a": {
          "model_module": "@jupyter-widgets/controls",
          "model_name": "HTMLModel",
          "state": {
            "_view_name": "HTMLView",
            "style": "IPY_MODEL_5a7b0a6c70db44ac968e5cd2847bb7be",
            "_dom_classes": [],
            "description": "",
            "_model_name": "HTMLModel",
            "placeholder": "​",
            "_view_module": "@jupyter-widgets/controls",
            "_model_module_version": "1.5.0",
            "value": " 353M/353M [15:49&lt;00:00, 372kB/s]",
            "_view_count": null,
            "_view_module_version": "1.5.0",
            "description_tooltip": null,
            "_model_module": "@jupyter-widgets/controls",
            "layout": "IPY_MODEL_de3e5c7d87be46b1bc3bb6a7c9d3f7a2"
          }
        },
        "8b6b8a56ddc044f6a2bddf3f158c5bc6": {
          "model_module": "@jupyter-widgets/controls",
          "model_name": "ProgressStyleModel",
          "state": {
            "_view_name": "StyleView",
            "_model_name": "ProgressStyleModel",
            "description_width": "initial",
            "_view_module": "@jupyter-widgets/base",
            "_model_module_version": "1.5.0",
            "_view_count": null,
            "_view_module_version": "1.2.0",
            "bar_color": null,
            "_model_module": "@jupyter-widgets/controls"
          }
        },
        "5fc8ba5c20194010a455a74bf5f51fcc": {
          "model_module": "@jupyter-widgets/base",
          "model_name": "LayoutModel",
          "state": {
            "_view_name": "LayoutView",
            "grid_template_rows": null,
            "right": null,
            "justify_content": null,
            "_view_module": "@jupyter-widgets/base",
            "overflow": null,
            "_model_module_version": "1.2.0",
            "_view_count": null,
            "flex_flow": null,
            "width": null,
            "min_width": null,
            "border": null,
            "align_items": null,
            "bottom": null,
            "_model_module": "@jupyter-widgets/base",
            "top": null,
            "grid_column": null,
            "overflow_y": null,
            "overflow_x": null,
            "grid_auto_flow": null,
            "grid_area": null,
            "grid_template_columns": null,
            "flex": null,
            "_model_name": "LayoutModel",
            "justify_items": null,
            "grid_row": null,
            "max_height": null,
            "align_content": null,
            "visibility": null,
            "align_self": null,
            "height": null,
            "min_height": null,
            "padding": null,
            "grid_auto_rows": null,
            "grid_gap": null,
            "max_width": null,
            "order": null,
            "_view_module_version": "1.2.0",
            "grid_template_areas": null,
            "object_position": null,
            "object_fit": null,
            "grid_auto_columns": null,
            "margin": null,
            "display": null,
            "left": null
          }
        },
        "5a7b0a6c70db44ac968e5cd2847bb7be": {
          "model_module": "@jupyter-widgets/controls",
          "model_name": "DescriptionStyleModel",
          "state": {
            "_view_name": "StyleView",
            "_model_name": "DescriptionStyleModel",
            "description_width": "",
            "_view_module": "@jupyter-widgets/base",
            "_model_module_version": "1.5.0",
            "_view_count": null,
            "_view_module_version": "1.2.0",
            "_model_module": "@jupyter-widgets/controls"
          }
        },
        "de3e5c7d87be46b1bc3bb6a7c9d3f7a2": {
          "model_module": "@jupyter-widgets/base",
          "model_name": "LayoutModel",
          "state": {
            "_view_name": "LayoutView",
            "grid_template_rows": null,
            "right": null,
            "justify_content": null,
            "_view_module": "@jupyter-widgets/base",
            "overflow": null,
            "_model_module_version": "1.2.0",
            "_view_count": null,
            "flex_flow": null,
            "width": null,
            "min_width": null,
            "border": null,
            "align_items": null,
            "bottom": null,
            "_model_module": "@jupyter-widgets/base",
            "top": null,
            "grid_column": null,
            "overflow_y": null,
            "overflow_x": null,
            "grid_auto_flow": null,
            "grid_area": null,
            "grid_template_columns": null,
            "flex": null,
            "_model_name": "LayoutModel",
            "justify_items": null,
            "grid_row": null,
            "max_height": null,
            "align_content": null,
            "visibility": null,
            "align_self": null,
            "height": null,
            "min_height": null,
            "padding": null,
            "grid_auto_rows": null,
            "grid_gap": null,
            "max_width": null,
            "order": null,
            "_view_module_version": "1.2.0",
            "grid_template_areas": null,
            "object_position": null,
            "object_fit": null,
            "grid_auto_columns": null,
            "margin": null,
            "display": null,
            "left": null
          }
        }
      }
    }
  },
  "cells": [
    {
      "cell_type": "markdown",
      "metadata": {
        "id": "view-in-github",
        "colab_type": "text"
      },
      "source": [
        "<a href=\"https://colab.research.google.com/github/ravishankarramakrishnan/Deep_Learning_Practice/blob/master/GPT2Model_Predict_Recipe.ipynb\" target=\"_parent\"><img src=\"https://colab.research.google.com/assets/colab-badge.svg\" alt=\"Open In Colab\"/></a>"
      ]
    },
    {
      "cell_type": "code",
      "metadata": {
        "id": "aclwnanSCmRe",
        "colab_type": "code",
        "colab": {
          "base_uri": "https://localhost:8080/",
          "height": 138
        },
        "outputId": "b6da9449-b924-4614-ed47-9531307de956"
      },
      "source": [
        "# Clone the Transformers Repo\n",
        "\n",
        "!git clone https://github.com/huggingface/transformers"
      ],
      "execution_count": 1,
      "outputs": [
        {
          "output_type": "stream",
          "text": [
            "Cloning into 'transformers'...\n",
            "remote: Enumerating objects: 26, done.\u001b[K\n",
            "remote: Counting objects:   3% (1/26)\u001b[K\rremote: Counting objects:   7% (2/26)\u001b[K\rremote: Counting objects:  11% (3/26)\u001b[K\rremote: Counting objects:  15% (4/26)\u001b[K\rremote: Counting objects:  19% (5/26)\u001b[K\rremote: Counting objects:  23% (6/26)\u001b[K\rremote: Counting objects:  26% (7/26)\u001b[K\rremote: Counting objects:  30% (8/26)\u001b[K\rremote: Counting objects:  34% (9/26)\u001b[K\rremote: Counting objects:  38% (10/26)\u001b[K\rremote: Counting objects:  42% (11/26)\u001b[K\rremote: Counting objects:  46% (12/26)\u001b[K\rremote: Counting objects:  50% (13/26)\u001b[K\rremote: Counting objects:  53% (14/26)\u001b[K\rremote: Counting objects:  57% (15/26)\u001b[K\rremote: Counting objects:  61% (16/26)\u001b[K\rremote: Counting objects:  65% (17/26)\u001b[K\rremote: Counting objects:  69% (18/26)\u001b[K\rremote: Counting objects:  73% (19/26)\u001b[K\rremote: Counting objects:  76% (20/26)\u001b[K\rremote: Counting objects:  80% (21/26)\u001b[K\rremote: Counting objects:  84% (22/26)\u001b[K\rremote: Counting objects:  88% (23/26)\u001b[K\rremote: Counting objects:  92% (24/26)\u001b[K\rremote: Counting objects:  96% (25/26)\u001b[K\rremote: Counting objects: 100% (26/26)\u001b[K\rremote: Counting objects: 100% (26/26), done.\u001b[K\n",
            "remote: Compressing objects: 100% (23/23), done.\u001b[K\n",
            "remote: Total 37275 (delta 6), reused 11 (delta 0), pack-reused 37249\u001b[K\n",
            "Receiving objects: 100% (37275/37275), 27.19 MiB | 16.51 MiB/s, done.\n",
            "Resolving deltas: 100% (25784/25784), done.\n"
          ],
          "name": "stdout"
        }
      ]
    },
    {
      "cell_type": "code",
      "metadata": {
        "id": "KSvUdPgnDrol",
        "colab_type": "code",
        "colab": {
          "base_uri": "https://localhost:8080/",
          "height": 624
        },
        "outputId": "04b055f5-4de6-42c6-ff0c-ceefb7fca512"
      },
      "source": [
        "# Install packages in transformer downloaded folder\n",
        "\n",
        "!cd transformers; pip3 install . # They both Must be in Same CommandSet"
      ],
      "execution_count": 2,
      "outputs": [
        {
          "output_type": "stream",
          "text": [
            "Processing /content/transformers\n",
            "Requirement already satisfied: numpy in /usr/local/lib/python3.6/dist-packages (from transformers==3.0.2) (1.18.5)\n",
            "Collecting tokenizers==0.8.1.rc2\n",
            "\u001b[?25l  Downloading https://files.pythonhosted.org/packages/80/83/8b9fccb9e48eeb575ee19179e2bdde0ee9a1904f97de5f02d19016b8804f/tokenizers-0.8.1rc2-cp36-cp36m-manylinux1_x86_64.whl (3.0MB)\n",
            "\u001b[K     |████████████████████████████████| 3.0MB 6.9MB/s \n",
            "\u001b[?25hRequirement already satisfied: packaging in /usr/local/lib/python3.6/dist-packages (from transformers==3.0.2) (20.4)\n",
            "Requirement already satisfied: filelock in /usr/local/lib/python3.6/dist-packages (from transformers==3.0.2) (3.0.12)\n",
            "Requirement already satisfied: requests in /usr/local/lib/python3.6/dist-packages (from transformers==3.0.2) (2.23.0)\n",
            "Requirement already satisfied: tqdm>=4.27 in /usr/local/lib/python3.6/dist-packages (from transformers==3.0.2) (4.41.1)\n",
            "Requirement already satisfied: regex!=2019.12.17 in /usr/local/lib/python3.6/dist-packages (from transformers==3.0.2) (2019.12.20)\n",
            "Collecting sentencepiece!=0.1.92\n",
            "\u001b[?25l  Downloading https://files.pythonhosted.org/packages/d4/a4/d0a884c4300004a78cca907a6ff9a5e9fe4f090f5d95ab341c53d28cbc58/sentencepiece-0.1.91-cp36-cp36m-manylinux1_x86_64.whl (1.1MB)\n",
            "\u001b[K     |████████████████████████████████| 1.1MB 50.9MB/s \n",
            "\u001b[?25hCollecting sacremoses\n",
            "\u001b[?25l  Downloading https://files.pythonhosted.org/packages/7d/34/09d19aff26edcc8eb2a01bed8e98f13a1537005d31e95233fd48216eed10/sacremoses-0.0.43.tar.gz (883kB)\n",
            "\u001b[K     |████████████████████████████████| 890kB 25.5MB/s \n",
            "\u001b[?25hRequirement already satisfied: dataclasses in /usr/local/lib/python3.6/dist-packages (from transformers==3.0.2) (0.7)\n",
            "Requirement already satisfied: pyparsing>=2.0.2 in /usr/local/lib/python3.6/dist-packages (from packaging->transformers==3.0.2) (2.4.7)\n",
            "Requirement already satisfied: six in /usr/local/lib/python3.6/dist-packages (from packaging->transformers==3.0.2) (1.15.0)\n",
            "Requirement already satisfied: urllib3!=1.25.0,!=1.25.1,<1.26,>=1.21.1 in /usr/local/lib/python3.6/dist-packages (from requests->transformers==3.0.2) (1.24.3)\n",
            "Requirement already satisfied: chardet<4,>=3.0.2 in /usr/local/lib/python3.6/dist-packages (from requests->transformers==3.0.2) (3.0.4)\n",
            "Requirement already satisfied: idna<3,>=2.5 in /usr/local/lib/python3.6/dist-packages (from requests->transformers==3.0.2) (2.10)\n",
            "Requirement already satisfied: certifi>=2017.4.17 in /usr/local/lib/python3.6/dist-packages (from requests->transformers==3.0.2) (2020.6.20)\n",
            "Requirement already satisfied: click in /usr/local/lib/python3.6/dist-packages (from sacremoses->transformers==3.0.2) (7.1.2)\n",
            "Requirement already satisfied: joblib in /usr/local/lib/python3.6/dist-packages (from sacremoses->transformers==3.0.2) (0.16.0)\n",
            "Building wheels for collected packages: transformers, sacremoses\n",
            "  Building wheel for transformers (setup.py) ... \u001b[?25l\u001b[?25hdone\n",
            "  Created wheel for transformers: filename=transformers-3.0.2-cp36-none-any.whl size=838995 sha256=3c8542eaaf5efbf0925ad0a5f18e4508406bd16f9ebdfc46bd695f652d60f920\n",
            "  Stored in directory: /tmp/pip-ephem-wheel-cache-fepc_vfh/wheels/23/19/dd/2561a4e47240cf6b307729d58e56f8077dd0c698f5992216cf\n",
            "  Building wheel for sacremoses (setup.py) ... \u001b[?25l\u001b[?25hdone\n",
            "  Created wheel for sacremoses: filename=sacremoses-0.0.43-cp36-none-any.whl size=893260 sha256=74ca11663db2d2d8ba52dc3ab4957978a15ca82e07f5eb964083fdb7c9d0e5e1\n",
            "  Stored in directory: /root/.cache/pip/wheels/29/3c/fd/7ce5c3f0666dab31a50123635e6fb5e19ceb42ce38d4e58f45\n",
            "Successfully built transformers sacremoses\n",
            "Installing collected packages: tokenizers, sentencepiece, sacremoses, transformers\n",
            "Successfully installed sacremoses-0.0.43 sentencepiece-0.1.91 tokenizers-0.8.1rc2 transformers-3.0.2\n"
          ],
          "name": "stdout"
        }
      ]
    },
    {
      "cell_type": "code",
      "metadata": {
        "id": "WaJxpFNYFKeN",
        "colab_type": "code",
        "colab": {
          "base_uri": "https://localhost:8080/",
          "height": 124
        },
        "outputId": "93765938-5661-4241-9e69-e24d7224bcac"
      },
      "source": [
        "# Mounting the Collab Drive\n",
        "from google.colab import drive\n",
        "drive.mount('/content/drive')"
      ],
      "execution_count": 3,
      "outputs": [
        {
          "output_type": "stream",
          "text": [
            "Go to this URL in a browser: https://accounts.google.com/o/oauth2/auth?client_id=947318989803-6bn6qk8qdgf4n4g3pfee6491hc0brc4i.apps.googleusercontent.com&redirect_uri=urn%3aietf%3awg%3aoauth%3a2.0%3aoob&scope=email%20https%3a%2f%2fwww.googleapis.com%2fauth%2fdocs.test%20https%3a%2f%2fwww.googleapis.com%2fauth%2fdrive%20https%3a%2f%2fwww.googleapis.com%2fauth%2fdrive.photos.readonly%20https%3a%2f%2fwww.googleapis.com%2fauth%2fpeopleapi.readonly&response_type=code\n",
            "\n",
            "Enter your authorization code:\n",
            "··········\n",
            "Mounted at /content/drive\n"
          ],
          "name": "stdout"
        }
      ]
    },
    {
      "cell_type": "code",
      "metadata": {
        "id": "UemB-vdjDvF1",
        "colab_type": "code",
        "colab": {
          "base_uri": "https://localhost:8080/",
          "height": 52
        },
        "outputId": "9f9c50a0-16cf-481d-cec7-cd10eccb13f5"
      },
      "source": [
        "# EDA and Preprocessing\n",
        "\n",
        "# Importing the Libraries\n",
        "import matplotlib.pyplot as plt\n",
        "import seaborn as sns\n",
        "import matplotlib\n",
        "matplotlib.rcParams['figure.dpi'] = 200\n",
        "plt.style.use('ggplot')\n",
        "import numpy as np\n",
        "import pandas as pd\n",
        "import json"
      ],
      "execution_count": 4,
      "outputs": [
        {
          "output_type": "stream",
          "text": [
            "/usr/local/lib/python3.6/dist-packages/statsmodels/tools/_testing.py:19: FutureWarning: pandas.util.testing is deprecated. Use the functions in the public API at pandas.testing instead.\n",
            "  import pandas.util.testing as tm\n"
          ],
          "name": "stderr"
        }
      ]
    },
    {
      "cell_type": "code",
      "metadata": {
        "id": "BUYspAAgF8QE",
        "colab_type": "code",
        "colab": {}
      },
      "source": [
        "# Reading the Dataset\n",
        "\n",
        "data_1 = json.load(open('/content/drive/My Drive/Projects/GPT - 2/Natural Language Processing to Generate New Recipes/Dataset/recipes_raw_nosource_ar.json', 'r'))"
      ],
      "execution_count": null,
      "outputs": []
    },
    {
      "cell_type": "code",
      "metadata": {
        "id": "aV66-KA4Gg3c",
        "colab_type": "code",
        "colab": {
          "base_uri": "https://localhost:8080/",
          "height": 193
        },
        "outputId": "2f4b22d0-6924-45d2-ca36-62cf98200637"
      },
      "source": [
        "# JSON file is read as Dictionary in Python.\n",
        "\n",
        "keys = list(data_1.keys())\n",
        "\n",
        "# Pull up the Index from the Keys\n",
        "data_1[keys[0]]"
      ],
      "execution_count": null,
      "outputs": [
        {
          "output_type": "execute_result",
          "data": {
            "text/plain": [
              "{'ingredients': ['4 skinless, boneless chicken breast halves ADVERTISEMENT',\n",
              "  '2 tablespoons butter ADVERTISEMENT',\n",
              "  '2 (10.75 ounce) cans condensed cream of chicken soup ADVERTISEMENT',\n",
              "  '1 onion, finely diced ADVERTISEMENT',\n",
              "  '2 (10 ounce) packages refrigerated biscuit dough, torn into pieces ADVERTISEMENT',\n",
              "  'ADVERTISEMENT'],\n",
              " 'instructions': 'Place the chicken, butter, soup, and onion in a slow cooker, and fill with enough water to cover.\\nCover, and cook for 5 to 6 hours on High. About 30 minutes before serving, place the torn biscuit dough in the slow cooker. Cook until the dough is no longer raw in the center.\\n',\n",
              " 'picture_link': '55lznCYBbs2mT8BTx6BTkLhynGHzM.S',\n",
              " 'title': 'Slow Cooker Chicken and Dumplings'}"
            ]
          },
          "metadata": {
            "tags": []
          },
          "execution_count": 7
        }
      ]
    },
    {
      "cell_type": "code",
      "metadata": {
        "id": "r_6m1krZG4fM",
        "colab_type": "code",
        "colab": {}
      },
      "source": [
        "# We have 3 Data sources for Recipe\n",
        "\n",
        "recipe_sources = ['ar', 'epi', 'fn']\n",
        "\n",
        "# Build a DataFrame\n",
        "\n",
        "df = pd.DataFrame()\n",
        "\n",
        "# Build Features for Dataframe. Use this to append the loopers\n",
        "sources, titles, ingredients, instructions = [], [], [], []\n",
        "\n",
        "# Loop through the Sources and Append to DataFrame\n",
        "\n",
        "for recipe_src in recipe_sources:\n",
        "    data = json.load(open(f'/content/drive/My Drive/Projects/GPT - 2/Natural Language Processing to Generate New Recipes/Dataset/recipes_raw_nosource_{recipe_src}.json', 'r'))\n",
        "    # Iterate over Each item (Every Entry) in Dataset and build up Iterative list of items that we care about: # Key, Value in dictionary\n",
        "    for _, recipe in data.items():\n",
        "        # Validate No Missing Values in the elements of dictionary\n",
        "        if ('title' in recipe) and ('ingredients' in recipe) and ('instructions' in recipe):\n",
        "            sources.append(recipe_src) # Name of Recipe Source\n",
        "            titles.append(recipe['title']) # Recipe is a Dictionary\n",
        "            ingredients.append([\n",
        "                                ingredient.replace('ADVERTISEMENT', '') for ingredient in recipe['ingredients']\n",
        "            ]) # List Comprehension by Replacing the words\n",
        "\n",
        "            instructions.append(\n",
        "                                str(recipe['instructions']).replace('ADVERTISEMENT', '').replace('\\n', ' ')\n",
        "            )\n",
        "\n",
        "# Pass the contents to DataFrame\n",
        "\n",
        "df['source'] = sources\n",
        "df['title'] = titles\n",
        "df['ingredients'] = ingredients\n",
        "df['instructions'] = instructions"
      ],
      "execution_count": null,
      "outputs": []
    },
    {
      "cell_type": "code",
      "metadata": {
        "id": "VNc9B67_Qy9o",
        "colab_type": "code",
        "colab": {
          "base_uri": "https://localhost:8080/",
          "height": 356
        },
        "outputId": "9aebd57f-8297-4ac8-cf1d-e28d2bd5d67c"
      },
      "source": [
        "# Validate the DataFrame\n",
        "df.head().append(df.tail())"
      ],
      "execution_count": null,
      "outputs": [
        {
          "output_type": "execute_result",
          "data": {
            "text/html": [
              "<div>\n",
              "<style scoped>\n",
              "    .dataframe tbody tr th:only-of-type {\n",
              "        vertical-align: middle;\n",
              "    }\n",
              "\n",
              "    .dataframe tbody tr th {\n",
              "        vertical-align: top;\n",
              "    }\n",
              "\n",
              "    .dataframe thead th {\n",
              "        text-align: right;\n",
              "    }\n",
              "</style>\n",
              "<table border=\"1\" class=\"dataframe\">\n",
              "  <thead>\n",
              "    <tr style=\"text-align: right;\">\n",
              "      <th></th>\n",
              "      <th>source</th>\n",
              "      <th>title</th>\n",
              "      <th>ingredients</th>\n",
              "      <th>instructions</th>\n",
              "    </tr>\n",
              "  </thead>\n",
              "  <tbody>\n",
              "    <tr>\n",
              "      <th>0</th>\n",
              "      <td>ar</td>\n",
              "      <td>Slow Cooker Chicken and Dumplings</td>\n",
              "      <td>[4 skinless, boneless chicken breast halves , ...</td>\n",
              "      <td>Place the chicken, butter, soup, and onion in ...</td>\n",
              "    </tr>\n",
              "    <tr>\n",
              "      <th>1</th>\n",
              "      <td>ar</td>\n",
              "      <td>Awesome Slow Cooker Pot Roast</td>\n",
              "      <td>[2 (10.75 ounce) cans condensed cream of mushr...</td>\n",
              "      <td>In a slow cooker, mix cream of mushroom soup, ...</td>\n",
              "    </tr>\n",
              "    <tr>\n",
              "      <th>2</th>\n",
              "      <td>ar</td>\n",
              "      <td>Brown Sugar Meatloaf</td>\n",
              "      <td>[1/2 cup packed brown sugar , 1/2 cup ketchup ...</td>\n",
              "      <td>Preheat oven to 350 degrees F (175 degrees C)....</td>\n",
              "    </tr>\n",
              "    <tr>\n",
              "      <th>3</th>\n",
              "      <td>ar</td>\n",
              "      <td>Best Chocolate Chip Cookies</td>\n",
              "      <td>[1 cup butter, softened , 1 cup white sugar , ...</td>\n",
              "      <td>Preheat oven to 350 degrees F (175 degrees C)....</td>\n",
              "    </tr>\n",
              "    <tr>\n",
              "      <th>4</th>\n",
              "      <td>ar</td>\n",
              "      <td>Homemade Mac and Cheese Casserole</td>\n",
              "      <td>[8 ounces whole wheat rotini pasta , 3 cups fr...</td>\n",
              "      <td>Preheat oven to 350 degrees F. Line a 2-quart ...</td>\n",
              "    </tr>\n",
              "    <tr>\n",
              "      <th>124642</th>\n",
              "      <td>fn</td>\n",
              "      <td>Summer Corn Salad</td>\n",
              "      <td>[4 ears fresh corn, 2 heads Belgian endive, 2 ...</td>\n",
              "      <td>Watch how to make this recipe. Preheat a grill...</td>\n",
              "    </tr>\n",
              "    <tr>\n",
              "      <th>124643</th>\n",
              "      <td>fn</td>\n",
              "      <td>Zucchini Stuffed Tomatoes</td>\n",
              "      <td>[4 large plum tomatoes, Salt and sugar, 1 1/2 ...</td>\n",
              "      <td>Preheat the broiler. Cut the tomatoes in 1/2 c...</td>\n",
              "    </tr>\n",
              "    <tr>\n",
              "      <th>124644</th>\n",
              "      <td>fn</td>\n",
              "      <td>Pepper Pasta Quick Cook</td>\n",
              "      <td>[3 tablespoons olive oil, 2 tablespoons unsalt...</td>\n",
              "      <td>Heat the oil and butter in a large skillet ove...</td>\n",
              "    </tr>\n",
              "    <tr>\n",
              "      <th>124645</th>\n",
              "      <td>fn</td>\n",
              "      <td>Chocolate Cake with Armagnac Ice Cream</td>\n",
              "      <td>[8 ounces butter, 8 ounces bittersweet chocola...</td>\n",
              "      <td>Preheat oven to 350 degrees. On the top half o...</td>\n",
              "    </tr>\n",
              "    <tr>\n",
              "      <th>124646</th>\n",
              "      <td>fn</td>\n",
              "      <td>Crabby Bisque</td>\n",
              "      <td>[3 (10.5-ounce) cans restaurant-style condense...</td>\n",
              "      <td>Watch how to make this recipe. In a medium sau...</td>\n",
              "    </tr>\n",
              "  </tbody>\n",
              "</table>\n",
              "</div>"
            ],
            "text/plain": [
              "       source  ...                                       instructions\n",
              "0          ar  ...  Place the chicken, butter, soup, and onion in ...\n",
              "1          ar  ...  In a slow cooker, mix cream of mushroom soup, ...\n",
              "2          ar  ...  Preheat oven to 350 degrees F (175 degrees C)....\n",
              "3          ar  ...  Preheat oven to 350 degrees F (175 degrees C)....\n",
              "4          ar  ...  Preheat oven to 350 degrees F. Line a 2-quart ...\n",
              "124642     fn  ...  Watch how to make this recipe. Preheat a grill...\n",
              "124643     fn  ...  Preheat the broiler. Cut the tomatoes in 1/2 c...\n",
              "124644     fn  ...  Heat the oil and butter in a large skillet ove...\n",
              "124645     fn  ...  Preheat oven to 350 degrees. On the top half o...\n",
              "124646     fn  ...  Watch how to make this recipe. In a medium sau...\n",
              "\n",
              "[10 rows x 4 columns]"
            ]
          },
          "metadata": {
            "tags": []
          },
          "execution_count": 9
        }
      ]
    },
    {
      "cell_type": "code",
      "metadata": {
        "id": "tfN1Evk3Q924",
        "colab_type": "code",
        "colab": {}
      },
      "source": [
        "# Preparing the Dataset\n",
        "\n",
        "# Exploring the Dictribution - Get the Word Counts\n",
        "df['ingredient_count'] = df['ingredients'].str.len().fillna(0).astype(int)\n",
        "df['instruction_length'] = df['instructions'].str.split().str.len().fillna(0).astype(int)"
      ],
      "execution_count": null,
      "outputs": []
    },
    {
      "cell_type": "code",
      "metadata": {
        "id": "pGbQKHl3SVCG",
        "colab_type": "code",
        "colab": {
          "base_uri": "https://localhost:8080/",
          "height": 202
        },
        "outputId": "397481db-6f95-430b-8c6e-4234e1e14d57"
      },
      "source": [
        "df.head()"
      ],
      "execution_count": null,
      "outputs": [
        {
          "output_type": "execute_result",
          "data": {
            "text/html": [
              "<div>\n",
              "<style scoped>\n",
              "    .dataframe tbody tr th:only-of-type {\n",
              "        vertical-align: middle;\n",
              "    }\n",
              "\n",
              "    .dataframe tbody tr th {\n",
              "        vertical-align: top;\n",
              "    }\n",
              "\n",
              "    .dataframe thead th {\n",
              "        text-align: right;\n",
              "    }\n",
              "</style>\n",
              "<table border=\"1\" class=\"dataframe\">\n",
              "  <thead>\n",
              "    <tr style=\"text-align: right;\">\n",
              "      <th></th>\n",
              "      <th>source</th>\n",
              "      <th>title</th>\n",
              "      <th>ingredients</th>\n",
              "      <th>instructions</th>\n",
              "      <th>ingredient_count</th>\n",
              "      <th>instruction_length</th>\n",
              "    </tr>\n",
              "  </thead>\n",
              "  <tbody>\n",
              "    <tr>\n",
              "      <th>0</th>\n",
              "      <td>ar</td>\n",
              "      <td>Slow Cooker Chicken and Dumplings</td>\n",
              "      <td>[4 skinless, boneless chicken breast halves , ...</td>\n",
              "      <td>Place the chicken, butter, soup, and onion in ...</td>\n",
              "      <td>6</td>\n",
              "      <td>53</td>\n",
              "    </tr>\n",
              "    <tr>\n",
              "      <th>1</th>\n",
              "      <td>ar</td>\n",
              "      <td>Awesome Slow Cooker Pot Roast</td>\n",
              "      <td>[2 (10.75 ounce) cans condensed cream of mushr...</td>\n",
              "      <td>In a slow cooker, mix cream of mushroom soup, ...</td>\n",
              "      <td>5</td>\n",
              "      <td>44</td>\n",
              "    </tr>\n",
              "    <tr>\n",
              "      <th>2</th>\n",
              "      <td>ar</td>\n",
              "      <td>Brown Sugar Meatloaf</td>\n",
              "      <td>[1/2 cup packed brown sugar , 1/2 cup ketchup ...</td>\n",
              "      <td>Preheat oven to 350 degrees F (175 degrees C)....</td>\n",
              "      <td>11</td>\n",
              "      <td>67</td>\n",
              "    </tr>\n",
              "    <tr>\n",
              "      <th>3</th>\n",
              "      <td>ar</td>\n",
              "      <td>Best Chocolate Chip Cookies</td>\n",
              "      <td>[1 cup butter, softened , 1 cup white sugar , ...</td>\n",
              "      <td>Preheat oven to 350 degrees F (175 degrees C)....</td>\n",
              "      <td>12</td>\n",
              "      <td>74</td>\n",
              "    </tr>\n",
              "    <tr>\n",
              "      <th>4</th>\n",
              "      <td>ar</td>\n",
              "      <td>Homemade Mac and Cheese Casserole</td>\n",
              "      <td>[8 ounces whole wheat rotini pasta , 3 cups fr...</td>\n",
              "      <td>Preheat oven to 350 degrees F. Line a 2-quart ...</td>\n",
              "      <td>14</td>\n",
              "      <td>175</td>\n",
              "    </tr>\n",
              "  </tbody>\n",
              "</table>\n",
              "</div>"
            ],
            "text/plain": [
              "  source  ... instruction_length\n",
              "0     ar  ...                 53\n",
              "1     ar  ...                 44\n",
              "2     ar  ...                 67\n",
              "3     ar  ...                 74\n",
              "4     ar  ...                175\n",
              "\n",
              "[5 rows x 6 columns]"
            ]
          },
          "metadata": {
            "tags": []
          },
          "execution_count": 11
        }
      ]
    },
    {
      "cell_type": "code",
      "metadata": {
        "id": "c5Z6wfolSWvP",
        "colab_type": "code",
        "colab": {
          "base_uri": "https://localhost:8080/",
          "height": 1000
        },
        "outputId": "3f69c9c3-1d87-4bdf-8f81-6260dd1b1236"
      },
      "source": [
        "# Visualize via BoxPlot\n",
        "\n",
        "plt.figure(figsize= (10, 8))\n",
        "sns.boxplot(data= df, x= 'source', y= 'ingredient_count', showfliers= False); plt.show(); # showfliers means Outliers"
      ],
      "execution_count": null,
      "outputs": [
        {
          "output_type": "display_data",
          "data": {
            "image/png": "[encoded data removed]",
            "text/plain": [
              "<Figure size 2000x1600 with 1 Axes>"
            ]
          },
          "metadata": {
            "tags": []
          }
        }
      ]
    },
    {
      "cell_type": "code",
      "metadata": {
        "id": "RLWvNjt9S5-J",
        "colab_type": "code",
        "colab": {
          "base_uri": "https://localhost:8080/",
          "height": 752
        },
        "outputId": "940c8a61-a7d6-425d-e782-6cdb60495721"
      },
      "source": [
        "sns.boxplot(data= df, x= 'source', y= 'instruction_length', showfliers= False); plt.show();"
      ],
      "execution_count": null,
      "outputs": [
        {
          "output_type": "display_data",
          "data": {
            "image/png": "[encoded data removed]",
            "text/plain": [
              "<Figure size 1200x800 with 1 Axes>"
            ]
          },
          "metadata": {
            "tags": []
          }
        }
      ]
    },
    {
      "cell_type": "code",
      "metadata": {
        "id": "TaGEll-QTQxQ",
        "colab_type": "code",
        "colab": {}
      },
      "source": [
        "# Save the DataFrame as Pickle File\n",
        "\n",
        "df.to_pickle('data.pkl')"
      ],
      "execution_count": null,
      "outputs": []
    },
    {
      "cell_type": "code",
      "metadata": {
        "id": "keo914c1U-CE",
        "colab_type": "code",
        "colab": {
          "base_uri": "https://localhost:8080/",
          "height": 202
        },
        "outputId": "00030bc5-cece-4549-8e2c-195b77a0acdb"
      },
      "source": [
        "# Dataset Preparation\n",
        "\n",
        "# If Loading as pickle, use this\n",
        "\n",
        "data = pd.read_pickle('data.pkl')\n",
        "data.head()"
      ],
      "execution_count": null,
      "outputs": [
        {
          "output_type": "execute_result",
          "data": {
            "text/html": [
              "<div>\n",
              "<style scoped>\n",
              "    .dataframe tbody tr th:only-of-type {\n",
              "        vertical-align: middle;\n",
              "    }\n",
              "\n",
              "    .dataframe tbody tr th {\n",
              "        vertical-align: top;\n",
              "    }\n",
              "\n",
              "    .dataframe thead th {\n",
              "        text-align: right;\n",
              "    }\n",
              "</style>\n",
              "<table border=\"1\" class=\"dataframe\">\n",
              "  <thead>\n",
              "    <tr style=\"text-align: right;\">\n",
              "      <th></th>\n",
              "      <th>source</th>\n",
              "      <th>title</th>\n",
              "      <th>ingredients</th>\n",
              "      <th>instructions</th>\n",
              "      <th>ingredient_count</th>\n",
              "      <th>instruction_length</th>\n",
              "    </tr>\n",
              "  </thead>\n",
              "  <tbody>\n",
              "    <tr>\n",
              "      <th>0</th>\n",
              "      <td>ar</td>\n",
              "      <td>Slow Cooker Chicken and Dumplings</td>\n",
              "      <td>[4 skinless, boneless chicken breast halves , ...</td>\n",
              "      <td>Place the chicken, butter, soup, and onion in ...</td>\n",
              "      <td>6</td>\n",
              "      <td>53</td>\n",
              "    </tr>\n",
              "    <tr>\n",
              "      <th>1</th>\n",
              "      <td>ar</td>\n",
              "      <td>Awesome Slow Cooker Pot Roast</td>\n",
              "      <td>[2 (10.75 ounce) cans condensed cream of mushr...</td>\n",
              "      <td>In a slow cooker, mix cream of mushroom soup, ...</td>\n",
              "      <td>5</td>\n",
              "      <td>44</td>\n",
              "    </tr>\n",
              "    <tr>\n",
              "      <th>2</th>\n",
              "      <td>ar</td>\n",
              "      <td>Brown Sugar Meatloaf</td>\n",
              "      <td>[1/2 cup packed brown sugar , 1/2 cup ketchup ...</td>\n",
              "      <td>Preheat oven to 350 degrees F (175 degrees C)....</td>\n",
              "      <td>11</td>\n",
              "      <td>67</td>\n",
              "    </tr>\n",
              "    <tr>\n",
              "      <th>3</th>\n",
              "      <td>ar</td>\n",
              "      <td>Best Chocolate Chip Cookies</td>\n",
              "      <td>[1 cup butter, softened , 1 cup white sugar , ...</td>\n",
              "      <td>Preheat oven to 350 degrees F (175 degrees C)....</td>\n",
              "      <td>12</td>\n",
              "      <td>74</td>\n",
              "    </tr>\n",
              "    <tr>\n",
              "      <th>4</th>\n",
              "      <td>ar</td>\n",
              "      <td>Homemade Mac and Cheese Casserole</td>\n",
              "      <td>[8 ounces whole wheat rotini pasta , 3 cups fr...</td>\n",
              "      <td>Preheat oven to 350 degrees F. Line a 2-quart ...</td>\n",
              "      <td>14</td>\n",
              "      <td>175</td>\n",
              "    </tr>\n",
              "  </tbody>\n",
              "</table>\n",
              "</div>"
            ],
            "text/plain": [
              "  source  ... instruction_length\n",
              "0     ar  ...                 53\n",
              "1     ar  ...                 44\n",
              "2     ar  ...                 67\n",
              "3     ar  ...                 74\n",
              "4     ar  ...                175\n",
              "\n",
              "[5 rows x 6 columns]"
            ]
          },
          "metadata": {
            "tags": []
          },
          "execution_count": 15
        }
      ]
    },
    {
      "cell_type": "code",
      "metadata": {
        "id": "CnVoK4MhVSrY",
        "colab_type": "code",
        "colab": {
          "base_uri": "https://localhost:8080/",
          "height": 34
        },
        "outputId": "26012333-86c1-457c-eb4e-0db9f2872c36"
      },
      "source": [
        "# Special Token used by GPT2 to mark end of 1 token (Document)\n",
        "\n",
        "special_token = ' <|endoftext|> '\n",
        "\n",
        "# Remove values which are too less to train - as 0 len data may skew our results\n",
        "\n",
        "df = df[ (df.ingredient_count >= 3) & (df.instruction_length >= 10) ]\n",
        "print(df.shape)"
      ],
      "execution_count": null,
      "outputs": [
        {
          "output_type": "stream",
          "text": [
            "(121780, 6)\n"
          ],
          "name": "stdout"
        }
      ]
    },
    {
      "cell_type": "code",
      "metadata": {
        "id": "DmtAeDqCWopX",
        "colab_type": "code",
        "colab": {}
      },
      "source": [
        "# Convert the Ingredients from being in a list to string seperated by NewLine \\n - Spaces are put to make sure nothing is overcomming in the words\n",
        "# Goal: Ingredients: \\n + Instructions: + Special_token\n",
        "\n",
        "df['combined'] = ' \\n Ingredients: \\n ' + df.ingredients.str.join(' \\n ') + \\\n",
        "' \\n Instructions: \\n ' + df.instructions + special_token"
      ],
      "execution_count": null,
      "outputs": []
    },
    {
      "cell_type": "code",
      "metadata": {
        "id": "qR6R8-EeX2J4",
        "colab_type": "code",
        "colab": {
          "base_uri": "https://localhost:8080/",
          "height": 332
        },
        "outputId": "1774e0af-c82e-4ffd-e1fc-3d8a551ffbdc"
      },
      "source": [
        "# Validate the Combined Value\n",
        "\n",
        "print(df.iloc[100].ingredients , '\\n')\n",
        "print(df.iloc[100].instructions , '\\n')\n",
        "print('---'*30)\n",
        "print(df.iloc[100].combined , '\\n')"
      ],
      "execution_count": null,
      "outputs": [
        {
          "output_type": "stream",
          "text": [
            "['1/2 cup butter, melted ', '2 eggs, beaten ', '1 (8.5 ounce) package dry corn bread mix ', '1 (15 ounce) can whole kernel corn, drained ', '1 (14.75 ounce) can creamed corn ', '1 cup sour cream ', ''] \n",
            "\n",
            "Preheat oven to 350 degrees F (175 degrees C), and lightly grease a 9x9 inch baking dish. In a medium bowl, combine butter, eggs, corn bread mix, whole and creamed corn and sour cream. Spoon mixture into prepared dish. Bake for 45 minutes in the preheated oven, or until the top is golden brown.  \n",
            "\n",
            "------------------------------------------------------------------------------------------\n",
            " \n",
            " Ingredients: \n",
            " 1/2 cup butter, melted  \n",
            " 2 eggs, beaten  \n",
            " 1 (8.5 ounce) package dry corn bread mix  \n",
            " 1 (15 ounce) can whole kernel corn, drained  \n",
            " 1 (14.75 ounce) can creamed corn  \n",
            " 1 cup sour cream  \n",
            "  \n",
            " Instructions: \n",
            " Preheat oven to 350 degrees F (175 degrees C), and lightly grease a 9x9 inch baking dish. In a medium bowl, combine butter, eggs, corn bread mix, whole and creamed corn and sour cream. Spoon mixture into prepared dish. Bake for 45 minutes in the preheated oven, or until the top is golden brown.  <|endoftext|>  \n",
            "\n"
          ],
          "name": "stdout"
        }
      ]
    },
    {
      "cell_type": "code",
      "metadata": {
        "id": "WSKDZzugYGjf",
        "colab_type": "code",
        "colab": {}
      },
      "source": [
        "# Save the DataFrame as Pickle File\n",
        "\n",
        "df.to_pickle('df_recipes_preprocessed.pkl')"
      ],
      "execution_count": null,
      "outputs": []
    },
    {
      "cell_type": "code",
      "metadata": {
        "id": "CPHcGAfCYzlp",
        "colab_type": "code",
        "colab": {}
      },
      "source": [
        "# Create Train and Test sets -> 98% and 2% probab\n",
        "\n",
        "dataset_train = df[:120000].combined.values\n",
        "dataset_val = df[120000:].combined.values"
      ],
      "execution_count": null,
      "outputs": []
    },
    {
      "cell_type": "code",
      "metadata": {
        "id": "eEHUoQ8DZt8-",
        "colab_type": "code",
        "colab": {}
      },
      "source": [
        "# Export the splits\n",
        "with open('dataset_train.txt', 'w') as f:\n",
        "    # This would be a list. So we join them via Newline\n",
        "    f.write('\\n'.join(dataset_train))\n",
        "\n",
        "with open('dataset_val.txt', 'w') as f:\n",
        "    # This would be a list. So we join them via Newline\n",
        "    f.write('\\n'.join(dataset_val))"
      ],
      "execution_count": null,
      "outputs": []
    },
    {
      "cell_type": "code",
      "metadata": {
        "id": "mAR0L96SaRKr",
        "colab_type": "code",
        "colab": {}
      },
      "source": [
        "# Using GPT2 Pretrained Model (Formulation)\n",
        "\n",
        "from transformers import AutoTokenizer, AutoModelForCausalLM # CausalLM is used to generate new words based on History"
      ],
      "execution_count": 5,
      "outputs": []
    },
    {
      "cell_type": "markdown",
      "metadata": {
        "id": "beGRmrv-g62C",
        "colab_type": "text"
      },
      "source": [
        "We use Distilled GPT:\n",
        "\n",
        "**It Means In Normal Model:**<br>\n",
        "Input > Huge Model > Label (During Training)\n",
        "\n",
        "(Once Trained)\n",
        "Input > Huge Model >Predictions\n",
        "\n",
        "**In Distilled Model:** <br>\n",
        "During Training:\n",
        "Input > smaller_distilled_model > Predictions [of huge models] (during Training)\n",
        "\n",
        "Smaller model learns dark knowledge(Knowledge that big model has) but it might not be present in the Label -> Kind of Transfer Learning\n",
        "\n",
        "This is what the DistilledGPT does\n",
        "\n"
      ]
    },
    {
      "cell_type": "code",
      "metadata": {
        "id": "7gmw5hQrg6JM",
        "colab_type": "code",
        "colab": {
          "base_uri": "https://localhost:8080/",
          "height": 214,
          "referenced_widgets": [
            "3107820987334ca98c6ef62c8173f291",
            "2077bd4596bd4c019537969bb5418540",
            "fc9b489d3ae1469884575ebe558c222f",
            "af57349d0614456cb57ebd234b6ef6f5",
            "dc6ea04fb94d49db84e69c62d0870a2e",
            "c8d4b8001eaf42f7995041d0a74e986f",
            "46272de8aff8400cb3c9197d9188831d",
            "638991390817454ca1bdde7d09d7960d",
            "322425e8b04e480ebff8f316eb2d2840",
            "4be5682e69be441e81383012a5ff1c52",
            "06db88b9208b4a41ac5d6a729e1a4260",
            "387bb57583174ac593b9293addac197c",
            "5abe745fab684662810e62400e60bafe",
            "305bd6308f0f4ecfa124b4adc0a683a6",
            "04a90527a4cb43f6835f239f7eecc85e",
            "022d5528eb9d4b9f85c56fd0bd2cd3ff",
            "d8356f686c2940f3b5b4b3585f549817",
            "66adb9d9aec64159bb0f18a0e581c9bf",
            "916613ad98d841c5b3329d7ad835e8da",
            "94de5774cf8e452d84d84ff9f8b3d479",
            "b4b61da32b4147e9b226ab7704903305",
            "7f2877c8b8bd466488b9cd175aaa4d3a",
            "baaec1b6d6174175af8a0d6afab890fc",
            "13b75d43d99040ed810cc56bd1da73de",
            "8ed97a02853340718cc520aeeadc00df",
            "a7f1b5777a13499e8a7f057bbfc273c9",
            "3ca54165588d4cf89892825068c9c186",
            "02738b3ca031495eadb27152af54da9a",
            "8b6b8a56ddc044f6a2bddf3f158c5bc6",
            "5fc8ba5c20194010a455a74bf5f51fcc",
            "5a7b0a6c70db44ac968e5cd2847bb7be",
            "de3e5c7d87be46b1bc3bb6a7c9d3f7a2"
          ]
        },
        "outputId": "c03afc3d-c655-49b0-b3df-d1c909292166"
      },
      "source": [
        "# Initialize Tokenizer - Converts Raw text to Numbers belonging to their Preloaded Vocabulary/Dictionary \n",
        "tokenizer = AutoTokenizer.from_pretrained('distilgpt2')\n",
        "\n",
        "# Initialize the Model\n",
        "model = AutoModelForCausalLM.from_pretrained('distilgpt2') # It is Half the size of Original GPT2"
      ],
      "execution_count": null,
      "outputs": [
        {
          "output_type": "display_data",
          "data": {
            "application/vnd.jupyter.widget-view+json": {
              "model_id": "3107820987334ca98c6ef62c8173f291",
              "version_minor": 0,
              "version_major": 2
            },
            "text/plain": [
              "HBox(children=(FloatProgress(value=0.0, description='Downloading', max=762.0, style=ProgressStyle(description_…"
            ]
          },
          "metadata": {
            "tags": []
          }
        },
        {
          "output_type": "stream",
          "text": [
            "\n"
          ],
          "name": "stdout"
        },
        {
          "output_type": "display_data",
          "data": {
            "application/vnd.jupyter.widget-view+json": {
              "model_id": "322425e8b04e480ebff8f316eb2d2840",
              "version_minor": 0,
              "version_major": 2
            },
            "text/plain": [
              "HBox(children=(FloatProgress(value=0.0, description='Downloading', max=1042301.0, style=ProgressStyle(descript…"
            ]
          },
          "metadata": {
            "tags": []
          }
        },
        {
          "output_type": "stream",
          "text": [
            "\n"
          ],
          "name": "stdout"
        },
        {
          "output_type": "display_data",
          "data": {
            "application/vnd.jupyter.widget-view+json": {
              "model_id": "d8356f686c2940f3b5b4b3585f549817",
              "version_minor": 0,
              "version_major": 2
            },
            "text/plain": [
              "HBox(children=(FloatProgress(value=0.0, description='Downloading', max=456318.0, style=ProgressStyle(descripti…"
            ]
          },
          "metadata": {
            "tags": []
          }
        },
        {
          "output_type": "stream",
          "text": [
            "\n"
          ],
          "name": "stdout"
        },
        {
          "output_type": "display_data",
          "data": {
            "application/vnd.jupyter.widget-view+json": {
              "model_id": "8ed97a02853340718cc520aeeadc00df",
              "version_minor": 0,
              "version_major": 2
            },
            "text/plain": [
              "HBox(children=(FloatProgress(value=0.0, description='Downloading', max=352833716.0, style=ProgressStyle(descri…"
            ]
          },
          "metadata": {
            "tags": []
          }
        },
        {
          "output_type": "stream",
          "text": [
            "\n"
          ],
          "name": "stdout"
        }
      ]
    },
    {
      "cell_type": "code",
      "metadata": {
        "id": "mDxfalwtipjj",
        "colab_type": "code",
        "colab": {
          "base_uri": "https://localhost:8080/",
          "height": 34
        },
        "outputId": "8556c0b8-6b14-4ea0-b99b-c95be4a8b6e9"
      },
      "source": [
        "# Create a text variable to see how GPT2 works\n",
        "\n",
        "prompt_text = \"Yesterday, I walked to the Shop, and\"\n",
        "\n",
        "# Encode the Text\n",
        "encoded_prompt = tokenizer.encode(prompt_text, add_special_tokens= True,\n",
        "                                  return_tensors= 'pt') # Return Tensors as pt as we work with Pytorch Model. 'tf' is used for Tensorflow Model | Be cautious about Tensors (error)\n",
        "print(encoded_prompt)"
      ],
      "execution_count": null,
      "outputs": [
        {
          "output_type": "stream",
          "text": [
            "tensor([[28065,    11,   314,  6807,   284,   262, 13705,    11,   290]])\n"
          ],
          "name": "stdout"
        }
      ]
    },
    {
      "cell_type": "code",
      "metadata": {
        "id": "_RDP1H7Yj0N6",
        "colab_type": "code",
        "colab": {
          "base_uri": "https://localhost:8080/",
          "height": 34
        },
        "outputId": "31d8908d-1187-44a9-e5ce-26274e74f6d1"
      },
      "source": [
        "# use GPT2 Model to Generate the Output\n",
        "\n",
        "output_sequences = model.generate( input_ids= encoded_prompt,\n",
        "               max_length= 700, # Number of Tokens to Generate\n",
        "               temperature= 0.92, # Close to 0 is More Deterministic(produces same thing everytime), 1 is changing. Temperature is How it changes probablity before O/P on softmax\n",
        "               top_k= 25, # Has to do with outer Decoding (eg: these 5(K) words are highly probable). Take and build a tree structure\n",
        "               top_p= 0.9, # Top Probability\n",
        "               repetition_penalty= 10, # Penalizing for repetance of words (1 to Infinity) \n",
        "               do_sample= True,\n",
        "               num_return_sequences= 2 )  # No of Different sequences to return"
      ],
      "execution_count": null,
      "outputs": [
        {
          "output_type": "stream",
          "text": [
            "Setting `pad_token_id` to 50256 (first `eos_token_id`) to generate sequence\n"
          ],
          "name": "stderr"
        }
      ]
    },
    {
      "cell_type": "code",
      "metadata": {
        "id": "-1rm5_2Dnh4Y",
        "colab_type": "code",
        "colab": {
          "base_uri": "https://localhost:8080/",
          "height": 72
        },
        "outputId": "ca8383ef-5517-448c-c0e1-56e39818d57c"
      },
      "source": [
        "# Decode the First Predictions from the GPT Model\n",
        "\n",
        "tokenized_first_out = tokenizer.decode(output_sequences[0])\n",
        "print(tokenized_first_out)"
      ],
      "execution_count": null,
      "outputs": [
        {
          "output_type": "stream",
          "text": [
            "Yesterday, I walked to the Shop, and noticed a bunch of people that were selling some sort Ofo-tastic Tiki Bar (which you can see on their website) from other vendors. The store was full:\n",
            "The only place they could find someone like me is my own Cafe for free! They have such amazing service so far in our area where we serve Japanese food as well!! So why did these customers buy something called Nogoro? And who do this guy know how long it takes him if he doesn't order anything because there are lots more items coming out all around Japan?! How about an 8 month old boy with no idea what type(s)? Well…I'll tell ya...the first thing at home would be your favorite item here..a tanteel!!! Oh yeah….and then one day she'd get her gift!!!! Yummy!<|endoftext|><|endoftext|><|endoftext|><|endoftext|><|endoftext|><|endoftext|><|endoftext|><|endoftext|><|endoftext|>\n"
          ],
          "name": "stdout"
        }
      ]
    },
    {
      "cell_type": "code",
      "metadata": {
        "id": "J17K6i-IpI1X",
        "colab_type": "code",
        "colab": {}
      },
      "source": [
        "# Get the Documentation for the Generate\n",
        "model.generate?"
      ],
      "execution_count": null,
      "outputs": []
    },
    {
      "cell_type": "code",
      "metadata": {
        "id": "YsnRWZfpppTF",
        "colab_type": "code",
        "colab": {
          "base_uri": "https://localhost:8080/",
          "height": 52
        },
        "outputId": "8095bdbe-f242-4195-a895-128b13b460fc"
      },
      "source": [
        "# Train the Model on our Training Set\n",
        "\n",
        "# Upload run_lm_finetuning -> https://github.com/huggingface/transformers/tree/master/examples (Loaded on our Directory)\n",
        "\n",
        "# Create a bash file (experiment.sh)\n",
        "\n",
        "\"\"\"\n",
        "mkdir experiments\n",
        "\n",
        "for epoch in 10    # Training Model Loop\n",
        "do\n",
        "\tpython run_lm_finetuning.py \\\n",
        "\t--model_name_or_path distilgpt2 \\ # What Model to use\n",
        "\t--model_type gpt2 \\\n",
        "\t--train_data_file dataset_train.txt \\ # Our Training Data\n",
        "\t--output_dir experiments/epochs_$epoch \\\n",
        "\t--do_train \\ # Flag to Tell the Model to Train\n",
        "\t--overwrite_output_dir \\\n",
        "\t--per_device_train_batch_size 5 \\ # No of Batch size\n",
        "\t--num_train_epochs $epoch\n",
        "done\n",
        "\"\"\""
      ],
      "execution_count": null,
      "outputs": [
        {
          "output_type": "execute_result",
          "data": {
            "application/vnd.google.colaboratory.intrinsic+json": {
              "type": "string"
            },
            "text/plain": [
              "'\\nmkdir experiments\\n\\nfor epoch in 10\\ndo\\n\\tpython run_lm_finetuning.py \\t--model_name_or_path distilgpt2 \\t--model_type gpt2 \\t--train_data_file dataset.txt \\t--output_dir experiments/epochs_$epoch \\t--do_train \\t--overwrite_output_dir \\t--per_device_train_batch_size 1 \\t--num_train_epochs $epoch\\n\\tcommandN\\ndone\\n'"
            ]
          },
          "metadata": {
            "tags": []
          },
          "execution_count": 35
        }
      ]
    },
    {
      "cell_type": "code",
      "metadata": {
        "id": "0oVFyQ65sMD_",
        "colab_type": "code",
        "colab": {
          "base_uri": "https://localhost:8080/",
          "height": 918
        },
        "outputId": "2f5acc32-6a92-4f81-abe4-066c1b3ba4b5"
      },
      "source": [
        "# Running the Instance of the Bash Script| !scp - security copy\n",
        "!bash run_experiments.sh\n",
        "\n",
        "# It will train the Model for more than 6 hrs. We already have a Pretrained Model with us"
      ],
      "execution_count": null,
      "outputs": [
        {
          "output_type": "stream",
          "text": [
            "mkdir: cannot create directory ‘experiments’: File exists\n",
            "2020-08-10 14:15:47.383601: I tensorflow/stream_executor/platform/default/dso_loader.cc:48] Successfully opened dynamic library libcudart.so.10.1\n",
            "Traceback (most recent call last):\n",
            "  File \"run_lm_finetuning.py\", line 29, in <module>\n",
            "    from transformers import (\n",
            "  File \"/usr/local/lib/python3.6/dist-packages/transformers/__init__.py\", line 23, in <module>\n",
            "    from .configuration_albert import ALBERT_PRETRAINED_CONFIG_ARCHIVE_MAP, AlbertConfig\n",
            "  File \"/usr/local/lib/python3.6/dist-packages/transformers/configuration_albert.py\", line 18, in <module>\n",
            "    from .configuration_utils import PretrainedConfig\n",
            "  File \"/usr/local/lib/python3.6/dist-packages/transformers/configuration_utils.py\", line 25, in <module>\n",
            "    from .file_utils import CONFIG_NAME, cached_path, hf_bucket_url, is_remote_url\n",
            "  File \"/usr/local/lib/python3.6/dist-packages/transformers/file_utils.py\", line 55, in <module>\n",
            "    import tensorflow as tf\n",
            "  File \"/usr/local/lib/python3.6/dist-packages/tensorflow/__init__.py\", line 41, in <module>\n",
            "    from tensorflow.python.tools import module_util as _module_util\n",
            "  File \"/usr/local/lib/python3.6/dist-packages/tensorflow/python/__init__.py\", line 47, in <module>\n",
            "    from tensorflow.python import keras\n",
            "  File \"/usr/local/lib/python3.6/dist-packages/tensorflow/python/keras/__init__.py\", line 27, in <module>\n",
            "    from tensorflow.python.keras import models\n",
            "  File \"/usr/local/lib/python3.6/dist-packages/tensorflow/python/keras/models.py\", line 23, in <module>\n",
            "    from tensorflow.python.keras import backend as K\n",
            "  File \"/usr/local/lib/python3.6/dist-packages/tensorflow/python/keras/backend.py\", line 37, in <module>\n",
            "    from tensorflow.python.distribute import distribute_coordinator as dc\n",
            "  File \"/usr/local/lib/python3.6/dist-packages/tensorflow/python/distribute/distribute_coordinator.py\", line 33, in <module>\n",
            "    from tensorflow.python.training import monitored_session\n",
            "  File \"/usr/local/lib/python3.6/dist-packages/tensorflow/python/training/monitored_session.py\", line 34, in <module>\n",
            "    from tensorflow.python.ops import lookup_ops\n",
            "  File \"/usr/local/lib/python3.6/dist-packages/tensorflow/python/ops/lookup_ops.py\", line 37, in <module>\n",
            "    from tensorflow.python.ops import gen_lookup_ops\n",
            "  File \"/usr/local/lib/python3.6/dist-packages/tensorflow/python/ops/gen_lookup_ops.py\", line 392, in <module>\n",
            "    InitializeTableFromTextFileV2 = tf_export(\"raw_ops.InitializeTableFromTextFileV2\")(_ops.to_raw_op(initialize_table_from_text_file_v2))\n",
            "  File \"/usr/local/lib/python3.6/dist-packages/tensorflow/python/framework/ops.py\", line 6837, in to_raw_op\n",
            "    return kwarg_only(f)\n",
            "  File \"/usr/local/lib/python3.6/dist-packages/tensorflow/python/util/tf_export.py\", line 396, in kwarg_only\n",
            "    f_argspec = tf_inspect.getargspec(f)\n",
            "  File \"/usr/local/lib/python3.6/dist-packages/tensorflow/python/util/tf_inspect.py\", line 130, in getargspec\n",
            "    return _getargspec(target)\n",
            "  File \"/usr/local/lib/python3.6/dist-packages/tensorflow/python/util/tf_inspect.py\", line 71, in _getargspec\n",
            "    fullargspecs = getfullargspec(target)\n",
            "  File \"/usr/local/lib/python3.6/dist-packages/tensorflow/python/util/tf_inspect.py\", line 257, in getfullargspec\n",
            "    return _getfullargspec(target)\n",
            "  File \"/usr/lib/python3.6/inspect.py\", line 1126, in getfullargspec\n",
            "    sigcls=Signature)\n",
            "  File \"/usr/lib/python3.6/inspect.py\", line 2269, in _signature_from_callable\n",
            "    return _signature_from_function(sigcls, obj)\n",
            "  File \"/usr/lib/python3.6/inspect.py\", line 2139, in _signature_from_function\n",
            "    kind=_POSITIONAL_OR_KEYWORD))\n",
            "  File \"/usr/lib/python3.6/inspect.py\", line 2454, in __init__\n",
            "    self._kind = _ParameterKind(kind)\n",
            "  File \"/usr/lib/python3.6/enum.py\", line 293, in __call__\n",
            "    return cls.__new__(cls, value)\n",
            "KeyboardInterrupt\n"
          ],
          "name": "stdout"
        }
      ]
    },
    {
      "cell_type": "code",
      "metadata": {
        "id": "WRW2QyKotm4q",
        "colab_type": "code",
        "colab": {}
      },
      "source": [
        "# Load the Pretrained Model - Model with 10 Epochs run and 8 hrs Train time\n",
        "\n",
        "# Read in our Trained Tokenizer - The Full Folder is considered with json objects and texts\n",
        "\n",
        "tokenizer = AutoTokenizer.from_pretrained('/content/drive/My Drive/Projects/GPT - 2/Natural Language Processing to Generate New Recipes/TrainedModels/Model_10_epochs')"
      ],
      "execution_count": 28,
      "outputs": []
    },
    {
      "cell_type": "code",
      "metadata": {
        "id": "XtX-1IGnx8C7",
        "colab_type": "code",
        "colab": {}
      },
      "source": [
        "# Validate the Model\n",
        "model = AutoModelForCausalLM.from_pretrained('/content/drive/My Drive/Projects/GPT - 2/Natural Language Processing to Generate New Recipes/TrainedModels/Model_10_epochs')"
      ],
      "execution_count": 29,
      "outputs": []
    },
    {
      "cell_type": "code",
      "metadata": {
        "id": "nt9rHWpbybnS",
        "colab_type": "code",
        "colab": {}
      },
      "source": [
        "# Check how the Model performs\n",
        "\n",
        "with open('/content/drive/My Drive/Projects/GPT - 2/Natural Language Processing to Generate New Recipes/Dataset_Created/dataset_val.txt', 'r') as f:\n",
        "    data = f.read()"
      ],
      "execution_count": 30,
      "outputs": []
    },
    {
      "cell_type": "code",
      "metadata": {
        "id": "QU9IM4c0AynK",
        "colab_type": "code",
        "colab": {
          "base_uri": "https://localhost:8080/",
          "height": 384
        },
        "outputId": "873c95c4-b3d0-4e34-dab2-15c9066f72e7"
      },
      "source": [
        "special_token = \" <|endoftext|> \"\n",
        "\n",
        "# Split our Dataset based on special_token occurrence\n",
        "\n",
        "data = data.split(special_token)\n",
        "\n",
        "# Validate\n",
        "print(data[0])"
      ],
      "execution_count": 31,
      "outputs": [
        {
          "output_type": "stream",
          "text": [
            " \n",
            " Ingredients: \n",
            " 4 tablespoons unsalted butter \n",
            " 1 onion, diced \n",
            " 1 carrot, peeled and diced \n",
            " 1 celery rib, washed and diced \n",
            " 4 ears corn, husked and kernels removed \n",
            " 6 baby red new potatoes, unpeeled, washed and diced \n",
            " 1 quart clam juice \n",
            " 1 cup dry white wine \n",
            " 3 1/2 pounds Littleneck clams, Manila clams or Cockles in the shell \n",
            " 1 Italian Roma tomato, cored, seeded and diced \n",
            " 1 red bell pepper, cored, seeded and diced \n",
            " 1 jalapeno chile, stemmed, seeded, if desired \n",
            " 1 bunch cilantro, leaves only, chopped \n",
            " Juice of 1 lime \n",
            " 1/2 teaspoon freshly ground black pepper \n",
            " Salt to taste \n",
            " Instructions: \n",
            " Melt the butter in a large stockpot over moderate heat. Saute the onions for 10 minutes. Add the carrots, celery, corn and potatoes and saute 2 minutes longer. Pour in the clam juice. Bring to a boil, reduce to a simmer and cook 30 minutes. Meanwhile, bring the white wine to a boil in a large saucepan and reduce by one-third. Add the clams, cover and steam, shaking the pan occasionally, until the clams open up, 5 to 7 minutes. Remove and discard any that do not open. Remove the cover and let the clams cool in the pot. When cool enough to handle, separate the meat from the shells, reserving the juice, and chop the clams. Set aside. Reserve the cooking liquid. Add the tomato, red pepper and jalapeno to the soup pot and cook over low heat an additional 10 minutes. Strain the reserved cooking juices and clam juice through a fine kitchen towel or coffee filter into the soup. Add the chopped clams and cook 10 more minutes. Stir in the cilantro, lime juice and pepper. Taste for salt, since the clams may be salty, and serve steaming hot.\n"
          ],
          "name": "stdout"
        }
      ]
    },
    {
      "cell_type": "code",
      "metadata": {
        "id": "JwOmwb6tBR_I",
        "colab_type": "code",
        "colab": {
          "base_uri": "https://localhost:8080/",
          "height": 381
        },
        "outputId": "fed71f2a-d2a5-4828-daaf-c6646a5b141c"
      },
      "source": [
        "# Feed the Model everyting up until Instructions to make the Model predict Instructions\n",
        "\n",
        "prompt_text = data[0].split('Instructions:')[0] + '\\n Instructions: \\n' # Predict what comes after instructions\n",
        "print(prompt_text)"
      ],
      "execution_count": 36,
      "outputs": [
        {
          "output_type": "stream",
          "text": [
            " \n",
            " Ingredients: \n",
            " 4 tablespoons unsalted butter \n",
            " 1 onion, diced \n",
            " 1 carrot, peeled and diced \n",
            " 1 celery rib, washed and diced \n",
            " 4 ears corn, husked and kernels removed \n",
            " 6 baby red new potatoes, unpeeled, washed and diced \n",
            " 1 quart clam juice \n",
            " 1 cup dry white wine \n",
            " 3 1/2 pounds Littleneck clams, Manila clams or Cockles in the shell \n",
            " 1 Italian Roma tomato, cored, seeded and diced \n",
            " 1 red bell pepper, cored, seeded and diced \n",
            " 1 jalapeno chile, stemmed, seeded, if desired \n",
            " 1 bunch cilantro, leaves only, chopped \n",
            " Juice of 1 lime \n",
            " 1/2 teaspoon freshly ground black pepper \n",
            " Salt to taste \n",
            " \n",
            " Instructions: \n",
            "\n"
          ],
          "name": "stdout"
        }
      ]
    },
    {
      "cell_type": "code",
      "metadata": {
        "id": "AlM3ilNZFK7I",
        "colab_type": "code",
        "colab": {}
      },
      "source": [
        "# Predict the Instructions: \n",
        "\n",
        "encoded_prompt = tokenizer.encode(prompt_text,\n",
        "                                  add_special_tokens= False,\n",
        "                                  return_tensors = 'pt') # it is a must, as without this there may be heavy unidentifyiable errors"
      ],
      "execution_count": 37,
      "outputs": []
    },
    {
      "cell_type": "code",
      "metadata": {
        "id": "iHM43BXOF9aG",
        "colab_type": "code",
        "colab": {
          "base_uri": "https://localhost:8080/",
          "height": 34
        },
        "outputId": "dac68adb-e41c-462e-b8ac-4481f7a92531"
      },
      "source": [
        "# use GPT2 Model to Generate the Output\n",
        "\n",
        "output_sequences = model.generate( input_ids= encoded_prompt,\n",
        "               max_length= 700, # Number of Tokens to Generate\n",
        "               temperature= 0.9, # Close to 0 is More Deterministic(produces same thing everytime), 1 is changing. Temperature is How it changes probablity before O/P on softmax\n",
        "               top_k= 20, # Has to do with outer Decoding (eg: these 5(K) words are highly probable). Take and build a tree structure\n",
        "               top_p= 0.9, # Top Probability\n",
        "               repetition_penalty= 4, # Penalizing for repetance of words (1 to Infinity) \n",
        "               do_sample= True,\n",
        "               num_return_sequences= 4 )  # No of Different sequences to return"
      ],
      "execution_count": 38,
      "outputs": [
        {
          "output_type": "stream",
          "text": [
            "Setting `pad_token_id` to 50256 (first `eos_token_id`) to generate sequence\n"
          ],
          "name": "stderr"
        }
      ]
    },
    {
      "cell_type": "code",
      "metadata": {
        "id": "yx574QqzGQ5-",
        "colab_type": "code",
        "colab": {
          "base_uri": "https://localhost:8080/",
          "height": 1000
        },
        "outputId": "cc0f86ed-a904-4e60-c13a-c1a41ebb3e1b"
      },
      "source": [
        "# Iterate over Output Sequences\n",
        "\n",
        "for i, sequence in enumerate(output_sequences):\n",
        "    result = tokenizer.decode(sequence)\n",
        "    # If Many endtokens occur, cut the string\n",
        "    #result = result[:result.index(special_token)]\n",
        "    print('----'*25)\n",
        "    print(f\"Generated Output #{i + 1}\")\n",
        "    print('----'*25)\n",
        "    print(result)\n",
        "    print('\\n')"
      ],
      "execution_count": 39,
      "outputs": [
        {
          "output_type": "stream",
          "text": [
            "----------------------------------------------------------------------------------------------------\n",
            "Generated Output #1\n",
            "----------------------------------------------------------------------------------------------------\n",
            " \n",
            " Ingredients: \n",
            " 4 tablespoons unsalted butter \n",
            " 1 onion, diced \n",
            " 1 carrot, peeled and diced \n",
            " 1 celery rib, washed and diced \n",
            " 4 ears corn, husked and kernels removed \n",
            " 6 baby red new potatoes, unpeeled, washed and diced \n",
            " 1 quart clam juice \n",
            " 1 cup dry white wine \n",
            " 3 1/2 pounds Littleneck clams, Manila clams or Cockles in the shell \n",
            " 1 Italian Roma tomato, cored, seeded and diced \n",
            " 1 red bell pepper, cored, seeded and diced \n",
            " 1 jalapeno chile, stemmed, seeded, if desired \n",
            " 1 bunch cilantro, leaves only, chopped \n",
            " Juice of 1 lime \n",
            " 1/2 teaspoon freshly ground black pepper \n",
            " Salt to taste \n",
            " \n",
            " Instructions: \n",
            " Melt 2 teaspoons salt into a heavy pot over medium heat. Add half-and pound butter; set aside until melted; add onions (or more) along with carrots as they begin cooking through so that it is evenly browned on both sides but not mushy inside -- 5 minutes later stir corn kernels, tomatoes including their liquid plus 1 tablespoon water for flavor control process; season mixture liberally against side burner. When it starts getting thickly flavored then lower the flame slightly. Cook vegetables 10–12 min longer depending upon how dry you'd like your broth! Transfer soup back up under the lid and keep warm while preparing other dishes. To cook, place clam shells open face down across center rack from stove top directly above them - the steam will escape easily when opened. In each dish large enough at least three times this way allow diners access within one hour and no time to see any raw flesh before serving.; Preheat oven 400°F F Place garlic cloves onto foil lined baking sheet. Bake 12 hours minimum internal temperature should be 120 degrees Fahrenheit / 125 °C Let stand 20 minute per side just prior draining. Heat remaining 2 Tablespoons oil reserved from Claming Pot(R). Combine all ingredients except seafood puree thoroughly in blender blend well after blending 30 seconds between batches, scraping down sides once or twice during final 15minutes. Transfer fish fillets immediately away using tongs carefully transfer saucepan to an ice bath. Cover tightly loosely by aluminum pan and refrigerate overnight, or freeze again several days ahead due either cold shock made on surface at room temp OR in refrigerator frozen briefly covered within 3 weeks Yield: about 14 servings Prep Time 5 mins Total Cooking time 35 sec Food processor Recipe courtesy Wolfgang Puckett Brown Butterhead Farmhouse Semi Cauliflower Pastry Sheets Uncooked Corn Relish Original recipe follows Add fresh grated Parmesan cheese Assemble lasagna according package directions and let cool completely uncovered Once cooled, cut out 8 individual rounds with serrated knife Use floured cookie cutter sprayed generously sprinkled lightly around insides 9x5 x3 inch rectangle For assembling salad spread butter on prepared plate sprinkle flour on rimmed tray. Spread milk chocolate evenly atop dough and smooth edges. Using plastic wrap gather round ends of parchment paper underneath edge forming long strip in diameter than lengthwise (if rolling roll up tightly.) Place bowl containing potato cubes on work space near table where bread may meet closest together; press firmly close securely toward base perimeter area to prevent filling form creating hole throughout remainder intact Egg wash Repeat procedure with eggwash until there are 8 small uncooked eggs approximately 25 yol\n",
            "\n",
            "\n",
            "----------------------------------------------------------------------------------------------------\n",
            "Generated Output #2\n",
            "----------------------------------------------------------------------------------------------------\n",
            " \n",
            " Ingredients: \n",
            " 4 tablespoons unsalted butter \n",
            " 1 onion, diced \n",
            " 1 carrot, peeled and diced \n",
            " 1 celery rib, washed and diced \n",
            " 4 ears corn, husked and kernels removed \n",
            " 6 baby red new potatoes, unpeeled, washed and diced \n",
            " 1 quart clam juice \n",
            " 1 cup dry white wine \n",
            " 3 1/2 pounds Littleneck clams, Manila clams or Cockles in the shell \n",
            " 1 Italian Roma tomato, cored, seeded and diced \n",
            " 1 red bell pepper, cored, seeded and diced \n",
            " 1 jalapeno chile, stemmed, seeded, if desired \n",
            " 1 bunch cilantro, leaves only, chopped \n",
            " Juice of 1 lime \n",
            " 1/2 teaspoon freshly ground black pepper \n",
            " Salt to taste \n",
            " \n",
            " Instructions: \n",
            " In a large saucepot over medium heat combine 2 teaspoons oil with olive paste. When it is foamy add onions; cook until translucent about 5 minutes Add carrots (be careful not burn them). Cook for 10 more minute then add Corn Husks while cooking so that all sides are well coated by vegetable mixture adding additional water as needed during this time period as necessary to prevent burning on top! Stir occasionally when vegetables begin changing color but do NOT brown too quickly since they will become soggy. After 7-10 hours add Red Wine Cabbage Dressing & Chili Pepper Seasoning. Continue boiling slowly stirring frequently till very tender.; Place into sterilized jars, seal tightly using lids Wash thoroughly under cold running tap or cool place. The following method may be used instead -- you can use distilled vinegar instead - however I recommend reducing amount depends upon how much salt your fish absorbs at one end which would make it difficult even clean eating process altogether because there has been no need within 200 degrees F(95) degree A boil without any liquid remaining before removing from pot after 15 seconds due both sugars dissolving completely onto surface prior heating later foods. To prepare Clam Chowder preparation carefully rinse claming solution inside jar lid opening once soap appears bubbly. If steam comes out clear remove outer rim covering and allow contents remain covered by cloth towel after several days replacing cover. Rinse twice daily Combine first 5 ingredients including juices except seafood and garlic and stir together briefly just enough to dissolve sugar. Cover the marinade, bring back up temperature again, reduce to simmer gently 45% longer than before adding fresh herbs such like parsley OR basil...if canned chicken broth is unavailable, place a rack down lower third partway around hot coals near grill area and close lid. Turn off burner valve shut immediately (this means closing vents above bottom part); leave open uncovered overnight For Crostini Crepes and assembly Remove dough from refrigerator 30 minutes before preparing filling Preparation Time 20 hr30 mins Total Cooking Time 40 hrs45 sec per hour 35 cm40 g Note About recipe: Garlic Preheat oven broiler setting. Cut open pocket for stuffing. Open hole for each crostine. Spread evenly across center cut side facing upwards towards outside edge leaving room between loaf halves connected toward middle and base cavity slightly thicker than other loaf pan and insert wooden picks through the slit where meat meets head shape. Brush lightly beaten egg wash underneath loaf pans with milk so eggs won't fall apart. Broil approximately 25 inches away rotating 180° halfway through baking times according manufacturer's instructions *See note below. Heat 2 tbsp clarified\n",
            "\n",
            "\n",
            "----------------------------------------------------------------------------------------------------\n",
            "Generated Output #3\n",
            "----------------------------------------------------------------------------------------------------\n",
            " \n",
            " Ingredients: \n",
            " 4 tablespoons unsalted butter \n",
            " 1 onion, diced \n",
            " 1 carrot, peeled and diced \n",
            " 1 celery rib, washed and diced \n",
            " 4 ears corn, husked and kernels removed \n",
            " 6 baby red new potatoes, unpeeled, washed and diced \n",
            " 1 quart clam juice \n",
            " 1 cup dry white wine \n",
            " 3 1/2 pounds Littleneck clams, Manila clams or Cockles in the shell \n",
            " 1 Italian Roma tomato, cored, seeded and diced \n",
            " 1 red bell pepper, cored, seeded and diced \n",
            " 1 jalapeno chile, stemmed, seeded, if desired \n",
            " 1 bunch cilantro, leaves only, chopped \n",
            " Juice of 1 lime \n",
            " 1/2 teaspoon freshly ground black pepper \n",
            " Salt to taste \n",
            " \n",
            " Instructions: \n",
            " Melt 2 Tbsp. oil with salt on a medium-high flame; add onions (or chicken), carrots, vegetables except tomatoes. Saute for 10 minutes. Add crushed garlic cloves along side everything else; sauté until golden brown all over but still very juicy inside about 5–8 more minutes and 12 quarts total cooking time (depending upon size). Remove from heat, cover tightly loosely while preparing stock.; Strain through a fine sieve into another small saucepan. Return pot contents back up so that no water remains at bottom in pan without any liquid remaining around it as you pour off fat. Let cool completely before discarding skin. In same large kettle combine shrimp mixture well enough just prior to using mussel tails leaving shells intact. Bring just below high heat - this will create steam which can cause grits like lumps as they cook! If not stir vigorously, lower heat slightly and simmer uncovered 30 seconds longer. Meanwhile keep lobsters covered by lid closed after 15 minute, allowing them barely opened then adjusting heat accordingly when necessary by replenishing boiling surface area during last 10mincture period. Discard shells once cooled. Remove lobster tails from their claws and devein immediately following package directions. Reserve broth separately. Using cleaned spoon remove meat away and discard tail sac attached between each clawtail portion (discards gills)and cut reserved seafood bodies diagonally across lengthwise creating eight 7x5 inch pieces per body, transferring portions directly onto a platter lined generously sprinkled lightly powdered gelatin or paper towels dipped briefly under running cold water. Season cavities (except heads); set aside. Heat heavy large skillet sprayed liberall surfaces evenly with additional nonstick spray coated entire grill rack thoroughly outside center grate of grates plus extra coals for indirect cooking use or outdoor charcoal briquettes covering entire top edge entirely because there is only one spot where there are no gray ash particles visible throughout.) Place an open flat-bottomed chimney starter on your work space and place empty metal drip pans in top position closest toward lit burner. Set disposable wood baking sheet (with vents) nearby near stovetop smoker box venting candle holder above heating element and preheat gas burners according manufacturer's instructions. You may need two metal drip skillets arranged on opposite sides for direct cooking outdoors, depending how long required be placed on grilling rack. To determine if fire should provide approximately 30% maximum smoke intensity. Use hot broiler setting (#16 to 19°F). When ready turn off mixer. Immediately reduce temperature close together again on lowest speed of hooker fitted underneath wire barbecue\n",
            "\n",
            "\n",
            "----------------------------------------------------------------------------------------------------\n",
            "Generated Output #4\n",
            "----------------------------------------------------------------------------------------------------\n",
            " \n",
            " Ingredients: \n",
            " 4 tablespoons unsalted butter \n",
            " 1 onion, diced \n",
            " 1 carrot, peeled and diced \n",
            " 1 celery rib, washed and diced \n",
            " 4 ears corn, husked and kernels removed \n",
            " 6 baby red new potatoes, unpeeled, washed and diced \n",
            " 1 quart clam juice \n",
            " 1 cup dry white wine \n",
            " 3 1/2 pounds Littleneck clams, Manila clams or Cockles in the shell \n",
            " 1 Italian Roma tomato, cored, seeded and diced \n",
            " 1 red bell pepper, cored, seeded and diced \n",
            " 1 jalapeno chile, stemmed, seeded, if desired \n",
            " 1 bunch cilantro, leaves only, chopped \n",
            " Juice of 1 lime \n",
            " 1/2 teaspoon freshly ground black pepper \n",
            " Salt to taste \n",
            " \n",
            " Instructions: \n",
            " In a large pot over medium heat melt butter. Add onions; cook until tender but not browned add carrots (do NOT overcook). Reduce flame and stir vegetables for another 2 minutes before adding other ingredients just enough so that you can't separate. Stir together tomatoes with their juices then bring everything to boil down for about 20 seconds stirring occasionally. Then turn off burner after 15 minute more when all the liquid has evaporated from top layer is gone - add fish stock to prevent burning (you may need up some additional broth), cover, reduce heat slightly. Simmer 5-7 hours uncovered on low at room temperature while you prepare pasta sauce to be done. Add linguine during cooking process as directed above and serve hot. Season lightly under broiler pan(s) till golden.; Combine remaining ingredients except limes peel well. Serve immediately topped each serving bowlful ladled generously onto plate with citrus mixture poured over them! Garnish with fresh oregano sprig. Wine suggestion : San Gimignano 1998 Chianti Sauvola Gewürztraminer '05 ; Sonoma County Chiffonade Noëlle Yves Verducken 1995 *Available online through wwwffeelpressapplinecom<|endoftext|><|endoftext|><|endoftext|><|endoftext|><|endoftext|><|endoftext|><|endoftext|><|endoftext|><|endoftext|><|endoftext|><|endoftext|><|endoftext|><|endoftext|><|endoftext|><|endoftext|><|endoftext|><|endoftext|><|endoftext|><|endoftext|><|endoftext|><|endoftext|><|endoftext|><|endoftext|><|endoftext|><|endoftext|><|endoftext|><|endoftext|><|endoftext|><|endoftext|><|endoftext|><|endoftext|><|endoftext|><|endoftext|><|endoftext|><|endoftext|><|endoftext|><|endoftext|><|endoftext|><|endoftext|><|endoftext|><|endoftext|><|endoftext|><|endoftext|><|endoftext|><|endoftext|><|endoftext|><|endoftext|><|endoftext|><|endoftext|><|endoftext|><|endoftext|><|endoftext|><|endoftext|><|endoftext|><|endoftext|><|endoftext|><|endoftext|><|endoftext|><|endoftext|><|endoftext|><|endoftext|><|endoftext|><|endoftext|><|endoftext|><|endoftext|><|endoftext|><|endoftext|><|endoftext|><|endoftext|><|endoftext|><|endoftext|><|endoftext|><|endoftext|><|endoftext|><|endoftext|><|endoftext|><|endoftext|><|endoftext|><|endoftext|><|endoftext|><|endoftext|><|endoftext|><|endoftext|><|endoftext|><|endoftext|><|endoftext|><|endoftext|><|endoftext|><|endoftext|><|endoftext|><|endoftext|><|endoftext|><|endoftext|><|endoftext|><|endoftext|><|endoftext|><|endoftext|><|endoftext|><|endoftext|><|endoftext|><|endoftext|><|endoftext|><|endoftext|><|endoftext|><|endoftext|><|endoftext|><|endoftext|><|endoftext|><|endoftext|><|endoftext|><|endoftext|><|endoftext|><|endoftext|><|endoftext|><|endoftext|><|endoftext|><|endoftext|><|endoftext|><|endoftext|><|endoftext|><|endoftext|><|endoftext|><|endoftext|><|endoftext|><|endoftext|><|endoftext|><|endoftext|><|endoftext|><|endoftext|><|endoftext|><|endoftext|><|endoftext|><|endoftext|><|endoftext|><|endoftext|><|endoftext|><|endoftext|><|endoftext|><|endoftext|><|endoftext|><|endoftext|><|endoftext|><|endoftext|><|endoftext|><|endoftext|><|endoftext|><|endoftext|><|endoftext|><|endoftext|><|endoftext|><|endoftext|><|endoftext|><|endoftext|><|endoftext|><|endoftext|><|endoftext|><|endoftext|><|endoftext|><|endoftext|><|endoftext|><|endoftext|><|endoftext|><|endoftext|><|endoftext|><|endoftext|><|endoftext|><|endoftext|><|endoftext|><|endoftext|><|endoftext|><|endoftext|><|endoftext|><|endoftext|><|endoftext|><|endoftext|><|endoftext|><|endoftext|><|endoftext|><|endoftext|><|endoftext|><|endoftext|><|endoftext|><|endoftext|><|endoftext|><|endoftext|><|endoftext|><|endoftext|><|endoftext|><|endoftext|><|endoftext|><|endoftext|><|endoftext|><|endoftext|><|endoftext|><|endoftext|><|endoftext|><|endoftext|><|endoftext|><|endoftext|><|endoftext|><|endoftext|><|endoftext|><|endoftext|><|endoftext|><|endoftext|><|endoftext|><|endoftext|><|endoftext|><|endoftext|><|endoftext|><|endoftext|><|endoftext|><|endoftext|><|endoftext|><|endoftext|><|endoftext|><|endoftext|><|endoftext|><|endoftext|><|endoftext|><|endoftext|><|endoftext|><|endoftext|><|endoftext|><|endoftext|><|endoftext|><|endoftext|><|endoftext|><|endoftext|><|endoftext|><|endoftext|><|endoftext|><|endoftext|><|endoftext|><|endoftext|><|endoftext|><|endoftext|><|endoftext|><|endoftext|><|endoftext|><|endoftext|><|endoftext|><|endoftext|><|endoftext|><|endoftext|><|endoftext|><|endoftext|><|endoftext|><|endoftext|><|endoftext|><|endoftext|><|endoftext|><|endoftext|><|endoftext|><|endoftext|><|endoftext|><|endoftext|><|endoftext|><|endoftext|><|endoftext|><|endoftext|><|endoftext|><|endoftext|><|endoftext|><|endoftext|><|endoftext|><|endoftext|><|endoftext|><|endoftext|><|endoftext|><|endoftext|><|endoftext|><|endoftext|><|endoftext|>\n",
            "\n",
            "\n"
          ],
          "name": "stdout"
        }
      ]
    },
    {
      "cell_type": "code",
      "metadata": {
        "id": "EkpOXXUQIPN3",
        "colab_type": "code",
        "colab": {
          "base_uri": "https://localhost:8080/",
          "height": 34
        },
        "outputId": "6da429ec-578f-4ecb-b0ab-9594f2467608"
      },
      "source": [
        "# Create our own Test set\n",
        "\n",
        "prompt_text = \"Ingredients: \\n 5 eggs \\n butter \\n cheese \\n breadcrumbs \\n mayonnaise \\n Instructions: \\n\"\n",
        "\n",
        "# Predict the Instructions: \n",
        "\n",
        "encoded_prompt = tokenizer.encode(prompt_text,\n",
        "                                  add_special_tokens= False,\n",
        "                                  return_tensors = 'pt') # it is a must, as without this there may be heavy unidentifyiable errors\n",
        "\n",
        "# use GPT2 Model to Generate the Output\n",
        "\n",
        "output_sequences = model.generate( input_ids= encoded_prompt,\n",
        "               max_length= 700, # Number of Tokens to Generate\n",
        "               temperature= 0.9, # Close to 0 is More Deterministic(produces same thing everytime), 1 is changing. Temperature is How it changes probablity before O/P on softmax\n",
        "               top_k= 20, # Has to do with outer Decoding (eg: these 5(K) words are highly probable). Take and build a tree structure\n",
        "               top_p= 0.9, # Top Probability\n",
        "               repetition_penalty= 4, # Penalizing for repetance of words (1 to Infinity) \n",
        "               do_sample= True,\n",
        "               num_return_sequences= 4 )  # No of Different sequences to return"
      ],
      "execution_count": 40,
      "outputs": [
        {
          "output_type": "stream",
          "text": [
            "Setting `pad_token_id` to 50256 (first `eos_token_id`) to generate sequence\n"
          ],
          "name": "stderr"
        }
      ]
    },
    {
      "cell_type": "code",
      "metadata": {
        "id": "m9PuDVqkJQU9",
        "colab_type": "code",
        "colab": {
          "base_uri": "https://localhost:8080/",
          "height": 938
        },
        "outputId": "117325f3-19cc-417b-d381-787e8fa04c0c"
      },
      "source": [
        "# Iterate over Output Sequences of Output\n",
        "\n",
        "for i, sequence in enumerate(output_sequences):\n",
        "    result = tokenizer.decode(sequence)\n",
        "    # If Many endtokens occur, cut the string\n",
        "    #result = result[:result.index(special_token)]\n",
        "    print('----'*25)\n",
        "    print(f\"Generated Output #{i + 1}\")\n",
        "    print('----'*25)\n",
        "    print(result)\n",
        "    print('\\n')"
      ],
      "execution_count": 41,
      "outputs": [
        {
          "output_type": "stream",
          "text": [
            "----------------------------------------------------------------------------------------------------\n",
            "Generated Output #1\n",
            "----------------------------------------------------------------------------------------------------\n",
            "Ingredients: \n",
            " 5 eggs \n",
            " butter \n",
            " cheese \n",
            " breadcrumbs \n",
            " mayonnaise \n",
            " Instructions: \n",
            " Preheat oven to 375 degrees F. In a mixing bowl, combine flour and salt; mix well using your hands or an electric mixer until mixture resembles coarse meal. Add the egg yolks 1 at time while mixing on low speed until smooth after each addition (the batter will be stiff). Gently fold in chopped green onion with 2 tablespoons of grated Parmesan cheeses. Spread dough evenly into greased 9 by 13 inch baking pan and bake for 45 minutes.; Combine all ingredients except oil and olive canola oils together for frying, place in blender. Blend just before adding it but do not puree! Pour oil/oil-canela paste onto surface then use knife as aid if necessary to prevent lumps from forming. Heat oil over medium heat till golden brown; drain off grease as soon you remove fat layer. Place fried white rice slices flat side down and put them directly under hot broiler setting until crispy inside edge is crisp outside edges - about 3 minute per slice.; Serve warm drizzled around top dish accompanied wiener!!! Yum!! Recipe courtesy Wolfgang Puckettner <|endoftext|><|endoftext|><|endoftext|><|endoftext|><|endoftext|><|endoftext|><|endoftext|><|endoftext|><|endoftext|><|endoftext|><|endoftext|><|endoftext|><|endoftext|><|endoftext|><|endoftext|><|endoftext|><|endoftext|><|endoftext|><|endoftext|><|endoftext|><|endoftext|><|endoftext|><|endoftext|><|endoftext|><|endoftext|><|endoftext|><|endoftext|><|endoftext|><|endoftext|><|endoftext|><|endoftext|><|endoftext|><|endoftext|><|endoftext|><|endoftext|><|endoftext|><|endoftext|><|endoftext|><|endoftext|><|endoftext|><|endoftext|><|endoftext|><|endoftext|><|endoftext|><|endoftext|><|endoftext|><|endoftext|><|endoftext|><|endoftext|><|endoftext|><|endoftext|><|endoftext|><|endoftext|><|endoftext|><|endoftext|><|endoftext|><|endoftext|><|endoftext|><|endoftext|><|endoftext|><|endoftext|><|endoftext|><|endoftext|><|endoftext|><|endoftext|><|endoftext|><|endoftext|><|endoftext|><|endoftext|><|endoftext|><|endoftext|><|endoftext|><|endoftext|><|endoftext|><|endoftext|><|endoftext|><|endoftext|><|endoftext|><|endoftext|><|endoftext|><|endoftext|><|endoftext|><|endoftext|><|endoftext|><|endoftext|><|endoftext|><|endoftext|><|endoftext|><|endoftext|><|endoftext|><|endoftext|><|endoftext|><|endoftext|><|endoftext|><|endoftext|><|endoftext|><|endoftext|><|endoftext|><|endoftext|><|endoftext|><|endoftext|><|endoftext|><|endoftext|><|endoftext|><|endoftext|><|endoftext|><|endoftext|><|endoftext|><|endoftext|><|endoftext|><|endoftext|><|endoftext|><|endoftext|><|endoftext|><|endoftext|><|endoftext|><|endoftext|><|endoftext|><|endoftext|><|endoftext|><|endoftext|><|endoftext|><|endoftext|><|endoftext|><|endoftext|><|endoftext|><|endoftext|><|endoftext|><|endoftext|><|endoftext|><|endoftext|><|endoftext|><|endoftext|><|endoftext|><|endoftext|><|endoftext|><|endoftext|><|endoftext|><|endoftext|><|endoftext|><|endoftext|><|endoftext|><|endoftext|><|endoftext|><|endoftext|><|endoftext|><|endoftext|><|endoftext|><|endoftext|><|endoftext|><|endoftext|><|endoftext|><|endoftext|><|endoftext|><|endoftext|><|endoftext|><|endoftext|><|endoftext|><|endoftext|><|endoftext|><|endoftext|><|endoftext|><|endoftext|><|endoftext|><|endoftext|><|endoftext|><|endoftext|><|endoftext|><|endoftext|><|endoftext|><|endoftext|><|endoftext|><|endoftext|><|endoftext|><|endoftext|><|endoftext|><|endoftext|><|endoftext|><|endoftext|><|endoftext|><|endoftext|><|endoftext|><|endoftext|><|endoftext|><|endoftext|><|endoftext|><|endoftext|><|endoftext|><|endoftext|><|endoftext|><|endoftext|><|endoftext|><|endoftext|><|endoftext|><|endoftext|><|endoftext|><|endoftext|><|endoftext|><|endoftext|><|endoftext|><|endoftext|><|endoftext|><|endoftext|><|endoftext|><|endoftext|><|endoftext|><|endoftext|><|endoftext|><|endoftext|><|endoftext|><|endoftext|><|endoftext|><|endoftext|><|endoftext|><|endoftext|><|endoftext|><|endoftext|><|endoftext|><|endoftext|><|endoftext|><|endoftext|><|endoftext|><|endoftext|><|endoftext|><|endoftext|><|endoftext|><|endoftext|><|endoftext|><|endoftext|><|endoftext|><|endoftext|><|endoftext|><|endoftext|><|endoftext|><|endoftext|><|endoftext|><|endoftext|><|endoftext|><|endoftext|><|endoftext|><|endoftext|><|endoftext|><|endoftext|><|endoftext|><|endoftext|><|endoftext|><|endoftext|><|endoftext|><|endoftext|><|endoftext|><|endoftext|><|endoftext|><|endoftext|><|endoftext|><|endoftext|><|endoftext|><|endoftext|><|endoftext|><|endoftext|><|endoftext|><|endoftext|><|endoftext|><|endoftext|><|endoftext|><|endoftext|><|endoftext|><|endoftext|><|endoftext|><|endoftext|><|endoftext|><|endoftext|><|endoftext|><|endoftext|><|endoftext|><|endoftext|><|endoftext|><|endoftext|><|endoftext|><|endoftext|><|endoftext|><|endoftext|><|endoftext|><|endoftext|><|endoftext|><|endoftext|><|endoftext|><|endoftext|><|endoftext|><|endoftext|><|endoftext|><|endoftext|><|endoftext|><|endoftext|><|endoftext|><|endoftext|><|endoftext|><|endoftext|><|endoftext|><|endoftext|><|endoftext|><|endoftext|><|endoftext|><|endoftext|><|endoftext|><|endoftext|><|endoftext|><|endoftext|><|endoftext|><|endoftext|><|endoftext|><|endoftext|><|endoftext|><|endoftext|><|endoftext|><|endoftext|><|endoftext|><|endoftext|><|endoftext|><|endoftext|><|endoftext|><|endoftext|><|endoftext|><|endoftext|><|endoftext|><|endoftext|><|endoftext|><|endoftext|><|endoftext|><|endoftext|><|endoftext|><|endoftext|><|endoftext|><|endoftext|><|endoftext|><|endoftext|><|endoftext|><|endoftext|><|endoftext|><|endoftext|><|endoftext|><|endoftext|><|endoftext|><|endoftext|><|endoftext|><|endoftext|><|endoftext|><|endoftext|><|endoftext|><|endoftext|><|endoftext|><|endoftext|><|endoftext|><|endoftext|><|endoftext|><|endoftext|><|endoftext|><|endoftext|><|endoftext|><|endoftext|><|endoftext|><|endoftext|><|endoftext|><|endoftext|>\n",
            "\n",
            "\n",
            "----------------------------------------------------------------------------------------------------\n",
            "Generated Output #2\n",
            "----------------------------------------------------------------------------------------------------\n",
            "Ingredients: \n",
            " 5 eggs \n",
            " butter \n",
            " cheese \n",
            " breadcrumbs \n",
            " mayonnaise \n",
            " Instructions: \n",
            " Preheat the oven to 375 degrees F. Cut each egg into thirds lengthwise and scoop out yolks, then place in a mixing bowl along with 1 cup of water (reserve remainder for another use). Mash until smooth, then add salt gradually while whisking vigorously until mixture forms firm curds. Stir cheese and parsley into mashed potato mixture; spoon onto baking sheet using rubber spatula. Bake in preheated skillet on center rack 15 minutes or just before serving time if needed for medium-well-done omelet. <|endoftext|><|endoftext|><|endoftext|><|endoftext|><|endoftext|><|endoftext|><|endoftext|><|endoftext|><|endoftext|><|endoftext|><|endoftext|><|endoftext|><|endoftext|><|endoftext|><|endoftext|><|endoftext|><|endoftext|><|endoftext|><|endoftext|><|endoftext|><|endoftext|><|endoftext|><|endoftext|><|endoftext|><|endoftext|><|endoftext|><|endoftext|><|endoftext|><|endoftext|><|endoftext|><|endoftext|><|endoftext|><|endoftext|><|endoftext|><|endoftext|><|endoftext|><|endoftext|><|endoftext|><|endoftext|><|endoftext|><|endoftext|><|endoftext|><|endoftext|><|endoftext|><|endoftext|><|endoftext|><|endoftext|><|endoftext|><|endoftext|><|endoftext|><|endoftext|><|endoftext|><|endoftext|><|endoftext|><|endoftext|><|endoftext|><|endoftext|><|endoftext|><|endoftext|><|endoftext|><|endoftext|><|endoftext|><|endoftext|><|endoftext|><|endoftext|><|endoftext|><|endoftext|><|endoftext|><|endoftext|><|endoftext|><|endoftext|><|endoftext|><|endoftext|><|endoftext|><|endoftext|><|endoftext|><|endoftext|><|endoftext|><|endoftext|><|endoftext|><|endoftext|><|endoftext|><|endoftext|><|endoftext|><|endoftext|><|endoftext|><|endoftext|><|endoftext|><|endoftext|><|endoftext|><|endoftext|><|endoftext|><|endoftext|><|endoftext|><|endoftext|><|endoftext|><|endoftext|><|endoftext|><|endoftext|><|endoftext|><|endoftext|><|endoftext|><|endoftext|><|endoftext|><|endoftext|><|endoftext|><|endoftext|><|endoftext|><|endoftext|><|endoftext|><|endoftext|><|endoftext|><|endoftext|><|endoftext|><|endoftext|><|endoftext|><|endoftext|><|endoftext|><|endoftext|><|endoftext|><|endoftext|><|endoftext|><|endoftext|><|endoftext|><|endoftext|><|endoftext|><|endoftext|><|endoftext|><|endoftext|><|endoftext|><|endoftext|><|endoftext|><|endoftext|><|endoftext|><|endoftext|><|endoftext|><|endoftext|><|endoftext|><|endoftext|><|endoftext|><|endoftext|><|endoftext|><|endoftext|><|endoftext|><|endoftext|><|endoftext|><|endoftext|><|endoftext|><|endoftext|><|endoftext|><|endoftext|><|endoftext|><|endoftext|><|endoftext|><|endoftext|><|endoftext|><|endoftext|><|endoftext|><|endoftext|><|endoftext|><|endoftext|><|endoftext|><|endoftext|><|endoftext|><|endoftext|><|endoftext|><|endoftext|><|endoftext|><|endoftext|><|endoftext|><|endoftext|><|endoftext|><|endoftext|><|endoftext|><|endoftext|><|endoftext|><|endoftext|><|endoftext|><|endoftext|><|endoftext|><|endoftext|><|endoftext|><|endoftext|><|endoftext|><|endoftext|><|endoftext|><|endoftext|><|endoftext|><|endoftext|><|endoftext|><|endoftext|><|endoftext|><|endoftext|><|endoftext|><|endoftext|><|endoftext|><|endoftext|><|endoftext|><|endoftext|><|endoftext|><|endoftext|><|endoftext|><|endoftext|><|endoftext|><|endoftext|><|endoftext|><|endoftext|><|endoftext|><|endoftext|><|endoftext|><|endoftext|><|endoftext|><|endoftext|><|endoftext|><|endoftext|><|endoftext|><|endoftext|><|endoftext|><|endoftext|><|endoftext|><|endoftext|><|endoftext|><|endoftext|><|endoftext|><|endoftext|><|endoftext|><|endoftext|><|endoftext|><|endoftext|><|endoftext|><|endoftext|><|endoftext|><|endoftext|><|endoftext|><|endoftext|><|endoftext|><|endoftext|><|endoftext|><|endoftext|><|endoftext|><|endoftext|><|endoftext|><|endoftext|><|endoftext|><|endoftext|><|endoftext|><|endoftext|><|endoftext|><|endoftext|><|endoftext|><|endoftext|><|endoftext|><|endoftext|><|endoftext|><|endoftext|><|endoftext|><|endoftext|><|endoftext|><|endoftext|><|endoftext|><|endoftext|><|endoftext|><|endoftext|><|endoftext|><|endoftext|><|endoftext|><|endoftext|><|endoftext|><|endoftext|><|endoftext|><|endoftext|><|endoftext|><|endoftext|><|endoftext|><|endoftext|><|endoftext|><|endoftext|><|endoftext|><|endoftext|><|endoftext|><|endoftext|><|endoftext|><|endoftext|><|endoftext|><|endoftext|><|endoftext|><|endoftext|><|endoftext|><|endoftext|><|endoftext|><|endoftext|><|endoftext|><|endoftext|><|endoftext|><|endoftext|><|endoftext|><|endoftext|><|endoftext|><|endoftext|><|endoftext|><|endoftext|><|endoftext|><|endoftext|><|endoftext|><|endoftext|><|endoftext|><|endoftext|><|endoftext|><|endoftext|><|endoftext|><|endoftext|><|endoftext|><|endoftext|><|endoftext|><|endoftext|><|endoftext|><|endoftext|><|endoftext|><|endoftext|><|endoftext|><|endoftext|><|endoftext|><|endoftext|><|endoftext|><|endoftext|><|endoftext|><|endoftext|><|endoftext|><|endoftext|><|endoftext|><|endoftext|><|endoftext|><|endoftext|><|endoftext|><|endoftext|><|endoftext|><|endoftext|><|endoftext|><|endoftext|><|endoftext|><|endoftext|><|endoftext|><|endoftext|><|endoftext|><|endoftext|><|endoftext|><|endoftext|><|endoftext|><|endoftext|><|endoftext|><|endoftext|><|endoftext|><|endoftext|><|endoftext|><|endoftext|><|endoftext|><|endoftext|><|endoftext|><|endoftext|><|endoftext|><|endoftext|><|endoftext|><|endoftext|><|endoftext|><|endoftext|><|endoftext|><|endoftext|><|endoftext|><|endoftext|><|endoftext|><|endoftext|><|endoftext|><|endoftext|><|endoftext|><|endoftext|><|endoftext|><|endoftext|><|endoftext|><|endoftext|><|endoftext|><|endoftext|><|endoftext|><|endoftext|><|endoftext|><|endoftext|><|endoftext|><|endoftext|><|endoftext|><|endoftext|><|endoftext|><|endoftext|><|endoftext|><|endoftext|><|endoftext|><|endoftext|><|endoftext|><|endoftext|><|endoftext|><|endoftext|><|endoftext|><|endoftext|><|endoftext|><|endoftext|><|endoftext|><|endoftext|><|endoftext|><|endoftext|><|endoftext|><|endoftext|><|endoftext|><|endoftext|><|endoftext|><|endoftext|><|endoftext|><|endoftext|><|endoftext|><|endoftext|><|endoftext|><|endoftext|><|endoftext|><|endoftext|><|endoftext|><|endoftext|><|endoftext|><|endoftext|><|endoftext|><|endoftext|><|endoftext|><|endoftext|><|endoftext|><|endoftext|><|endoftext|><|endoftext|><|endoftext|><|endoftext|><|endoftext|><|endoftext|><|endoftext|><|endoftext|><|endoftext|><|endoftext|><|endoftext|><|endoftext|><|endoftext|><|endoftext|><|endoftext|><|endoftext|><|endoftext|><|endoftext|><|endoftext|><|endoftext|><|endoftext|><|endoftext|><|endoftext|><|endoftext|><|endoftext|><|endoftext|><|endoftext|><|endoftext|><|endoftext|><|endoftext|><|endoftext|><|endoftext|><|endoftext|><|endoftext|><|endoftext|><|endoftext|><|endoftext|><|endoftext|><|endoftext|><|endoftext|><|endoftext|><|endoftext|><|endoftext|><|endoftext|>\n",
            "\n",
            "\n",
            "----------------------------------------------------------------------------------------------------\n",
            "Generated Output #3\n",
            "----------------------------------------------------------------------------------------------------\n",
            "Ingredients: \n",
            " 5 eggs \n",
            " butter \n",
            " cheese \n",
            " breadcrumbs \n",
            " mayonnaise \n",
            " Instructions: \n",
            " Preheat oven to 350 degrees F. Beat eggs until stiff, about 15 minutes; fold in milk. Combine butter and cream of tartar with 1 cup sugar, salt or both cheeses at medium speed for 3-4 hours. Remove from heat. Mix in flour mixture. Divide into 8 balls (about the size) then roll each ball up tightly in egg white making sure there are no lumps of dough. Place on a lightly greased baking sheet lined heavily top side down first so that you don't have any air pockets inside. Bake for 30 - 40 mins., or till done but still moist around edges with small holes showing when pan is shaken. Serve hot! To serve immediately spread 1 tablespoon melted ganache evenly over one half cookie. Sprinkle topping generously around edge where it was formed. Serve warm. Garnish as desired.; In large bowl beat together eggs. Add oil or margarine, grated nutmeg if using 2 forks just before adding next step, beating well after addition by hand while slowly adding milk/butter mixings between additions. Stir thoroughly again once incorporated before beginning this process -- all ingredients should be blended before putting onto waxed paper like plastic wrap which will not completely cover cake.) Let stand 10 min longer than 4 hrs covered overnight stirring occasionally.* Yields 24 servings <|endoftext|><|endoftext|><|endoftext|><|endoftext|><|endoftext|><|endoftext|><|endoftext|><|endoftext|><|endoftext|><|endoftext|><|endoftext|><|endoftext|><|endoftext|><|endoftext|><|endoftext|><|endoftext|><|endoftext|><|endoftext|><|endoftext|><|endoftext|><|endoftext|><|endoftext|><|endoftext|><|endoftext|><|endoftext|><|endoftext|><|endoftext|><|endoftext|><|endoftext|><|endoftext|><|endoftext|><|endoftext|><|endoftext|><|endoftext|><|endoftext|><|endoftext|><|endoftext|><|endoftext|><|endoftext|><|endoftext|><|endoftext|><|endoftext|><|endoftext|><|endoftext|><|endoftext|><|endoftext|><|endoftext|><|endoftext|><|endoftext|><|endoftext|><|endoftext|><|endoftext|><|endoftext|><|endoftext|><|endoftext|><|endoftext|><|endoftext|><|endoftext|><|endoftext|><|endoftext|><|endoftext|><|endoftext|><|endoftext|><|endoftext|><|endoftext|><|endoftext|><|endoftext|><|endoftext|><|endoftext|><|endoftext|><|endoftext|><|endoftext|><|endoftext|><|endoftext|><|endoftext|><|endoftext|><|endoftext|><|endoftext|><|endoftext|><|endoftext|><|endoftext|><|endoftext|><|endoftext|><|endoftext|><|endoftext|><|endoftext|><|endoftext|><|endoftext|><|endoftext|><|endoftext|><|endoftext|><|endoftext|><|endoftext|><|endoftext|><|endoftext|><|endoftext|><|endoftext|><|endoftext|><|endoftext|><|endoftext|><|endoftext|><|endoftext|><|endoftext|><|endoftext|><|endoftext|><|endoftext|><|endoftext|><|endoftext|><|endoftext|><|endoftext|><|endoftext|><|endoftext|><|endoftext|><|endoftext|><|endoftext|><|endoftext|><|endoftext|><|endoftext|><|endoftext|><|endoftext|><|endoftext|><|endoftext|><|endoftext|><|endoftext|><|endoftext|><|endoftext|><|endoftext|><|endoftext|><|endoftext|><|endoftext|><|endoftext|><|endoftext|><|endoftext|><|endoftext|><|endoftext|><|endoftext|><|endoftext|><|endoftext|><|endoftext|><|endoftext|><|endoftext|><|endoftext|><|endoftext|><|endoftext|><|endoftext|><|endoftext|><|endoftext|><|endoftext|><|endoftext|><|endoftext|><|endoftext|><|endoftext|><|endoftext|><|endoftext|><|endoftext|><|endoftext|><|endoftext|><|endoftext|><|endoftext|><|endoftext|><|endoftext|><|endoftext|><|endoftext|><|endoftext|><|endoftext|><|endoftext|><|endoftext|><|endoftext|><|endoftext|><|endoftext|><|endoftext|><|endoftext|><|endoftext|><|endoftext|><|endoftext|><|endoftext|><|endoftext|><|endoftext|><|endoftext|><|endoftext|><|endoftext|><|endoftext|><|endoftext|><|endoftext|><|endoftext|><|endoftext|><|endoftext|><|endoftext|><|endoftext|><|endoftext|><|endoftext|><|endoftext|><|endoftext|><|endoftext|><|endoftext|><|endoftext|><|endoftext|><|endoftext|><|endoftext|><|endoftext|><|endoftext|><|endoftext|><|endoftext|><|endoftext|><|endoftext|><|endoftext|><|endoftext|><|endoftext|><|endoftext|><|endoftext|><|endoftext|><|endoftext|><|endoftext|><|endoftext|><|endoftext|><|endoftext|><|endoftext|><|endoftext|><|endoftext|><|endoftext|><|endoftext|><|endoftext|><|endoftext|><|endoftext|><|endoftext|><|endoftext|><|endoftext|><|endoftext|><|endoftext|><|endoftext|><|endoftext|><|endoftext|><|endoftext|><|endoftext|><|endoftext|><|endoftext|><|endoftext|><|endoftext|><|endoftext|><|endoftext|><|endoftext|><|endoftext|><|endoftext|><|endoftext|><|endoftext|><|endoftext|><|endoftext|><|endoftext|><|endoftext|><|endoftext|><|endoftext|><|endoftext|><|endoftext|><|endoftext|><|endoftext|><|endoftext|><|endoftext|><|endoftext|><|endoftext|><|endoftext|><|endoftext|><|endoftext|><|endoftext|><|endoftext|><|endoftext|><|endoftext|><|endoftext|><|endoftext|><|endoftext|><|endoftext|><|endoftext|><|endoftext|><|endoftext|><|endoftext|><|endoftext|><|endoftext|><|endoftext|><|endoftext|><|endoftext|><|endoftext|><|endoftext|><|endoftext|><|endoftext|><|endoftext|><|endoftext|><|endoftext|><|endoftext|><|endoftext|><|endoftext|><|endoftext|><|endoftext|><|endoftext|><|endoftext|><|endoftext|><|endoftext|><|endoftext|><|endoftext|><|endoftext|><|endoftext|><|endoftext|><|endoftext|><|endoftext|><|endoftext|><|endoftext|><|endoftext|><|endoftext|><|endoftext|><|endoftext|><|endoftext|><|endoftext|><|endoftext|><|endoftext|><|endoftext|><|endoftext|><|endoftext|><|endoftext|><|endoftext|><|endoftext|><|endoftext|>\n",
            "\n",
            "\n",
            "----------------------------------------------------------------------------------------------------\n",
            "Generated Output #4\n",
            "----------------------------------------------------------------------------------------------------\n",
            "Ingredients: \n",
            " 5 eggs \n",
            " butter \n",
            " cheese \n",
            " breadcrumbs \n",
            " mayonnaise \n",
            " Instructions: \n",
            " Beat eggs. Add melted margarine to beaten egg and beat until creamy, about 1 minute. Stir in milk mixture; fold into batter. Place the oven rack in middle position so that it can accommodate 2-3 pancakes for frying over medium heat or at least 4 inches across. Heat 3/4 inch of oil over high flame on a deep fryer (about 350 degrees F) to 370 degree F with paper towels dipped inside if necessary.; Dredge pancake by dipping fork one side first -- do not press onto bottom-- then dip other sides -- again lightly enough back when pressed and put aside in bowl before baking while hot! Deep out skillet insert 10 holes, approximately 8 ounces each - cut them into 6 wedges which should be filled evenly all around like cornmeal cakes using two pieces as handles instead than filling center hole completely between sticks but still attached together forming an oval cake shape with remaining edges covered loosely With dampened hands shape crumb crusts alternately unto form crescents slightly larger ones resembling large wreath molds placed directly from top edge down making sure they are well sealed, leaving space for steam escaping during cooling process.; Fry fritters briefly under preheated hot water just until golden brown turning off after 30 seconds. Remove dumplings carefully. Invert another shallow pan, inserted once above heated surface without crowding immediately will allow uncooked fans' attention away too much moisture due either evaporate alcohol resulting from added impurities created within baked tarts cooking time, this prevents sticking.) Gently transfer cooked fried platter(in order you expect any unopened entremet guests). Serve warm garnished plate.(Cooked puddings are best eaten chilled), served separately alongside salad. The recipe follows. Combine yolks in heavy medium saucepan. Whisk constantly add sugar and lemon juice. Bring liquid almost full boil. Return custard pot containing cream partially cover tightly reduce temperatureto 180degreesF., stirring occasionally.* Cook pudding until firm throughout thickest part is reached remove lid from syrup bath frequently to prevent curdling. Strain through fine sieve set up underneath cleaned basin being careful NOT touching riced surfaces* Chill pudding uncovered overnight** Refrigerate leftovers ** Preheat broiler. Brush each wedge gently twice cleanly with nonstick spray coated generously liberally*** and sprinkle cinnamon candies very over entire dish, covering dish entirely only where needed or arrange squares apart*. Bake soufflés 12 minutes *RAW EGG WARNING Food Network Kitchens suggest caution in consuming raw, properly made vegan products*, or substitute cultured coconut oil because these contain many different typesof plants and therefore require good useful measures To reduce risk if desired add additional vegetable oils such lumpless flavor plantains rather thawed natural lycheeseed sprouts also known internally produced organic green seedless red grapes.<BR> <br\">Canola</ BR<<|endoftext|>\n",
            "\n",
            "\n"
          ],
          "name": "stdout"
        }
      ]
    }
  ]
}
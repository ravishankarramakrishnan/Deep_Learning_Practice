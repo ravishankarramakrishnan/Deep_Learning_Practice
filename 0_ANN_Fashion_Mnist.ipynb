{
  "nbformat": 4,
  "nbformat_minor": 0,
  "metadata": {
    "colab": {
      "name": "0_ANN_Fashion-Mnist.ipynb",
      "provenance": [],
      "collapsed_sections": [],
      "authorship_tag": "ABX9TyPVzQz5fy2FLsNwcAu1b4CO",
      "include_colab_link": true
    },
    "kernelspec": {
      "name": "python3",
      "display_name": "Python 3"
    }
  },
  "cells": [
    {
      "cell_type": "markdown",
      "metadata": {
        "id": "view-in-github",
        "colab_type": "text"
      },
      "source": [
        "<a href=\"https://colab.research.google.com/github/ravishankarramakrishnan/Deep_Learning_Practice/blob/master/0_ANN_Fashion_Mnist.ipynb\" target=\"_parent\"><img src=\"https://colab.research.google.com/assets/colab-badge.svg\" alt=\"Open In Colab\"/></a>"
      ]
    },
    {
      "cell_type": "code",
      "metadata": {
        "id": "jRj5f8tIUlWn",
        "colab_type": "code",
        "colab": {}
      },
      "source": [
        "# Install Tensorflow 2.0\n",
        "!pip install -q tensorflow==2.0.0-beta1"
      ],
      "execution_count": 0,
      "outputs": []
    },
    {
      "cell_type": "code",
      "metadata": {
        "id": "OQ1178eVVqwy",
        "colab_type": "code",
        "colab": {}
      },
      "source": [
        "import tensorflow as tf\n"
      ],
      "execution_count": 0,
      "outputs": []
    },
    {
      "cell_type": "code",
      "metadata": {
        "id": "bX8wepB-VHi5",
        "colab_type": "code",
        "colab": {}
      },
      "source": [
        "# Importing the Libraries\n",
        "\n",
        "import numpy as np\n",
        "import pandas as pd\n",
        "import datetime\n",
        "from tensorflow.keras.datasets import fashion_mnist"
      ],
      "execution_count": 0,
      "outputs": []
    },
    {
      "cell_type": "code",
      "metadata": {
        "id": "rEMKgIvlViNy",
        "colab_type": "code",
        "colab": {}
      },
      "source": [
        "# Data Preprocessing\n",
        "\n",
        "data = fashion_mnist.load_data()"
      ],
      "execution_count": 0,
      "outputs": []
    },
    {
      "cell_type": "code",
      "metadata": {
        "id": "nSS2qUs6YTyy",
        "colab_type": "code",
        "colab": {}
      },
      "source": [
        "(X_train, y_train), (X_test, y_test) = data"
      ],
      "execution_count": 0,
      "outputs": []
    },
    {
      "cell_type": "code",
      "metadata": {
        "id": "Uq-DUh2NYoHK",
        "colab_type": "code",
        "colab": {}
      },
      "source": [
        "# Normalizing the Images - To make ANN Train Faster, get each pixel range between 0 and 1\n",
        "\n",
        "X_train, X_test = X_train/255.0, X_test/255.0 # Value/Maximum"
      ],
      "execution_count": 0,
      "outputs": []
    },
    {
      "cell_type": "code",
      "metadata": {
        "id": "woYOLZO4Yuu6",
        "colab_type": "code",
        "outputId": "01928894-773b-498b-fda2-6c7b9ecfd2f3",
        "colab": {
          "base_uri": "https://localhost:8080/",
          "height": 51
        }
      },
      "source": [
        "print(X_train.shape)\n",
        "print(X_test.shape)"
      ],
      "execution_count": 22,
      "outputs": [
        {
          "output_type": "stream",
          "text": [
            "(60000, 28, 28)\n",
            "(10000, 28, 28)\n"
          ],
          "name": "stdout"
        }
      ]
    },
    {
      "cell_type": "code",
      "metadata": {
        "id": "5ovRc8NwYzoi",
        "colab_type": "code",
        "colab": {}
      },
      "source": [
        "# Reshaping the Dataset - Set the Training/Test set to Vector format; Flatten 2D vector to 1D Vector\n",
        "# [-1 (all elements), height * width]; -1 means All elements in X_train\n",
        "\n",
        "X_train = X_train.reshape(-1, 28*28)"
      ],
      "execution_count": 0,
      "outputs": []
    },
    {
      "cell_type": "code",
      "metadata": {
        "id": "sWh-q-ena9B4",
        "colab_type": "code",
        "outputId": "7d456834-200e-466f-c6d9-4575f9383c24",
        "colab": {
          "base_uri": "https://localhost:8080/",
          "height": 34
        }
      },
      "source": [
        "X_train.shape"
      ],
      "execution_count": 24,
      "outputs": [
        {
          "output_type": "execute_result",
          "data": {
            "text/plain": [
              "(60000, 784)"
            ]
          },
          "metadata": {
            "tags": []
          },
          "execution_count": 24
        }
      ]
    },
    {
      "cell_type": "code",
      "metadata": {
        "id": "MQX6H_cGa-RB",
        "colab_type": "code",
        "colab": {}
      },
      "source": [
        "# Reshape the Test Data\n",
        "\n",
        "X_test = X_test.reshape(-1, 28*28)"
      ],
      "execution_count": 0,
      "outputs": []
    },
    {
      "cell_type": "code",
      "metadata": {
        "id": "QPmh22PebUCK",
        "colab_type": "code",
        "outputId": "5d766ac6-1656-4b28-c10b-8af62ad9da1c",
        "colab": {
          "base_uri": "https://localhost:8080/",
          "height": 34
        }
      },
      "source": [
        "X_test.shape"
      ],
      "execution_count": 26,
      "outputs": [
        {
          "output_type": "execute_result",
          "data": {
            "text/plain": [
              "(10000, 784)"
            ]
          },
          "metadata": {
            "tags": []
          },
          "execution_count": 26
        }
      ]
    },
    {
      "cell_type": "code",
      "metadata": {
        "id": "nmNg4D74bVCD",
        "colab_type": "code",
        "colab": {}
      },
      "source": [
        "# Building the Model\n",
        "\n",
        "# Define Model\n",
        "model = tf.keras.models.Sequential()\n",
        "\n",
        "# Add Fully Connected Hidden Layer\n",
        "model.add(tf.keras.layers.Dense(units=128, activation='relu', input_shape = (784, ))) # Input Shape Needed only at First FC Layer\n",
        "\n",
        "# Add Another Fully Connected Hidden Layer\n",
        "\n",
        "model.add(tf.keras.layers.Dense(units=128, activation='relu'))\n",
        "\n",
        "# Add Second Layer with Dropout\n",
        "model.add(tf.keras.layers.Dropout(0.2))\n",
        "\n",
        "# Add output Layer\n",
        "model.add(tf.keras.layers.Dense(10, activation='softmax'))"
      ],
      "execution_count": 0,
      "outputs": []
    },
    {
      "cell_type": "code",
      "metadata": {
        "id": "WwKhhRg_izrS",
        "colab_type": "code",
        "colab": {}
      },
      "source": [
        "# Compile the Model\n",
        "\n",
        "model.compile(optimizer= 'adam', loss= 'sparse_categorical_crossentropy', metrics= ['sparse_categorical_accuracy']) # Sparse Categorical Accuracy is used for Multiple Accuracy[Multiclass Classification]"
      ],
      "execution_count": 0,
      "outputs": []
    },
    {
      "cell_type": "code",
      "metadata": {
        "id": "UJW-ZOwsjT2y",
        "colab_type": "code",
        "outputId": "4f9efcc9-c4c7-425f-af9e-9198b0872324",
        "colab": {
          "base_uri": "https://localhost:8080/",
          "height": 289
        }
      },
      "source": [
        "# Check the Summary of Model\n",
        "\n",
        "model.summary()"
      ],
      "execution_count": 29,
      "outputs": [
        {
          "output_type": "stream",
          "text": [
            "Model: \"sequential_1\"\n",
            "_________________________________________________________________\n",
            "Layer (type)                 Output Shape              Param #   \n",
            "=================================================================\n",
            "dense_3 (Dense)              (None, 128)               100480    \n",
            "_________________________________________________________________\n",
            "dense_4 (Dense)              (None, 128)               16512     \n",
            "_________________________________________________________________\n",
            "dropout_1 (Dropout)          (None, 128)               0         \n",
            "_________________________________________________________________\n",
            "dense_5 (Dense)              (None, 10)                1290      \n",
            "=================================================================\n",
            "Total params: 118,282\n",
            "Trainable params: 118,282\n",
            "Non-trainable params: 0\n",
            "_________________________________________________________________\n"
          ],
          "name": "stdout"
        }
      ]
    },
    {
      "cell_type": "code",
      "metadata": {
        "id": "nnHfRJZMjZvy",
        "colab_type": "code",
        "colab": {
          "base_uri": "https://localhost:8080/",
          "height": 391
        },
        "outputId": "74bfea99-11e3-429e-ad4a-24460cfa100e"
      },
      "source": [
        "# Training the Model\n",
        "\n",
        "model.fit(X_train, y_train, epochs= 10)"
      ],
      "execution_count": 30,
      "outputs": [
        {
          "output_type": "stream",
          "text": [
            "Train on 60000 samples\n",
            "Epoch 1/10\n",
            "60000/60000 [==============================] - 7s 109us/sample - loss: 0.5122 - sparse_categorical_accuracy: 0.8164\n",
            "Epoch 2/10\n",
            "60000/60000 [==============================] - 7s 118us/sample - loss: 0.3817 - sparse_categorical_accuracy: 0.8613\n",
            "Epoch 3/10\n",
            "60000/60000 [==============================] - 6s 106us/sample - loss: 0.3418 - sparse_categorical_accuracy: 0.8742\n",
            "Epoch 4/10\n",
            "60000/60000 [==============================] - 6s 106us/sample - loss: 0.3177 - sparse_categorical_accuracy: 0.8817\n",
            "Epoch 5/10\n",
            "60000/60000 [==============================] - 6s 105us/sample - loss: 0.3039 - sparse_categorical_accuracy: 0.8872\n",
            "Epoch 6/10\n",
            "60000/60000 [==============================] - 6s 102us/sample - loss: 0.2906 - sparse_categorical_accuracy: 0.8923\n",
            "Epoch 7/10\n",
            "60000/60000 [==============================] - 6s 107us/sample - loss: 0.2772 - sparse_categorical_accuracy: 0.8955\n",
            "Epoch 8/10\n",
            "60000/60000 [==============================] - 6s 104us/sample - loss: 0.2683 - sparse_categorical_accuracy: 0.8991\n",
            "Epoch 9/10\n",
            "60000/60000 [==============================] - 6s 107us/sample - loss: 0.2586 - sparse_categorical_accuracy: 0.9025\n",
            "Epoch 10/10\n",
            "60000/60000 [==============================] - 6s 104us/sample - loss: 0.2514 - sparse_categorical_accuracy: 0.9053\n"
          ],
          "name": "stdout"
        },
        {
          "output_type": "execute_result",
          "data": {
            "text/plain": [
              "<tensorflow.python.keras.callbacks.History at 0x7f2ca9cd8400>"
            ]
          },
          "metadata": {
            "tags": []
          },
          "execution_count": 30
        }
      ]
    },
    {
      "cell_type": "code",
      "metadata": {
        "id": "eQtTEDb1kBqD",
        "colab_type": "code",
        "colab": {
          "base_uri": "https://localhost:8080/",
          "height": 51
        },
        "outputId": "37b2a175-d6f9-4179-cea6-2db592a72a80"
      },
      "source": [
        "# Evaluating the Model\n",
        "\n",
        "model.evaluate(X_test, y_test)\n"
      ],
      "execution_count": 33,
      "outputs": [
        {
          "output_type": "stream",
          "text": [
            "10000/10000 [==============================] - 0s 46us/sample - loss: 0.3587 - sparse_categorical_accuracy: 0.8773\n"
          ],
          "name": "stdout"
        },
        {
          "output_type": "execute_result",
          "data": {
            "text/plain": [
              "[0.35874830504655836, 0.8773]"
            ]
          },
          "metadata": {
            "tags": []
          },
          "execution_count": 33
        }
      ]
    },
    {
      "cell_type": "code",
      "metadata": {
        "id": "p9Cw3fVi_mIB",
        "colab_type": "code",
        "colab": {}
      },
      "source": [
        "# Plotting the Confusion Matrix\n",
        "\n",
        "from sklearn.metrics import confusion_matrix\n",
        "import numpy as np\n",
        "import itertools\n"
      ],
      "execution_count": 0,
      "outputs": []
    },
    {
      "cell_type": "code",
      "metadata": {
        "id": "gzcZ6lSt_oNj",
        "colab_type": "code",
        "colab": {}
      },
      "source": [
        "# Defining for Multiclass Confusion Matrix\n",
        "\n",
        "def plot_confusion_matrix(cm, classes, normalize=False, title='Confusion Matrix', cmap=plt.cm.Blues):\n",
        "    if normalize:\n",
        "        cm = cm.astype('float')/cm.sum(axis=1)[:np.newaxis]\n",
        "        print('Normalised Confusion Matrix')\n",
        "    else:\n",
        "        print('Confusion Matrix without Normalisation')\n",
        "    print(cm)\n",
        "\n",
        "    # Plot\n",
        "    plt.imshow(cm, interpolation='nearest', cmap=cmap)\n",
        "    plt.title(title)\n",
        "    plt.colorbar()\n",
        "    tick_marks = np.arange(len(classes))\n",
        "    plt.xticks(tick_marks, classes, rotation = 45)\n",
        "    plt.yticks(tick_marks, classes)\n",
        "\n",
        "    # Formatting text\n",
        "    fmt = '.2f' if normalize else 'd'\n",
        "    thresh = cm.max()/2.\n",
        "\n",
        "    for i,j in itertools.product(range(cm.shape[0]), range(cm.shape[1])):\n",
        "        plt.text(j, i, format(cm[i,j], fmt),\n",
        "                 horizontalalignment = 'center',\n",
        "                 color = 'white' if cm[i,j] > thresh else 'black')\n",
        "        \n",
        "    plt.tight_layout()\n",
        "    plt.ylabel(\"True Label\")\n",
        "    plt.xlabel(\"Predicted Label\")\n",
        "    plt.show()\n"
      ],
      "execution_count": 0,
      "outputs": []
    },
    {
      "cell_type": "code",
      "metadata": {
        "id": "mTVAZMAS_p4b",
        "colab_type": "code",
        "colab": {
          "base_uri": "https://localhost:8080/",
          "height": 498
        },
        "outputId": "dbc35013-c87e-418a-ad75-4d731ba458e4"
      },
      "source": [
        "# Confusion Matrix Plot\n",
        "\n",
        "y_pred = model.predict(X_test).argmax(axis=1)\n",
        "cm = confusion_matrix(y_test, y_pred)\n",
        "\n",
        "# Plot via Defined COnfusion Matrix\n",
        "\n",
        "plot_confusion_matrix(cm, list(range(10)))\n"
      ],
      "execution_count": 36,
      "outputs": [
        {
          "output_type": "stream",
          "text": [
            "Confusion Matrix without Normalisation\n",
            "[[846   0   7  13   1   1 129   0   3   0]\n",
            " [ 12 960   0  21   3   0   4   0   0   0]\n",
            " [ 22   0 702   9 115   0 152   0   0   0]\n",
            " [ 41   3  13 882  28   0  30   0   3   0]\n",
            " [  0   1  57  25 807   0 109   0   1   0]\n",
            " [  0   0   0   0   0 944   0  38   1  17]\n",
            " [125   0  52  16  48   0 756   0   3   0]\n",
            " [  0   0   0   0   0   7   0 971   0  22]\n",
            " [ 10   0   0   2   5   1  27   4 951   0]\n",
            " [  0   0   0   0   0   7   1  38   0 954]]\n"
          ],
          "name": "stdout"
        },
        {
          "output_type": "display_data",
          "data": {
            "image/png": "[encoded data removed]",
            "text/plain": [
              "<Figure size 432x288 with 2 Axes>"
            ]
          },
          "metadata": {
            "tags": []
          }
        }
      ]
    },
    {
      "cell_type": "code",
      "metadata": {
        "id": "j06C97p7_sCj",
        "colab_type": "code",
        "colab": {}
      },
      "source": [
        "# Show Misclassified Example\n",
        "\n",
        "misclass = np.where(y_pred != y_test)\n"
      ],
      "execution_count": 0,
      "outputs": []
    }
  ]
}
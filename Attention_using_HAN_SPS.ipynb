{
  "nbformat": 4,
  "nbformat_minor": 0,
  "metadata": {
    "colab": {
      "name": "Attention_using_HAN-SPS.ipynb",
      "provenance": [],
      "collapsed_sections": []
    },
    "kernelspec": {
      "name": "python3",
      "display_name": "Python 3"
    },
    "accelerator": "GPU"
  },
  "cells": [
    {
      "cell_type": "code",
      "metadata": {
        "id": "xnr9r7mXE2e5",
        "colab_type": "code",
        "outputId": "1c7a725b-1347-4b6c-f088-bd16905462f1",
        "colab": {
          "base_uri": "https://localhost:8080/",
          "height": 33
        }
      },
      "source": [
        "# Mounting the Drive So as to share the Data\n",
        "from google.colab import drive\n",
        "drive.mount('/content/drive')"
      ],
      "execution_count": 4,
      "outputs": [
        {
          "output_type": "stream",
          "text": [
            "Drive already mounted at /content/drive; to attempt to forcibly remount, call drive.mount(\"/content/drive\", force_remount=True).\n"
          ],
          "name": "stdout"
        }
      ]
    },
    {
      "cell_type": "code",
      "metadata": {
        "id": "IDXyDczxqBki",
        "colab_type": "code",
        "colab": {}
      },
      "source": [
        "# Importing the Necessary Packages\n",
        "\n",
        "import pandas as pd\n",
        "import numpy as np\n",
        "from keras.preprocessing.text import Tokenizer,  text_to_word_sequence\n",
        "from keras.engine.topology import Layer\n",
        "from keras import initializers as initializers, regularizers, constraints\n",
        "from keras.callbacks import Callback, ModelCheckpoint\n",
        "from keras.utils.np_utils import to_categorical\n",
        "from keras.layers import Embedding, Input, Dense, LSTM, GRU, Bidirectional, TimeDistributed, Dropout\n",
        "from keras import backend as K\n",
        "from keras import optimizers\n",
        "from keras.models import Model\n",
        "import nltk\n",
        "import re\n",
        "import matplotlib.pyplot as plt\n",
        "import sys\n",
        "from sklearn.metrics import roc_auc_score\n",
        "from nltk import tokenize\n",
        "import seaborn as sns\n"
      ],
      "execution_count": 0,
      "outputs": []
    },
    {
      "cell_type": "code",
      "metadata": {
        "id": "JWfhbrLof8co",
        "colab_type": "code",
        "colab": {}
      },
      "source": [
        "# Attention Mechanism Definition code\n",
        "\n",
        "# Defining a Dot Product for Theano or Tensorflow as backend\n",
        "def dot_product(x, kernel):\n",
        "    \"\"\"\n",
        "    Wrapper for dot product operation, in order to be compatible with both\n",
        "    Theano and Tensorflow\n",
        "    Args:\n",
        "        x (): input\n",
        "        kernel (): weights\n",
        "    Returns:\n",
        "    \"\"\"\n",
        "    if K.backend() == 'tensorflow':\n",
        "        return K.squeeze(K.dot(x, K.expand_dims(kernel)), axis=-1)\n",
        "    else:\n",
        "        return K.dot(x, kernel)\n",
        "\n",
        "\n",
        "# Create Class AttentionWithContext based on Hierarchical Attention Networks for Document Classification Paper\n",
        "\n",
        "class AttentionWithContext(Layer):\n",
        "    \"\"\"\n",
        "    Attention operation, with a context/query vector, for temporal data.\n",
        "    Supports Masking.\n",
        "    Follows the work of Yang et al. [https://www.cs.cmu.edu/~diyiy/docs/naacl16.pdf]\n",
        "    \"Hierarchical Attention Networks for Document Classification\"\n",
        "    by using a context vector to assist the attention\n",
        "    # Input shape\n",
        "        3D tensor with shape: `(samples, steps, features)`.\n",
        "    # Output shape\n",
        "        2D tensor with shape: `(samples, features)`.\n",
        "    How to use:\n",
        "    Just put it on top of an RNN Layer (GRU/LSTM/SimpleRNN) with return_sequences=True.\n",
        "    The dimensions are inferred based on the output shape of the RNN.\n",
        "    Note: The layer has been tested with Keras 2.0.6\n",
        "    Example:\n",
        "        model.add(LSTM(64, return_sequences=True))\n",
        "        model.add(AttentionWithContext())\n",
        "        # next add a Dense layer (for classification/regression) or whatever...\n",
        "    \"\"\"\n",
        "\n",
        "    def __init__(self,\n",
        "                 W_regularizer=None, u_regularizer=None, b_regularizer=None,\n",
        "                 W_constraint=None, u_constraint=None, b_constraint=None,\n",
        "                 bias=True, **kwargs):\n",
        "\n",
        "        self.supports_masking = True\n",
        "        self.init = initializers.get('glorot_uniform')\n",
        "\n",
        "        self.W_regularizer = regularizers.get(W_regularizer)\n",
        "        self.u_regularizer = regularizers.get(u_regularizer)\n",
        "        self.b_regularizer = regularizers.get(b_regularizer)\n",
        "\n",
        "        self.W_constraint = constraints.get(W_constraint)\n",
        "        self.u_constraint = constraints.get(u_constraint)\n",
        "        self.b_constraint = constraints.get(b_constraint)\n",
        "\n",
        "        self.bias = bias\n",
        "        super(AttentionWithContext, self).__init__(**kwargs)\n",
        "\n",
        "    def build(self, input_shape):\n",
        "        assert len(input_shape) == 3\n",
        "\n",
        "        self.W = self.add_weight((input_shape[-1], input_shape[-1],),\n",
        "                                 initializer=self.init,\n",
        "                                 name='{}_W'.format(self.name),\n",
        "                                 regularizer=self.W_regularizer,\n",
        "                                 constraint=self.W_constraint)\n",
        "        if self.bias:\n",
        "            self.b = self.add_weight((input_shape[-1],),\n",
        "                                     initializer='zero',\n",
        "                                     name='{}_b'.format(self.name),\n",
        "                                     regularizer=self.b_regularizer,\n",
        "                                     constraint=self.b_constraint)\n",
        "\n",
        "        self.u = self.add_weight((input_shape[-1],),\n",
        "                                 initializer=self.init,\n",
        "                                 name='{}_u'.format(self.name),\n",
        "                                 regularizer=self.u_regularizer,\n",
        "                                 constraint=self.u_constraint)\n",
        "\n",
        "        super(AttentionWithContext, self).build(input_shape)\n",
        "\n",
        "    def compute_mask(self, input, input_mask=None):\n",
        "        # do not pass the mask to the next layers\n",
        "        return None\n",
        "\n",
        "    def call(self, x, mask=None):\n",
        "        uit = dot_product(x, self.W)\n",
        "\n",
        "        if self.bias:\n",
        "            uit += self.b\n",
        "\n",
        "        uit = K.tanh(uit)\n",
        "        ait = dot_product(uit, self.u)\n",
        "\n",
        "        a = K.exp(ait)\n",
        "\n",
        "        # apply mask after the exp. will be re-normalized next\n",
        "        if mask is not None:\n",
        "            # Cast the mask to floatX to avoid float64 upcasting in theano\n",
        "            a *= K.cast(mask, K.floatx())\n",
        "\n",
        "        # in some cases especially in the early stages of training the sum may be almost zero\n",
        "        # and this results in NaN's. A workaround is to add a very small positive number ε to the sum.\n",
        "        # a /= K.cast(K.sum(a, axis=1, keepdims=True), K.floatx())\n",
        "        a /= K.cast(K.sum(a, axis=1, keepdims=True) + K.epsilon(), K.floatx())\n",
        "\n",
        "        a = K.expand_dims(a)\n",
        "        weighted_input = x * a\n",
        "        return K.sum(weighted_input, axis=1)\n",
        "\n",
        "    def compute_output_shape(self, input_shape):\n",
        "        return input_shape[0], input_shape[-1]"
      ],
      "execution_count": 0,
      "outputs": []
    },
    {
      "cell_type": "code",
      "metadata": {
        "id": "8UbKJOXLgHEZ",
        "colab_type": "code",
        "colab": {}
      },
      "source": [
        "# Import libraries\n",
        "\n",
        "# We use shuffle function to randomize the sequence of items in a list\n",
        "from sklearn.utils import shuffle\n"
      ],
      "execution_count": 0,
      "outputs": []
    },
    {
      "cell_type": "code",
      "metadata": {
        "id": "TelNgWd9gcWU",
        "colab_type": "code",
        "outputId": "6a70e6a3-1aea-4c48-e6f8-640e4aad888b",
        "colab": {
          "base_uri": "https://localhost:8080/",
          "height": 33
        }
      },
      "source": [
        "'''\n",
        "# Import Data file to google Collab\n",
        "\n",
        "from google.colab import files\n",
        "\n",
        "upload = files.upload()\n",
        "'''"
      ],
      "execution_count": 8,
      "outputs": [
        {
          "output_type": "execute_result",
          "data": {
            "text/plain": [
              "'\\n# Import Data file to google Collab\\n\\nfrom google.colab import files\\n\\nupload = files.upload()\\n'"
            ]
          },
          "metadata": {
            "tags": []
          },
          "execution_count": 8
        }
      ]
    },
    {
      "cell_type": "code",
      "metadata": {
        "id": "TOFuc93morcH",
        "colab_type": "code",
        "colab": {}
      },
      "source": [
        "# Loading the Data from Drive mounted based on the 1st cell\n",
        "\n",
        "df = shuffle(pd.read_json('/content/drive/My Drive/SPS_Dt/News_Category_Dataset_v2.json', lines=True)).reset_index()"
      ],
      "execution_count": 0,
      "outputs": []
    },
    {
      "cell_type": "code",
      "metadata": {
        "id": "m3hq9K-7o1qV",
        "colab_type": "code",
        "outputId": "e2415026-2806-431e-9da5-ecdc454d9c0f",
        "colab": {
          "base_uri": "https://localhost:8080/",
          "height": 272
        }
      },
      "source": [
        "# Check first 5 Rows of the Dataframe\n",
        "df.head()"
      ],
      "execution_count": 10,
      "outputs": [
        {
          "output_type": "execute_result",
          "data": {
            "text/html": [
              "<div>\n",
              "<style scoped>\n",
              "    .dataframe tbody tr th:only-of-type {\n",
              "        vertical-align: middle;\n",
              "    }\n",
              "\n",
              "    .dataframe tbody tr th {\n",
              "        vertical-align: top;\n",
              "    }\n",
              "\n",
              "    .dataframe thead th {\n",
              "        text-align: right;\n",
              "    }\n",
              "</style>\n",
              "<table border=\"1\" class=\"dataframe\">\n",
              "  <thead>\n",
              "    <tr style=\"text-align: right;\">\n",
              "      <th></th>\n",
              "      <th>index</th>\n",
              "      <th>category</th>\n",
              "      <th>headline</th>\n",
              "      <th>authors</th>\n",
              "      <th>link</th>\n",
              "      <th>short_description</th>\n",
              "      <th>date</th>\n",
              "    </tr>\n",
              "  </thead>\n",
              "  <tbody>\n",
              "    <tr>\n",
              "      <th>0</th>\n",
              "      <td>198841</td>\n",
              "      <td>TECH</td>\n",
              "      <td>Facebook Phone Loses Out To Amazon Phone, Cust...</td>\n",
              "      <td>Courteney Palis</td>\n",
              "      <td>https://www.huffingtonpost.com/entry/facebook-...</td>\n",
              "      <td>For Amazon, on the other hand, well, this migh...</td>\n",
              "      <td>2012-02-19</td>\n",
              "    </tr>\n",
              "    <tr>\n",
              "      <th>1</th>\n",
              "      <td>50213</td>\n",
              "      <td>POLITICS</td>\n",
              "      <td>Donald Trump Campaign, Republican Groups Targe...</td>\n",
              "      <td></td>\n",
              "      <td>https://www.huffingtonpost.com/entry/hackers-t...</td>\n",
              "      <td>The report follows the hack of Democrat groups.</td>\n",
              "      <td>2016-08-19</td>\n",
              "    </tr>\n",
              "    <tr>\n",
              "      <th>2</th>\n",
              "      <td>141904</td>\n",
              "      <td>CULTURE &amp; ARTS</td>\n",
              "      <td>14 New, Must-See Public Artworks Across the Globe</td>\n",
              "      <td>ARTINFO, Contributor\\nThe online authority for...</td>\n",
              "      <td>https://www.huffingtonpost.com/entry/must-see-...</td>\n",
              "      <td>On the eve of her 100th birthday (November 21)...</td>\n",
              "      <td>2013-10-19</td>\n",
              "    </tr>\n",
              "    <tr>\n",
              "      <th>3</th>\n",
              "      <td>63453</td>\n",
              "      <td>PARENTS</td>\n",
              "      <td>New York Zika Plan Will Include 'Protection Ki...</td>\n",
              "      <td>Rachael Rettner, Live Science</td>\n",
              "      <td>https://www.huffingtonpost.com/entry/new-york-...</td>\n",
              "      <td>New York state officials have announced a new ...</td>\n",
              "      <td>2016-03-22</td>\n",
              "    </tr>\n",
              "    <tr>\n",
              "      <th>4</th>\n",
              "      <td>199230</td>\n",
              "      <td>TRAVEL</td>\n",
              "      <td>Top 10 Best Hotel Bathtubs (PHOTOS)</td>\n",
              "      <td>Tablet, Contributor\\nContributor</td>\n",
              "      <td>https://www.huffingtonpost.com/entry/top-10-be...</td>\n",
              "      <td>We've all got our own particular requisites wh...</td>\n",
              "      <td>2012-02-14</td>\n",
              "    </tr>\n",
              "  </tbody>\n",
              "</table>\n",
              "</div>"
            ],
            "text/plain": [
              "    index  ...       date\n",
              "0  198841  ... 2012-02-19\n",
              "1   50213  ... 2016-08-19\n",
              "2  141904  ... 2013-10-19\n",
              "3   63453  ... 2016-03-22\n",
              "4  199230  ... 2012-02-14\n",
              "\n",
              "[5 rows x 7 columns]"
            ]
          },
          "metadata": {
            "tags": []
          },
          "execution_count": 10
        }
      ]
    },
    {
      "cell_type": "code",
      "metadata": {
        "id": "q5MNTUU-o3Lm",
        "colab_type": "code",
        "outputId": "b039b5a2-b911-49a5-86d4-fd8cd710a97c",
        "colab": {
          "base_uri": "https://localhost:8080/",
          "height": 272
        }
      },
      "source": [
        "# Check Last 5 Rows of the Dataframe\n",
        "df.tail()"
      ],
      "execution_count": 11,
      "outputs": [
        {
          "output_type": "execute_result",
          "data": {
            "text/html": [
              "<div>\n",
              "<style scoped>\n",
              "    .dataframe tbody tr th:only-of-type {\n",
              "        vertical-align: middle;\n",
              "    }\n",
              "\n",
              "    .dataframe tbody tr th {\n",
              "        vertical-align: top;\n",
              "    }\n",
              "\n",
              "    .dataframe thead th {\n",
              "        text-align: right;\n",
              "    }\n",
              "</style>\n",
              "<table border=\"1\" class=\"dataframe\">\n",
              "  <thead>\n",
              "    <tr style=\"text-align: right;\">\n",
              "      <th></th>\n",
              "      <th>index</th>\n",
              "      <th>category</th>\n",
              "      <th>headline</th>\n",
              "      <th>authors</th>\n",
              "      <th>link</th>\n",
              "      <th>short_description</th>\n",
              "      <th>date</th>\n",
              "    </tr>\n",
              "  </thead>\n",
              "  <tbody>\n",
              "    <tr>\n",
              "      <th>200848</th>\n",
              "      <td>44764</td>\n",
              "      <td>POLITICS</td>\n",
              "      <td>Tim Kaine Says Trump Refusing To Concede The E...</td>\n",
              "      <td>Jeffrey Young</td>\n",
              "      <td>https://www.huffingtonpost.com/entry/tim-kaine...</td>\n",
              "      <td>“We’re confident in the American public that t...</td>\n",
              "      <td>2016-10-20</td>\n",
              "    </tr>\n",
              "    <tr>\n",
              "      <th>200849</th>\n",
              "      <td>117885</td>\n",
              "      <td>WOMEN</td>\n",
              "      <td>On Being a 'Badass' in Business: Tagging Smart...</td>\n",
              "      <td>Kim Harris, ContributorChief Visionary Officer...</td>\n",
              "      <td>https://www.huffingtonpost.com/entry/on-being-...</td>\n",
              "      <td>Smart women entrepreneurs usually achieve high...</td>\n",
              "      <td>2014-07-10</td>\n",
              "    </tr>\n",
              "    <tr>\n",
              "      <th>200850</th>\n",
              "      <td>193913</td>\n",
              "      <td>WELLNESS</td>\n",
              "      <td>Got Allergies? Natural Ways To Ease Skin Problems</td>\n",
              "      <td></td>\n",
              "      <td>https://www.huffingtonpost.com/entry/allergies...</td>\n",
              "      <td>Puffy eyes, a red, runny nose -- allergy sympt...</td>\n",
              "      <td>2012-04-12</td>\n",
              "    </tr>\n",
              "    <tr>\n",
              "      <th>200851</th>\n",
              "      <td>29938</td>\n",
              "      <td>ENTERTAINMENT</td>\n",
              "      <td>Joan Baez Tears Into 'Future Dictator' Donald ...</td>\n",
              "      <td>Lee Moran</td>\n",
              "      <td>https://www.huffingtonpost.com/entry/joan-baez...</td>\n",
              "      <td>\"You better talk to a shrink because you’ve go...</td>\n",
              "      <td>2017-04-07</td>\n",
              "    </tr>\n",
              "    <tr>\n",
              "      <th>200852</th>\n",
              "      <td>96658</td>\n",
              "      <td>BUSINESS</td>\n",
              "      <td>The Growing Importance of Managers in Employee...</td>\n",
              "      <td>Gail S. Thornton, ContributorCommunications pr...</td>\n",
              "      <td>https://www.huffingtonpost.com/entry/the-growi...</td>\n",
              "      <td>Long overlooked, or at least given a lower pri...</td>\n",
              "      <td>2015-03-10</td>\n",
              "    </tr>\n",
              "  </tbody>\n",
              "</table>\n",
              "</div>"
            ],
            "text/plain": [
              "         index  ...       date\n",
              "200848   44764  ... 2016-10-20\n",
              "200849  117885  ... 2014-07-10\n",
              "200850  193913  ... 2012-04-12\n",
              "200851   29938  ... 2017-04-07\n",
              "200852   96658  ... 2015-03-10\n",
              "\n",
              "[5 rows x 7 columns]"
            ]
          },
          "metadata": {
            "tags": []
          },
          "execution_count": 11
        }
      ]
    },
    {
      "cell_type": "code",
      "metadata": {
        "id": "RPGAw4Ito4PF",
        "colab_type": "code",
        "outputId": "050ffdc0-0993-4e04-933f-70f98619f06c",
        "colab": {
          "base_uri": "https://localhost:8080/",
          "height": 700
        }
      },
      "source": [
        "# Check how the Target variable is distributed\n",
        "df.category.value_counts()"
      ],
      "execution_count": 12,
      "outputs": [
        {
          "output_type": "execute_result",
          "data": {
            "text/plain": [
              "POLITICS          32739\n",
              "WELLNESS          17827\n",
              "ENTERTAINMENT     16058\n",
              "TRAVEL             9887\n",
              "STYLE & BEAUTY     9649\n",
              "PARENTING          8677\n",
              "HEALTHY LIVING     6694\n",
              "QUEER VOICES       6314\n",
              "FOOD & DRINK       6226\n",
              "BUSINESS           5937\n",
              "COMEDY             5175\n",
              "SPORTS             4884\n",
              "BLACK VOICES       4528\n",
              "HOME & LIVING      4195\n",
              "PARENTS            3955\n",
              "THE WORLDPOST      3664\n",
              "WEDDINGS           3651\n",
              "WOMEN              3490\n",
              "IMPACT             3459\n",
              "DIVORCE            3426\n",
              "CRIME              3405\n",
              "MEDIA              2815\n",
              "WEIRD NEWS         2670\n",
              "GREEN              2622\n",
              "WORLDPOST          2579\n",
              "RELIGION           2556\n",
              "STYLE              2254\n",
              "SCIENCE            2178\n",
              "WORLD NEWS         2177\n",
              "TASTE              2096\n",
              "TECH               2082\n",
              "MONEY              1707\n",
              "ARTS               1509\n",
              "FIFTY              1401\n",
              "GOOD NEWS          1398\n",
              "ARTS & CULTURE     1339\n",
              "ENVIRONMENT        1323\n",
              "COLLEGE            1144\n",
              "LATINO VOICES      1129\n",
              "CULTURE & ARTS     1030\n",
              "EDUCATION          1004\n",
              "Name: category, dtype: int64"
            ]
          },
          "metadata": {
            "tags": []
          },
          "execution_count": 12
        }
      ]
    },
    {
      "cell_type": "code",
      "metadata": {
        "id": "1Dqnna4_o8zV",
        "colab_type": "code",
        "outputId": "cf581e95-04ed-4f38-f218-17fe5eb17edc",
        "colab": {
          "base_uri": "https://localhost:8080/",
          "height": 33
        }
      },
      "source": [
        "# Check the Rows and Columns of the dataset\n",
        "df.shape"
      ],
      "execution_count": 13,
      "outputs": [
        {
          "output_type": "execute_result",
          "data": {
            "text/plain": [
              "(200853, 7)"
            ]
          },
          "metadata": {
            "tags": []
          },
          "execution_count": 13
        }
      ]
    },
    {
      "cell_type": "code",
      "metadata": {
        "id": "pPf2PXrAo_JF",
        "colab_type": "code",
        "outputId": "dc75b491-c425-41a7-888a-f6c37ea7e60b",
        "colab": {
          "base_uri": "https://localhost:8080/",
          "height": 33
        }
      },
      "source": [
        "# Check the no of unique Test occurance, Multiclass problem\n",
        "df.category.nunique()"
      ],
      "execution_count": 14,
      "outputs": [
        {
          "output_type": "execute_result",
          "data": {
            "text/plain": [
              "41"
            ]
          },
          "metadata": {
            "tags": []
          },
          "execution_count": 14
        }
      ]
    },
    {
      "cell_type": "code",
      "metadata": {
        "id": "eO7KG0N5patV",
        "colab_type": "code",
        "colab": {}
      },
      "source": [
        "# Create a Column through Feature Engineering, which combines Headline and Short Desctiption\n",
        "# Change as per the Response\n",
        "\n",
        "df[\"Context\"] = df[\"headline\"].map(str) + '. ' +df[\"short_description\"]"
      ],
      "execution_count": 0,
      "outputs": []
    },
    {
      "cell_type": "code",
      "metadata": {
        "id": "WxEPgEZ0qp4Y",
        "colab_type": "code",
        "outputId": "200a8681-4873-42f3-d685-f5449dfb3507",
        "colab": {
          "base_uri": "https://localhost:8080/",
          "height": 272
        }
      },
      "source": [
        "# Validation\n",
        "df.head()"
      ],
      "execution_count": 16,
      "outputs": [
        {
          "output_type": "execute_result",
          "data": {
            "text/html": [
              "<div>\n",
              "<style scoped>\n",
              "    .dataframe tbody tr th:only-of-type {\n",
              "        vertical-align: middle;\n",
              "    }\n",
              "\n",
              "    .dataframe tbody tr th {\n",
              "        vertical-align: top;\n",
              "    }\n",
              "\n",
              "    .dataframe thead th {\n",
              "        text-align: right;\n",
              "    }\n",
              "</style>\n",
              "<table border=\"1\" class=\"dataframe\">\n",
              "  <thead>\n",
              "    <tr style=\"text-align: right;\">\n",
              "      <th></th>\n",
              "      <th>index</th>\n",
              "      <th>category</th>\n",
              "      <th>headline</th>\n",
              "      <th>authors</th>\n",
              "      <th>link</th>\n",
              "      <th>short_description</th>\n",
              "      <th>date</th>\n",
              "      <th>Context</th>\n",
              "    </tr>\n",
              "  </thead>\n",
              "  <tbody>\n",
              "    <tr>\n",
              "      <th>0</th>\n",
              "      <td>198841</td>\n",
              "      <td>TECH</td>\n",
              "      <td>Facebook Phone Loses Out To Amazon Phone, Cust...</td>\n",
              "      <td>Courteney Palis</td>\n",
              "      <td>https://www.huffingtonpost.com/entry/facebook-...</td>\n",
              "      <td>For Amazon, on the other hand, well, this migh...</td>\n",
              "      <td>2012-02-19</td>\n",
              "      <td>Facebook Phone Loses Out To Amazon Phone, Cust...</td>\n",
              "    </tr>\n",
              "    <tr>\n",
              "      <th>1</th>\n",
              "      <td>50213</td>\n",
              "      <td>POLITICS</td>\n",
              "      <td>Donald Trump Campaign, Republican Groups Targe...</td>\n",
              "      <td></td>\n",
              "      <td>https://www.huffingtonpost.com/entry/hackers-t...</td>\n",
              "      <td>The report follows the hack of Democrat groups.</td>\n",
              "      <td>2016-08-19</td>\n",
              "      <td>Donald Trump Campaign, Republican Groups Targe...</td>\n",
              "    </tr>\n",
              "    <tr>\n",
              "      <th>2</th>\n",
              "      <td>141904</td>\n",
              "      <td>CULTURE &amp; ARTS</td>\n",
              "      <td>14 New, Must-See Public Artworks Across the Globe</td>\n",
              "      <td>ARTINFO, Contributor\\nThe online authority for...</td>\n",
              "      <td>https://www.huffingtonpost.com/entry/must-see-...</td>\n",
              "      <td>On the eve of her 100th birthday (November 21)...</td>\n",
              "      <td>2013-10-19</td>\n",
              "      <td>14 New, Must-See Public Artworks Across the Gl...</td>\n",
              "    </tr>\n",
              "    <tr>\n",
              "      <th>3</th>\n",
              "      <td>63453</td>\n",
              "      <td>PARENTS</td>\n",
              "      <td>New York Zika Plan Will Include 'Protection Ki...</td>\n",
              "      <td>Rachael Rettner, Live Science</td>\n",
              "      <td>https://www.huffingtonpost.com/entry/new-york-...</td>\n",
              "      <td>New York state officials have announced a new ...</td>\n",
              "      <td>2016-03-22</td>\n",
              "      <td>New York Zika Plan Will Include 'Protection Ki...</td>\n",
              "    </tr>\n",
              "    <tr>\n",
              "      <th>4</th>\n",
              "      <td>199230</td>\n",
              "      <td>TRAVEL</td>\n",
              "      <td>Top 10 Best Hotel Bathtubs (PHOTOS)</td>\n",
              "      <td>Tablet, Contributor\\nContributor</td>\n",
              "      <td>https://www.huffingtonpost.com/entry/top-10-be...</td>\n",
              "      <td>We've all got our own particular requisites wh...</td>\n",
              "      <td>2012-02-14</td>\n",
              "      <td>Top 10 Best Hotel Bathtubs (PHOTOS). We've all...</td>\n",
              "    </tr>\n",
              "  </tbody>\n",
              "</table>\n",
              "</div>"
            ],
            "text/plain": [
              "    index  ...                                            Context\n",
              "0  198841  ...  Facebook Phone Loses Out To Amazon Phone, Cust...\n",
              "1   50213  ...  Donald Trump Campaign, Republican Groups Targe...\n",
              "2  141904  ...  14 New, Must-See Public Artworks Across the Gl...\n",
              "3   63453  ...  New York Zika Plan Will Include 'Protection Ki...\n",
              "4  199230  ...  Top 10 Best Hotel Bathtubs (PHOTOS). We've all...\n",
              "\n",
              "[5 rows x 8 columns]"
            ]
          },
          "metadata": {
            "tags": []
          },
          "execution_count": 16
        }
      ]
    },
    {
      "cell_type": "code",
      "metadata": {
        "id": "fd_lKM-mqsIV",
        "colab_type": "code",
        "colab": {}
      },
      "source": [
        "# Choosing Context and Category Column from the Dataframe\n",
        "df = df[['Context', 'category']]"
      ],
      "execution_count": 0,
      "outputs": []
    },
    {
      "cell_type": "code",
      "metadata": {
        "id": "udeAXPJrrEWc",
        "colab_type": "code",
        "outputId": "c498289f-3636-4714-f590-96fa5cbdb5cd",
        "colab": {
          "base_uri": "https://localhost:8080/",
          "height": 335
        }
      },
      "source": [
        "# Check the last 10 df rows\n",
        "df.tail(10)"
      ],
      "execution_count": 18,
      "outputs": [
        {
          "output_type": "execute_result",
          "data": {
            "text/html": [
              "<div>\n",
              "<style scoped>\n",
              "    .dataframe tbody tr th:only-of-type {\n",
              "        vertical-align: middle;\n",
              "    }\n",
              "\n",
              "    .dataframe tbody tr th {\n",
              "        vertical-align: top;\n",
              "    }\n",
              "\n",
              "    .dataframe thead th {\n",
              "        text-align: right;\n",
              "    }\n",
              "</style>\n",
              "<table border=\"1\" class=\"dataframe\">\n",
              "  <thead>\n",
              "    <tr style=\"text-align: right;\">\n",
              "      <th></th>\n",
              "      <th>Context</th>\n",
              "      <th>category</th>\n",
              "    </tr>\n",
              "  </thead>\n",
              "  <tbody>\n",
              "    <tr>\n",
              "      <th>200843</th>\n",
              "      <td>Price Difference Between These Near-Identical ...</td>\n",
              "      <td>STYLE</td>\n",
              "    </tr>\n",
              "    <tr>\n",
              "      <th>200844</th>\n",
              "      <td>The Best Way To Use Leftover Rice. Just call i...</td>\n",
              "      <td>TRAVEL</td>\n",
              "    </tr>\n",
              "    <tr>\n",
              "      <th>200845</th>\n",
              "      <td>Silence on Black Female Victims Weakens Fight ...</td>\n",
              "      <td>BLACK VOICES</td>\n",
              "    </tr>\n",
              "    <tr>\n",
              "      <th>200846</th>\n",
              "      <td>A Parent's Predicament: Does Winning at Work M...</td>\n",
              "      <td>PARENTING</td>\n",
              "    </tr>\n",
              "    <tr>\n",
              "      <th>200847</th>\n",
              "      <td>Immigrant Children Accuse Border Patrol Of Abu...</td>\n",
              "      <td>POLITICS</td>\n",
              "    </tr>\n",
              "    <tr>\n",
              "      <th>200848</th>\n",
              "      <td>Tim Kaine Says Trump Refusing To Concede The E...</td>\n",
              "      <td>POLITICS</td>\n",
              "    </tr>\n",
              "    <tr>\n",
              "      <th>200849</th>\n",
              "      <td>On Being a 'Badass' in Business: Tagging Smart...</td>\n",
              "      <td>WOMEN</td>\n",
              "    </tr>\n",
              "    <tr>\n",
              "      <th>200850</th>\n",
              "      <td>Got Allergies? Natural Ways To Ease Skin Probl...</td>\n",
              "      <td>WELLNESS</td>\n",
              "    </tr>\n",
              "    <tr>\n",
              "      <th>200851</th>\n",
              "      <td>Joan Baez Tears Into 'Future Dictator' Donald ...</td>\n",
              "      <td>ENTERTAINMENT</td>\n",
              "    </tr>\n",
              "    <tr>\n",
              "      <th>200852</th>\n",
              "      <td>The Growing Importance of Managers in Employee...</td>\n",
              "      <td>BUSINESS</td>\n",
              "    </tr>\n",
              "  </tbody>\n",
              "</table>\n",
              "</div>"
            ],
            "text/plain": [
              "                                                  Context       category\n",
              "200843  Price Difference Between These Near-Identical ...          STYLE\n",
              "200844  The Best Way To Use Leftover Rice. Just call i...         TRAVEL\n",
              "200845  Silence on Black Female Victims Weakens Fight ...   BLACK VOICES\n",
              "200846  A Parent's Predicament: Does Winning at Work M...      PARENTING\n",
              "200847  Immigrant Children Accuse Border Patrol Of Abu...       POLITICS\n",
              "200848  Tim Kaine Says Trump Refusing To Concede The E...       POLITICS\n",
              "200849  On Being a 'Badass' in Business: Tagging Smart...          WOMEN\n",
              "200850  Got Allergies? Natural Ways To Ease Skin Probl...       WELLNESS\n",
              "200851  Joan Baez Tears Into 'Future Dictator' Donald ...  ENTERTAINMENT\n",
              "200852  The Growing Importance of Managers in Employee...       BUSINESS"
            ]
          },
          "metadata": {
            "tags": []
          },
          "execution_count": 18
        }
      ]
    },
    {
      "cell_type": "code",
      "metadata": {
        "id": "6B6tkrZ7rtQ1",
        "colab_type": "code",
        "outputId": "466355fb-6fb3-4e06-fca4-379a3e68cce4",
        "colab": {
          "base_uri": "https://localhost:8080/",
          "height": 66
        }
      },
      "source": [
        "# Check for any Missing Values\n",
        "df.isna().sum()"
      ],
      "execution_count": 19,
      "outputs": [
        {
          "output_type": "execute_result",
          "data": {
            "text/plain": [
              "Context     0\n",
              "category    0\n",
              "dtype: int64"
            ]
          },
          "metadata": {
            "tags": []
          },
          "execution_count": 19
        }
      ]
    },
    {
      "cell_type": "code",
      "metadata": {
        "id": "CX5ZOwfwsJFF",
        "colab_type": "code",
        "outputId": "076f100c-f0d3-4280-dffb-0365700b40e4",
        "colab": {
          "base_uri": "https://localhost:8080/",
          "height": 131
        }
      },
      "source": [
        "# Check the info of the Trainable Dataframe\n",
        "df.info()"
      ],
      "execution_count": 20,
      "outputs": [
        {
          "output_type": "stream",
          "text": [
            "<class 'pandas.core.frame.DataFrame'>\n",
            "RangeIndex: 200853 entries, 0 to 200852\n",
            "Data columns (total 2 columns):\n",
            "Context     200853 non-null object\n",
            "category    200853 non-null object\n",
            "dtypes: object(2)\n",
            "memory usage: 3.1+ MB\n"
          ],
          "name": "stdout"
        }
      ]
    },
    {
      "cell_type": "code",
      "metadata": {
        "id": "zIy9f9O1sPbE",
        "colab_type": "code",
        "colab": {}
      },
      "source": [
        "# Defining a Text cleaning function to remove strings of \"'\\\n",
        "\n",
        "import re\n",
        "def clean_str(string):\n",
        "    string = re.sub(r\"\\\\\", \"\", string)    \n",
        "    string = re.sub(r\"\\'\", \"\", string)    \n",
        "    string = re.sub(r\"\\\"\", \"\", string)    \n",
        "    return string.strip().lower()"
      ],
      "execution_count": 0,
      "outputs": []
    },
    {
      "cell_type": "code",
      "metadata": {
        "id": "YW7EKuoqs05S",
        "colab_type": "code",
        "outputId": "52f9212f-edb8-4c41-f284-6e21df44daac",
        "colab": {
          "base_uri": "https://localhost:8080/",
          "height": 66
        }
      },
      "source": [
        "# Use NLTK\n",
        "\n",
        "import nltk\n",
        "nltk.download('punkt')\n",
        "# Plunkt tokenizer divides a text into a list of sentences, by using an unsupervised algorithm to build a model for abbreviation words, collocations, and words that start sentences"
      ],
      "execution_count": 22,
      "outputs": [
        {
          "output_type": "stream",
          "text": [
            "[nltk_data] Downloading package punkt to /root/nltk_data...\n",
            "[nltk_data]   Unzipping tokenizers/punkt.zip.\n"
          ],
          "name": "stdout"
        },
        {
          "output_type": "execute_result",
          "data": {
            "text/plain": [
              "True"
            ]
          },
          "metadata": {
            "tags": []
          },
          "execution_count": 22
        }
      ]
    },
    {
      "cell_type": "code",
      "metadata": {
        "id": "iAjjci3bsYtV",
        "colab_type": "code",
        "colab": {}
      },
      "source": [
        "# Performing Tokenisation based on sentence and word\n",
        "\n",
        "paras = [] \n",
        "labels = []\n",
        "texts = []\n",
        "sent_lens = []\n",
        "sent_nums = []\n",
        "\n",
        "# Loop through all indexes in df.Context rows and clean/tokenise it\n",
        "for idx in range(df.Context.shape[0]):\n",
        "    text = clean_str(df.Context[idx])\n",
        "    texts.append(text)\n",
        "    sentences = tokenize.sent_tokenize(text)\n",
        "    sent_nums.append(len(sentences))\n",
        "    for sent in sentences:\n",
        "        sent_lens.append(len(text_to_word_sequence(sent)))\n",
        "    paras.append(sentences)\n"
      ],
      "execution_count": 0,
      "outputs": []
    },
    {
      "cell_type": "code",
      "metadata": {
        "id": "yTo8mO1cshHF",
        "colab_type": "code",
        "outputId": "01fa6922-e4ee-4ae1-8297-0bf94fa530ad",
        "colab": {
          "base_uri": "https://localhost:8080/",
          "height": 456
        }
      },
      "source": [
        "# Check for Lists with list of sentences in a record\n",
        "paras[:10]"
      ],
      "execution_count": 24,
      "outputs": [
        {
          "output_type": "execute_result",
          "data": {
            "text/plain": [
              "[['facebook phone loses out to amazon phone, customer survey says.',\n",
              "  'for amazon, on the other hand, well, this might be the perfect time to take advantage.',\n",
              "  'according to paidcontent, its likely'],\n",
              " ['donald trump campaign, republican groups targeted by hackers: report.',\n",
              "  'the report follows the hack of democrat groups.'],\n",
              " ['14 new, must-see public artworks across the globe.',\n",
              "  'on the eve of her 100th birthday (november 21), the renowned japan-born brazil-based artist tomie ohtake just launched a'],\n",
              " ['new york zika plan will include protection kits for pregnant women.',\n",
              "  'new york state officials have announced a new plan aimed at preventing the transmission of the mosquito-borne zika virus'],\n",
              " ['top 10 best hotel bathtubs (photos).',\n",
              "  'weve all got our own particular requisites when choosing a hotel room.',\n",
              "  'surely, though, we can all agree that when it comes to little things with a big impact, the bathtub reigns supreme.'],\n",
              " ['heres bostons plan to end chronic veteran homelessness by the end of the year.',\n",
              "  'the city has housed 484 veterans since july 2014.'],\n",
              " ['9 thanksgiving lessons i learned from cancer.',\n",
              "  'they say it takes a village to raise a child.',\n",
              "  'id say that when someone in the village gets cancer, it affects the entire village.',\n",
              "  'it affects everyone we hold dear.',\n",
              "  'life is precious.'],\n",
              " ['bill cosby and his enablers.',\n",
              "  'even victims of discrimination can look away from—and thereby enable—other forms of violence.'],\n",
              " ['home.',\n",
              "  'wheres that?.',\n",
              "  'i may miss out on having an easy answer when someone asks me where im from, but i feel blessed to have enough places that fill me with happiness to make me struggle with the question.'],\n",
              " ['ill admit it, motherhood has made me high maintenance.',\n",
              "  'marisa siegel wrote the other day about scheduling her pregnancy around a destination wedding and a tattoo.',\n",
              "  'before i had']]"
            ]
          },
          "metadata": {
            "tags": []
          },
          "execution_count": 24
        }
      ]
    },
    {
      "cell_type": "code",
      "metadata": {
        "id": "7vyNzYAytqQj",
        "colab_type": "code",
        "outputId": "04fd9b32-e360-4ebe-a556-03bd13caa7fc",
        "colab": {
          "base_uri": "https://localhost:8080/",
          "height": 200
        }
      },
      "source": [
        "# Check for Lists containing all sentence in a record\n",
        "texts[:10]"
      ],
      "execution_count": 25,
      "outputs": [
        {
          "output_type": "execute_result",
          "data": {
            "text/plain": [
              "['facebook phone loses out to amazon phone, customer survey says. for amazon, on the other hand, well, this might be the perfect time to take advantage. according to paidcontent, its likely',\n",
              " 'donald trump campaign, republican groups targeted by hackers: report. the report follows the hack of democrat groups.',\n",
              " '14 new, must-see public artworks across the globe. on the eve of her 100th birthday (november 21), the renowned japan-born brazil-based artist tomie ohtake just launched a',\n",
              " 'new york zika plan will include protection kits for pregnant women. new york state officials have announced a new plan aimed at preventing the transmission of the mosquito-borne zika virus',\n",
              " 'top 10 best hotel bathtubs (photos). weve all got our own particular requisites when choosing a hotel room. surely, though, we can all agree that when it comes to little things with a big impact, the bathtub reigns supreme.',\n",
              " 'heres bostons plan to end chronic veteran homelessness by the end of the year. the city has housed 484 veterans since july 2014.',\n",
              " '9 thanksgiving lessons i learned from cancer. they say it takes a village to raise a child. id say that when someone in the village gets cancer, it affects the entire village. it affects everyone we hold dear. life is precious.',\n",
              " 'bill cosby and his enablers. even victims of discrimination can look away from—and thereby enable—other forms of violence.',\n",
              " 'home.  wheres that?. i may miss out on having an easy answer when someone asks me where im from, but i feel blessed to have enough places that fill me with happiness to make me struggle with the question.',\n",
              " 'ill admit it, motherhood has made me high maintenance. marisa siegel wrote the other day about scheduling her pregnancy around a destination wedding and a tattoo. before i had']"
            ]
          },
          "metadata": {
            "tags": []
          },
          "execution_count": 25
        }
      ]
    },
    {
      "cell_type": "code",
      "metadata": {
        "id": "QUCDsDuGt674",
        "colab_type": "code",
        "outputId": "3821799a-a9e2-4bad-c953-e84e1996db18",
        "colab": {
          "base_uri": "https://localhost:8080/",
          "height": 33
        }
      },
      "source": [
        "# Check for Lists\n",
        "sent_lens[:10]"
      ],
      "execution_count": 26,
      "outputs": [
        {
          "output_type": "execute_result",
          "data": {
            "text/plain": [
              "[10, 16, 5, 9, 8, 9, 21, 11, 20, 6]"
            ]
          },
          "metadata": {
            "tags": []
          },
          "execution_count": 26
        }
      ]
    },
    {
      "cell_type": "code",
      "metadata": {
        "id": "k8pgXyFUuBNi",
        "colab_type": "code",
        "outputId": "92a3dce3-99da-463b-cbfe-2890f901181b",
        "colab": {
          "base_uri": "https://localhost:8080/",
          "height": 265
        }
      },
      "source": [
        "# Check the Distribution of Sentence Lengths \n",
        "\n",
        "sns.distplot(sent_lens, bins=75)\n",
        "plt.show()"
      ],
      "execution_count": 27,
      "outputs": [
        {
          "output_type": "display_data",
          "data": {
            "image/png": "[encoded data removed]",
            "text/plain": [
              "<Figure size 432x288 with 1 Axes>"
            ]
          },
          "metadata": {
            "tags": []
          }
        }
      ]
    },
    {
      "cell_type": "code",
      "metadata": {
        "id": "4QxcXZucuG7V",
        "colab_type": "code",
        "outputId": "e2ddc2e1-877f-439a-e2c7-9799c2c2462f",
        "colab": {
          "base_uri": "https://localhost:8080/",
          "height": 265
        }
      },
      "source": [
        "# Check the Distribution of Sentence Numbers for each Observation/Record\n",
        "\n",
        "sns.distplot(sent_nums)\n",
        "plt.show()\n"
      ],
      "execution_count": 28,
      "outputs": [
        {
          "output_type": "display_data",
          "data": {
            "image/png": "[encoded data removed]",
            "text/plain": [
              "<Figure size 432x288 with 1 Axes>"
            ]
          },
          "metadata": {
            "tags": []
          }
        }
      ]
    },
    {
      "cell_type": "code",
      "metadata": {
        "id": "IDnUEYJ8Ma1a",
        "colab_type": "code",
        "colab": {}
      },
      "source": [
        "# Configuring Model for Training. This Can be Tuned (Hyperparameter Tuning) to produce good results. Can optimize based on Trial and Error\n",
        "\n",
        "max_features=200000\n",
        "max_senten_len=40\n",
        "max_senten_num=6\n",
        "embed_size=100 # We need to download glove 100d for this\n",
        "VALIDATION_SPLIT = 0.2 # 20% validation\n"
      ],
      "execution_count": 0,
      "outputs": []
    },
    {
      "cell_type": "code",
      "metadata": {
        "id": "rWFowYn1ub2R",
        "colab_type": "code",
        "colab": {}
      },
      "source": [
        "# Tokenizer for tokenizing the text sentences\n",
        "tokenizer = Tokenizer(num_words=max_features, oov_token=True)\n",
        "tokenizer.fit_on_texts(texts)"
      ],
      "execution_count": 0,
      "outputs": []
    },
    {
      "cell_type": "code",
      "metadata": {
        "id": "niminpX0uy0w",
        "colab_type": "code",
        "outputId": "22209e49-1c24-4b5d-b006-16f0bc2099f7",
        "colab": {
          "base_uri": "https://localhost:8080/",
          "height": 131
        }
      },
      "source": [
        "# Tokenize words and sentence to list of array so that ,achine predicts based on it\n",
        "\n",
        "data = np.zeros((len(texts), max_senten_num, max_senten_len), dtype='int32')\n",
        "for i, sentences in enumerate(paras):\n",
        "    for j, sent in enumerate(sentences):\n",
        "        if j< max_senten_num:\n",
        "            wordTokens = text_to_word_sequence(sent)\n",
        "            k=0\n",
        "            for _, word in enumerate(wordTokens):\n",
        "                try:\n",
        "                    if k<max_senten_len and tokenizer.word_index[word]<max_features:\n",
        "                        data[i,j,k] = tokenizer.word_index[word]\n",
        "                        k=k+1\n",
        "                except:\n",
        "                    print(word)\n",
        "                    pass\n"
      ],
      "execution_count": 31,
      "outputs": [
        {
          "output_type": "stream",
          "text": [
            "and its\n",
            "but if\n",
            "gratisography\n",
            "bob mcdonnell\n",
            "— david\n",
            "the hamilton creator\n",
            "at johansson\n"
          ],
          "name": "stdout"
        }
      ]
    },
    {
      "cell_type": "code",
      "metadata": {
        "id": "pNduL_vRvBdF",
        "colab_type": "code",
        "outputId": "9c3fed9f-52c2-44c0-e87a-90f0ea58018d",
        "colab": {
          "base_uri": "https://localhost:8080/",
          "height": 716
        }
      },
      "source": [
        "# Check how the data is Sparsed and tokenisation of words in a record\n",
        "\n",
        "data[:10]"
      ],
      "execution_count": 32,
      "outputs": [
        {
          "output_type": "execute_result",
          "data": {
            "text/plain": [
              "array([[[  258,  1048,  3026, ...,     0,     0,     0],\n",
              "        [    9,  2295,    11, ...,     0,     0,     0],\n",
              "        [  388,     3, 57753, ...,     0,     0,     0],\n",
              "        [    0,     0,     0, ...,     0,     0,     0],\n",
              "        [    0,     0,     0, ...,     0,     0,     0],\n",
              "        [    0,     0,     0, ...,     0,     0,     0]],\n",
              "\n",
              "       [[   99,    50,   287, ...,     0,     0,     0],\n",
              "        [    2,   351,  3725, ...,     0,     0,     0],\n",
              "        [    0,     0,     0, ...,     0,     0,     0],\n",
              "        [    0,     0,     0, ...,     0,     0,     0],\n",
              "        [    0,     0,     0, ...,     0,     0,     0],\n",
              "        [    0,     0,     0, ...,     0,     0,     0]],\n",
              "\n",
              "       [[  935,    32,   271, ...,     0,     0,     0],\n",
              "        [   11,     2,  2268, ...,     0,     0,     0],\n",
              "        [    0,     0,     0, ...,     0,     0,     0],\n",
              "        [    0,     0,     0, ...,     0,     0,     0],\n",
              "        [    0,     0,     0, ...,     0,     0,     0],\n",
              "        [    0,     0,     0, ...,     0,     0,     0]],\n",
              "\n",
              "       ...,\n",
              "\n",
              "       [[  241,  3476,     6, ...,     0,     0,     0],\n",
              "        [  108,   910,     5, ...,     0,     0,     0],\n",
              "        [    0,     0,     0, ...,     0,     0,     0],\n",
              "        [    0,     0,     0, ...,     0,     0,     0],\n",
              "        [    0,     0,     0, ...,     0,     0,     0],\n",
              "        [    0,     0,     0, ...,     0,     0,     0]],\n",
              "\n",
              "       [[  125,     0,     0, ...,     0,     0,     0],\n",
              "        [ 6664,    10,     0, ...,     0,     0,     0],\n",
              "        [   14,    88,   956, ...,     0,     0,     0],\n",
              "        [    0,     0,     0, ...,     0,     0,     0],\n",
              "        [    0,     0,     0, ...,     0,     0,     0],\n",
              "        [    0,     0,     0, ...,     0,     0,     0]],\n",
              "\n",
              "       [[ 1059,  2220,    15, ...,     0,     0,     0],\n",
              "        [14887, 28578,  1100, ...,     0,     0,     0],\n",
              "        [  143,    14,    97, ...,     0,     0,     0],\n",
              "        [    0,     0,     0, ...,     0,     0,     0],\n",
              "        [    0,     0,     0, ...,     0,     0,     0],\n",
              "        [    0,     0,     0, ...,     0,     0,     0]]], dtype=int32)"
            ]
          },
          "metadata": {
            "tags": []
          },
          "execution_count": 32
        }
      ]
    },
    {
      "cell_type": "code",
      "metadata": {
        "id": "Bg1t302LvUnV",
        "colab_type": "code",
        "outputId": "333f5b52-5a78-470b-fe5d-44140ddff096",
        "colab": {
          "base_uri": "https://localhost:8080/",
          "height": 33
        }
      },
      "source": [
        "# Check the Shape of data\n",
        "\n",
        "data.shape\n",
        "# It Shows the Records, Max sentence numbers and Max sentence lengths"
      ],
      "execution_count": 33,
      "outputs": [
        {
          "output_type": "execute_result",
          "data": {
            "text/plain": [
              "(200853, 6, 40)"
            ]
          },
          "metadata": {
            "tags": []
          },
          "execution_count": 33
        }
      ]
    },
    {
      "cell_type": "code",
      "metadata": {
        "id": "QbEw2FGyvi8H",
        "colab_type": "code",
        "outputId": "6fe08b1f-b7d1-4647-878c-93953c5c659b",
        "colab": {
          "base_uri": "https://localhost:8080/",
          "height": 33
        }
      },
      "source": [
        "# print the unique tokened words\n",
        "\n",
        "word_index = tokenizer.word_index\n",
        "print('There are a total of %s unique tokens present.' % len(word_index))"
      ],
      "execution_count": 34,
      "outputs": [
        {
          "output_type": "stream",
          "text": [
            "There are a total of 100266 unique tokens present.\n"
          ],
          "name": "stdout"
        }
      ]
    },
    {
      "cell_type": "code",
      "metadata": {
        "id": "Ny88c2UDvqTV",
        "colab_type": "code",
        "colab": {}
      },
      "source": [
        "# Target Variables loaded in binary form, by converting values to columns and assining 1 or 0 based on its prescence\n",
        "\n",
        "categories = df['category']\n",
        "labels = pd.get_dummies(categories)"
      ],
      "execution_count": 0,
      "outputs": []
    },
    {
      "cell_type": "code",
      "metadata": {
        "id": "EUicz8BEwAEV",
        "colab_type": "code",
        "colab": {}
      },
      "source": [
        "# Get the Indices\n",
        "\n",
        "indexes = np.arange(data.shape[0])"
      ],
      "execution_count": 0,
      "outputs": []
    },
    {
      "cell_type": "code",
      "metadata": {
        "id": "_GAwQZK8w5ck",
        "colab_type": "code",
        "colab": {}
      },
      "source": [
        "# Shuffle them before Training\n",
        "\n",
        "np.random.shuffle(indexes) "
      ],
      "execution_count": 0,
      "outputs": []
    },
    {
      "cell_type": "code",
      "metadata": {
        "id": "1zEZKthQw34U",
        "colab_type": "code",
        "outputId": "0b947d49-935a-4377-be04-ac7a5c7c74cf",
        "colab": {
          "base_uri": "https://localhost:8080/",
          "height": 33
        }
      },
      "source": [
        "# Validate indexes\n",
        "\n",
        "indexes"
      ],
      "execution_count": 38,
      "outputs": [
        {
          "output_type": "execute_result",
          "data": {
            "text/plain": [
              "array([185568, 132146,  56389, ..., 123183,  62999,  78764])"
            ]
          },
          "metadata": {
            "tags": []
          },
          "execution_count": 38
        }
      ]
    },
    {
      "cell_type": "code",
      "metadata": {
        "id": "6IzJT2LWw_BU",
        "colab_type": "code",
        "colab": {}
      },
      "source": [
        "# Creating Independant and Target data\n",
        "\n",
        "data = data[indexes]\n",
        "labels = labels.iloc[indexes]"
      ],
      "execution_count": 0,
      "outputs": []
    },
    {
      "cell_type": "code",
      "metadata": {
        "id": "a0K9stK4PsIU",
        "colab_type": "code",
        "colab": {
          "base_uri": "https://localhost:8080/",
          "height": 163
        },
        "outputId": "8c2ce510-d33a-4726-9acb-315105f981dd"
      },
      "source": [
        "# Target Variables as columns and each column contains binary 1 or 0 encoding\n",
        "labels.columns"
      ],
      "execution_count": 41,
      "outputs": [
        {
          "output_type": "execute_result",
          "data": {
            "text/plain": [
              "Index(['ARTS', 'ARTS & CULTURE', 'BLACK VOICES', 'BUSINESS', 'COLLEGE',\n",
              "       'COMEDY', 'CRIME', 'CULTURE & ARTS', 'DIVORCE', 'EDUCATION',\n",
              "       'ENTERTAINMENT', 'ENVIRONMENT', 'FIFTY', 'FOOD & DRINK', 'GOOD NEWS',\n",
              "       'GREEN', 'HEALTHY LIVING', 'HOME & LIVING', 'IMPACT', 'LATINO VOICES',\n",
              "       'MEDIA', 'MONEY', 'PARENTING', 'PARENTS', 'POLITICS', 'QUEER VOICES',\n",
              "       'RELIGION', 'SCIENCE', 'SPORTS', 'STYLE', 'STYLE & BEAUTY', 'TASTE',\n",
              "       'TECH', 'THE WORLDPOST', 'TRAVEL', 'WEDDINGS', 'WEIRD NEWS', 'WELLNESS',\n",
              "       'WOMEN', 'WORLD NEWS', 'WORLDPOST'],\n",
              "      dtype='object')"
            ]
          },
          "metadata": {
            "tags": []
          },
          "execution_count": 41
        }
      ]
    },
    {
      "cell_type": "code",
      "metadata": {
        "id": "LqlwqP3hxRVE",
        "colab_type": "code",
        "colab": {}
      },
      "source": [
        "# Split by 20% as test/validation set\n",
        "nb_validation_samples = int(VALIDATION_SPLIT * data.shape[0])"
      ],
      "execution_count": 0,
      "outputs": []
    },
    {
      "cell_type": "code",
      "metadata": {
        "id": "UvtolqXAzLNF",
        "colab_type": "code",
        "outputId": "ad20bbd8-7a06-4635-9a76-dc7f809a3cca",
        "colab": {
          "base_uri": "https://localhost:8080/",
          "height": 33
        }
      },
      "source": [
        "# Check no of Validation Samples\n",
        "nb_validation_samples"
      ],
      "execution_count": 43,
      "outputs": [
        {
          "output_type": "execute_result",
          "data": {
            "text/plain": [
              "40170"
            ]
          },
          "metadata": {
            "tags": []
          },
          "execution_count": 43
        }
      ]
    },
    {
      "cell_type": "code",
      "metadata": {
        "id": "tOfioIJSxhUW",
        "colab_type": "code",
        "colab": {}
      },
      "source": [
        "# Seperate Train and Validation Sets\n",
        "x_train = data[:-nb_validation_samples]\n",
        "y_train = labels[:-nb_validation_samples]\n",
        "x_val = data[-nb_validation_samples:]\n",
        "y_val = labels[-nb_validation_samples:]"
      ],
      "execution_count": 0,
      "outputs": []
    },
    {
      "cell_type": "code",
      "metadata": {
        "id": "5rxVNSJ-6nk0",
        "colab_type": "code",
        "outputId": "d9f17876-e17c-4829-87a1-f680fa85345a",
        "colab": {
          "base_uri": "https://localhost:8080/",
          "height": 82
        }
      },
      "source": [
        "# Print the Lengths of the Set\n",
        "\n",
        "print(\"The length of Training set is\", len(x_train))\n",
        "print(\"The length of Validation set is\", len(x_val))\n",
        "print(\"The length of Target set is\", len(y_train))\n",
        "print(\"The length of Target Validation set is\", len(y_val))"
      ],
      "execution_count": 46,
      "outputs": [
        {
          "output_type": "stream",
          "text": [
            "The length of Training set is 160683\n",
            "The length of Validation set is 40170\n",
            "The length of Target set is 160683\n",
            "The length of Target Validation set is 40170\n"
          ],
          "name": "stdout"
        }
      ]
    },
    {
      "cell_type": "code",
      "metadata": {
        "id": "-oMVAqtzGXtZ",
        "colab_type": "code",
        "outputId": "12b69641-875b-4c34-c68f-5b987f322e41",
        "colab": {
          "base_uri": "https://localhost:8080/",
          "height": 33
        }
      },
      "source": [
        "# As the test is binary for multiclass problem, check its columns, we predict based on index of top probablity occurance\n",
        "y_train.columns[37]"
      ],
      "execution_count": 50,
      "outputs": [
        {
          "output_type": "execute_result",
          "data": {
            "text/plain": [
              "'WELLNESS'"
            ]
          },
          "metadata": {
            "tags": []
          },
          "execution_count": 50
        }
      ]
    },
    {
      "cell_type": "code",
      "metadata": {
        "id": "Bztt_Pv16wZ0",
        "colab_type": "code",
        "colab": {}
      },
      "source": [
        "# Regularise to Prevent Overfitting\n",
        "REG_PARAM = 1e-13\n",
        "l2_reg = regularizers.l2(REG_PARAM)\n"
      ],
      "execution_count": 0,
      "outputs": []
    },
    {
      "cell_type": "code",
      "metadata": {
        "id": "M-1W5Nojwu90",
        "colab_type": "code",
        "colab": {}
      },
      "source": [
        "# Download Pretrained Model of Glove Vector\n",
        "# https://nlp.stanford.edu/projects/glove/\n",
        "# For our task, we choose Glove 100d"
      ],
      "execution_count": 0,
      "outputs": []
    },
    {
      "cell_type": "code",
      "metadata": {
        "id": "RIXQLXbcbKQM",
        "colab_type": "code",
        "outputId": "61fe9a1f-dae9-4884-fce2-2a48c53c7fc8",
        "colab": {
          "base_uri": "https://localhost:8080/",
          "height": 33
        }
      },
      "source": [
        "# Encoding using Glove Vector and appending to dictionary\n",
        "\n",
        "GLOVE_DIR = \"/content/drive/My Drive/SPS_Dt/glove.6B.100d.txt\"\n",
        "embeddings_index = {}\n",
        "f = open(GLOVE_DIR)\n",
        "for line in f:\n",
        "    try:\n",
        "        values = line.split()\n",
        "        word = values[0]\n",
        "        coefs = np.asarray(values[1:], dtype='float32')\n",
        "        embeddings_index[word] = coefs\n",
        "    except:\n",
        "        print(word)\n",
        "        pass\n",
        "f.close()\n",
        "print('There are a total of %s word vectors.' % len(embeddings_index))\n"
      ],
      "execution_count": 53,
      "outputs": [
        {
          "output_type": "stream",
          "text": [
            "There are a total of 400000 word vectors.\n"
          ],
          "name": "stdout"
        }
      ]
    },
    {
      "cell_type": "code",
      "metadata": {
        "id": "sLaElvppbUF6",
        "colab_type": "code",
        "outputId": "246a5604-72f7-4cde-c3ad-74fcbcd5b028",
        "colab": {
          "base_uri": "https://localhost:8080/",
          "height": 33
        }
      },
      "source": [
        "# Find the Missing Words from Glove Vector\n",
        "\n",
        "embedding_matrix = np.zeros((len(word_index) + 1, embed_size))\n",
        "absent_words = 0\n",
        "for word, i in word_index.items():\n",
        "    embedding_vector = embeddings_index.get(word)\n",
        "    if embedding_vector is not None:\n",
        "        # words not found in embedding index will be all-zeros.\n",
        "        embedding_matrix[i] = embedding_vector\n",
        "    else:\n",
        "        absent_words += 1\n",
        "print('Total missing words are', absent_words, 'which is', \"%0.2f\" % (absent_words * 100 / len(word_index)), '% of total words')\n"
      ],
      "execution_count": 54,
      "outputs": [
        {
          "output_type": "stream",
          "text": [
            "Total missing words are 27655 which is 27.58 % of total words\n"
          ],
          "name": "stdout"
        }
      ]
    },
    {
      "cell_type": "code",
      "metadata": {
        "id": "tq_H92zBzCsp",
        "colab_type": "code",
        "outputId": "fe4e18ed-a315-44a6-b960-94101650b577",
        "colab": {
          "base_uri": "https://localhost:8080/",
          "height": 50
        }
      },
      "source": [
        "# Embedding Layer\n",
        "\n",
        "embedding_layer = Embedding(len(word_index) + 1,embed_size,weights=[embedding_matrix], input_length=max_senten_len, trainable=False)\n"
      ],
      "execution_count": 55,
      "outputs": [
        {
          "output_type": "stream",
          "text": [
            "WARNING:tensorflow:From /usr/local/lib/python3.6/dist-packages/keras/backend/tensorflow_backend.py:66: The name tf.get_default_graph is deprecated. Please use tf.compat.v1.get_default_graph instead.\n",
            "\n"
          ],
          "name": "stdout"
        }
      ]
    },
    {
      "cell_type": "code",
      "metadata": {
        "id": "FuFfqLyp9GSD",
        "colab_type": "code",
        "colab": {}
      },
      "source": [
        "# Model Development for Word and Sentence Attention\n",
        "\n",
        "word_input = Input(shape=(max_senten_len,), dtype='float32')\n",
        "word_sequences = embedding_layer(word_input)\n",
        "word_lstm = Bidirectional(LSTM(150, return_sequences=True, kernel_regularizer=l2_reg))(word_sequences)\n",
        "word_dense = TimeDistributed(Dense(200, kernel_regularizer=l2_reg))(word_lstm)\n",
        "word_att = AttentionWithContext()(word_dense)\n",
        "wordEncoder = Model(word_input, word_att)\n",
        "\n",
        "sent_input = Input(shape=(max_senten_num, max_senten_len), dtype='float32')\n",
        "sent_encoder = TimeDistributed(wordEncoder)(sent_input)\n",
        "sent_lstm = Bidirectional(LSTM(150, return_sequences=True, kernel_regularizer=l2_reg))(sent_encoder)\n",
        "sent_dense = TimeDistributed(Dense(200, kernel_regularizer=l2_reg))(sent_lstm)\n",
        "sent_att = Dropout(0.5)(AttentionWithContext()(sent_dense))\n",
        "\n",
        "preds = Dense(41, activation='softmax')(sent_att)\n",
        "model = Model(sent_input, preds)\n",
        "model.compile(loss='categorical_crossentropy',optimizer='adam',metrics=['acc'])"
      ],
      "execution_count": 0,
      "outputs": []
    },
    {
      "cell_type": "code",
      "metadata": {
        "id": "IAXfUCHOzP5f",
        "colab_type": "code",
        "colab": {}
      },
      "source": [
        "# Create Model Checkpoint so best model is saved automatically\n",
        "checkpoint = ModelCheckpoint('best_model.h5', verbose=0, monitor='val_loss',save_best_only=True, mode='auto') "
      ],
      "execution_count": 0,
      "outputs": []
    },
    {
      "cell_type": "code",
      "metadata": {
        "id": "O-543wVpzYG_",
        "colab_type": "code",
        "outputId": "8765a553-d3ef-48fa-8a61-a8f7e2cfc43a",
        "colab": {
          "base_uri": "https://localhost:8080/",
          "height": 1000
        }
      },
      "source": [
        "# Model Training\n",
        "import time\n",
        "\n",
        "start = time.time()\n",
        "history = model.fit(x_train, y_train, validation_data=(x_val, y_val), epochs=50, batch_size=512, callbacks=[checkpoint])\n",
        "stop = time.time()\n",
        "\n",
        "print(round((stop - start)/60, 2), \"minutes is the Time taken to Train the model\")"
      ],
      "execution_count": 88,
      "outputs": [
        {
          "output_type": "stream",
          "text": [
            "Train on 160683 samples, validate on 40170 samples\n",
            "Epoch 1/50\n",
            "160683/160683 [==============================] - 79s 494us/step - loss: 1.1026 - acc: 0.6796 - val_loss: 1.2174 - val_acc: 0.6506\n",
            "Epoch 2/50\n",
            "160683/160683 [==============================] - 79s 494us/step - loss: 1.0486 - acc: 0.6932 - val_loss: 1.2238 - val_acc: 0.6504\n",
            "Epoch 3/50\n",
            "160683/160683 [==============================] - 79s 494us/step - loss: 1.0026 - acc: 0.7052 - val_loss: 1.2453 - val_acc: 0.6444\n",
            "Epoch 4/50\n",
            "160683/160683 [==============================] - 79s 494us/step - loss: 0.9497 - acc: 0.7175 - val_loss: 1.2501 - val_acc: 0.6487\n",
            "Epoch 5/50\n",
            "160683/160683 [==============================] - 80s 495us/step - loss: 0.8991 - acc: 0.7316 - val_loss: 1.2750 - val_acc: 0.6445\n",
            "Epoch 6/50\n",
            "160683/160683 [==============================] - 79s 494us/step - loss: 0.8477 - acc: 0.7459 - val_loss: 1.2966 - val_acc: 0.6436\n",
            "Epoch 7/50\n",
            "160683/160683 [==============================] - 80s 497us/step - loss: 0.7953 - acc: 0.7593 - val_loss: 1.3352 - val_acc: 0.6433\n",
            "Epoch 8/50\n",
            "160683/160683 [==============================] - 80s 501us/step - loss: 0.7482 - acc: 0.7726 - val_loss: 1.3705 - val_acc: 0.6409\n",
            "Epoch 9/50\n",
            "160683/160683 [==============================] - 80s 500us/step - loss: 0.6953 - acc: 0.7864 - val_loss: 1.4232 - val_acc: 0.6360\n",
            "Epoch 10/50\n",
            "160683/160683 [==============================] - 80s 496us/step - loss: 0.6489 - acc: 0.8000 - val_loss: 1.5061 - val_acc: 0.6334\n",
            "Epoch 11/50\n",
            "160683/160683 [==============================] - 80s 501us/step - loss: 0.6003 - acc: 0.8141 - val_loss: 1.5699 - val_acc: 0.6302\n",
            "Epoch 12/50\n",
            "160683/160683 [==============================] - 80s 500us/step - loss: 0.5537 - acc: 0.8277 - val_loss: 1.6347 - val_acc: 0.6285\n",
            "Epoch 13/50\n",
            "160683/160683 [==============================] - 80s 500us/step - loss: 0.5141 - acc: 0.8376 - val_loss: 1.7035 - val_acc: 0.6256\n",
            "Epoch 14/50\n",
            "160683/160683 [==============================] - 81s 501us/step - loss: 0.4734 - acc: 0.8506 - val_loss: 1.7585 - val_acc: 0.6192\n",
            "Epoch 15/50\n",
            "160683/160683 [==============================] - 80s 499us/step - loss: 0.4365 - acc: 0.8608 - val_loss: 1.8412 - val_acc: 0.6183\n",
            "Epoch 16/50\n",
            "160683/160683 [==============================] - 80s 499us/step - loss: 0.4022 - acc: 0.8713 - val_loss: 1.9673 - val_acc: 0.6130\n",
            "Epoch 17/50\n",
            "160683/160683 [==============================] - 80s 500us/step - loss: 0.3743 - acc: 0.8787 - val_loss: 2.0316 - val_acc: 0.6112\n",
            "Epoch 18/50\n",
            "160683/160683 [==============================] - 80s 498us/step - loss: 0.3401 - acc: 0.8899 - val_loss: 2.1101 - val_acc: 0.6129\n",
            "Epoch 19/50\n",
            "160683/160683 [==============================] - 80s 496us/step - loss: 0.3103 - acc: 0.8976 - val_loss: 2.2499 - val_acc: 0.6062\n",
            "Epoch 20/50\n",
            "160683/160683 [==============================] - 79s 494us/step - loss: 0.2954 - acc: 0.9025 - val_loss: 2.3221 - val_acc: 0.6056\n",
            "Epoch 21/50\n",
            "160683/160683 [==============================] - 79s 493us/step - loss: 0.2733 - acc: 0.9091 - val_loss: 2.3496 - val_acc: 0.6030\n",
            "Epoch 22/50\n",
            "160683/160683 [==============================] - 79s 493us/step - loss: 0.2478 - acc: 0.9183 - val_loss: 2.4405 - val_acc: 0.6125\n",
            "Epoch 23/50\n",
            "160683/160683 [==============================] - 79s 494us/step - loss: 0.2367 - acc: 0.9210 - val_loss: 2.5076 - val_acc: 0.6031\n",
            "Epoch 24/50\n",
            "160683/160683 [==============================] - 79s 492us/step - loss: 0.2264 - acc: 0.9245 - val_loss: 2.5573 - val_acc: 0.6066\n",
            "Epoch 25/50\n",
            "160683/160683 [==============================] - 79s 492us/step - loss: 0.2020 - acc: 0.9318 - val_loss: 2.6688 - val_acc: 0.6077\n",
            "Epoch 26/50\n",
            "160683/160683 [==============================] - 79s 492us/step - loss: 0.1890 - acc: 0.9362 - val_loss: 2.7135 - val_acc: 0.6039\n",
            "Epoch 27/50\n",
            "160683/160683 [==============================] - 79s 492us/step - loss: 0.1754 - acc: 0.9415 - val_loss: 2.8133 - val_acc: 0.6096\n",
            "Epoch 28/50\n",
            "160683/160683 [==============================] - 79s 493us/step - loss: 0.1715 - acc: 0.9422 - val_loss: 2.8453 - val_acc: 0.6013\n",
            "Epoch 29/50\n",
            "160683/160683 [==============================] - 79s 490us/step - loss: 0.1588 - acc: 0.9466 - val_loss: 2.9057 - val_acc: 0.6028\n",
            "Epoch 30/50\n",
            "160683/160683 [==============================] - 79s 491us/step - loss: 0.1547 - acc: 0.9480 - val_loss: 2.9973 - val_acc: 0.6059\n",
            "Epoch 31/50\n",
            "160683/160683 [==============================] - 79s 491us/step - loss: 0.1424 - acc: 0.9519 - val_loss: 3.0123 - val_acc: 0.6020\n",
            "Epoch 32/50\n",
            "160683/160683 [==============================] - 79s 493us/step - loss: 0.1332 - acc: 0.9556 - val_loss: 3.1074 - val_acc: 0.6039\n",
            "Epoch 33/50\n",
            "160683/160683 [==============================] - 80s 497us/step - loss: 0.1451 - acc: 0.9517 - val_loss: 3.0923 - val_acc: 0.6020\n",
            "Epoch 34/50\n",
            "160683/160683 [==============================] - 79s 493us/step - loss: 0.1387 - acc: 0.9540 - val_loss: 3.1129 - val_acc: 0.6045\n",
            "Epoch 35/50\n",
            "160683/160683 [==============================] - 80s 497us/step - loss: 0.1288 - acc: 0.9567 - val_loss: 3.1637 - val_acc: 0.6032\n",
            "Epoch 36/50\n",
            "160683/160683 [==============================] - 80s 498us/step - loss: 0.1249 - acc: 0.9590 - val_loss: 3.1848 - val_acc: 0.6046\n",
            "Epoch 37/50\n",
            "160683/160683 [==============================] - 79s 492us/step - loss: 0.1125 - acc: 0.9623 - val_loss: 3.2480 - val_acc: 0.6049\n",
            "Epoch 38/50\n",
            "160683/160683 [==============================] - 79s 493us/step - loss: 0.1124 - acc: 0.9625 - val_loss: 3.2781 - val_acc: 0.6013\n",
            "Epoch 39/50\n",
            "160683/160683 [==============================] - 79s 494us/step - loss: 0.1122 - acc: 0.9621 - val_loss: 3.3038 - val_acc: 0.6019\n",
            "Epoch 40/50\n",
            "160683/160683 [==============================] - 80s 499us/step - loss: 0.1071 - acc: 0.9646 - val_loss: 3.3091 - val_acc: 0.6022\n",
            "Epoch 41/50\n",
            "160683/160683 [==============================] - 80s 496us/step - loss: 0.1003 - acc: 0.9665 - val_loss: 3.3624 - val_acc: 0.6030\n",
            "Epoch 42/50\n",
            "160683/160683 [==============================] - 79s 495us/step - loss: 0.1076 - acc: 0.9644 - val_loss: 3.3485 - val_acc: 0.6022\n",
            "Epoch 43/50\n",
            "160683/160683 [==============================] - 79s 494us/step - loss: 0.1025 - acc: 0.9661 - val_loss: 3.3806 - val_acc: 0.6040\n",
            "Epoch 44/50\n",
            "160683/160683 [==============================] - 79s 495us/step - loss: 0.1063 - acc: 0.9652 - val_loss: 3.3893 - val_acc: 0.5984\n",
            "Epoch 45/50\n",
            "160683/160683 [==============================] - 79s 493us/step - loss: 0.1056 - acc: 0.9650 - val_loss: 3.3903 - val_acc: 0.5994\n",
            "Epoch 46/50\n",
            "160683/160683 [==============================] - 79s 492us/step - loss: 0.0926 - acc: 0.9692 - val_loss: 3.4154 - val_acc: 0.6022\n",
            "Epoch 47/50\n",
            "160683/160683 [==============================] - 80s 495us/step - loss: 0.0851 - acc: 0.9714 - val_loss: 3.4618 - val_acc: 0.6019\n",
            "Epoch 48/50\n",
            "160683/160683 [==============================] - 79s 495us/step - loss: 0.0925 - acc: 0.9696 - val_loss: 3.4862 - val_acc: 0.6020\n",
            "Epoch 49/50\n",
            "160683/160683 [==============================] - 79s 492us/step - loss: 0.0928 - acc: 0.9691 - val_loss: 3.4641 - val_acc: 0.6041\n",
            "Epoch 50/50\n",
            "160683/160683 [==============================] - 79s 494us/step - loss: 0.0876 - acc: 0.9711 - val_loss: 3.4882 - val_acc: 0.6031\n",
            "66.3 minutes is the Time taken to Train the model\n"
          ],
          "name": "stdout"
        }
      ]
    },
    {
      "cell_type": "code",
      "metadata": {
        "id": "BK16NelOOzl4",
        "colab_type": "code",
        "colab": {}
      },
      "source": [
        "# To Download the Model and serve it as h5 for Frontend\n",
        "\n",
        "#from google.colab import files \n",
        "#files.download('best_model.h5')"
      ],
      "execution_count": 0,
      "outputs": []
    },
    {
      "cell_type": "code",
      "metadata": {
        "id": "7io3i72qzb3f",
        "colab_type": "code",
        "colab": {
          "base_uri": "https://localhost:8080/",
          "height": 33
        },
        "outputId": "7771a7ce-dbb9-4cb5-b49d-6160542c9d06"
      },
      "source": [
        "# Printing the mokel keys\n",
        "\n",
        "print(history.history.keys())\n"
      ],
      "execution_count": 90,
      "outputs": [
        {
          "output_type": "stream",
          "text": [
            "dict_keys(['val_loss', 'val_acc', 'loss', 'acc'])\n"
          ],
          "name": "stdout"
        }
      ]
    },
    {
      "cell_type": "code",
      "metadata": {
        "id": "_cNQ15_LV4h2",
        "colab_type": "code",
        "colab": {
          "base_uri": "https://localhost:8080/",
          "height": 295
        },
        "outputId": "a724202f-84fc-4241-c4c2-dff7256ee762"
      },
      "source": [
        "# Plotting history for accuracy\n",
        "\n",
        "plt.plot(history.history['acc'])\n",
        "plt.plot(history.history['val_acc'])\n",
        "plt.title('model accuracy')\n",
        "plt.ylabel('accuracy')\n",
        "plt.xlabel('epoch')\n",
        "plt.legend(['train', 'test'], loc='upper left')\n",
        "plt.show()\n"
      ],
      "execution_count": 91,
      "outputs": [
        {
          "output_type": "display_data",
          "data": {
            "image/png": "[encoded data removed]",
            "text/plain": [
              "<Figure size 432x288 with 1 Axes>"
            ]
          },
          "metadata": {
            "tags": []
          }
        }
      ]
    },
    {
      "cell_type": "code",
      "metadata": {
        "id": "anOscO6lV-y5",
        "colab_type": "code",
        "colab": {
          "base_uri": "https://localhost:8080/",
          "height": 295
        },
        "outputId": "b8223c49-465f-4c8d-b955-fb9d6fb692a2"
      },
      "source": [
        "# Plot history for loss\n",
        "plt.plot(history.history['loss'])\n",
        "plt.plot(history.history['val_loss'])\n",
        "plt.title('model loss')\n",
        "plt.ylabel('loss')\n",
        "plt.xlabel('epoch')\n",
        "plt.legend(['train', 'test'], loc='upper left')\n",
        "plt.show()\n"
      ],
      "execution_count": 92,
      "outputs": [
        {
          "output_type": "display_data",
          "data": {
            "image/png": "[encoded data removed]",
            "text/plain": [
              "<Figure size 432x288 with 1 Axes>"
            ]
          },
          "metadata": {
            "tags": []
          }
        }
      ]
    },
    {
      "cell_type": "code",
      "metadata": {
        "id": "IGX8v7h1wdGH",
        "colab_type": "code",
        "colab": {
          "base_uri": "https://localhost:8080/",
          "height": 70
        },
        "outputId": "07ac8b75-a439-4ee6-88b6-8b51269e69d0"
      },
      "source": [
        "# Input from the user end\n",
        "content = str(input())\n",
        "\n",
        "'''\n",
        "Example Sentence:\n",
        "\n",
        "Some elements are trying to scare people. We will respond at the right time,\" said Yusuf, who is pitted against AAP candidate and sitting MLA Imran Hussain and BJP's Lata Sodhi in Ballimaran.\n",
        "The five-time MLA from the constituency also said if the Congress is voted to power in Delhi, it will bring in a resolution against the amended citizenship law, like the other party-ruled states.\n",
        "He said the protest against the law and the National Register of Citizens was not just to \"protect Muslims\" but every poor Indian who could face trouble due to these measures.\n",
        "'''"
      ],
      "execution_count": 93,
      "outputs": [
        {
          "output_type": "stream",
          "text": [
            "Some elements are trying to scare people. We will respond at the right time,\" said Yusuf, who is pitted against AAP candidate and sitting MLA Imran Hussain and BJP's Lata Sodhi in Ballimaran. The five-time MLA from the constituency also said if the Congress is voted to power in Delhi, it will bring in a resolution against the amended citizenship law, like the other party-ruled states. He said the protest against the law and the National Register of Citizens was not just to \"protect Muslims\" but every poor Indian who could face trouble due to these measures.\n"
          ],
          "name": "stdout"
        },
        {
          "output_type": "execute_result",
          "data": {
            "text/plain": [
              "'\\nExample Sentence:\\n\\nSome elements are trying to scare people. We will respond at the right time,\" said Yusuf, who is pitted against AAP candidate and sitting MLA Imran Hussain and BJP\\'s Lata Sodhi in Ballimaran.\\nThe five-time MLA from the constituency also said if the Congress is voted to power in Delhi, it will bring in a resolution against the amended citizenship law, like the other party-ruled states.\\nHe said the protest against the law and the National Register of Citizens was not just to \"protect Muslims\" but every poor Indian who could face trouble due to these measures.\\n'"
            ]
          },
          "metadata": {
            "tags": []
          },
          "execution_count": 93
        }
      ]
    },
    {
      "cell_type": "code",
      "metadata": {
        "id": "kxEUX-8owYcZ",
        "colab_type": "code",
        "colab": {}
      },
      "source": [
        "# Perform Steps done for encoding of training data, so the distribution is same\n",
        "\n",
        "paras1 = []\n",
        "labels1 = []\n",
        "texts1 = []\n",
        "sent_lens1 = []\n",
        "sent_nums1 = []\n",
        "text = clean_str(content)\n",
        "texts1.append(text)\n",
        "sentences = tokenize.sent_tokenize(text)\n",
        "sent_nums1.append(len(sentences))\n",
        "for sent in sentences:\n",
        "    sent_lens1.append(len(text_to_word_sequence(sent)))\n",
        "paras1.append(sentences)\n"
      ],
      "execution_count": 0,
      "outputs": []
    },
    {
      "cell_type": "code",
      "metadata": {
        "id": "l3vnuLdyxMVf",
        "colab_type": "code",
        "colab": {
          "base_uri": "https://localhost:8080/",
          "height": 82
        },
        "outputId": "a4a4aa15-f2b0-40c6-ceab-bbb6355c0e48"
      },
      "source": [
        "# Validate List of List containing seperate sentences\n",
        "paras1"
      ],
      "execution_count": 95,
      "outputs": [
        {
          "output_type": "execute_result",
          "data": {
            "text/plain": [
              "[['some elements are trying to scare people.',\n",
              "  'we will respond at the right time, said yusuf, who is pitted against aap candidate and sitting mla imran hussain and bjps lata sodhi in ballimaran.',\n",
              "  'the five-time mla from the constituency also said if the congress is voted to power in delhi, it will bring in a resolution against the amended citizenship law, like the other party-ruled states.',\n",
              "  'he said the protest against the law and the national register of citizens was not just to protect muslims but every poor indian who could face trouble due to these measures.']]"
            ]
          },
          "metadata": {
            "tags": []
          },
          "execution_count": 95
        }
      ]
    },
    {
      "cell_type": "code",
      "metadata": {
        "id": "84fS3-BUyflX",
        "colab_type": "code",
        "colab": {}
      },
      "source": [
        "# Fit the tokenizer for Text sentences\n",
        "\n",
        "tokenizer1 = Tokenizer(num_words=max_features, oov_token=True)\n",
        "tokenizer1.fit_on_texts(texts1)"
      ],
      "execution_count": 0,
      "outputs": []
    },
    {
      "cell_type": "code",
      "metadata": {
        "id": "dlu9awFlytzn",
        "colab_type": "code",
        "colab": {}
      },
      "source": [
        "# Predict the User input content by encoding and passing it as array\n",
        "\n",
        "data1 = np.zeros((len(texts1), max_senten_num, max_senten_len), dtype='int32')\n",
        "for i, sentences in enumerate(paras1):\n",
        "    for j, sent in enumerate(sentences):\n",
        "        if j< max_senten_num:\n",
        "            wordTokens = text_to_word_sequence(sent)\n",
        "            k=0\n",
        "            for _, word in enumerate(wordTokens):\n",
        "                try:\n",
        "                    if k<max_senten_len and tokenizer1.word_index[word]<max_features:\n",
        "                        data1[i,j,k] = tokenizer1.word_index[word]\n",
        "                        k=k+1\n",
        "                except:\n",
        "                    print(word)\n",
        "                    pass\n"
      ],
      "execution_count": 0,
      "outputs": []
    },
    {
      "cell_type": "code",
      "metadata": {
        "id": "A4M8N7kRy6Fz",
        "colab_type": "code",
        "colab": {
          "base_uri": "https://localhost:8080/",
          "height": 310
        },
        "outputId": "eca9e5e2-99db-4afe-ffcc-505f120f3f93"
      },
      "source": [
        "# Verify the output of the user input as array\n",
        "data1"
      ],
      "execution_count": 98,
      "outputs": [
        {
          "output_type": "execute_result",
          "data": {
            "text/plain": [
              "array([[[14, 15, 16, 17,  3, 18, 19,  0,  0,  0,  0,  0,  0,  0,  0,  0,\n",
              "          0,  0,  0,  0,  0,  0,  0,  0,  0,  0,  0,  0,  0,  0,  0,  0,\n",
              "          0,  0,  0,  0,  0,  0,  0,  0],\n",
              "        [20,  8, 21, 22,  2, 23,  9,  4, 24, 10, 11, 25,  5, 26, 27,  6,\n",
              "         28, 12, 29, 30,  6, 31, 32, 33,  7, 34,  0,  0,  0,  0,  0,  0,\n",
              "          0,  0,  0,  0,  0,  0,  0,  0],\n",
              "        [ 2, 35,  9, 12, 36,  2, 37, 38,  4, 39,  2, 40, 11, 41,  3, 42,\n",
              "          7, 43, 44,  8, 45,  7, 46, 47,  5,  2, 48, 49, 13, 50,  2, 51,\n",
              "         52, 53, 54,  0,  0,  0,  0,  0],\n",
              "        [55,  4,  2, 56,  5,  2, 13,  6,  2, 57, 58, 59, 60, 61, 62, 63,\n",
              "          3, 64, 65, 66, 67, 68, 69, 10, 70, 71, 72, 73,  3, 74, 75,  0,\n",
              "          0,  0,  0,  0,  0,  0,  0,  0],\n",
              "        [ 0,  0,  0,  0,  0,  0,  0,  0,  0,  0,  0,  0,  0,  0,  0,  0,\n",
              "          0,  0,  0,  0,  0,  0,  0,  0,  0,  0,  0,  0,  0,  0,  0,  0,\n",
              "          0,  0,  0,  0,  0,  0,  0,  0],\n",
              "        [ 0,  0,  0,  0,  0,  0,  0,  0,  0,  0,  0,  0,  0,  0,  0,  0,\n",
              "          0,  0,  0,  0,  0,  0,  0,  0,  0,  0,  0,  0,  0,  0,  0,  0,\n",
              "          0,  0,  0,  0,  0,  0,  0,  0]]], dtype=int32)"
            ]
          },
          "metadata": {
            "tags": []
          },
          "execution_count": 98
        }
      ]
    },
    {
      "cell_type": "code",
      "metadata": {
        "id": "H8HLo0C-zGYG",
        "colab_type": "code",
        "colab": {}
      },
      "source": [
        "# Predict the User text based on our Trained model\n",
        "\n",
        "predor = model.predict(data1)"
      ],
      "execution_count": 0,
      "outputs": []
    },
    {
      "cell_type": "code",
      "metadata": {
        "id": "nSNnrhfkzXid",
        "colab_type": "code",
        "colab": {
          "base_uri": "https://localhost:8080/",
          "height": 245
        },
        "outputId": "1011551f-8430-4621-a7e6-1ee14ab56907"
      },
      "source": [
        "# Verify how the probablity is distributed among all output classes. The Output Probablity of the Multiclass problem should always sum up to 1\n",
        "\n",
        "print(predor)\n",
        "print('\\n')\n",
        "print(\"The Sum of all probablities sums up to\", int(round(predor.sum())))"
      ],
      "execution_count": 100,
      "outputs": [
        {
          "output_type": "stream",
          "text": [
            "[[1.78562887e-02 1.14055979e-06 6.89046772e-07 5.38599610e-01\n",
            "  2.94103636e-04 2.15400461e-04 5.66789822e-06 1.11705616e-04\n",
            "  1.11313013e-03 4.55346126e-05 1.21848763e-03 1.32204082e-06\n",
            "  1.33936286e-01 3.59801961e-05 4.78620859e-06 3.60872764e-05\n",
            "  1.87320754e-01 4.06742009e-04 1.86171848e-04 5.74213618e-06\n",
            "  2.76066312e-05 1.75669487e-03 1.27106626e-02 1.65254099e-03\n",
            "  9.69053508e-06 3.81575286e-04 7.75328147e-07 1.21676945e-04\n",
            "  1.91434865e-05 9.37682111e-03 1.49969116e-03 8.79906002e-05\n",
            "  4.89301689e-04 5.34335459e-06 4.90419194e-02 1.45992017e-04\n",
            "  1.60983527e-05 3.48906182e-02 6.01316150e-03 4.76458581e-06\n",
            "  3.52245814e-04]]\n",
            "\n",
            "\n",
            "The Sum of all probablities sums up to 1\n"
          ],
          "name": "stdout"
        }
      ]
    },
    {
      "cell_type": "code",
      "metadata": {
        "id": "BtPyk1CXzfKd",
        "colab_type": "code",
        "colab": {
          "base_uri": "https://localhost:8080/",
          "height": 33
        },
        "outputId": "a223dc12-17df-47d0-a5df-98d9e666dd66"
      },
      "source": [
        "# Get Index of the Maximum Probablity\n",
        "np.argmax(predor)"
      ],
      "execution_count": 101,
      "outputs": [
        {
          "output_type": "execute_result",
          "data": {
            "text/plain": [
              "3"
            ]
          },
          "metadata": {
            "tags": []
          },
          "execution_count": 101
        }
      ]
    },
    {
      "cell_type": "code",
      "metadata": {
        "id": "T6HXHbiVzwrt",
        "colab_type": "code",
        "colab": {
          "base_uri": "https://localhost:8080/",
          "height": 33
        },
        "outputId": "a94162e2-3c5b-47d7-fe64-27b9f89579c0"
      },
      "source": [
        "# Output the Predicted Class for the User input\n",
        "\n",
        "y_train.columns[np.argmax(predor)]"
      ],
      "execution_count": 102,
      "outputs": [
        {
          "output_type": "execute_result",
          "data": {
            "text/plain": [
              "'BUSINESS'"
            ]
          },
          "metadata": {
            "tags": []
          },
          "execution_count": 102
        }
      ]
    },
    {
      "cell_type": "markdown",
      "metadata": {
        "id": "r9HBGfc2YWJq",
        "colab_type": "text"
      },
      "source": [
        "### Testing the Predictor Function"
      ]
    },
    {
      "cell_type": "code",
      "metadata": {
        "id": "rwvYFWteonZC",
        "colab_type": "code",
        "colab": {}
      },
      "source": [
        "# Perform Steps done for encoding of training data, so the distribution is same\n",
        "\n",
        "\n",
        "def predictoroftext(content1):\n",
        "    paras1 = []\n",
        "    labels1 = []\n",
        "    texts1 = []\n",
        "    sent_lens1 = []\n",
        "    sent_nums1 = []\n",
        "    text = clean_str(content1)\n",
        "    texts1.append(text)\n",
        "    sentences = tokenize.sent_tokenize(text)\n",
        "    sent_nums1.append(len(sentences))\n",
        "    for sent in sentences:\n",
        "        sent_lens1.append(len(text_to_word_sequence(sent)))\n",
        "    paras1.append(sentences)\n",
        "\n",
        "    # Fit the tokenizer for Text sentences\n",
        "\n",
        "    tokenizer1 = Tokenizer(num_words=max_features, oov_token=True)\n",
        "    tokenizer1.fit_on_texts(texts1)\n",
        "\n",
        "    # Predict the User input content by encoding and passing it as array\n",
        "\n",
        "    data1 = np.zeros((len(texts1), max_senten_num, max_senten_len), dtype='int32')\n",
        "    for i, sentences in enumerate(paras1):\n",
        "        for j, sent in enumerate(sentences):\n",
        "            if j< max_senten_num:\n",
        "                wordTokens = text_to_word_sequence(sent)\n",
        "                k=0\n",
        "                for _, word in enumerate(wordTokens):\n",
        "                    try:\n",
        "                        if k<max_senten_len and tokenizer1.word_index[word]<max_features:\n",
        "                            data1[i,j,k] = tokenizer1.word_index[word]\n",
        "                            k=k+1\n",
        "                    except:\n",
        "                        print(word)\n",
        "                        pass\n",
        "\n",
        "    # Predict the User text based on our Trained model\n",
        "\n",
        "    predor = model.predict(data1)\n",
        "\n",
        "    # Output the Predicted Class for the User input\n",
        "\n",
        "    return y_train.columns[np.argmax(predor)]\n"
      ],
      "execution_count": 0,
      "outputs": []
    },
    {
      "cell_type": "code",
      "metadata": {
        "id": "KNl6bhlQpJNg",
        "colab_type": "code",
        "colab": {}
      },
      "source": [
        "# Test\n",
        "\n",
        "test = \"\"\"\n",
        "Pregnant women who are turned away from clinics spiral into debt and bankruptcy at startlingly high rates, according to a groundbreaking new study.\n",
        "A new study offers a potent reminder of what really matters when it comes to economically empowering women: access to abortion.\n",
        "Women who are blocked from getting abortions face significant financial distress, including higher amounts of debt and increased rates of bankruptcy and eviction, according to a groundbreaking working paper published last week by the National Bureau of Economic Research. \n",
        "\n",
        "\"\"\""
      ],
      "execution_count": 0,
      "outputs": []
    },
    {
      "cell_type": "code",
      "metadata": {
        "id": "HDX8ivLcpW_t",
        "colab_type": "code",
        "colab": {
          "base_uri": "https://localhost:8080/",
          "height": 33
        },
        "outputId": "8babf2ec-1c03-48f0-b349-237f02ebfb7f"
      },
      "source": [
        "# Predict Class of Text\n",
        "predictoroftext(test)"
      ],
      "execution_count": 109,
      "outputs": [
        {
          "output_type": "execute_result",
          "data": {
            "text/plain": [
              "'HEALTHY LIVING'"
            ]
          },
          "metadata": {
            "tags": []
          },
          "execution_count": 109
        }
      ]
    },
    {
      "cell_type": "code",
      "metadata": {
        "id": "wP5vrCUvpZU8",
        "colab_type": "code",
        "colab": {}
      },
      "source": [
        "test2 = \"\"\"\n",
        "White House Issues Formal Threat To Bolton To Keep Him From Publishing Book\n",
        "The former national security adviser's book will reportedly outline several instances of presidential misconduct at issue in Trump's impeachment trial.\n",
        "President Donald Trump’s impeachment trial is hurtling toward a showdown over whether the Senate will call witnesses to testify ― namely, former national security adviser John Bolton, who has written a book manuscript that effectively confirms the quid pro quo at the heart of the impeachment charges. \n",
        "Republican senators argue that calling Bolton or virtually any other witnesses would be a waste of time — because their vote won’t change. That argument is an accidental admission of the essential truth of this trial: Republicans are prepared to acquit Trump no matter what. \n",
        "Sen. Pat Toomey (R-Pa.), for example, said he was “very, very skeptical” that there would be a witness who would change his mind “about how I ought to vote on the final question.”\n",
        "Graham’s colleagues have taken a similar stance. Sen. Cory Gardner (R-Colo.) said that “I do not believe we need to hear from an 18th witness,” despite Bolton’s new information. Sen. Ted Cruz (R-Texas) similarly argued that the House had already made its case and “additional witnesses are not necessary.” Sen. Jim Inhofe (R-Okla.) warned that calling witnesses would lead to a long string of people testifying and allow Democrats to “string this thing out.”\n",
        "“Unless there’s a witness that’s going to change the outcome, I can’t imagine why we’d want to stretch this out for weeks and months,” Sen. Roy Blunt (R-Mo.) said earlier this week.\n",
        "This is a far different stance than Graham and others took as recently as a few months ago, when they suggested that there was simply a lack of evidence to support the charges against the president.\n",
        "\"\"\""
      ],
      "execution_count": 0,
      "outputs": []
    },
    {
      "cell_type": "code",
      "metadata": {
        "id": "dTEoZTuaqDPn",
        "colab_type": "code",
        "colab": {
          "base_uri": "https://localhost:8080/",
          "height": 33
        },
        "outputId": "75df76e9-0c45-4497-d4d1-8625e236f25b"
      },
      "source": [
        "# Predict Class of Text 2\n",
        "predictoroftext(test2)"
      ],
      "execution_count": 123,
      "outputs": [
        {
          "output_type": "execute_result",
          "data": {
            "text/plain": [
              "'POLITICS'"
            ]
          },
          "metadata": {
            "tags": []
          },
          "execution_count": 123
        }
      ]
    },
    {
      "cell_type": "markdown",
      "metadata": {
        "id": "He6PtrPIrvmt",
        "colab_type": "text"
      },
      "source": [
        ""
      ]
    },
    {
      "cell_type": "code",
      "metadata": {
        "id": "oHYUxz1HsTfT",
        "colab_type": "code",
        "colab": {}
      },
      "source": [
        "## Thanks for your time"
      ],
      "execution_count": 0,
      "outputs": []
    }
  ]
}
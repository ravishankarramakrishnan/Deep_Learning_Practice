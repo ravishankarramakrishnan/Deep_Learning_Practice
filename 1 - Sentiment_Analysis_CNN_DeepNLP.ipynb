{
  "nbformat": 4,
  "nbformat_minor": 0,
  "metadata": {
    "colab": {
      "name": "Sentiment_Analysis:CNN_DeepNLP.ipynb",
      "provenance": [],
      "collapsed_sections": [],
      "machine_shape": "hm",
      "authorship_tag": "ABX9TyOI6WZ29ZcPOQg8c8XP2NR6",
      "include_colab_link": true
    },
    "kernelspec": {
      "name": "python3",
      "display_name": "Python 3"
    },
    "accelerator": "TPU"
  },
  "cells": [
    {
      "cell_type": "markdown",
      "metadata": {
        "id": "view-in-github",
        "colab_type": "text"
      },
      "source": [
        "<a href=\"https://colab.research.google.com/github/ravishankarramakrishnan/Deep_Learning_Practice/blob/master/1%20-%20Sentiment_Analysis_CNN_DeepNLP.ipynb\" target=\"_parent\"><img src=\"https://colab.research.google.com/assets/colab-badge.svg\" alt=\"Open In Colab\"/></a>"
      ]
    },
    {
      "cell_type": "code",
      "metadata": {
        "id": "Ql52ud78xDhT",
        "colab_type": "code",
        "outputId": "21701257-5030-4aab-f663-313d899d263f",
        "colab": {
          "base_uri": "https://localhost:8080/",
          "height": 34
        }
      },
      "source": [
        "# Importing the Libraries\n",
        "\n",
        "import numpy as np\n",
        "import pandas as pd\n",
        "import re\n",
        "import math\n",
        "import time\n",
        "from bs4 import BeautifulSoup\n",
        "from keras.preprocessing.text import Tokenizer\n",
        "from google.colab import drive"
      ],
      "execution_count": 0,
      "outputs": [
        {
          "output_type": "stream",
          "text": [
            "Using TensorFlow backend.\n"
          ],
          "name": "stderr"
        }
      ]
    },
    {
      "cell_type": "code",
      "metadata": {
        "id": "RSiIwTewxT3M",
        "colab_type": "code",
        "colab": {}
      },
      "source": [
        "# Import Deep Learning Libraries\n",
        "\n",
        "try:\n",
        "    %tensorflow_version 2.x\n",
        "except:\n",
        "    pass\n",
        "\n",
        "import tensorflow as tf\n",
        "from tensorflow.keras import layers\n",
        "import tensorflow_datasets as tfds"
      ],
      "execution_count": 0,
      "outputs": []
    },
    {
      "cell_type": "code",
      "metadata": {
        "id": "xDSwtVSQxtqO",
        "colab_type": "code",
        "outputId": "b60b5d14-149a-4854-81b8-c8df215fa87b",
        "colab": {
          "base_uri": "https://localhost:8080/",
          "height": 124
        }
      },
      "source": [
        "# Data Preprocessing\n",
        "\n",
        "# Loading the Data file\n",
        "\n",
        "drive.mount(\"/content/drive\", force_remount=True)"
      ],
      "execution_count": 0,
      "outputs": [
        {
          "output_type": "stream",
          "text": [
            "Go to this URL in a browser: https://accounts.google.com/o/oauth2/auth?client_id=947318989803-6bn6qk8qdgf4n4g3pfee6491hc0brc4i.apps.googleusercontent.com&redirect_uri=urn%3aietf%3awg%3aoauth%3a2.0%3aoob&response_type=code&scope=email%20https%3a%2f%2fwww.googleapis.com%2fauth%2fdocs.test%20https%3a%2f%2fwww.googleapis.com%2fauth%2fdrive%20https%3a%2f%2fwww.googleapis.com%2fauth%2fdrive.photos.readonly%20https%3a%2f%2fwww.googleapis.com%2fauth%2fpeopleapi.readonly\n",
            "\n",
            "Enter your authorization code:\n",
            "··········\n",
            "Mounted at /content/drive\n"
          ],
          "name": "stdout"
        }
      ]
    },
    {
      "cell_type": "code",
      "metadata": {
        "id": "YewxFWusx-LW",
        "colab_type": "code",
        "colab": {}
      },
      "source": [
        "# Loading the Training and Test Set\n",
        "\n",
        "cols = [\"sentiment\", \"id\", \"date\", \"query\", \"user\", \"text\"]\n",
        "\n",
        "# Training Set\n",
        "\n",
        "train_data = pd.read_csv(\"/content/drive/My Drive/Mordern NLP - Python/Sentiment Analysis - CNN and NLP/training.1600000.processed.noemoticon.csv\",\n",
        "                         header = None,\n",
        "                         names = cols,\n",
        "                         engine = \"python\",\n",
        "                         encoding = \"latin1\")\n",
        "\n",
        "# Test Data\n",
        "\n",
        "test_data = pd.read_csv(\"/content/drive/My Drive/Mordern NLP - Python/Sentiment Analysis - CNN and NLP/testdata.manual.2009.06.14.csv\",\n",
        "                         header = None,\n",
        "                         names = cols,\n",
        "                         engine = \"python\",\n",
        "                         encoding = \"latin1\")"
      ],
      "execution_count": 0,
      "outputs": []
    },
    {
      "cell_type": "code",
      "metadata": {
        "id": "URj2G3L7zGst",
        "colab_type": "code",
        "outputId": "60924b35-c2e3-43d3-a253-0628f7b5826c",
        "colab": {
          "base_uri": "https://localhost:8080/",
          "height": 141
        }
      },
      "source": [
        "# Check the Dataset\n",
        "\n",
        "test_data.tail(3)"
      ],
      "execution_count": 0,
      "outputs": [
        {
          "output_type": "execute_result",
          "data": {
            "text/html": [
              "<div>\n",
              "<style scoped>\n",
              "    .dataframe tbody tr th:only-of-type {\n",
              "        vertical-align: middle;\n",
              "    }\n",
              "\n",
              "    .dataframe tbody tr th {\n",
              "        vertical-align: top;\n",
              "    }\n",
              "\n",
              "    .dataframe thead th {\n",
              "        text-align: right;\n",
              "    }\n",
              "</style>\n",
              "<table border=\"1\" class=\"dataframe\">\n",
              "  <thead>\n",
              "    <tr style=\"text-align: right;\">\n",
              "      <th></th>\n",
              "      <th>sentiment</th>\n",
              "      <th>id</th>\n",
              "      <th>date</th>\n",
              "      <th>query</th>\n",
              "      <th>user</th>\n",
              "      <th>text</th>\n",
              "    </tr>\n",
              "  </thead>\n",
              "  <tbody>\n",
              "    <tr>\n",
              "      <th>495</th>\n",
              "      <td>4</td>\n",
              "      <td>14074</td>\n",
              "      <td>Sun Jun 14 04:36:34 UTC 2009</td>\n",
              "      <td>latex</td>\n",
              "      <td>iamtheonlyjosie</td>\n",
              "      <td>Ahhh... back in a *real* text editing environm...</td>\n",
              "    </tr>\n",
              "    <tr>\n",
              "      <th>496</th>\n",
              "      <td>0</td>\n",
              "      <td>14075</td>\n",
              "      <td>Sun Jun 14 21:36:07 UTC 2009</td>\n",
              "      <td>iran</td>\n",
              "      <td>plutopup7</td>\n",
              "      <td>Trouble in Iran, I see. Hmm. Iran. Iran so far...</td>\n",
              "    </tr>\n",
              "    <tr>\n",
              "      <th>497</th>\n",
              "      <td>0</td>\n",
              "      <td>14076</td>\n",
              "      <td>Sun Jun 14 21:36:17 UTC 2009</td>\n",
              "      <td>iran</td>\n",
              "      <td>captain_pete</td>\n",
              "      <td>Reading the tweets coming out of Iran... The w...</td>\n",
              "    </tr>\n",
              "  </tbody>\n",
              "</table>\n",
              "</div>"
            ],
            "text/plain": [
              "     sentiment  ...                                               text\n",
              "495          4  ...  Ahhh... back in a *real* text editing environm...\n",
              "496          0  ...  Trouble in Iran, I see. Hmm. Iran. Iran so far...\n",
              "497          0  ...  Reading the tweets coming out of Iran... The w...\n",
              "\n",
              "[3 rows x 6 columns]"
            ]
          },
          "metadata": {
            "tags": []
          },
          "execution_count": 5
        }
      ]
    },
    {
      "cell_type": "code",
      "metadata": {
        "id": "hyQHXjozzdh1",
        "colab_type": "code",
        "outputId": "16f37a0f-3985-4d27-cdfb-ec1cc2651485",
        "colab": {
          "base_uri": "https://localhost:8080/",
          "height": 110
        }
      },
      "source": [
        "train_data.head(2)"
      ],
      "execution_count": 0,
      "outputs": [
        {
          "output_type": "execute_result",
          "data": {
            "text/html": [
              "<div>\n",
              "<style scoped>\n",
              "    .dataframe tbody tr th:only-of-type {\n",
              "        vertical-align: middle;\n",
              "    }\n",
              "\n",
              "    .dataframe tbody tr th {\n",
              "        vertical-align: top;\n",
              "    }\n",
              "\n",
              "    .dataframe thead th {\n",
              "        text-align: right;\n",
              "    }\n",
              "</style>\n",
              "<table border=\"1\" class=\"dataframe\">\n",
              "  <thead>\n",
              "    <tr style=\"text-align: right;\">\n",
              "      <th></th>\n",
              "      <th>sentiment</th>\n",
              "      <th>id</th>\n",
              "      <th>date</th>\n",
              "      <th>query</th>\n",
              "      <th>user</th>\n",
              "      <th>text</th>\n",
              "    </tr>\n",
              "  </thead>\n",
              "  <tbody>\n",
              "    <tr>\n",
              "      <th>0</th>\n",
              "      <td>0</td>\n",
              "      <td>1467810369</td>\n",
              "      <td>Mon Apr 06 22:19:45 PDT 2009</td>\n",
              "      <td>NO_QUERY</td>\n",
              "      <td>_TheSpecialOne_</td>\n",
              "      <td>@switchfoot http://twitpic.com/2y1zl - Awww, t...</td>\n",
              "    </tr>\n",
              "    <tr>\n",
              "      <th>1</th>\n",
              "      <td>0</td>\n",
              "      <td>1467810672</td>\n",
              "      <td>Mon Apr 06 22:19:49 PDT 2009</td>\n",
              "      <td>NO_QUERY</td>\n",
              "      <td>scotthamilton</td>\n",
              "      <td>is upset that he can't update his Facebook by ...</td>\n",
              "    </tr>\n",
              "  </tbody>\n",
              "</table>\n",
              "</div>"
            ],
            "text/plain": [
              "   sentiment  ...                                               text\n",
              "0          0  ...  @switchfoot http://twitpic.com/2y1zl - Awww, t...\n",
              "1          0  ...  is upset that he can't update his Facebook by ...\n",
              "\n",
              "[2 rows x 6 columns]"
            ]
          },
          "metadata": {
            "tags": []
          },
          "execution_count": 6
        }
      ]
    },
    {
      "cell_type": "code",
      "metadata": {
        "id": "qpJKr56wzfvO",
        "colab_type": "code",
        "colab": {}
      },
      "source": [
        "# Data Preprocessing\n",
        "\n",
        "# Data Cleaning\n",
        "\n",
        "data = train_data.copy()\n",
        "\n",
        "# Drop Unwanted rows\n",
        "\n",
        "data.drop([\"id\", \"date\", \"query\", \"user\"], axis = 1, inplace = True)"
      ],
      "execution_count": 0,
      "outputs": []
    },
    {
      "cell_type": "code",
      "metadata": {
        "id": "oUwWwPC2z-be",
        "colab_type": "code",
        "outputId": "9e6f48b4-2695-42ea-c60d-3d2c372b7517",
        "colab": {
          "base_uri": "https://localhost:8080/",
          "height": 202
        }
      },
      "source": [
        "data.head()"
      ],
      "execution_count": 0,
      "outputs": [
        {
          "output_type": "execute_result",
          "data": {
            "text/html": [
              "<div>\n",
              "<style scoped>\n",
              "    .dataframe tbody tr th:only-of-type {\n",
              "        vertical-align: middle;\n",
              "    }\n",
              "\n",
              "    .dataframe tbody tr th {\n",
              "        vertical-align: top;\n",
              "    }\n",
              "\n",
              "    .dataframe thead th {\n",
              "        text-align: right;\n",
              "    }\n",
              "</style>\n",
              "<table border=\"1\" class=\"dataframe\">\n",
              "  <thead>\n",
              "    <tr style=\"text-align: right;\">\n",
              "      <th></th>\n",
              "      <th>sentiment</th>\n",
              "      <th>text</th>\n",
              "    </tr>\n",
              "  </thead>\n",
              "  <tbody>\n",
              "    <tr>\n",
              "      <th>0</th>\n",
              "      <td>0</td>\n",
              "      <td>@switchfoot http://twitpic.com/2y1zl - Awww, t...</td>\n",
              "    </tr>\n",
              "    <tr>\n",
              "      <th>1</th>\n",
              "      <td>0</td>\n",
              "      <td>is upset that he can't update his Facebook by ...</td>\n",
              "    </tr>\n",
              "    <tr>\n",
              "      <th>2</th>\n",
              "      <td>0</td>\n",
              "      <td>@Kenichan I dived many times for the ball. Man...</td>\n",
              "    </tr>\n",
              "    <tr>\n",
              "      <th>3</th>\n",
              "      <td>0</td>\n",
              "      <td>my whole body feels itchy and like its on fire</td>\n",
              "    </tr>\n",
              "    <tr>\n",
              "      <th>4</th>\n",
              "      <td>0</td>\n",
              "      <td>@nationwideclass no, it's not behaving at all....</td>\n",
              "    </tr>\n",
              "  </tbody>\n",
              "</table>\n",
              "</div>"
            ],
            "text/plain": [
              "   sentiment                                               text\n",
              "0          0  @switchfoot http://twitpic.com/2y1zl - Awww, t...\n",
              "1          0  is upset that he can't update his Facebook by ...\n",
              "2          0  @Kenichan I dived many times for the ball. Man...\n",
              "3          0    my whole body feels itchy and like its on fire \n",
              "4          0  @nationwideclass no, it's not behaving at all...."
            ]
          },
          "metadata": {
            "tags": []
          },
          "execution_count": 8
        }
      ]
    },
    {
      "cell_type": "code",
      "metadata": {
        "id": "XLKCEbg7z_pG",
        "colab_type": "code",
        "colab": {}
      },
      "source": [
        "# Define a Function to Clean all the Tweets\n",
        "\n",
        "def clean_tweet(tweet):\n",
        "    tweet = BeautifulSoup(tweet, \"lxml\").get_text()\n",
        "    # Replace any words (+) followed after @\n",
        "    tweet = re.sub(r\"@[A-Za-z0-9]+\", \" \", tweet)\n",
        "    # Replace Http (s is optional so ?, followed by [a-Z0-9] and + for multiple times and ./)\n",
        "    tweet = re.sub(r\"https?://[A-Za-z0-9./]+\", \" \", tweet)\n",
        "    # Remove Extra Whitespaces\n",
        "    tweet = re.sub(r\" +\", \" \", tweet)\n",
        "    return tweet"
      ],
      "execution_count": 0,
      "outputs": []
    },
    {
      "cell_type": "code",
      "metadata": {
        "id": "fpL3WQKG2QVm",
        "colab_type": "code",
        "outputId": "0243090a-d551-4b49-89f2-fb119ce38f9e",
        "colab": {
          "base_uri": "https://localhost:8080/",
          "height": 34
        }
      },
      "source": [
        "# Identify and See the Target Variables\n",
        "\n",
        "data_labels = data.sentiment.values\n",
        "print(set(data_labels))"
      ],
      "execution_count": 0,
      "outputs": [
        {
          "output_type": "stream",
          "text": [
            "{0, 4}\n"
          ],
          "name": "stdout"
        }
      ]
    },
    {
      "cell_type": "code",
      "metadata": {
        "id": "1QqT3iJk2b7V",
        "colab_type": "code",
        "colab": {}
      },
      "source": [
        "# We Need to Change 4 to 1, So we Manually Impute it\n",
        "data_labels[data_labels == 4] = 1"
      ],
      "execution_count": 0,
      "outputs": []
    },
    {
      "cell_type": "code",
      "metadata": {
        "id": "phamj4_d2kGd",
        "colab_type": "code",
        "outputId": "26934f27-48cc-4cd9-af90-d7ebf9cae9d8",
        "colab": {
          "base_uri": "https://localhost:8080/",
          "height": 34
        }
      },
      "source": [
        "set(data_labels)"
      ],
      "execution_count": 0,
      "outputs": [
        {
          "output_type": "execute_result",
          "data": {
            "text/plain": [
              "{0, 1}"
            ]
          },
          "metadata": {
            "tags": []
          },
          "execution_count": 12
        }
      ]
    },
    {
      "cell_type": "code",
      "metadata": {
        "id": "asTBw4vl2lO9",
        "colab_type": "code",
        "outputId": "ffb477dc-9d4e-4eac-874f-c37e69eea561",
        "colab": {
          "base_uri": "https://localhost:8080/",
          "height": 34
        }
      },
      "source": [
        "# Now we Apply the Cleantweet Method to Text\n",
        "\n",
        "start = time.time()\n",
        "data_clean = [clean_tweet(tweet) for tweet in data.text]\n",
        "stop = time.time()\n",
        "duration = stop-start\n",
        "print(duration)"
      ],
      "execution_count": 0,
      "outputs": [
        {
          "output_type": "stream",
          "text": [
            "265.7469401359558\n"
          ],
          "name": "stdout"
        }
      ]
    },
    {
      "cell_type": "code",
      "metadata": {
        "id": "6lLvfEup28sN",
        "colab_type": "code",
        "outputId": "a74808e2-3f91-45f1-aefb-858ff43c2d04",
        "colab": {
          "base_uri": "https://localhost:8080/",
          "height": 34
        }
      },
      "source": [
        "# Building a Tokeniser\n",
        "\n",
        "start = time.time()\n",
        "tokenizer = tfds.features.text.SubwordTextEncoder.build_from_corpus(\n",
        "    data_clean, target_vocab_size = 2**16)\n",
        "stop = time.time()\n",
        "duration = stop-start\n",
        "print(duration)"
      ],
      "execution_count": 0,
      "outputs": [
        {
          "output_type": "stream",
          "text": [
            "734.7560949325562\n"
          ],
          "name": "stdout"
        }
      ]
    },
    {
      "cell_type": "code",
      "metadata": {
        "id": "kBok06JDCANZ",
        "colab_type": "code",
        "outputId": "0c6b5b20-3507-4487-96f6-71ba703bc2e2",
        "colab": {
          "base_uri": "https://localhost:8080/",
          "height": 34
        }
      },
      "source": [
        "# Tokenize the Data Inputs \n",
        "\n",
        "start = time.time()\n",
        "data_inputs = [tokenizer.encode(sentence) for sentence in data_clean]\n",
        "stop = time.time()\n",
        "duration = stop-start\n",
        "print(duration)"
      ],
      "execution_count": 0,
      "outputs": [
        {
          "output_type": "stream",
          "text": [
            "616.9548978805542\n"
          ],
          "name": "stdout"
        }
      ]
    },
    {
      "cell_type": "code",
      "metadata": {
        "id": "fccky3unAWVD",
        "colab_type": "code",
        "colab": {}
      },
      "source": [
        "# Padding\n",
        "\n",
        "MAX_LEN = max([len(sentence) for sentence in data_inputs])\n",
        "\n",
        "data_inputs = tf.keras.preprocessing.sequence.pad_sequences(data_inputs,\n",
        "                                                           value = 0,\n",
        "                                                           padding = \"post\",\n",
        "                                                           maxlen = MAX_LEN)"
      ],
      "execution_count": 0,
      "outputs": []
    },
    {
      "cell_type": "code",
      "metadata": {
        "id": "8JpKqo15LtN_",
        "colab_type": "code",
        "outputId": "f5d7e73d-768a-4f78-f83d-efa14dab4460",
        "colab": {
          "base_uri": "https://localhost:8080/",
          "height": 34
        }
      },
      "source": [
        "type(data_inputs)"
      ],
      "execution_count": 0,
      "outputs": [
        {
          "output_type": "execute_result",
          "data": {
            "text/plain": [
              "numpy.ndarray"
            ]
          },
          "metadata": {
            "tags": []
          },
          "execution_count": 17
        }
      ]
    },
    {
      "cell_type": "code",
      "metadata": {
        "id": "b-zgMfBUMg0k",
        "colab_type": "code",
        "colab": {}
      },
      "source": [
        "import pickle\n",
        "#pickle.dump(data_inputs, open(\"data_inputs_pkl.pkl\", \"wb\"))"
      ],
      "execution_count": 0,
      "outputs": []
    },
    {
      "cell_type": "code",
      "metadata": {
        "id": "twsCw2ASMldI",
        "colab_type": "code",
        "colab": {}
      },
      "source": [
        "#from google.colab import files\n",
        "#files.download('data_inputs_pkl.pkl')"
      ],
      "execution_count": 0,
      "outputs": []
    },
    {
      "cell_type": "code",
      "metadata": {
        "id": "YRoN6Q-_qqcz",
        "colab_type": "code",
        "colab": {}
      },
      "source": [
        "# Read a Pickle file\n",
        "\n",
        "#pickle.load(\"/content/drive/My Drive/Mordern NLP - Python/Sentiment Analysis - CNN and NLP/data_inputs_pkl.pkl\")\n",
        "\n",
        "with open('/content/drive/My Drive/Mordern NLP - Python/Sentiment Analysis - CNN and NLP/data_inputs_pkl.pkl', 'rb') as file:\n",
        "    data_inputs = pickle.load(file)\n"
      ],
      "execution_count": 0,
      "outputs": []
    },
    {
      "cell_type": "code",
      "metadata": {
        "id": "h_8vVESgrIlH",
        "colab_type": "code",
        "outputId": "abb7145c-f184-4db1-b8c0-5ac258cfb1e9",
        "colab": {
          "base_uri": "https://localhost:8080/",
          "height": 34
        }
      },
      "source": [
        "type(data_inputs)"
      ],
      "execution_count": 0,
      "outputs": [
        {
          "output_type": "execute_result",
          "data": {
            "text/plain": [
              "numpy.ndarray"
            ]
          },
          "metadata": {
            "tags": []
          },
          "execution_count": 16
        }
      ]
    },
    {
      "cell_type": "code",
      "metadata": {
        "id": "t8qFzPR2ueyv",
        "colab_type": "code",
        "colab": {}
      },
      "source": [
        ""
      ],
      "execution_count": 0,
      "outputs": []
    },
    {
      "cell_type": "code",
      "metadata": {
        "id": "_5s9RHhpODzt",
        "colab_type": "code",
        "colab": {}
      },
      "source": [
        ""
      ],
      "execution_count": 0,
      "outputs": []
    },
    {
      "cell_type": "code",
      "metadata": {
        "id": "TsCCRNzBAwx5",
        "colab_type": "code",
        "colab": {}
      },
      "source": [
        "# Splitting the Data into Test Set\n",
        "\n",
        "test_idx = np.array(np.random.randint(0, 800000, size=8000))\n",
        "\n",
        "test_idx = np.concatenate((test_idx, test_idx+800000))"
      ],
      "execution_count": 0,
      "outputs": []
    },
    {
      "cell_type": "code",
      "metadata": {
        "id": "3ajxS8opBh-Y",
        "colab_type": "code",
        "outputId": "7929e831-a61c-4cf0-8a77-baa47fe3bcf1",
        "colab": {
          "base_uri": "https://localhost:8080/",
          "height": 86
        }
      },
      "source": [
        "test_idx[:25]"
      ],
      "execution_count": 0,
      "outputs": [
        {
          "output_type": "execute_result",
          "data": {
            "text/plain": [
              "array([523540, 291895, 313499, 591934,  14738, 431128, 744018, 745526,\n",
              "       444903, 379131, 206570, 693672, 222428, 610149, 786086, 255242,\n",
              "       365519, 513969, 144703, 371559, 688742, 348932, 499365, 253241,\n",
              "       314703])"
            ]
          },
          "metadata": {
            "tags": []
          },
          "execution_count": 18
        }
      ]
    },
    {
      "cell_type": "code",
      "metadata": {
        "id": "yuTof4jCZ4rV",
        "colab_type": "code",
        "outputId": "9312186f-92c5-4258-f6d1-d4b4458b93be",
        "colab": {
          "base_uri": "https://localhost:8080/",
          "height": 34
        }
      },
      "source": [
        "len(test_idx)"
      ],
      "execution_count": 0,
      "outputs": [
        {
          "output_type": "execute_result",
          "data": {
            "text/plain": [
              "16000"
            ]
          },
          "metadata": {
            "tags": []
          },
          "execution_count": 19
        }
      ]
    },
    {
      "cell_type": "code",
      "metadata": {
        "id": "jEZ_5t1BBGy4",
        "colab_type": "code",
        "colab": {}
      },
      "source": [
        "test_inputs = data_inputs[test_idx]\n",
        "test_labels = data_labels[test_idx]"
      ],
      "execution_count": 0,
      "outputs": []
    },
    {
      "cell_type": "code",
      "metadata": {
        "id": "LOQJiZCGurbF",
        "colab_type": "code",
        "colab": {}
      },
      "source": [
        "train_inputs = np.delete(data_inputs, test_idx, axis = 0)\n",
        "train_labels = np.delete(data_labels, test_idx, axis = 0)"
      ],
      "execution_count": 0,
      "outputs": []
    },
    {
      "cell_type": "code",
      "metadata": {
        "id": "pUtOpEkqBkjY",
        "colab_type": "code",
        "outputId": "2cee7945-b851-4f79-84c1-039894c12abc",
        "colab": {
          "base_uri": "https://localhost:8080/",
          "height": 34
        }
      },
      "source": [
        "# Get the Shape\n",
        "\n",
        "test_inputs.shape, test_labels.shape, train_inputs.shape, train_labels.shape"
      ],
      "execution_count": 0,
      "outputs": [
        {
          "output_type": "execute_result",
          "data": {
            "text/plain": [
              "((16000, 273), (16000,), (1584064, 273), (1584064,))"
            ]
          },
          "metadata": {
            "tags": []
          },
          "execution_count": 22
        }
      ]
    },
    {
      "cell_type": "code",
      "metadata": {
        "id": "PESWXCJ6BtTA",
        "colab_type": "code",
        "colab": {}
      },
      "source": [
        "# Model Building\n",
        "\n",
        "# Deep Convolutional Neural Network\n",
        "\n",
        "class DCNN(tf.keras.Model):\n",
        "\n",
        "    def __init__(self, vocab_size, emb_dim=128, nb_filters = 50, FFN_units = 512, nb_classes = 2,\n",
        "                 dropout_rate = 0.1, training = False, name = \"dcnn\"):\n",
        "      \n",
        "        super(DCNN, self).__init__(name = name)\n",
        "\n",
        "        self.embedding = layers.Embedding(vocab_size, emb_dim)\n",
        "\n",
        "        # Get the First Conv Layer with 2 kernel\n",
        "        self.bigram = layers.Conv1D(filters= nb_filters, kernel_size= 2, padding= \"valid\", activation= \"relu\")\n",
        "\n",
        "        # Perform Max Pooling \n",
        "        self.pool_1 = layers.GlobalMaxPool1D()\n",
        "\n",
        "        # Get the Second Conv Layer with 3 kernel\n",
        "        self.trigram = layers.Conv1D(filters= nb_filters, kernel_size= 3, padding= \"valid\", activation= \"relu\")\n",
        "\n",
        "        # Perform Max Pooling \n",
        "        self.pool_2 = layers.GlobalMaxPool1D()\n",
        "\n",
        "        # Get the Third Conv Layer with 4 kernel\n",
        "        self.fourgram = layers.Conv1D(filters= nb_filters, kernel_size= 4, padding= \"valid\", activation= \"relu\")\n",
        "\n",
        "        # Perform Max Pooling \n",
        "        self.pool_3 = layers.GlobalMaxPool1D()\n",
        "\n",
        "        # Add a Dense Layer\n",
        "\n",
        "        self.dense_1 = layers.Dense(units= FFN_units, activation= \"relu\")\n",
        "\n",
        "        # Add dropouts to avoud overfitting\n",
        "\n",
        "        self.dropout = layers.Dropout(rate= dropout_rate)\n",
        "\n",
        "        # Add Last Dense Layer and Check for the Class size - Binary or Multiclass\n",
        "\n",
        "        if nb_classes == 2:\n",
        "            self.last_dense = layers.Dense(units= 1, activation= \"sigmoid\")\n",
        "        else:\n",
        "            self.last_dense = layers.Dense(units= nb_classes, activation= \"softmax\")\n",
        "\n",
        "    def call(self, inputs, training):\n",
        "        x = self.embedding(inputs)\n",
        "        # Work for Bigram Model\n",
        "        x_1 = self.bigram(x)\n",
        "        x_1 = self.pool_1(x_1)\n",
        "        # work for Trigram Model\n",
        "        x_2 = self.trigram(x)\n",
        "        x_2 = self.pool_1(x_2)\n",
        "        # Work for Fourgram Model\n",
        "        x_3 = self.fourgram(x)\n",
        "        x_3 = self.pool_1(x_3)\n",
        "\n",
        "        merged = tf.concat([x_1, x_2, x_3], axis = -1) # (batch size, 3*nb_filters)\n",
        "\n",
        "        merged = self.dense_1(merged)\n",
        "\n",
        "        merged = self.dropout(merged, training)\n",
        "\n",
        "        # Get the Output\n",
        "\n",
        "        output = self.last_dense(merged)\n",
        "\n",
        "        return output"
      ],
      "execution_count": 0,
      "outputs": []
    },
    {
      "cell_type": "code",
      "metadata": {
        "id": "eZg-ymFL22wG",
        "colab_type": "code",
        "colab": {}
      },
      "source": [
        "# Creating a Config File structure - Hyperparameter Tuning\n",
        "\n",
        "#VOCAB_SIZE = tokenizer.vocab_size\n",
        "VOCAB_SIZE = 2 ** 16\n",
        "EMB_DIM = 200\n",
        "NB_FILTERS = 100\n",
        "FFN_UNITS = 256\n",
        "NB_CLASSES = len(set(train_labels))\n",
        "DROPOUT_RATE = 0.2\n",
        "BATCH_SIZE = 32\n",
        "NB_EPOCHS = 5"
      ],
      "execution_count": 0,
      "outputs": []
    },
    {
      "cell_type": "code",
      "metadata": {
        "id": "-4BT_nFmXpmH",
        "colab_type": "code",
        "outputId": "62f46b63-3afa-47e0-b2d9-058b9123dbd6",
        "colab": {
          "base_uri": "https://localhost:8080/",
          "height": 34
        }
      },
      "source": [
        "VOCAB_SIZE"
      ],
      "execution_count": 0,
      "outputs": [
        {
          "output_type": "execute_result",
          "data": {
            "text/plain": [
              "65536"
            ]
          },
          "metadata": {
            "tags": []
          },
          "execution_count": 25
        }
      ]
    },
    {
      "cell_type": "code",
      "metadata": {
        "id": "vT8OyEhczabd",
        "colab_type": "code",
        "colab": {}
      },
      "source": [
        "# Training\n",
        "\n",
        "# Create an Instance and Train it\n",
        "\n",
        "# Define a Model\n",
        "\n",
        "Dcnn = DCNN(vocab_size = VOCAB_SIZE, emb_dim = EMB_DIM, nb_filters = NB_FILTERS,\n",
        "            FFN_units = FFN_UNITS, nb_classes = NB_CLASSES, dropout_rate = DROPOUT_RATE)"
      ],
      "execution_count": 0,
      "outputs": []
    },
    {
      "cell_type": "code",
      "metadata": {
        "id": "xIfuvTcnxpZn",
        "colab_type": "code",
        "colab": {}
      },
      "source": [
        "# Go with Class length\n",
        "\n",
        "if NB_CLASSES == 2:\n",
        "    Dcnn.compile(loss = \"binary_crossentropy\",\n",
        "                 optimizer = \"adam\",\n",
        "                 metrics = [\"accuracy\"])\n",
        "    \n",
        "else:\n",
        "    Dcnn.compile(loss = \"sparse_categorical_crossentropy\",\n",
        "                 optimizer = \"adam\",\n",
        "                 metrics = [\"sparse_categorical_accuracy\"])"
      ],
      "execution_count": 0,
      "outputs": []
    },
    {
      "cell_type": "code",
      "metadata": {
        "id": "obJmmpvtjp3d",
        "colab_type": "code",
        "colab": {}
      },
      "source": [
        "# Create a Checkpoint obkect to create Checkpoints\n",
        "\n",
        "checkpoint_path = \"/content/drive/My Drive/Mordern NLP - Python/Sentiment Analysis - CNN and NLP/ckpt/\"\n",
        "\n",
        "ckpt = tf.train.Checkpoint(Dcnn = Dcnn)\n",
        "\n",
        "ckpt_manager = tf.train.CheckpointManager(ckpt, checkpoint_path, max_to_keep= 2)\n",
        "\n",
        "if ckpt_manager.latest_checkpoint:\n",
        "    ckpt.restore(ckpt_manager.latest_checkpoint)\n",
        "    print(\"Latest checkpoint restored!\")"
      ],
      "execution_count": 0,
      "outputs": []
    },
    {
      "cell_type": "code",
      "metadata": {
        "id": "YkeyLQVwNF--",
        "colab_type": "code",
        "outputId": "01b8c0ee-c8c7-4841-dd85-ab92f7bf5b49",
        "colab": {
          "base_uri": "https://localhost:8080/",
          "height": 277
        }
      },
      "source": [
        "import tensorflow as tf\n",
        "print(tf.test.gpu_device_name())\n",
        "from tensorflow.python.client import device_lib\n",
        "print(device_lib.list_local_devices())\n"
      ],
      "execution_count": 0,
      "outputs": [
        {
          "output_type": "stream",
          "text": [
            "\n",
            "[name: \"/device:CPU:0\"\n",
            "device_type: \"CPU\"\n",
            "memory_limit: 268435456\n",
            "locality {\n",
            "}\n",
            "incarnation: 14851338026670241166\n",
            ", name: \"/device:XLA_CPU:0\"\n",
            "device_type: \"XLA_CPU\"\n",
            "memory_limit: 17179869184\n",
            "locality {\n",
            "}\n",
            "incarnation: 15180381478974756409\n",
            "physical_device_desc: \"device: XLA_CPU device\"\n",
            "]\n"
          ],
          "name": "stdout"
        }
      ]
    },
    {
      "cell_type": "code",
      "metadata": {
        "id": "F8i8Qs-VpP09",
        "colab_type": "code",
        "outputId": "58749be9-03ab-4eb2-83d7-333ccff65af1",
        "colab": {
          "base_uri": "https://localhost:8080/",
          "height": 208
        }
      },
      "source": [
        "# Training the Model\n",
        "\n",
        "Dcnn.fit(train_inputs,\n",
        "         train_labels,\n",
        "         batch_size = BATCH_SIZE,\n",
        "         epochs = NB_EPOCHS)\n",
        "ckpt_manager.save()"
      ],
      "execution_count": 0,
      "outputs": [
        {
          "output_type": "stream",
          "text": [
            "Epoch 1/5\n",
            "49502/49502 [==============================] - 3318s 67ms/step - loss: 0.3949 - accuracy: 0.8225\n",
            "Epoch 2/5\n",
            "49502/49502 [==============================] - 3307s 67ms/step - loss: 0.3286 - accuracy: 0.8599\n",
            "Epoch 3/5\n",
            "49502/49502 [==============================] - 3294s 67ms/step - loss: 0.2760 - accuracy: 0.8863\n",
            "Epoch 4/5\n",
            "49502/49502 [==============================] - 3283s 66ms/step - loss: 0.2220 - accuracy: 0.9112\n",
            "Epoch 5/5\n",
            "49502/49502 [==============================] - 3282s 66ms/step - loss: 0.1758 - accuracy: 0.9314\n"
          ],
          "name": "stdout"
        },
        {
          "output_type": "execute_result",
          "data": {
            "text/plain": [
              "'/content/drive/My Drive/Mordern NLP - Python/Sentiment Analysis - CNN and NLP/ckpt/ckpt-1'"
            ]
          },
          "metadata": {
            "tags": []
          },
          "execution_count": 30
        }
      ]
    },
    {
      "cell_type": "markdown",
      "metadata": {
        "id": "Ym8WjWL1ML-m",
        "colab_type": "text"
      },
      "source": [
        ""
      ]
    },
    {
      "cell_type": "code",
      "metadata": {
        "id": "YBXvQy_Cpffe",
        "colab_type": "code",
        "outputId": "94b9b595-43cd-4ef3-dbbe-cb66dfa92b03",
        "colab": {
          "base_uri": "https://localhost:8080/",
          "height": 52
        }
      },
      "source": [
        "# Finally, We Evaluate the Model\n",
        "\n",
        "results = Dcnn.evaluate(test_inputs, test_labels, batch_size= BATCH_SIZE)\n",
        "print(results)"
      ],
      "execution_count": 0,
      "outputs": [
        {
          "output_type": "stream",
          "text": [
            "500/500 [==============================] - 3s 7ms/step - loss: 0.4944 - accuracy: 0.8166\n",
            "[0.4943913519382477, 0.8166249990463257]\n"
          ],
          "name": "stdout"
        }
      ]
    },
    {
      "cell_type": "markdown",
      "metadata": {
        "id": "TtO99daLvxwF",
        "colab_type": "text"
      },
      "source": [
        "time.sleep(5000)"
      ]
    },
    {
      "cell_type": "code",
      "metadata": {
        "id": "3mVpBYAzv1vo",
        "colab_type": "code",
        "outputId": "fff996e0-7cf7-4534-de1a-c537fda35161",
        "colab": {
          "base_uri": "https://localhost:8080/",
          "height": 52
        }
      },
      "source": [
        "# Test for Manual Data\n",
        "vals = str(input(\"Enter the Sentence to Classify: \\n\"))\n",
        "\n",
        "tokenizer = tfds.features.text.SubwordTextEncoder.build_from_corpus(\n",
        "    vals, target_vocab_size = 2**16)\n",
        "val = [tokenizer.encode(val) for val in vals]"
      ],
      "execution_count": 0,
      "outputs": [
        {
          "output_type": "stream",
          "text": [
            "Enter the Sentence to Classify: \n",
            "Is your writing good enough? Can you persuade readers to contact you? And buy from you? Can you make your content easy to read, engaging, and inspirational?\n"
          ],
          "name": "stdout"
        }
      ]
    },
    {
      "cell_type": "code",
      "metadata": {
        "id": "YbCwAcon2moa",
        "colab_type": "code",
        "outputId": "7b21fa41-3a1a-4c80-a054-2fe0caf90c77",
        "colab": {
          "base_uri": "https://localhost:8080/",
          "height": 34
        }
      },
      "source": [
        "Dcnn(np.array([tokenizer.encode(vals)]), training=False).numpy()"
      ],
      "execution_count": 0,
      "outputs": [
        {
          "output_type": "execute_result",
          "data": {
            "text/plain": [
              "array([[0.39045188]], dtype=float32)"
            ]
          },
          "metadata": {
            "tags": []
          },
          "execution_count": 38
        }
      ]
    }
  ]
}
{
  "nbformat": 4,
  "nbformat_minor": 0,
  "metadata": {
    "colab": {
      "name": "0_LinearRegression_MooresLaw.ipynb",
      "provenance": [],
      "collapsed_sections": [],
      "authorship_tag": "ABX9TyMp8UdrW1BpfTv2oNFRseFM",
      "include_colab_link": true
    },
    "kernelspec": {
      "name": "python3",
      "display_name": "Python 3"
    }
  },
  "cells": [
    {
      "cell_type": "markdown",
      "metadata": {
        "id": "view-in-github",
        "colab_type": "text"
      },
      "source": [
        "<a href=\"https://colab.research.google.com/github/ravishankarramakrishnan/Deep_Learning_Practice/blob/master/0_LinearRegression_MooresLaw.ipynb\" target=\"_parent\"><img src=\"https://colab.research.google.com/assets/colab-badge.svg\" alt=\"Open In Colab\"/></a>"
      ]
    },
    {
      "cell_type": "code",
      "metadata": {
        "id": "v7v6xXpSHWD_",
        "colab_type": "code",
        "outputId": "c86ae153-6f09-4195-9f9a-78aec1a72313",
        "colab": {
          "base_uri": "https://localhost:8080/",
          "height": 68
        }
      },
      "source": [
        "!pip install -q tensorflow==2.0.0-beta1"
      ],
      "execution_count": 0,
      "outputs": [
        {
          "output_type": "stream",
          "text": [
            "\u001b[K     |████████████████████████████████| 87.9MB 63kB/s \n",
            "\u001b[K     |████████████████████████████████| 501kB 44.5MB/s \n",
            "\u001b[K     |████████████████████████████████| 3.1MB 51.1MB/s \n",
            "\u001b[?25h"
          ],
          "name": "stdout"
        }
      ]
    },
    {
      "cell_type": "code",
      "metadata": {
        "id": "yzzCAEIJHY6E",
        "colab_type": "code",
        "outputId": "5bc1e2fc-6544-4ce5-8dbe-9c8592ad11ea",
        "colab": {
          "base_uri": "https://localhost:8080/",
          "height": 445
        }
      },
      "source": [
        "# Importing the Libraries\n",
        "\n",
        "import numpy as np\n",
        "import pandas as pd\n",
        "import tensorflow as tf"
      ],
      "execution_count": 0,
      "outputs": [
        {
          "output_type": "stream",
          "text": [
            "/usr/local/lib/python3.6/dist-packages/tensorflow/python/framework/dtypes.py:516: FutureWarning: Passing (type, 1) or '1type' as a synonym of type is deprecated; in a future version of numpy, it will be understood as (type, (1,)) / '(1,)type'.\n",
            "  _np_qint8 = np.dtype([(\"qint8\", np.int8, 1)])\n",
            "/usr/local/lib/python3.6/dist-packages/tensorflow/python/framework/dtypes.py:517: FutureWarning: Passing (type, 1) or '1type' as a synonym of type is deprecated; in a future version of numpy, it will be understood as (type, (1,)) / '(1,)type'.\n",
            "  _np_quint8 = np.dtype([(\"quint8\", np.uint8, 1)])\n",
            "/usr/local/lib/python3.6/dist-packages/tensorflow/python/framework/dtypes.py:518: FutureWarning: Passing (type, 1) or '1type' as a synonym of type is deprecated; in a future version of numpy, it will be understood as (type, (1,)) / '(1,)type'.\n",
            "  _np_qint16 = np.dtype([(\"qint16\", np.int16, 1)])\n",
            "/usr/local/lib/python3.6/dist-packages/tensorflow/python/framework/dtypes.py:519: FutureWarning: Passing (type, 1) or '1type' as a synonym of type is deprecated; in a future version of numpy, it will be understood as (type, (1,)) / '(1,)type'.\n",
            "  _np_quint16 = np.dtype([(\"quint16\", np.uint16, 1)])\n",
            "/usr/local/lib/python3.6/dist-packages/tensorflow/python/framework/dtypes.py:520: FutureWarning: Passing (type, 1) or '1type' as a synonym of type is deprecated; in a future version of numpy, it will be understood as (type, (1,)) / '(1,)type'.\n",
            "  _np_qint32 = np.dtype([(\"qint32\", np.int32, 1)])\n",
            "/usr/local/lib/python3.6/dist-packages/tensorflow/python/framework/dtypes.py:525: FutureWarning: Passing (type, 1) or '1type' as a synonym of type is deprecated; in a future version of numpy, it will be understood as (type, (1,)) / '(1,)type'.\n",
            "  np_resource = np.dtype([(\"resource\", np.ubyte, 1)])\n",
            "/usr/local/lib/python3.6/dist-packages/tensorboard/compat/tensorflow_stub/dtypes.py:541: FutureWarning: Passing (type, 1) or '1type' as a synonym of type is deprecated; in a future version of numpy, it will be understood as (type, (1,)) / '(1,)type'.\n",
            "  _np_qint8 = np.dtype([(\"qint8\", np.int8, 1)])\n",
            "/usr/local/lib/python3.6/dist-packages/tensorboard/compat/tensorflow_stub/dtypes.py:542: FutureWarning: Passing (type, 1) or '1type' as a synonym of type is deprecated; in a future version of numpy, it will be understood as (type, (1,)) / '(1,)type'.\n",
            "  _np_quint8 = np.dtype([(\"quint8\", np.uint8, 1)])\n",
            "/usr/local/lib/python3.6/dist-packages/tensorboard/compat/tensorflow_stub/dtypes.py:543: FutureWarning: Passing (type, 1) or '1type' as a synonym of type is deprecated; in a future version of numpy, it will be understood as (type, (1,)) / '(1,)type'.\n",
            "  _np_qint16 = np.dtype([(\"qint16\", np.int16, 1)])\n",
            "/usr/local/lib/python3.6/dist-packages/tensorboard/compat/tensorflow_stub/dtypes.py:544: FutureWarning: Passing (type, 1) or '1type' as a synonym of type is deprecated; in a future version of numpy, it will be understood as (type, (1,)) / '(1,)type'.\n",
            "  _np_quint16 = np.dtype([(\"quint16\", np.uint16, 1)])\n",
            "/usr/local/lib/python3.6/dist-packages/tensorboard/compat/tensorflow_stub/dtypes.py:545: FutureWarning: Passing (type, 1) or '1type' as a synonym of type is deprecated; in a future version of numpy, it will be understood as (type, (1,)) / '(1,)type'.\n",
            "  _np_qint32 = np.dtype([(\"qint32\", np.int32, 1)])\n",
            "/usr/local/lib/python3.6/dist-packages/tensorboard/compat/tensorflow_stub/dtypes.py:550: FutureWarning: Passing (type, 1) or '1type' as a synonym of type is deprecated; in a future version of numpy, it will be understood as (type, (1,)) / '(1,)type'.\n",
            "  np_resource = np.dtype([(\"resource\", np.ubyte, 1)])\n"
          ],
          "name": "stderr"
        }
      ]
    },
    {
      "cell_type": "code",
      "metadata": {
        "id": "Gk61vferKQEt",
        "colab_type": "code",
        "outputId": "1559a4c3-80b1-484e-fd89-6baf707d230c",
        "colab": {
          "base_uri": "https://localhost:8080/",
          "height": 204
        }
      },
      "source": [
        "# Get the Data\n",
        "\n",
        "!wget https://raw.githubusercontent.com/lazyprogrammer/machine_learning_examples/master/tf2.0/moore.csv"
      ],
      "execution_count": 0,
      "outputs": [
        {
          "output_type": "stream",
          "text": [
            "--2020-01-16 14:29:00--  https://raw.githubusercontent.com/lazyprogrammer/machine_learning_examples/master/tf2.0/moore.csv\n",
            "Resolving raw.githubusercontent.com (raw.githubusercontent.com)... 151.101.0.133, 151.101.64.133, 151.101.128.133, ...\n",
            "Connecting to raw.githubusercontent.com (raw.githubusercontent.com)|151.101.0.133|:443... connected.\n",
            "HTTP request sent, awaiting response... 200 OK\n",
            "Length: 2302 (2.2K) [text/plain]\n",
            "Saving to: ‘moore.csv’\n",
            "\n",
            "\rmoore.csv             0%[                    ]       0  --.-KB/s               \rmoore.csv           100%[===================>]   2.25K  --.-KB/s    in 0s      \n",
            "\n",
            "2020-01-16 14:29:00 (52.4 MB/s) - ‘moore.csv’ saved [2302/2302]\n",
            "\n"
          ],
          "name": "stdout"
        }
      ]
    },
    {
      "cell_type": "code",
      "metadata": {
        "id": "Odp1E-3HKTkD",
        "colab_type": "code",
        "colab": {}
      },
      "source": [
        "# Load in the Data\n",
        "\n",
        "data = pd.read_csv('moore.csv', header=None, engine='python')"
      ],
      "execution_count": 0,
      "outputs": []
    },
    {
      "cell_type": "code",
      "metadata": {
        "id": "lhfqJTJIKkpj",
        "colab_type": "code",
        "outputId": "c6cf7c36-a28d-4ef8-ec31-4e8eab617d9b",
        "colab": {
          "base_uri": "https://localhost:8080/",
          "height": 204
        }
      },
      "source": [
        "data.head()"
      ],
      "execution_count": 0,
      "outputs": [
        {
          "output_type": "execute_result",
          "data": {
            "text/html": [
              "<div>\n",
              "<style scoped>\n",
              "    .dataframe tbody tr th:only-of-type {\n",
              "        vertical-align: middle;\n",
              "    }\n",
              "\n",
              "    .dataframe tbody tr th {\n",
              "        vertical-align: top;\n",
              "    }\n",
              "\n",
              "    .dataframe thead th {\n",
              "        text-align: right;\n",
              "    }\n",
              "</style>\n",
              "<table border=\"1\" class=\"dataframe\">\n",
              "  <thead>\n",
              "    <tr style=\"text-align: right;\">\n",
              "      <th></th>\n",
              "      <th>0</th>\n",
              "      <th>1</th>\n",
              "    </tr>\n",
              "  </thead>\n",
              "  <tbody>\n",
              "    <tr>\n",
              "      <th>0</th>\n",
              "      <td>1971</td>\n",
              "      <td>2300</td>\n",
              "    </tr>\n",
              "    <tr>\n",
              "      <th>1</th>\n",
              "      <td>1972</td>\n",
              "      <td>3500</td>\n",
              "    </tr>\n",
              "    <tr>\n",
              "      <th>2</th>\n",
              "      <td>1973</td>\n",
              "      <td>2500</td>\n",
              "    </tr>\n",
              "    <tr>\n",
              "      <th>3</th>\n",
              "      <td>1973</td>\n",
              "      <td>2500</td>\n",
              "    </tr>\n",
              "    <tr>\n",
              "      <th>4</th>\n",
              "      <td>1974</td>\n",
              "      <td>4100</td>\n",
              "    </tr>\n",
              "  </tbody>\n",
              "</table>\n",
              "</div>"
            ],
            "text/plain": [
              "      0     1\n",
              "0  1971  2300\n",
              "1  1972  3500\n",
              "2  1973  2500\n",
              "3  1973  2500\n",
              "4  1974  4100"
            ]
          },
          "metadata": {
            "tags": []
          },
          "execution_count": 6
        }
      ]
    },
    {
      "cell_type": "code",
      "metadata": {
        "id": "M3kaIL6lK9Sr",
        "colab_type": "code",
        "colab": {}
      },
      "source": [
        "# Reshaping the Data\n",
        "X = data[0].values.reshape(-1,1) # Making it 2D array of N*D where D=1\n",
        "y = data[1].values"
      ],
      "execution_count": 0,
      "outputs": []
    },
    {
      "cell_type": "code",
      "metadata": {
        "id": "xp96Pvq7LtkR",
        "colab_type": "code",
        "outputId": "fcbfbf89-90ef-4cfe-ab4b-4c045ab31d5d",
        "colab": {
          "base_uri": "https://localhost:8080/",
          "height": 293
        }
      },
      "source": [
        "# Plotting the Data to See Exponential Trend\n",
        "\n",
        "import matplotlib.pyplot as plt\n",
        "\n",
        "plt.scatter(X,y)"
      ],
      "execution_count": 0,
      "outputs": [
        {
          "output_type": "execute_result",
          "data": {
            "text/plain": [
              "<matplotlib.collections.PathCollection at 0x7f18a23b74a8>"
            ]
          },
          "metadata": {
            "tags": []
          },
          "execution_count": 8
        },
        {
          "output_type": "display_data",
          "data": {
            "image/png": "[encoded data removed]",
            "text/plain": [
              "<Figure size 432x288 with 1 Axes>"
            ]
          },
          "metadata": {
            "tags": []
          }
        }
      ]
    },
    {
      "cell_type": "code",
      "metadata": {
        "id": "o7NDxyaBL0_7",
        "colab_type": "code",
        "outputId": "f82bd6eb-0ac8-4790-c072-8d97cc4f1720",
        "colab": {
          "base_uri": "https://localhost:8080/",
          "height": 282
        }
      },
      "source": [
        "# As we Need Linear Model, we take Log\n",
        "y = np.log(y)\n",
        "plt.scatter(X,y)"
      ],
      "execution_count": 0,
      "outputs": [
        {
          "output_type": "execute_result",
          "data": {
            "text/plain": [
              "<matplotlib.collections.PathCollection at 0x7f189f6fbc50>"
            ]
          },
          "metadata": {
            "tags": []
          },
          "execution_count": 9
        },
        {
          "output_type": "display_data",
          "data": {
            "image/png": "[encoded data removed]",
            "text/plain": [
              "<Figure size 432x288 with 1 Axes>"
            ]
          },
          "metadata": {
            "tags": []
          }
        }
      ]
    },
    {
      "cell_type": "code",
      "metadata": {
        "id": "xJFIJxfFMAdK",
        "colab_type": "code",
        "colab": {}
      },
      "source": [
        "#Center the X value data as the Values arent too large\n",
        "X = X-X.mean()"
      ],
      "execution_count": 0,
      "outputs": []
    },
    {
      "cell_type": "code",
      "metadata": {
        "id": "8hg2_qvfMJuS",
        "colab_type": "code",
        "colab": {}
      },
      "source": [
        "# Create a Tensorflow Model\n",
        "'''\n",
        "model = tf.keras.models.Sequential([\n",
        "                                    tf.keras.layers.Input(shape=(1,)),\n",
        "                                    tf.keras.layers.Dense(1)\n",
        "])\n",
        "'''\n",
        "# As We get Model Load Error, we follow the below\n",
        "\n",
        "model = tf.keras.models.Sequential()\n",
        "model.add(tf.keras.layers.Dense(1, input_shape = (1,), activation=None))"
      ],
      "execution_count": 0,
      "outputs": []
    },
    {
      "cell_type": "code",
      "metadata": {
        "id": "Nx30IFO2McuK",
        "colab_type": "code",
        "colab": {}
      },
      "source": [
        "# Compiling the Model\n",
        "model.compile(optimizer=tf.keras.optimizers.SGD(0.001, 0.9), loss=\"mse\")"
      ],
      "execution_count": 0,
      "outputs": []
    },
    {
      "cell_type": "code",
      "metadata": {
        "id": "RTsvwecxMnBS",
        "colab_type": "code",
        "colab": {}
      },
      "source": [
        "# Create a Learning Rate Scheduler\n",
        "\n",
        "def schedule(epoch,lr):\n",
        "  if epoch >= 50:\n",
        "    return 0.0001\n",
        "  return 0.001"
      ],
      "execution_count": 0,
      "outputs": []
    },
    {
      "cell_type": "code",
      "metadata": {
        "id": "vbvcAs9_NNvg",
        "colab_type": "code",
        "colab": {}
      },
      "source": [
        "# Assign Scheduler\n",
        "scheduler = tf.keras.callbacks.LearningRateScheduler(schedule)"
      ],
      "execution_count": 0,
      "outputs": []
    },
    {
      "cell_type": "code",
      "metadata": {
        "id": "r84SmDhaNVly",
        "colab_type": "code",
        "outputId": "36efddd7-1c4e-427c-d5f1-238e58b45e84",
        "colab": {
          "base_uri": "https://localhost:8080/",
          "height": 1000
        }
      },
      "source": [
        "# Train the Model\n",
        "r = model.fit(X, y, epochs=200, callbacks=[scheduler])"
      ],
      "execution_count": 0,
      "outputs": [
        {
          "output_type": "stream",
          "text": [
            "Train on 162 samples\n",
            "Epoch 1/200\n",
            "162/162 [==============================] - 0s 260us/sample - loss: 324.0058\n",
            "Epoch 2/200\n",
            "162/162 [==============================] - 0s 63us/sample - loss: 285.2695\n",
            "Epoch 3/200\n",
            "162/162 [==============================] - 0s 59us/sample - loss: 260.9712\n",
            "Epoch 4/200\n",
            "162/162 [==============================] - 0s 55us/sample - loss: 191.3472\n",
            "Epoch 5/200\n",
            "162/162 [==============================] - 0s 55us/sample - loss: 172.9737\n",
            "Epoch 6/200\n",
            "162/162 [==============================] - 0s 54us/sample - loss: 135.6870\n",
            "Epoch 7/200\n",
            "162/162 [==============================] - 0s 60us/sample - loss: 157.1341\n",
            "Epoch 8/200\n",
            "162/162 [==============================] - 0s 65us/sample - loss: 93.1072\n",
            "Epoch 9/200\n",
            "162/162 [==============================] - 0s 61us/sample - loss: 57.9357\n",
            "Epoch 10/200\n",
            "162/162 [==============================] - 0s 62us/sample - loss: 39.9507\n",
            "Epoch 11/200\n",
            "162/162 [==============================] - 0s 65us/sample - loss: 26.8002\n",
            "Epoch 12/200\n",
            "162/162 [==============================] - 0s 64us/sample - loss: 23.4356\n",
            "Epoch 13/200\n",
            "162/162 [==============================] - 0s 53us/sample - loss: 16.7831\n",
            "Epoch 14/200\n",
            "162/162 [==============================] - 0s 51us/sample - loss: 13.7900\n",
            "Epoch 15/200\n",
            "162/162 [==============================] - 0s 52us/sample - loss: 13.1383\n",
            "Epoch 16/200\n",
            "162/162 [==============================] - 0s 51us/sample - loss: 13.6557\n",
            "Epoch 17/200\n",
            "162/162 [==============================] - 0s 53us/sample - loss: 10.2682\n",
            "Epoch 18/200\n",
            "162/162 [==============================] - 0s 55us/sample - loss: 7.5117\n",
            "Epoch 19/200\n",
            "162/162 [==============================] - 0s 62us/sample - loss: 5.0452\n",
            "Epoch 20/200\n",
            "162/162 [==============================] - 0s 60us/sample - loss: 4.0896\n",
            "Epoch 21/200\n",
            "162/162 [==============================] - 0s 62us/sample - loss: 2.8552\n",
            "Epoch 22/200\n",
            "162/162 [==============================] - 0s 57us/sample - loss: 3.2928\n",
            "Epoch 23/200\n",
            "162/162 [==============================] - 0s 63us/sample - loss: 2.2775\n",
            "Epoch 24/200\n",
            "162/162 [==============================] - 0s 86us/sample - loss: 1.6005\n",
            "Epoch 25/200\n",
            "162/162 [==============================] - 0s 64us/sample - loss: 1.3629\n",
            "Epoch 26/200\n",
            "162/162 [==============================] - 0s 65us/sample - loss: 1.1971\n",
            "Epoch 27/200\n",
            "162/162 [==============================] - 0s 65us/sample - loss: 1.2054\n",
            "Epoch 28/200\n",
            "162/162 [==============================] - 0s 64us/sample - loss: 1.1793\n",
            "Epoch 29/200\n",
            "162/162 [==============================] - 0s 71us/sample - loss: 1.8830\n",
            "Epoch 30/200\n",
            "162/162 [==============================] - 0s 76us/sample - loss: 1.8468\n",
            "Epoch 31/200\n",
            "162/162 [==============================] - 0s 51us/sample - loss: 1.6357\n",
            "Epoch 32/200\n",
            "162/162 [==============================] - 0s 54us/sample - loss: 1.4565\n",
            "Epoch 33/200\n",
            "162/162 [==============================] - 0s 55us/sample - loss: 1.1771\n",
            "Epoch 34/200\n",
            "162/162 [==============================] - 0s 62us/sample - loss: 1.4746\n",
            "Epoch 35/200\n",
            "162/162 [==============================] - 0s 56us/sample - loss: 1.1767\n",
            "Epoch 36/200\n",
            "162/162 [==============================] - 0s 63us/sample - loss: 1.1599\n",
            "Epoch 37/200\n",
            "162/162 [==============================] - 0s 68us/sample - loss: 1.0636\n",
            "Epoch 38/200\n",
            "162/162 [==============================] - 0s 76us/sample - loss: 1.0771\n",
            "Epoch 39/200\n",
            "162/162 [==============================] - 0s 94us/sample - loss: 1.0768\n",
            "Epoch 40/200\n",
            "162/162 [==============================] - 0s 103us/sample - loss: 1.0375\n",
            "Epoch 41/200\n",
            "162/162 [==============================] - 0s 80us/sample - loss: 0.9112\n",
            "Epoch 42/200\n",
            "162/162 [==============================] - 0s 54us/sample - loss: 0.9105\n",
            "Epoch 43/200\n",
            "162/162 [==============================] - 0s 56us/sample - loss: 0.8930\n",
            "Epoch 44/200\n",
            "162/162 [==============================] - 0s 54us/sample - loss: 0.8880\n",
            "Epoch 45/200\n",
            "162/162 [==============================] - 0s 54us/sample - loss: 0.8821\n",
            "Epoch 46/200\n",
            "162/162 [==============================] - 0s 76us/sample - loss: 0.8757\n",
            "Epoch 47/200\n",
            "162/162 [==============================] - 0s 78us/sample - loss: 0.8949\n",
            "Epoch 48/200\n",
            "162/162 [==============================] - 0s 69us/sample - loss: 1.0592\n",
            "Epoch 49/200\n",
            "162/162 [==============================] - 0s 77us/sample - loss: 0.9729\n",
            "Epoch 50/200\n",
            "162/162 [==============================] - 0s 63us/sample - loss: 1.0800\n",
            "Epoch 51/200\n",
            "162/162 [==============================] - 0s 55us/sample - loss: 1.4702\n",
            "Epoch 52/200\n",
            "162/162 [==============================] - 0s 53us/sample - loss: 2.6605\n",
            "Epoch 53/200\n",
            "162/162 [==============================] - 0s 63us/sample - loss: 1.1601\n",
            "Epoch 54/200\n",
            "162/162 [==============================] - 0s 60us/sample - loss: 1.0205\n",
            "Epoch 55/200\n",
            "162/162 [==============================] - 0s 54us/sample - loss: 1.0760\n",
            "Epoch 56/200\n",
            "162/162 [==============================] - 0s 65us/sample - loss: 0.8626\n",
            "Epoch 57/200\n",
            "162/162 [==============================] - 0s 68us/sample - loss: 0.9145\n",
            "Epoch 58/200\n",
            "162/162 [==============================] - 0s 70us/sample - loss: 0.9279\n",
            "Epoch 59/200\n",
            "162/162 [==============================] - 0s 66us/sample - loss: 0.8763\n",
            "Epoch 60/200\n",
            "162/162 [==============================] - 0s 58us/sample - loss: 0.8842\n",
            "Epoch 61/200\n",
            "162/162 [==============================] - 0s 58us/sample - loss: 0.8848\n",
            "Epoch 62/200\n",
            "162/162 [==============================] - 0s 57us/sample - loss: 0.8703\n",
            "Epoch 63/200\n",
            "162/162 [==============================] - 0s 56us/sample - loss: 0.8698\n",
            "Epoch 64/200\n",
            "162/162 [==============================] - 0s 67us/sample - loss: 0.8799\n",
            "Epoch 65/200\n",
            "162/162 [==============================] - 0s 57us/sample - loss: 0.8866\n",
            "Epoch 66/200\n",
            "162/162 [==============================] - 0s 67us/sample - loss: 0.8662\n",
            "Epoch 67/200\n",
            "162/162 [==============================] - 0s 53us/sample - loss: 0.8735\n",
            "Epoch 68/200\n",
            "162/162 [==============================] - 0s 60us/sample - loss: 0.8814\n",
            "Epoch 69/200\n",
            "162/162 [==============================] - 0s 63us/sample - loss: 0.8830\n",
            "Epoch 70/200\n",
            "162/162 [==============================] - 0s 58us/sample - loss: 0.8723\n",
            "Epoch 71/200\n",
            "162/162 [==============================] - 0s 57us/sample - loss: 0.8701\n",
            "Epoch 72/200\n",
            "162/162 [==============================] - 0s 59us/sample - loss: 0.8757\n",
            "Epoch 73/200\n",
            "162/162 [==============================] - 0s 75us/sample - loss: 0.8806\n",
            "Epoch 74/200\n",
            "162/162 [==============================] - 0s 63us/sample - loss: 0.8700\n",
            "Epoch 75/200\n",
            "162/162 [==============================] - 0s 81us/sample - loss: 0.8786\n",
            "Epoch 76/200\n",
            "162/162 [==============================] - 0s 51us/sample - loss: 0.8744\n",
            "Epoch 77/200\n",
            "162/162 [==============================] - 0s 62us/sample - loss: 0.8722\n",
            "Epoch 78/200\n",
            "162/162 [==============================] - 0s 64us/sample - loss: 0.8721\n",
            "Epoch 79/200\n",
            "162/162 [==============================] - 0s 74us/sample - loss: 0.8740\n",
            "Epoch 80/200\n",
            "162/162 [==============================] - 0s 73us/sample - loss: 0.8716\n",
            "Epoch 81/200\n",
            "162/162 [==============================] - 0s 55us/sample - loss: 0.8712\n",
            "Epoch 82/200\n",
            "162/162 [==============================] - 0s 55us/sample - loss: 0.8935\n",
            "Epoch 83/200\n",
            "162/162 [==============================] - 0s 54us/sample - loss: 0.8832\n",
            "Epoch 84/200\n",
            "162/162 [==============================] - 0s 58us/sample - loss: 0.8746\n",
            "Epoch 85/200\n",
            "162/162 [==============================] - 0s 87us/sample - loss: 0.8941\n",
            "Epoch 86/200\n",
            "162/162 [==============================] - 0s 71us/sample - loss: 0.8795\n",
            "Epoch 87/200\n",
            "162/162 [==============================] - 0s 70us/sample - loss: 0.8753\n",
            "Epoch 88/200\n",
            "162/162 [==============================] - 0s 52us/sample - loss: 0.8799\n",
            "Epoch 89/200\n",
            "162/162 [==============================] - 0s 73us/sample - loss: 0.8764\n",
            "Epoch 90/200\n",
            "162/162 [==============================] - 0s 67us/sample - loss: 0.8861\n",
            "Epoch 91/200\n",
            "162/162 [==============================] - 0s 68us/sample - loss: 0.8802\n",
            "Epoch 92/200\n",
            "162/162 [==============================] - 0s 64us/sample - loss: 0.8746\n",
            "Epoch 93/200\n",
            "162/162 [==============================] - 0s 63us/sample - loss: 0.8794\n",
            "Epoch 94/200\n",
            "162/162 [==============================] - 0s 71us/sample - loss: 0.8892\n",
            "Epoch 95/200\n",
            "162/162 [==============================] - 0s 65us/sample - loss: 0.8772\n",
            "Epoch 96/200\n",
            "162/162 [==============================] - 0s 65us/sample - loss: 0.8712\n",
            "Epoch 97/200\n",
            "162/162 [==============================] - 0s 63us/sample - loss: 0.8761\n",
            "Epoch 98/200\n",
            "162/162 [==============================] - 0s 59us/sample - loss: 0.8706\n",
            "Epoch 99/200\n",
            "162/162 [==============================] - 0s 64us/sample - loss: 0.8731\n",
            "Epoch 100/200\n",
            "162/162 [==============================] - 0s 52us/sample - loss: 0.8753\n",
            "Epoch 101/200\n",
            "162/162 [==============================] - 0s 80us/sample - loss: 0.8700\n",
            "Epoch 102/200\n",
            "162/162 [==============================] - 0s 80us/sample - loss: 0.8704\n",
            "Epoch 103/200\n",
            "162/162 [==============================] - 0s 66us/sample - loss: 0.8838\n",
            "Epoch 104/200\n",
            "162/162 [==============================] - 0s 67us/sample - loss: 0.8818\n",
            "Epoch 105/200\n",
            "162/162 [==============================] - 0s 62us/sample - loss: 0.8712\n",
            "Epoch 106/200\n",
            "162/162 [==============================] - 0s 63us/sample - loss: 0.8800\n",
            "Epoch 107/200\n",
            "162/162 [==============================] - 0s 65us/sample - loss: 0.8693\n",
            "Epoch 108/200\n",
            "162/162 [==============================] - 0s 71us/sample - loss: 0.8794\n",
            "Epoch 109/200\n",
            "162/162 [==============================] - 0s 63us/sample - loss: 0.8721\n",
            "Epoch 110/200\n",
            "162/162 [==============================] - 0s 62us/sample - loss: 0.8717\n",
            "Epoch 111/200\n",
            "162/162 [==============================] - 0s 77us/sample - loss: 0.8756\n",
            "Epoch 112/200\n",
            "162/162 [==============================] - 0s 64us/sample - loss: 0.8716\n",
            "Epoch 113/200\n",
            "162/162 [==============================] - 0s 71us/sample - loss: 0.8794\n",
            "Epoch 114/200\n",
            "162/162 [==============================] - 0s 64us/sample - loss: 0.8801\n",
            "Epoch 115/200\n",
            "162/162 [==============================] - 0s 61us/sample - loss: 0.8725\n",
            "Epoch 116/200\n",
            "162/162 [==============================] - 0s 69us/sample - loss: 0.8719\n",
            "Epoch 117/200\n",
            "162/162 [==============================] - 0s 63us/sample - loss: 0.8719\n",
            "Epoch 118/200\n",
            "162/162 [==============================] - 0s 63us/sample - loss: 0.8705\n",
            "Epoch 119/200\n",
            "162/162 [==============================] - 0s 61us/sample - loss: 0.8724\n",
            "Epoch 120/200\n",
            "162/162 [==============================] - 0s 61us/sample - loss: 0.8913\n",
            "Epoch 121/200\n",
            "162/162 [==============================] - 0s 62us/sample - loss: 0.9196\n",
            "Epoch 122/200\n",
            "162/162 [==============================] - 0s 57us/sample - loss: 0.8857\n",
            "Epoch 123/200\n",
            "162/162 [==============================] - 0s 53us/sample - loss: 0.8726\n",
            "Epoch 124/200\n",
            "162/162 [==============================] - 0s 71us/sample - loss: 0.8819\n",
            "Epoch 125/200\n",
            "162/162 [==============================] - 0s 84us/sample - loss: 0.8769\n",
            "Epoch 126/200\n",
            "162/162 [==============================] - 0s 82us/sample - loss: 0.8816\n",
            "Epoch 127/200\n",
            "162/162 [==============================] - 0s 85us/sample - loss: 0.8691\n",
            "Epoch 128/200\n",
            "162/162 [==============================] - 0s 83us/sample - loss: 0.8764\n",
            "Epoch 129/200\n",
            "162/162 [==============================] - 0s 79us/sample - loss: 0.8937\n",
            "Epoch 130/200\n",
            "162/162 [==============================] - 0s 57us/sample - loss: 0.8767\n",
            "Epoch 131/200\n",
            "162/162 [==============================] - 0s 57us/sample - loss: 0.8790\n",
            "Epoch 132/200\n",
            "162/162 [==============================] - 0s 57us/sample - loss: 0.8829\n",
            "Epoch 133/200\n",
            "162/162 [==============================] - 0s 74us/sample - loss: 0.8805\n",
            "Epoch 134/200\n",
            "162/162 [==============================] - 0s 66us/sample - loss: 0.8723\n",
            "Epoch 135/200\n",
            "162/162 [==============================] - 0s 53us/sample - loss: 0.8864\n",
            "Epoch 136/200\n",
            "162/162 [==============================] - 0s 57us/sample - loss: 0.8791\n",
            "Epoch 137/200\n",
            "162/162 [==============================] - 0s 57us/sample - loss: 0.8722\n",
            "Epoch 138/200\n",
            "162/162 [==============================] - 0s 57us/sample - loss: 0.8819\n",
            "Epoch 139/200\n",
            "162/162 [==============================] - 0s 68us/sample - loss: 0.8773\n",
            "Epoch 140/200\n",
            "162/162 [==============================] - 0s 67us/sample - loss: 0.8758\n",
            "Epoch 141/200\n",
            "162/162 [==============================] - 0s 56us/sample - loss: 0.8764\n",
            "Epoch 142/200\n",
            "162/162 [==============================] - 0s 55us/sample - loss: 0.8847\n",
            "Epoch 143/200\n",
            "162/162 [==============================] - 0s 61us/sample - loss: 0.8828\n",
            "Epoch 144/200\n",
            "162/162 [==============================] - 0s 74us/sample - loss: 0.8698\n",
            "Epoch 145/200\n",
            "162/162 [==============================] - 0s 66us/sample - loss: 0.8720\n",
            "Epoch 146/200\n",
            "162/162 [==============================] - 0s 56us/sample - loss: 0.8772\n",
            "Epoch 147/200\n",
            "162/162 [==============================] - 0s 64us/sample - loss: 0.8785\n",
            "Epoch 148/200\n",
            "162/162 [==============================] - 0s 87us/sample - loss: 0.8703\n",
            "Epoch 149/200\n",
            "162/162 [==============================] - 0s 49us/sample - loss: 0.8716\n",
            "Epoch 150/200\n",
            "162/162 [==============================] - 0s 56us/sample - loss: 0.8851\n",
            "Epoch 151/200\n",
            "162/162 [==============================] - 0s 53us/sample - loss: 0.8789\n",
            "Epoch 152/200\n",
            "162/162 [==============================] - 0s 117us/sample - loss: 0.8759\n",
            "Epoch 153/200\n",
            "162/162 [==============================] - 0s 70us/sample - loss: 0.8735\n",
            "Epoch 154/200\n",
            "162/162 [==============================] - 0s 69us/sample - loss: 0.8943\n",
            "Epoch 155/200\n",
            "162/162 [==============================] - 0s 70us/sample - loss: 0.8830\n",
            "Epoch 156/200\n",
            "162/162 [==============================] - 0s 65us/sample - loss: 0.8771\n",
            "Epoch 157/200\n",
            "162/162 [==============================] - 0s 64us/sample - loss: 0.8737\n",
            "Epoch 158/200\n",
            "162/162 [==============================] - 0s 63us/sample - loss: 0.8728\n",
            "Epoch 159/200\n",
            "162/162 [==============================] - 0s 65us/sample - loss: 0.8742\n",
            "Epoch 160/200\n",
            "162/162 [==============================] - 0s 64us/sample - loss: 0.8743\n",
            "Epoch 161/200\n",
            "162/162 [==============================] - 0s 60us/sample - loss: 0.8727\n",
            "Epoch 162/200\n",
            "162/162 [==============================] - 0s 57us/sample - loss: 0.8737\n",
            "Epoch 163/200\n",
            "162/162 [==============================] - 0s 65us/sample - loss: 0.8715\n",
            "Epoch 164/200\n",
            "162/162 [==============================] - 0s 64us/sample - loss: 0.8894\n",
            "Epoch 165/200\n",
            "162/162 [==============================] - 0s 67us/sample - loss: 0.8805\n",
            "Epoch 166/200\n",
            "162/162 [==============================] - 0s 60us/sample - loss: 0.8718\n",
            "Epoch 167/200\n",
            "162/162 [==============================] - 0s 52us/sample - loss: 0.8745\n",
            "Epoch 168/200\n",
            "162/162 [==============================] - 0s 55us/sample - loss: 0.8707\n",
            "Epoch 169/200\n",
            "162/162 [==============================] - 0s 90us/sample - loss: 0.8757\n",
            "Epoch 170/200\n",
            "162/162 [==============================] - 0s 62us/sample - loss: 0.8750\n",
            "Epoch 171/200\n",
            "162/162 [==============================] - 0s 56us/sample - loss: 0.8732\n",
            "Epoch 172/200\n",
            "162/162 [==============================] - 0s 60us/sample - loss: 0.8770\n",
            "Epoch 173/200\n",
            "162/162 [==============================] - 0s 73us/sample - loss: 0.8704\n",
            "Epoch 174/200\n",
            "162/162 [==============================] - 0s 77us/sample - loss: 0.8814\n",
            "Epoch 175/200\n",
            "162/162 [==============================] - 0s 85us/sample - loss: 0.8761\n",
            "Epoch 176/200\n",
            "162/162 [==============================] - 0s 97us/sample - loss: 0.8728\n",
            "Epoch 177/200\n",
            "162/162 [==============================] - 0s 65us/sample - loss: 0.9517\n",
            "Epoch 178/200\n",
            "162/162 [==============================] - 0s 71us/sample - loss: 0.9254\n",
            "Epoch 179/200\n",
            "162/162 [==============================] - 0s 64us/sample - loss: 0.8678\n",
            "Epoch 180/200\n",
            "162/162 [==============================] - 0s 65us/sample - loss: 0.9010\n",
            "Epoch 181/200\n",
            "162/162 [==============================] - 0s 65us/sample - loss: 0.8860\n",
            "Epoch 182/200\n",
            "162/162 [==============================] - 0s 81us/sample - loss: 0.8777\n",
            "Epoch 183/200\n",
            "162/162 [==============================] - 0s 55us/sample - loss: 0.9359\n",
            "Epoch 184/200\n",
            "162/162 [==============================] - 0s 71us/sample - loss: 0.9185\n",
            "Epoch 185/200\n",
            "162/162 [==============================] - 0s 87us/sample - loss: 0.8760\n",
            "Epoch 186/200\n",
            "162/162 [==============================] - 0s 55us/sample - loss: 0.8785\n",
            "Epoch 187/200\n",
            "162/162 [==============================] - 0s 55us/sample - loss: 0.8758\n",
            "Epoch 188/200\n",
            "162/162 [==============================] - 0s 92us/sample - loss: 0.8852\n",
            "Epoch 189/200\n",
            "162/162 [==============================] - 0s 66us/sample - loss: 0.8810\n",
            "Epoch 190/200\n",
            "162/162 [==============================] - 0s 83us/sample - loss: 0.8718\n",
            "Epoch 191/200\n",
            "162/162 [==============================] - 0s 51us/sample - loss: 0.8745\n",
            "Epoch 192/200\n",
            "162/162 [==============================] - 0s 59us/sample - loss: 0.8797\n",
            "Epoch 193/200\n",
            "162/162 [==============================] - 0s 48us/sample - loss: 0.8734\n",
            "Epoch 194/200\n",
            "162/162 [==============================] - 0s 54us/sample - loss: 0.8811\n",
            "Epoch 195/200\n",
            "162/162 [==============================] - 0s 52us/sample - loss: 0.8774\n",
            "Epoch 196/200\n",
            "162/162 [==============================] - 0s 53us/sample - loss: 0.8758\n",
            "Epoch 197/200\n",
            "162/162 [==============================] - 0s 61us/sample - loss: 0.8735\n",
            "Epoch 198/200\n",
            "162/162 [==============================] - 0s 68us/sample - loss: 0.8712\n",
            "Epoch 199/200\n",
            "162/162 [==============================] - 0s 57us/sample - loss: 0.8717\n",
            "Epoch 200/200\n",
            "162/162 [==============================] - 0s 61us/sample - loss: 0.8713\n"
          ],
          "name": "stdout"
        }
      ]
    },
    {
      "cell_type": "code",
      "metadata": {
        "id": "_ii2ovE6Nety",
        "colab_type": "code",
        "outputId": "501a6219-f6b8-4527-dc12-2de651de8040",
        "colab": {
          "base_uri": "https://localhost:8080/",
          "height": 282
        }
      },
      "source": [
        "# Plot Loss\n",
        "\n",
        "plt.plot(r.history['loss'], label=\"loss\")"
      ],
      "execution_count": 0,
      "outputs": [
        {
          "output_type": "execute_result",
          "data": {
            "text/plain": [
              "[<matplotlib.lines.Line2D at 0x7f1895e6b5c0>]"
            ]
          },
          "metadata": {
            "tags": []
          },
          "execution_count": 34
        },
        {
          "output_type": "display_data",
          "data": {
            "image/png": "[encoded data removed]",
            "text/plain": [
              "<Figure size 432x288 with 1 Axes>"
            ]
          },
          "metadata": {
            "tags": []
          }
        }
      ]
    },
    {
      "cell_type": "code",
      "metadata": {
        "id": "yjDn56jtNmOc",
        "colab_type": "code",
        "outputId": "15b4137f-1297-47a6-8daf-91d5821c148d",
        "colab": {
          "base_uri": "https://localhost:8080/",
          "height": 51
        }
      },
      "source": [
        "# Get the Slope of the Line\n",
        "\n",
        "print(model.layers) # Note: The Input Layer doesn't Count, Only Dense Layer \n",
        "print(model.layers[0].get_weights()) # wx+b"
      ],
      "execution_count": 0,
      "outputs": [
        {
          "output_type": "stream",
          "text": [
            "[<tensorflow.python.keras.layers.core.Dense object at 0x7f18961fd0f0>]\n",
            "[array([[0.3342961]], dtype=float32), array([17.772099], dtype=float32)]\n"
          ],
          "name": "stdout"
        }
      ]
    },
    {
      "cell_type": "code",
      "metadata": {
        "id": "Ob3eiTU3OLvV",
        "colab_type": "code",
        "colab": {}
      },
      "source": [
        "# The Slope of the Line is\n",
        "a = model.layers[0].get_weights()[0][0,0]"
      ],
      "execution_count": 0,
      "outputs": []
    },
    {
      "cell_type": "code",
      "metadata": {
        "id": "buWobwpkOaus",
        "colab_type": "code",
        "colab": {}
      },
      "source": [
        "# We Follow Exponential Growth Pattern: C = A0*rEt => log C = log r *t + log A0"
      ],
      "execution_count": 0,
      "outputs": []
    },
    {
      "cell_type": "code",
      "metadata": {
        "id": "htnOMqefOr0b",
        "colab_type": "code",
        "outputId": "8d2bddf6-8a8e-4fde-9229-d1987ae60e71",
        "colab": {
          "base_uri": "https://localhost:8080/",
          "height": 34
        }
      },
      "source": [
        "print(\"Time to Double is:\", np.log(2)/a) # Based on the Obtained Calculations"
      ],
      "execution_count": 0,
      "outputs": [
        {
          "output_type": "stream",
          "text": [
            "Time to Double is: 2.073452742762971\n"
          ],
          "name": "stdout"
        }
      ]
    },
    {
      "cell_type": "code",
      "metadata": {
        "id": "-4UHx_7_O2eE",
        "colab_type": "code",
        "colab": {}
      },
      "source": [
        "# The Above Result: 2 Years Proves Moore's Law (Transistors)"
      ],
      "execution_count": 0,
      "outputs": []
    },
    {
      "cell_type": "markdown",
      "metadata": {
        "id": "keUIuGbvy85v",
        "colab_type": "text"
      },
      "source": [
        "**Making Predictions**"
      ]
    },
    {
      "cell_type": "code",
      "metadata": {
        "id": "tnXA6OXCzA1z",
        "colab_type": "code",
        "outputId": "9159630b-d04b-4cb0-a9eb-358c4df1b0bd",
        "colab": {
          "base_uri": "https://localhost:8080/",
          "height": 282
        }
      },
      "source": [
        "# Making Sure Line fits Model\n",
        "y_pred = model.predict(X).flatten()\n",
        "plt.scatter(X,y)\n",
        "plt.plot(X, y_pred)"
      ],
      "execution_count": 0,
      "outputs": [
        {
          "output_type": "execute_result",
          "data": {
            "text/plain": [
              "[<matplotlib.lines.Line2D at 0x7f1895e6bb00>]"
            ]
          },
          "metadata": {
            "tags": []
          },
          "execution_count": 39
        },
        {
          "output_type": "display_data",
          "data": {
            "image/png": "[encoded data removed]",
            "text/plain": [
              "<Figure size 432x288 with 1 Axes>"
            ]
          },
          "metadata": {
            "tags": []
          }
        }
      ]
    },
    {
      "cell_type": "code",
      "metadata": {
        "id": "Mg0AYR-ezODG",
        "colab_type": "code",
        "outputId": "d949b4b5-f5fe-4a98-bd6e-f00b16842006",
        "colab": {
          "base_uri": "https://localhost:8080/",
          "height": 34
        }
      },
      "source": [
        "# Manual Calculation\n",
        "\n",
        "# Get Weights\n",
        "w,b = model.layers[0].get_weights()\n",
        "\n",
        "# Reshape X as we flattened it again earlier\n",
        "X = X.reshape(-1,1)\n",
        "\n",
        "# n*1 dot 1* 1 gives n*1 matrix\n",
        "y_pred2 = (X.dot(w) + b).flatten()\n",
        "\n",
        "# Verify for Floating Points\n",
        "np.allclose(y_pred, y_pred2)\n",
        "\n",
        "# The Above Checks if Manual calculation and Tensorflow Calculation are the Same"
      ],
      "execution_count": 0,
      "outputs": [
        {
          "output_type": "execute_result",
          "data": {
            "text/plain": [
              "True"
            ]
          },
          "metadata": {
            "tags": []
          },
          "execution_count": 24
        }
      ]
    },
    {
      "cell_type": "markdown",
      "metadata": {
        "id": "cg29t8DY2YPE",
        "colab_type": "text"
      },
      "source": [
        "**Saving the Model**"
      ]
    },
    {
      "cell_type": "code",
      "metadata": {
        "id": "_7QTskCO2a5k",
        "colab_type": "code",
        "colab": {}
      },
      "source": [
        "# Saving as h5 file\n",
        "\n",
        "model.save('0_linear_Regression.h5')"
      ],
      "execution_count": 0,
      "outputs": []
    },
    {
      "cell_type": "code",
      "metadata": {
        "id": "pRFklqte2gGP",
        "colab_type": "code",
        "outputId": "efbb8cdc-dc2a-451f-bee5-03f540e5b4ec",
        "colab": {
          "base_uri": "https://localhost:8080/",
          "height": 119
        }
      },
      "source": [
        "# Check the existence of model file\n",
        "!ls -lh"
      ],
      "execution_count": 0,
      "outputs": [
        {
          "output_type": "stream",
          "text": [
            "total 68K\n",
            "-rw-r--r-- 1 root root  18K Jan 16 14:55 0_linear_Classification.h5\n",
            "-rw-r--r-- 1 root root  18K Jan 16 14:57 0_linear_Regression.h5\n",
            "-rw-r--r-- 1 root root  18K Jan 16 14:57 0_logistic_Regression.h5\n",
            "-rw-r--r-- 1 root root 2.3K Jan 16 14:29 moore.csv\n",
            "drwxr-xr-x 1 root root 4.0K Jan 13 16:38 sample_data\n"
          ],
          "name": "stdout"
        }
      ]
    },
    {
      "cell_type": "code",
      "metadata": {
        "id": "sqTSGC7Q2iFw",
        "colab_type": "code",
        "colab": {}
      },
      "source": [
        "# We need to load the model by changing the Model creation by removing Explicit Input function\n",
        "\n",
        "# Loading the Model\n",
        "\n",
        "model = tf.keras.models.load_model('0_linear_Regression.h5')"
      ],
      "execution_count": 0,
      "outputs": []
    },
    {
      "cell_type": "code",
      "metadata": {
        "id": "nzqtYBPj2j4H",
        "colab_type": "code",
        "outputId": "eb57a325-a77f-4237-d1ca-bdaded01d3ca",
        "colab": {
          "base_uri": "https://localhost:8080/",
          "height": 68
        }
      },
      "source": [
        "# Verifying the Loaded Weights\n",
        "print(model.layers)\n",
        "model.evaluate(X, y)"
      ],
      "execution_count": 0,
      "outputs": [
        {
          "output_type": "stream",
          "text": [
            "[<tensorflow.python.keras.layers.core.Dense object at 0x7f1895d8b240>]\n",
            "162/162 [==============================] - 0s 126us/sample - loss: 0.8805\n"
          ],
          "name": "stdout"
        },
        {
          "output_type": "execute_result",
          "data": {
            "text/plain": [
              "0.8804524342219034"
            ]
          },
          "metadata": {
            "tags": []
          },
          "execution_count": 48
        }
      ]
    },
    {
      "cell_type": "code",
      "metadata": {
        "id": "oTInEmxh3Jsg",
        "colab_type": "code",
        "colab": {}
      },
      "source": [
        "# To Download a file from Colab, rather than clicking top left \">\"\n",
        "\n",
        "from google.colab import files\n",
        "files.download('0_linear_Regression.h5')"
      ],
      "execution_count": 0,
      "outputs": []
    }
  ]
}
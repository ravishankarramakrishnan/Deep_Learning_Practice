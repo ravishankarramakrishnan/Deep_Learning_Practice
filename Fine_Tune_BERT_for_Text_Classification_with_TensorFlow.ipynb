{
  "nbformat": 4,
  "nbformat_minor": 0,
  "metadata": {
    "colab": {
      "name": "Fine_Tune_BERT_for_Text_Classification_with_TensorFlow.ipynb",
      "provenance": [],
      "collapsed_sections": [],
      "toc_visible": true,
      "machine_shape": "hm",
      "include_colab_link": true
    },
    "kernelspec": {
      "name": "python3",
      "display_name": "Python 3"
    },
    "accelerator": "GPU"
  },
  "cells": [
    {
      "cell_type": "markdown",
      "metadata": {
        "id": "view-in-github",
        "colab_type": "text"
      },
      "source": [
        "<a href=\"https://colab.research.google.com/github/ravishankarramakrishnan/Deep_Learning_Practice/blob/master/Fine_Tune_BERT_for_Text_Classification_with_TensorFlow.ipynb\" target=\"_parent\"><img src=\"https://colab.research.google.com/assets/colab-badge.svg\" alt=\"Open In Colab\"/></a>"
      ]
    },
    {
      "cell_type": "markdown",
      "metadata": {
        "id": "zGCJYkQj_Uu2"
      },
      "source": [
        "<h2 align=center> Fine-Tune BERT for Text Classification with TensorFlow</h2>"
      ]
    },
    {
      "cell_type": "markdown",
      "metadata": {
        "id": "4y2m1S6e12il"
      },
      "source": [
        "<div align=\"center\">\n",
        "    <img width=\"512px\" src='https://drive.google.com/uc?id=1fnJTeJs5HUpz7nix-F9E6EZdgUflqyEu' />\n",
        "    <p style=\"text-align: center;color:gray\">Figure 1: BERT Classification Model</p>\n",
        "</div>"
      ]
    },
    {
      "cell_type": "markdown",
      "metadata": {
        "id": "WXeCufnaPoMP"
      },
      "source": [
        "Token Ids - Tokenized Input Text.\n",
        "\n",
        "Generate Input Type IDs - Helps Distinguish between different sentences.\n",
        "\n",
        "Generate Input Mask - Used to note relevant tokens within the input word IDs tensor.\n",
        "\n",
        "There are some preprocessing steps to convert raw data to a form that BERT model accepts as input.\n"
      ]
    },
    {
      "cell_type": "markdown",
      "metadata": {
        "id": "eYYYWqWr_WCC"
      },
      "source": [
        "In this [project](https://www.coursera.org/projects/fine-tune-bert-tensorflow/), you will learn how to fine-tune a BERT model for text classification and Sentiment Analysis using TensorFlow and TF-Hub.\n"
      ]
    },
    {
      "cell_type": "markdown",
      "metadata": {
        "id": "5yQG5PCO_WFx"
      },
      "source": [
        "The pretrained BERT model used in this project is [available](https://tfhub.dev/tensorflow/bert_en_uncased_L-12_H-768_A-12/2) on [TensorFlow Hub](https://tfhub.dev/).\n",
        "<br>\n",
        "\n",
        "BERT is much preferred as it can create \"CONTEXTUAL WORD EMBEDDINGS\" rather than just word embeddings"
      ]
    },
    {
      "cell_type": "markdown",
      "metadata": {
        "id": "eZuTf5YGNohG"
      },
      "source": [
        "Data: Quora Insincere Questions Dataset\n"
      ]
    },
    {
      "cell_type": "markdown",
      "metadata": {
        "id": "7pKNS21u_WJo"
      },
      "source": [
        "### Learning Objectives"
      ]
    },
    {
      "cell_type": "markdown",
      "metadata": {
        "id": "_3NHSMXv_WMv"
      },
      "source": [
        "By the time you complete this project, you will be able to:\n",
        "\n",
        "- Build TensorFlow Input Pipelines for Text Data with the [`tf.data`](https://www.tensorflow.org/api_docs/python/tf/data) API\n",
        "- Tokenize and Preprocess Text for BERT\n",
        "- Fine-tune BERT for text classification with TensorFlow 2 and [TF Hub](https://tfhub.dev)"
      ]
    },
    {
      "cell_type": "markdown",
      "metadata": {
        "id": "o6BEe-3-AVRQ"
      },
      "source": [
        "### Prerequisites"
      ]
    },
    {
      "cell_type": "markdown",
      "metadata": {
        "id": "Sc9f-8rLAVUS"
      },
      "source": [
        "In order to be successful with this project, it is assumed you are:\n",
        "\n",
        "- Competent in the Python programming language\n",
        "- Familiar with deep learning for Natural Language Processing (NLP)\n",
        "- Familiar with TensorFlow, and its Keras API"
      ]
    },
    {
      "cell_type": "markdown",
      "metadata": {
        "id": "MYXXV5n3Ab-4"
      },
      "source": [
        "### Contents"
      ]
    },
    {
      "cell_type": "markdown",
      "metadata": {
        "id": "XhK-SYGyAjxe"
      },
      "source": [
        "This project/notebook consists of several Tasks.\n",
        "\n",
        "- **[Task 1]()**: Introduction to the Project.\n",
        "- **[Task 2]()**: Setup your TensorFlow and Colab Runtime\n",
        "- **[Task 3]()**: Download and Import the Quora Insincere Questions Dataset\n",
        "- **[Task 4]()**: Create tf.data.Datasets for Training and Evaluation\n",
        "- **[Task 5]()**: Download a Pre-trained BERT Model from TensorFlow Hub\n",
        "- **[Task 6]()**: Tokenize and Preprocess Text for BERT\n",
        "- **[Task 7]()**: Wrap a Python Function into a TensorFlow op for Eager Execution\n",
        "- **[Task 8]()**: Create a TensorFlow Input Pipeline with `tf.data`\n",
        "- **[Task 9]()**: Add a Classification Head to the BERT `hub.KerasLayer`\n",
        "- **[Task 10]()**: Fine-Tune BERT for Text Classification\n",
        "- **[Task 11]()**: Evaluate the BERT Text Classification Model"
      ]
    },
    {
      "cell_type": "markdown",
      "metadata": {
        "id": "IaArqXjRAcBa"
      },
      "source": [
        "## Task 2: Setup your TensorFlow and Colab Runtime."
      ]
    },
    {
      "cell_type": "markdown",
      "metadata": {
        "id": "GDDhjzZ5A4Q_"
      },
      "source": [
        "You will only be able to use the Colab Notebook after you save it to your Google Drive folder. Click on the File menu and select “Save a copy in Drive…\n",
        "\n",
        "![Copy to Drive](https://drive.google.com/uc?id=1CH3eDmuJL8WR0AP1r3UE6sOPuqq8_Wl7)\n"
      ]
    },
    {
      "cell_type": "markdown",
      "metadata": {
        "id": "mpe6GhLuBJWB"
      },
      "source": [
        "### Check GPU Availability\n",
        "\n",
        "Check if your Colab notebook is configured to use Graphical Processing Units (GPUs). If zero GPUs are available, check if the Colab notebook is configured to use GPUs (Menu > Runtime > Change Runtime Type).\n",
        "\n",
        "![Hardware Accelerator Settings](https://drive.google.com/uc?id=1qrihuuMtvzXJHiRV8M7RngbxFYipXKQx)\n"
      ]
    },
    {
      "cell_type": "code",
      "metadata": {
        "id": "8V9c8vzSL3aj",
        "outputId": "d6cfaeab-502e-4ac7-a186-c84d7e4cf317",
        "colab": {
          "base_uri": "https://localhost:8080/",
          "height": 357
        }
      },
      "source": [
        "# Verify the type of GPU we have\n",
        "\n",
        "!nvidia-smi"
      ],
      "execution_count": 1,
      "outputs": [
        {
          "output_type": "stream",
          "text": [
            "Mon Oct  5 03:10:40 2020       \n",
            "+-----------------------------------------------------------------------------+\n",
            "| NVIDIA-SMI 455.23.05    Driver Version: 418.67       CUDA Version: 10.1     |\n",
            "|-------------------------------+----------------------+----------------------+\n",
            "| GPU  Name        Persistence-M| Bus-Id        Disp.A | Volatile Uncorr. ECC |\n",
            "| Fan  Temp  Perf  Pwr:Usage/Cap|         Memory-Usage | GPU-Util  Compute M. |\n",
            "|                               |                      |               MIG M. |\n",
            "|===============================+======================+======================|\n",
            "|   0  Tesla P100-PCIE...  Off  | 00000000:00:04.0 Off |                    0 |\n",
            "| N/A   45C    P0    30W / 250W |      0MiB / 16280MiB |      0%      Default |\n",
            "|                               |                      |                 ERR! |\n",
            "+-------------------------------+----------------------+----------------------+\n",
            "                                                                               \n",
            "+-----------------------------------------------------------------------------+\n",
            "| Processes:                                                                  |\n",
            "|  GPU   GI   CI        PID   Type   Process name                  GPU Memory |\n",
            "|        ID   ID                                                   Usage      |\n",
            "|=============================================================================|\n",
            "|  No running processes found                                                 |\n",
            "+-----------------------------------------------------------------------------+\n"
          ],
          "name": "stdout"
        }
      ]
    },
    {
      "cell_type": "markdown",
      "metadata": {
        "id": "Obch3rAuBVf0"
      },
      "source": [
        "### Install TensorFlow and TensorFlow Model Garden"
      ]
    },
    {
      "cell_type": "code",
      "metadata": {
        "id": "bUQEY3dFB0jX",
        "outputId": "2fc91f87-2ffc-4923-ddc0-9f9ec6ffd2b3",
        "colab": {
          "base_uri": "https://localhost:8080/",
          "height": 34
        }
      },
      "source": [
        "import tensorflow as tf\n",
        "print(tf.version.VERSION)"
      ],
      "execution_count": 2,
      "outputs": [
        {
          "output_type": "stream",
          "text": [
            "2.3.0\n"
          ],
          "name": "stdout"
        }
      ]
    },
    {
      "cell_type": "code",
      "metadata": {
        "id": "aU3YLZ1TYKUt"
      },
      "source": [
        "#!pip install -q tensorflow==2.3.0"
      ],
      "execution_count": 3,
      "outputs": []
    },
    {
      "cell_type": "code",
      "metadata": {
        "id": "AFRTC-zwUy6D",
        "outputId": "fb5958db-12c3-4aab-c1d3-9782b78ee3ea",
        "colab": {
          "base_uri": "https://localhost:8080/",
          "height": 323
        }
      },
      "source": [
        "# Clone Tensorflow Model Garden repository - Relevant to BERT Models\n",
        "\n",
        "!git clone --depth 1 -b v2.3.0 https://github.com/tensorflow/models.git"
      ],
      "execution_count": 4,
      "outputs": [
        {
          "output_type": "stream",
          "text": [
            "Cloning into 'models'...\n",
            "remote: Enumerating objects: 2650, done.\u001b[K\n",
            "remote: Counting objects: 100% (2650/2650), done.\u001b[K\n",
            "remote: Compressing objects: 100% (2318/2318), done.\u001b[K\n",
            "remote: Total 2650 (delta 512), reused 1350 (delta 299), pack-reused 0\u001b[K\n",
            "Receiving objects: 100% (2650/2650), 34.01 MiB | 20.91 MiB/s, done.\n",
            "Resolving deltas: 100% (512/512), done.\n",
            "Note: checking out '400d68abbccda2f0f6609e3a924467718b144233'.\n",
            "\n",
            "You are in 'detached HEAD' state. You can look around, make experimental\n",
            "changes and commit them, and you can discard any commits you make in this\n",
            "state without impacting any branches by performing another checkout.\n",
            "\n",
            "If you want to create a new branch to retain commits you create, you may\n",
            "do so (now or later) by using -b with the checkout command again. Example:\n",
            "\n",
            "  git checkout -b <new-branch-name>\n",
            "\n"
          ],
          "name": "stdout"
        }
      ]
    },
    {
      "cell_type": "code",
      "metadata": {
        "id": "3H2G0571zLLs",
        "outputId": "3e7e58e4-fe0e-4d00-aba5-de8a5d79026e",
        "colab": {
          "base_uri": "https://localhost:8080/",
          "height": 513
        }
      },
      "source": [
        "# install requirements to use tensorflow/models repository\n",
        "!pip install -Uqr models/official/requirements.txt\n",
        "# you may have to restart the runtime afterwards"
      ],
      "execution_count": 5,
      "outputs": [
        {
          "output_type": "stream",
          "text": [
            "\u001b[?25l\r\u001b[K     |█████▍                          | 10kB 21.2MB/s eta 0:00:01\r\u001b[K     |██████████▊                     | 20kB 4.9MB/s eta 0:00:01\r\u001b[K     |████████████████                | 30kB 5.9MB/s eta 0:00:01\r\u001b[K     |█████████████████████▍          | 40kB 5.9MB/s eta 0:00:01\r\u001b[K     |██████████████████████████▊     | 51kB 5.4MB/s eta 0:00:01\r\u001b[K     |████████████████████████████████| 61kB 3.7MB/s \n",
            "\u001b[K     |████████████████████████████████| 194kB 12.0MB/s \n",
            "\u001b[K     |████████████████████████████████| 14.5MB 228kB/s \n",
            "\u001b[K     |████████████████████████████████| 460kB 53.7MB/s \n",
            "\u001b[K     |████████████████████████████████| 102kB 11.7MB/s \n",
            "\u001b[K     |████████████████████████████████| 25.9MB 90kB/s \n",
            "\u001b[K     |████████████████████████████████| 174kB 54.4MB/s \n",
            "\u001b[K     |████████████████████████████████| 3.4MB 19.2MB/s \n",
            "\u001b[K     |████████████████████████████████| 1.1MB 48.8MB/s \n",
            "\u001b[K     |████████████████████████████████| 358kB 58.9MB/s \n",
            "\u001b[K     |████████████████████████████████| 1.1MB 56.4MB/s \n",
            "\u001b[K     |████████████████████████████████| 11.6MB 181kB/s \n",
            "\u001b[K     |████████████████████████████████| 36.7MB 83kB/s \n",
            "\u001b[K     |████████████████████████████████| 276kB 47.6MB/s \n",
            "\u001b[K     |████████████████████████████████| 2.2MB 53.5MB/s \n",
            "\u001b[K     |████████████████████████████████| 92kB 9.5MB/s \n",
            "\u001b[K     |████████████████████████████████| 51kB 5.9MB/s \n",
            "\u001b[K     |████████████████████████████████| 501kB 50.7MB/s \n",
            "\u001b[?25h  Building wheel for psutil (setup.py) ... \u001b[?25l\u001b[?25hdone\n",
            "  Building wheel for py-cpuinfo (setup.py) ... \u001b[?25l\u001b[?25hdone\n",
            "  Building wheel for pyyaml (setup.py) ... \u001b[?25l\u001b[?25hdone\n",
            "  Building wheel for proto-plus (setup.py) ... \u001b[?25l\u001b[?25hdone\n",
            "\u001b[31mERROR: tensorflow 2.3.0 has requirement numpy<1.19.0,>=1.16.0, but you'll have numpy 1.19.2 which is incompatible.\u001b[0m\n",
            "\u001b[31mERROR: tensorflow 2.3.0 has requirement scipy==1.4.1, but you'll have scipy 1.5.2 which is incompatible.\u001b[0m\n",
            "\u001b[31mERROR: google-cloud-storage 1.18.1 has requirement google-resumable-media<0.5.0dev,>=0.3.1, but you'll have google-resumable-media 1.0.0 which is incompatible.\u001b[0m\n",
            "\u001b[31mERROR: google-api-core 1.22.3 has requirement google-auth<2.0dev,>=1.21.1, but you'll have google-auth 1.17.2 which is incompatible.\u001b[0m\n",
            "\u001b[31mERROR: datascience 0.10.6 has requirement folium==0.2.1, but you'll have folium 0.8.3 which is incompatible.\u001b[0m\n",
            "\u001b[31mERROR: albumentations 0.1.12 has requirement imgaug<0.2.7,>=0.2.5, but you'll have imgaug 0.2.9 which is incompatible.\u001b[0m\n"
          ],
          "name": "stdout"
        }
      ]
    },
    {
      "cell_type": "markdown",
      "metadata": {
        "id": "GVjksk4yCXur"
      },
      "source": [
        "## Restart the Runtime\n",
        "\n",
        "**Note** \n",
        "After installing the required Python packages, you'll need to restart the Colab Runtime Engine (Menu > Runtime > Restart runtime...)\n",
        "\n",
        "![Restart of the Colab Runtime Engine](https://drive.google.com/uc?id=1xnjAy2sxIymKhydkqb0RKzgVK9rh3teH)"
      ]
    },
    {
      "cell_type": "markdown",
      "metadata": {
        "id": "IMsEoT3Fg4Wg"
      },
      "source": [
        "## Task 3: Download and Import the Quora Insincere Questions Dataset"
      ]
    },
    {
      "cell_type": "code",
      "metadata": {
        "id": "GmqEylyFYTdP"
      },
      "source": [
        "import numpy as np\n",
        "import tensorflow as tf\n",
        "import tensorflow_hub as hub\n",
        "import sys\n",
        "\n",
        "# Import Submodules we cloned from Tensorflow Garden Repository - Import BERT specific Submodules\n",
        "sys.path.append('models')\n",
        "from official.nlp.data import classifier_data_lib\n",
        "from official.nlp.bert import tokenization\n",
        "from official.nlp import optimization"
      ],
      "execution_count": 1,
      "outputs": []
    },
    {
      "cell_type": "code",
      "metadata": {
        "id": "ZuX1lB8pPJ-W",
        "outputId": "0d54bdb3-0656-491c-b4d0-937b44d87cba",
        "colab": {
          "base_uri": "https://localhost:8080/",
          "height": 85
        }
      },
      "source": [
        "print(\"TF Version: \", tf.__version__)\n",
        "print(\"Eager mode: \", tf.executing_eagerly())\n",
        "print(\"Hub version: \", hub.__version__)\n",
        "print(\"GPU is\", \"available\" if tf.config.experimental.list_physical_devices(\"GPU\") else \"NOT AVAILABLE\")"
      ],
      "execution_count": 2,
      "outputs": [
        {
          "output_type": "stream",
          "text": [
            "TF Version:  2.3.0\n",
            "Eager mode:  True\n",
            "Hub version:  0.9.0\n",
            "GPU is available\n"
          ],
          "name": "stdout"
        }
      ]
    },
    {
      "cell_type": "markdown",
      "metadata": {
        "id": "QtbwpWgyEZg7"
      },
      "source": [
        "A downloadable copy of the [Quora Insincere Questions Classification data](https://www.kaggle.com/c/quora-insincere-questions-classification/data) can be found [https://archive.org/download/fine-tune-bert-tensorflow-train.csv/train.csv.zip](https://archive.org/download/fine-tune-bert-tensorflow-train.csv/train.csv.zip). Decompress and read the data into a pandas DataFrame."
      ]
    },
    {
      "cell_type": "code",
      "metadata": {
        "id": "0nI-9itVwCCQ"
      },
      "source": [
        "import numpy as np\n",
        "import pandas as pd\n",
        "import matplotlib.pyplot as plt\n",
        "from sklearn.model_selection import train_test_split\n",
        "\n",
        "# Read the DataFrame from URL ZIP file\n",
        "\n",
        "df = pd.read_csv('https://archive.org/download/fine-tune-bert-tensorflow-train.csv/train.csv.zip',\n",
        "                 compression= 'zip', low_memory= False)"
      ],
      "execution_count": 3,
      "outputs": []
    },
    {
      "cell_type": "code",
      "metadata": {
        "id": "yeHE98KiMvDd",
        "outputId": "21d61d39-d077-4daf-d2e2-39e653ae1316",
        "colab": {
          "base_uri": "https://localhost:8080/",
          "height": 34
        }
      },
      "source": [
        "# Get the Shape of the DataFrame\n",
        "df.shape"
      ],
      "execution_count": 4,
      "outputs": [
        {
          "output_type": "execute_result",
          "data": {
            "text/plain": [
              "(1306122, 3)"
            ]
          },
          "metadata": {
            "tags": []
          },
          "execution_count": 4
        }
      ]
    },
    {
      "cell_type": "code",
      "metadata": {
        "id": "leRFRWJMocVa",
        "outputId": "0d1890e0-fe86-4486-c159-b51232ba4723",
        "colab": {
          "base_uri": "https://localhost:8080/",
          "height": 187
        }
      },
      "source": [
        "# Get the Info of the DataFrame\n",
        "df.info()"
      ],
      "execution_count": 5,
      "outputs": [
        {
          "output_type": "stream",
          "text": [
            "<class 'pandas.core.frame.DataFrame'>\n",
            "RangeIndex: 1306122 entries, 0 to 1306121\n",
            "Data columns (total 3 columns):\n",
            " #   Column         Non-Null Count    Dtype \n",
            "---  ------         --------------    ----- \n",
            " 0   qid            1306122 non-null  object\n",
            " 1   question_text  1306122 non-null  object\n",
            " 2   target         1306122 non-null  int64 \n",
            "dtypes: int64(1), object(2)\n",
            "memory usage: 29.9+ MB\n"
          ],
          "name": "stdout"
        }
      ]
    },
    {
      "cell_type": "code",
      "metadata": {
        "id": "awjbAnkFhLbF",
        "outputId": "d8f77981-151f-4d79-c905-85c14afeb7da",
        "colab": {
          "base_uri": "https://localhost:8080/",
          "height": 359
        }
      },
      "source": [
        "# Visualize a Sample of the DataFrame\n",
        "\n",
        "df.sample(10)"
      ],
      "execution_count": 43,
      "outputs": [
        {
          "output_type": "execute_result",
          "data": {
            "text/html": [
              "<div>\n",
              "<style scoped>\n",
              "    .dataframe tbody tr th:only-of-type {\n",
              "        vertical-align: middle;\n",
              "    }\n",
              "\n",
              "    .dataframe tbody tr th {\n",
              "        vertical-align: top;\n",
              "    }\n",
              "\n",
              "    .dataframe thead th {\n",
              "        text-align: right;\n",
              "    }\n",
              "</style>\n",
              "<table border=\"1\" class=\"dataframe\">\n",
              "  <thead>\n",
              "    <tr style=\"text-align: right;\">\n",
              "      <th></th>\n",
              "      <th>qid</th>\n",
              "      <th>question_text</th>\n",
              "      <th>target</th>\n",
              "    </tr>\n",
              "  </thead>\n",
              "  <tbody>\n",
              "    <tr>\n",
              "      <th>404805</th>\n",
              "      <td>4f547499b263291419b6</td>\n",
              "      <td>What can I do with a smartphones IP and Mac ad...</td>\n",
              "      <td>0</td>\n",
              "    </tr>\n",
              "    <tr>\n",
              "      <th>610847</th>\n",
              "      <td>779ea13f713663221a64</td>\n",
              "      <td>Am I A Lolicon?</td>\n",
              "      <td>0</td>\n",
              "    </tr>\n",
              "    <tr>\n",
              "      <th>580306</th>\n",
              "      <td>71b425bf1e2aa30b1b04</td>\n",
              "      <td>My grandmother is ashamed of being deaf. Why?</td>\n",
              "      <td>0</td>\n",
              "    </tr>\n",
              "    <tr>\n",
              "      <th>570028</th>\n",
              "      <td>6fb134c27a5eb3c1699f</td>\n",
              "      <td>Does one time act of groping a child of 13 yrs...</td>\n",
              "      <td>0</td>\n",
              "    </tr>\n",
              "    <tr>\n",
              "      <th>729245</th>\n",
              "      <td>8ecb0ed88735244e0aa2</td>\n",
              "      <td>What inspired Seth Green to write the book \"ma...</td>\n",
              "      <td>0</td>\n",
              "    </tr>\n",
              "    <tr>\n",
              "      <th>1130834</th>\n",
              "      <td>dd9f8857eabb71cb4d8c</td>\n",
              "      <td>Why is my extraterrestrial girlfriend so mad a...</td>\n",
              "      <td>1</td>\n",
              "    </tr>\n",
              "    <tr>\n",
              "      <th>1139243</th>\n",
              "      <td>df40dca1edebd580df07</td>\n",
              "      <td>How many students choose to bike at Shiv Nadar...</td>\n",
              "      <td>0</td>\n",
              "    </tr>\n",
              "    <tr>\n",
              "      <th>762054</th>\n",
              "      <td>954d4d9c9dab5e435b3e</td>\n",
              "      <td>How can a freelance amateur photographer have ...</td>\n",
              "      <td>0</td>\n",
              "    </tr>\n",
              "    <tr>\n",
              "      <th>946793</th>\n",
              "      <td>b98624a7f98b27e3db1a</td>\n",
              "      <td>Why do people prefer a song (often a cover ver...</td>\n",
              "      <td>0</td>\n",
              "    </tr>\n",
              "    <tr>\n",
              "      <th>588220</th>\n",
              "      <td>733964c540381f667178</td>\n",
              "      <td>What marketing strategies does Gabe's implemen...</td>\n",
              "      <td>0</td>\n",
              "    </tr>\n",
              "  </tbody>\n",
              "</table>\n",
              "</div>"
            ],
            "text/plain": [
              "                          qid  ... target\n",
              "404805   4f547499b263291419b6  ...      0\n",
              "610847   779ea13f713663221a64  ...      0\n",
              "580306   71b425bf1e2aa30b1b04  ...      0\n",
              "570028   6fb134c27a5eb3c1699f  ...      0\n",
              "729245   8ecb0ed88735244e0aa2  ...      0\n",
              "1130834  dd9f8857eabb71cb4d8c  ...      1\n",
              "1139243  df40dca1edebd580df07  ...      0\n",
              "762054   954d4d9c9dab5e435b3e  ...      0\n",
              "946793   b98624a7f98b27e3db1a  ...      0\n",
              "588220   733964c540381f667178  ...      0\n",
              "\n",
              "[10 rows x 3 columns]"
            ]
          },
          "metadata": {
            "tags": []
          },
          "execution_count": 43
        }
      ]
    },
    {
      "cell_type": "code",
      "metadata": {
        "id": "uDCnmizi578a",
        "outputId": "9c238130-6321-4885-b4e0-40da9fcd71d2",
        "colab": {
          "base_uri": "https://localhost:8080/",
          "height": 34
        }
      },
      "source": [
        "print(df['question_text'][1130834])"
      ],
      "execution_count": 44,
      "outputs": [
        {
          "output_type": "stream",
          "text": [
            "Why is my extraterrestrial girlfriend so mad at me for not inviting her to my birthday?\n"
          ],
          "name": "stdout"
        }
      ]
    },
    {
      "cell_type": "code",
      "metadata": {
        "id": "GKQPUXT6hzgU",
        "outputId": "025c7cb1-21e7-4918-ca46-b20f9a1406a7",
        "colab": {
          "base_uri": "https://localhost:8080/",
          "height": 332
        }
      },
      "source": [
        "# Check the Distribution of the Class Labels\n",
        "\n",
        "print(df['target'].value_counts())\n",
        "\n",
        "# Plot\n",
        "df['target'].plot(kind= 'hist', title= \"Target Class Distribution\")\n",
        "plt.xticks(range(0,2));"
      ],
      "execution_count": 7,
      "outputs": [
        {
          "output_type": "stream",
          "text": [
            "0    1225312\n",
            "1      80810\n",
            "Name: target, dtype: int64\n"
          ],
          "name": "stdout"
        },
        {
          "output_type": "display_data",
          "data": {
            "image/png": "[encoded data removed]",
            "text/plain": [
              "<Figure size 432x288 with 1 Axes>"
            ]
          },
          "metadata": {
            "tags": [],
            "needs_background": "light"
          }
        }
      ]
    },
    {
      "cell_type": "markdown",
      "metadata": {
        "id": "ELjswHcFHfp3"
      },
      "source": [
        "## Task 4: Create tf.data.Datasets for Training and Evaluation"
      ]
    },
    {
      "cell_type": "code",
      "metadata": {
        "id": "fScULIGPwuWk",
        "outputId": "a8d6dec8-0bcc-42f8-e300-56c9cea23cb7",
        "colab": {
          "base_uri": "https://localhost:8080/",
          "height": 68
        }
      },
      "source": [
        "# Create Train and Validation Split with imbalance in distribution: Stratified Sampling\n",
        "\n",
        "# Subsetting the Data for Fine-Tuning\n",
        "\n",
        "train_df, remaining = train_test_split(df, random_state= 42, train_size = 0.0075, stratify= df['target'].values)\n",
        "valid_df, _ = train_test_split(remaining, random_state= 42, train_size= 0.00075, stratify= remaining.target.values)\n",
        "\n",
        "# Training will be around 10k samples and validation around 1000 samples\n",
        "\n",
        "print(\"The Shape of Train Dataframe is\", train_df.shape)\n",
        "print(\"The Shape of Validation Dataframe is\", valid_df.shape)\n",
        "print(\"The Shape of Remaining Dataframe is\", _.shape)"
      ],
      "execution_count": 8,
      "outputs": [
        {
          "output_type": "stream",
          "text": [
            "The Shape of Train Dataframe is (9795, 3)\n",
            "The Shape of Validation Dataframe is (972, 3)\n",
            "The Shape of Remaining Dataframe is (1295355, 3)\n"
          ],
          "name": "stdout"
        }
      ]
    },
    {
      "cell_type": "code",
      "metadata": {
        "id": "qQYMGT5_qLPX",
        "outputId": "ff29f4b6-41b8-4462-90ca-f5066a15c1f7",
        "colab": {
          "base_uri": "https://localhost:8080/",
          "height": 88
        }
      },
      "source": [
        "# BERT is Expensive to Train and has Slower inference time due to 109M+ parameters and I/O Bottleneck\n",
        "\n",
        "# Make Efficient during Preprocessing and Loading phrase - Map using tf.data api for paralell preprocessing\n",
        "# Apply all preprocessing steps on CPU so there is no GPU Overhead\n",
        "with tf.device('/cpu:0'):\n",
        "    # Create a Python Data Iterable object - Efficient Input Data Pipeline\n",
        "    # Create a Training Dataset - Text, Label : Might be tensors or tensor_slices()\n",
        "    train_data = tf.data.Dataset.from_tensor_slices((train_df['question_text'].values,\n",
        "                                               train_df['target'].values))\n",
        "    # Create a Validation Dataset - Text, Label\n",
        "    valid_data = tf.data.Dataset.from_tensor_slices((valid_df['question_text'].values,\n",
        "                                               valid_df['target'].values))\n",
        "    \n",
        "    # Consume elements of Data Iterable object via loops. We have created a Tensorflow Dataset!(Their type is of Tensor)\n",
        "    \n",
        "    # Take a look at first 3 Elements in the iterable\n",
        "    for text, label in train_data.take(3):\n",
        "        print(text, \"----> \", label)  "
      ],
      "execution_count": 9,
      "outputs": [
        {
          "output_type": "stream",
          "text": [
            "tf.Tensor(b'Why are unhealthy relationships so desirable?', shape=(), dtype=string) ---->  tf.Tensor(0, shape=(), dtype=int64)\n",
            "tf.Tensor(b'Which war changed the course of history of the world?', shape=(), dtype=string) ---->  tf.Tensor(0, shape=(), dtype=int64)\n",
            "tf.Tensor(b\"I have started a YouTube channel named AskHamy (link is given below). The problem is that I don't want to show myself and instead just want to do a voice-over. What are some things which I can show on screen so that the viewers don't get bored?\", shape=(), dtype=string) ---->  tf.Tensor(0, shape=(), dtype=int64)\n"
          ],
          "name": "stdout"
        }
      ]
    },
    {
      "cell_type": "markdown",
      "metadata": {
        "id": "e2-ReN88Hvy_"
      },
      "source": [
        "## Task 5: Download a Pre-trained BERT Model from TensorFlow Hub"
      ]
    },
    {
      "cell_type": "code",
      "metadata": {
        "id": "EMb5M86b4-BU"
      },
      "source": [
        "\"\"\"\n",
        "Each line of the dataset is composed of the review text and its label\n",
        "- Data preprocessing consists of transforming text to BERT input features:\n",
        "input_word_ids, input_mask, segment_ids\n",
        "- In the process, tokenizing the text is done with the provided BERT model tokenizer\n",
        "\"\"\"\n",
        "\n",
        "# Define Hyperparameters and Constant\n",
        "\n",
        "# Label categories. For Multiclass problems, add more no to the label list\n",
        "label_list = [0, 1]\n",
        "\n",
        "# maximum length of (token) input sequences. BERT allows a max input of 512 tokens\n",
        "max_seq_length = 128\n",
        "train_batch_size = 32\n",
        "\n",
        "\n",
        "# Get BERT layer and tokenizer: - Download Pretrained BERT model from Tensorflow Hub\n",
        "# More details here: https://tfhub.dev/tensorflow/bert_en_uncased_L-12_H-768_A-12/2\n",
        "# Read through the Documentation and Implement it!\n",
        "\n",
        "# Import BERT Module as a Keras Layer\n",
        "bert_layer = hub.KerasLayer('https://tfhub.dev/tensorflow/bert_en_uncased_L-12_H-768_A-12/2', \n",
        "                            trainable= True) # To Finetune all Hyperparameters/Layers instead of Freezing\n",
        "\n",
        "# Instantiate Tokenizer, which does all Preprocessing and Tokenizing - Needs Vocab file for BERT(30k),\n",
        "vocab_file = bert_layer.resolved_object.vocab_file.asset_path.numpy() # Output is Tensor, typecast it to Numpy.\n",
        "\n",
        "# Making sure as we use Uncased version of BERT\n",
        "do_lower_case = bert_layer.resolved_object.do_lower_case.numpy() # Checks if the Imported module is Uncased or Not\n",
        "\n",
        "# Instantiate Tokenizer - Imported from official.nlp.bert\n",
        "tokenizer = tokenization.FullTokenizer(vocab_file= vocab_file, do_lower_case= do_lower_case)\n",
        "# It handles all preprocessing of Raw text."
      ],
      "execution_count": 10,
      "outputs": []
    },
    {
      "cell_type": "code",
      "metadata": {
        "id": "wEUezMK-zkkI",
        "outputId": "49162076-b9f9-468c-801f-ca197c2188b8",
        "colab": {
          "base_uri": "https://localhost:8080/",
          "height": 34
        }
      },
      "source": [
        "# Perform Tokenization with word piece Tokenisation\n",
        "\n",
        "# Validate\n",
        "tokenizer.wordpiece_tokenizer.tokenize(\"hi, how are you doing?!\")\n",
        "# # shows attached tokens/context"
      ],
      "execution_count": 11,
      "outputs": [
        {
          "output_type": "execute_result",
          "data": {
            "text/plain": [
              "['hi', '##,', 'how', 'are', 'you', 'doing', '##?', '##!']"
            ]
          },
          "metadata": {
            "tags": []
          },
          "execution_count": 11
        }
      ]
    },
    {
      "cell_type": "code",
      "metadata": {
        "id": "5AFsmTO5JSmc",
        "outputId": "f811a5c7-9698-4c26-e1bb-315ab9922684",
        "colab": {
          "base_uri": "https://localhost:8080/",
          "height": 34
        }
      },
      "source": [
        "# Convert the Abve Output to Token_IDS as input for the Model\n",
        "\n",
        "tokenizer.convert_tokens_to_ids(tokenizer.wordpiece_tokenizer.tokenize(\"hi, how are you doing?!\"))\n",
        "\n",
        "# Each Sequence contains 2 Tokens, <CLS> with value [101] and <SEP> with value [102] to be added.\n",
        "# All tokens needs to have same length for the BERT Model."
      ],
      "execution_count": 12,
      "outputs": [
        {
          "output_type": "execute_result",
          "data": {
            "text/plain": [
              "[7632, 29623, 2129, 2024, 2017, 2725, 29632, 29612]"
            ]
          },
          "metadata": {
            "tags": []
          },
          "execution_count": 12
        }
      ]
    },
    {
      "cell_type": "markdown",
      "metadata": {
        "id": "9QinzNq6OsP1"
      },
      "source": [
        "## Task 6: Tokenize and Preprocess Text for BERT"
      ]
    },
    {
      "cell_type": "markdown",
      "metadata": {
        "id": "3FTqJ698zZ1e"
      },
      "source": [
        "<div align=\"center\">\n",
        "    <img width=\"512px\" src='https://drive.google.com/uc?id=1-SpKFELnEvBMBqO7h3iypo8q9uUUo96P' />\n",
        "    <p style=\"text-align: center;color:gray\">Figure 2: BERT Tokenizer</p>\n",
        "</div>"
      ]
    },
    {
      "cell_type": "markdown",
      "metadata": {
        "id": "FxQFflh94IPw"
      },
      "source": [
        "Input Mask masks the length of Padded token Ids and assigns 1 if token is present and 0 otherwise to the padded id (So attention to words and not to extra padded tokens).\n",
        "\n",
        "We also have all input type id's as 0, as BERT is trained on NSP (Next Sentence Prediction) and Masked word Prediction tasks. \n",
        "For us, we submit only 1 Sentence, so it is 0."
      ]
    },
    {
      "cell_type": "markdown",
      "metadata": {
        "id": "cWYkggYe6HZc"
      },
      "source": [
        "We'll need to transform our data into a format BERT understands. This involves two steps. First, we create InputExamples using `classifier_data_lib`'s constructor `InputExample` provided in the BERT library."
      ]
    },
    {
      "cell_type": "code",
      "metadata": {
        "id": "m-21A5aNJM0W"
      },
      "source": [
        "# This provides a function to convert row to input features and label\n",
        "# Transform the Data to a format that BERT Understands.\n",
        "\n",
        "def to_feature(text, label, label_list=label_list, max_seq_length=max_seq_length, tokenizer=tokenizer):\n",
        "\n",
        "    # Creating Input Example \n",
        "    example = classifier_data_lib.InputExample(guid= None, # g unique id is Null As we work with one example at a time\n",
        "                                               text_a = text.numpy(), # Text to Classify, tensors typecasted to Numpy\n",
        "                                               text_b = None, # Used for Next Sentence Prediction tasks\n",
        "                                               label= label.numpy())\n",
        "    \n",
        "    # Convert the Example to BERT Features - This Returns a Feature Object\n",
        "    feature = classifier_data_lib.convert_single_example(0, example, label_list, max_seq_length, tokenizer)\n",
        "    \n",
        "    # Return Specific field from Feature Objects - As required by BERT Model\n",
        "    return (feature.input_ids, feature.input_mask, feature.segment_ids, feature.label_id)\n",
        "\n",
        "# This function converts Row from the Data to Input Features and Labels.\n",
        "# This function can't be used directly to create our Data Structure. So we use the map function to apply the function\n",
        "#     to each element of the dataset. See below"
      ],
      "execution_count": 13,
      "outputs": []
    },
    {
      "cell_type": "markdown",
      "metadata": {
        "id": "A_HQSsHwWCsK"
      },
      "source": [
        "You want to use [`Dataset.map`](https://www.tensorflow.org/api_docs/python/tf/data/Dataset#map) to apply this function to each element of the dataset. [`Dataset.map`](https://www.tensorflow.org/api_docs/python/tf/data/Dataset#map) runs in graph mode.\n",
        "\n",
        "- Graph tensors do not have a value.\n",
        "- In graph mode you can only use TensorFlow Ops and functions.\n",
        "\n",
        "So you can't `.map` this function directly: You need to wrap it in a [`tf.py_function`](https://www.tensorflow.org/api_docs/python/tf/py_function). The [`tf.py_function`](https://www.tensorflow.org/api_docs/python/tf/py_function) will pass regular tensors (with a value and a `.numpy()` method to access it), to the wrapped python function."
      ]
    },
    {
      "cell_type": "markdown",
      "metadata": {
        "id": "zaNlkKVfWX0Q"
      },
      "source": [
        "## Task 7: Wrap a Python Function into a TensorFlow op for Eager Execution"
      ]
    },
    {
      "cell_type": "code",
      "metadata": {
        "id": "AGACBcfCWC2O"
      },
      "source": [
        "# Apply the above function to Each Observation of the Dataset - Define/Create a Wrapper function as graph tensors doesn't have values\n",
        "\n",
        "# You can take a python function and convert to tensorflow op using tf.py_function\n",
        "\n",
        "def to_feature_map(text, label):\n",
        "    input_ids, input_mask, segment_ids, label_id = tf.py_function(to_feature, inp= [text, label],\n",
        "                                                                  Tout= [tf.int32, tf.int32, tf.int32, tf.int32]) # As the O/P datatype is of int32 tensors\n",
        "    # We converted the Graph tensors into regular tensors and passed on to the function\n",
        "    # Set the Shape of Return Tensors - Max Seq Length\n",
        "    input_ids.set_shape([max_seq_length])\n",
        "    input_mask.set_shape([max_seq_length])\n",
        "    segment_ids.set_shape([max_seq_length])\n",
        "    # Labels are'nt constrained to a specific shape. They can be Task/Label Agnostic\n",
        "    label_id.set_shape([])\n",
        "\n",
        "    # Bundle the 3 Features into a Dictionary - As the BERT model Accepts\n",
        "    x = {\n",
        "        'input_word_ids': input_ids,\n",
        "        'input_mask' : input_mask,\n",
        "        'input_type_ids' : segment_ids\n",
        "    }\n",
        "\n",
        "    # Return x and Label ids - For one single Example - As a Tuple\n",
        "    return  (x, label_id)"
      ],
      "execution_count": 14,
      "outputs": []
    },
    {
      "cell_type": "markdown",
      "metadata": {
        "id": "dhdO6MjTbtn1"
      },
      "source": [
        "## Task 8: Create a TensorFlow Input Pipeline with `tf.data`"
      ]
    },
    {
      "cell_type": "code",
      "metadata": {
        "id": "LHRdiO3dnPNr"
      },
      "source": [
        "# Map Each Element to a Transformation (Per Element Transformation) - Create an Input Pipeline\n",
        "\n",
        "with tf.device('/cpu:0'):\n",
        "    # Creating Final train Data\n",
        "    train_data = (train_data.map(to_feature_map,\n",
        "                                 num_parallel_calls= tf.data.experimental.AUTOTUNE) # For Paralell processing - Autotune for Auto CPU core identification\n",
        "                  .shuffle(1000)\n",
        "                  .batch(32, drop_remainder= True)\n",
        "                  .prefetch(tf.data.experimental.AUTOTUNE)) # Prefetch data before next step for Faster Execution and wait time\n",
        "\n",
        "\n",
        "    # Creating Final valid Data \n",
        "    valid_data = (valid_data.map(to_feature_map,\n",
        "                                 num_parallel_calls= tf.data.experimental.AUTOTUNE)\n",
        "                  .batch(32, drop_remainder= True)\n",
        "                  .prefetch(tf.data.experimental.AUTOTUNE))\n",
        "  "
      ],
      "execution_count": 15,
      "outputs": []
    },
    {
      "cell_type": "markdown",
      "metadata": {
        "id": "KLUWnfx-YDi2"
      },
      "source": [
        "The resulting `tf.data.Datasets` return `(features, labels)` pairs, as expected by [`keras.Model.fit`](https://www.tensorflow.org/api_docs/python/tf/keras/Model#fit):"
      ]
    },
    {
      "cell_type": "code",
      "metadata": {
        "id": "B0Z2cy9GHQ8x",
        "outputId": "d55b2c2f-f2ba-40c0-e3d3-68dfaff24a79",
        "colab": {
          "base_uri": "https://localhost:8080/",
          "height": 85
        }
      },
      "source": [
        "# train data spec - Show Data Specification\n",
        "\n",
        "train_data.element_spec"
      ],
      "execution_count": 16,
      "outputs": [
        {
          "output_type": "execute_result",
          "data": {
            "text/plain": [
              "({'input_mask': TensorSpec(shape=(32, 128), dtype=tf.int32, name=None),\n",
              "  'input_type_ids': TensorSpec(shape=(32, 128), dtype=tf.int32, name=None),\n",
              "  'input_word_ids': TensorSpec(shape=(32, 128), dtype=tf.int32, name=None)},\n",
              " TensorSpec(shape=(32,), dtype=tf.int32, name=None))"
            ]
          },
          "metadata": {
            "tags": []
          },
          "execution_count": 16
        }
      ]
    },
    {
      "cell_type": "code",
      "metadata": {
        "id": "DGAH-ycYOmao",
        "outputId": "3bd6aac9-ce88-45ce-e722-d7d27658911a",
        "colab": {
          "base_uri": "https://localhost:8080/",
          "height": 85
        }
      },
      "source": [
        "# valid data spec - Tensors of Shape (Batch_size, Max_Seq_Length)\n",
        "\n",
        "valid_data.element_spec"
      ],
      "execution_count": 17,
      "outputs": [
        {
          "output_type": "execute_result",
          "data": {
            "text/plain": [
              "({'input_mask': TensorSpec(shape=(32, 128), dtype=tf.int32, name=None),\n",
              "  'input_type_ids': TensorSpec(shape=(32, 128), dtype=tf.int32, name=None),\n",
              "  'input_word_ids': TensorSpec(shape=(32, 128), dtype=tf.int32, name=None)},\n",
              " TensorSpec(shape=(32,), dtype=tf.int32, name=None))"
            ]
          },
          "metadata": {
            "tags": []
          },
          "execution_count": 17
        }
      ]
    },
    {
      "cell_type": "markdown",
      "metadata": {
        "id": "GZxe-7yhPyQe"
      },
      "source": [
        "## Task 9: Add a Classification Head to the BERT Layer"
      ]
    },
    {
      "cell_type": "markdown",
      "metadata": {
        "id": "9THH5V0Dw2HO"
      },
      "source": [
        "<div align=\"center\">\n",
        "    <img width=\"512px\" src='https://drive.google.com/uc?id=1fnJTeJs5HUpz7nix-F9E6EZdgUflqyEu' />\n",
        "    <p style=\"text-align: center;color:gray\">Figure 3: BERT Layer</p>\n",
        "</div>"
      ]
    },
    {
      "cell_type": "code",
      "metadata": {
        "id": "G9il4gtlADcp"
      },
      "source": [
        "# Pooled output is a COntextualized representation of entire Input Sequence (Embedding of entire Input)\n",
        "\n",
        "# Building the model: BERT Layer - Check TfHub Documentation\n",
        "def create_model():\n",
        "    input_word_ids = tf.keras.layers.Input(shape=(max_seq_length,), dtype=tf.int32,\n",
        "                                       name=\"input_word_ids\")\n",
        "    input_mask = tf.keras.layers.Input(shape=(max_seq_length,), dtype=tf.int32,\n",
        "                                      name=\"input_mask\")\n",
        "    input_type_ids = tf.keras.layers.Input(shape=(max_seq_length,), dtype=tf.int32,\n",
        "                                        name=\"input_type_ids\") # We use input_type_ids instead of segment_ids\n",
        "    \n",
        "    pooled_output, sequence_output = bert_layer([input_word_ids, input_mask, input_type_ids])\n",
        "\n",
        "    # If you want, add some Dense Layers else move on\n",
        "\n",
        "    # Add Dropout Regularisation to try avoid overfitting on Training set\n",
        "    drop = tf.keras.layers.Dropout(0.4) (pooled_output)\n",
        "\n",
        "    # Output Layer with Dense 1 as its a Binary Classification Problem\n",
        "    output = tf.keras.layers.Dense(1, activation= \"sigmoid\", name= \"output\") (drop)\n",
        "\n",
        "    # Keras Model\n",
        "    model = tf.keras.Model(\n",
        "        inputs= {\n",
        "            'input_word_ids': input_word_ids,\n",
        "            'input_mask' : input_mask,\n",
        "            'input_type_ids' : input_type_ids # We renamed segment_ids\n",
        "        },\n",
        "        outputs= output)\n",
        "    \n",
        "    return model"
      ],
      "execution_count": 23,
      "outputs": []
    },
    {
      "cell_type": "markdown",
      "metadata": {
        "id": "S6maM-vr7YaJ"
      },
      "source": [
        "## Task 10: Fine-Tune BERT for Text Classification"
      ]
    },
    {
      "cell_type": "code",
      "metadata": {
        "id": "ptCtiiONsBgo",
        "outputId": "3619bfef-b197-4b12-e0dd-cfca35e333c6",
        "colab": {
          "base_uri": "https://localhost:8080/",
          "height": 391
        }
      },
      "source": [
        "# Invoke the Model\n",
        "model = create_model()\n",
        "\n",
        "# Compile the Model - It is Overparameterized model and can lead to overfitting easily. Use low LR\n",
        "model.compile(optimizer= tf.keras.optimizers.Adam(learning_rate= 2e-5),\n",
        "              loss= tf.keras.losses.BinaryCrossentropy(),\n",
        "              metrics= [tf.keras.metrics.BinaryAccuracy()]) # Not the best metrics as we have Class Imbalance\n",
        "\n",
        "# Model Summary\n",
        "model.summary()"
      ],
      "execution_count": 24,
      "outputs": [
        {
          "output_type": "stream",
          "text": [
            "Model: \"functional_1\"\n",
            "__________________________________________________________________________________________________\n",
            "Layer (type)                    Output Shape         Param #     Connected to                     \n",
            "==================================================================================================\n",
            "input_word_ids (InputLayer)     [(None, 128)]        0                                            \n",
            "__________________________________________________________________________________________________\n",
            "input_mask (InputLayer)         [(None, 128)]        0                                            \n",
            "__________________________________________________________________________________________________\n",
            "input_type_ids (InputLayer)     [(None, 128)]        0                                            \n",
            "__________________________________________________________________________________________________\n",
            "keras_layer (KerasLayer)        [(None, 768), (None, 109482241   input_word_ids[0][0]             \n",
            "                                                                 input_mask[0][0]                 \n",
            "                                                                 input_type_ids[0][0]             \n",
            "__________________________________________________________________________________________________\n",
            "dropout_1 (Dropout)             (None, 768)          0           keras_layer[1][0]                \n",
            "__________________________________________________________________________________________________\n",
            "output (Dense)                  (None, 1)            769         dropout_1[0][0]                  \n",
            "==================================================================================================\n",
            "Total params: 109,483,010\n",
            "Trainable params: 109,483,009\n",
            "Non-trainable params: 1\n",
            "__________________________________________________________________________________________________\n"
          ],
          "name": "stdout"
        }
      ]
    },
    {
      "cell_type": "code",
      "metadata": {
        "id": "6GJaFnkbMtPL",
        "outputId": "2682f9eb-7f85-49c2-87b6-899153e201ca",
        "colab": {
          "base_uri": "https://localhost:8080/",
          "height": 322
        }
      },
      "source": [
        "# Visualize the Summary\n",
        "tf.keras.utils.plot_model(model= model, show_shapes= True, dpi= 96)"
      ],
      "execution_count": 25,
      "outputs": [
        {
          "output_type": "execute_result",
          "data": {
            "image/png": "[encoded data removed]",
            "text/plain": [
              "<IPython.core.display.Image object>"
            ]
          },
          "metadata": {
            "tags": []
          },
          "execution_count": 25
        }
      ]
    },
    {
      "cell_type": "code",
      "metadata": {
        "id": "OcREcgPUHr9O",
        "outputId": "ca94882c-5823-47f6-8202-cb79f24bea4e",
        "colab": {
          "base_uri": "https://localhost:8080/",
          "height": 241
        }
      },
      "source": [
        "# Train the model\n",
        "\n",
        "epochs = 5\n",
        "history= model.fit(train_data,\n",
        "                   validation_data= valid_data,\n",
        "                   epochs= epochs,\n",
        "                   verbose= 1)"
      ],
      "execution_count": 28,
      "outputs": [
        {
          "output_type": "stream",
          "text": [
            "Epoch 1/5\n",
            "306/306 [==============================] - ETA: 0s - loss: 0.1485 - binary_accuracy: 0.9430WARNING:tensorflow:Callbacks method `on_test_batch_end` is slow compared to the batch time (batch time: 0.0159s vs `on_test_batch_end` time: 0.1361s). Check your callbacks.\n"
          ],
          "name": "stdout"
        },
        {
          "output_type": "stream",
          "text": [
            "WARNING:tensorflow:Callbacks method `on_test_batch_end` is slow compared to the batch time (batch time: 0.0159s vs `on_test_batch_end` time: 0.1361s). Check your callbacks.\n"
          ],
          "name": "stderr"
        },
        {
          "output_type": "stream",
          "text": [
            "\b\b\b\b\b\b\b\b\b\b\b\b\b\b\b\b\b\b\b\b\b\b\b\b\b\b\b\b\b\b\b\b\b\b\b\b\b\b\b\b\b\b\b\b\b\b\b\b\b\b\b\b\b\b\b\b\b\b\b\b\b\b\b\b\b\b\b\b\b\b\b\b\b\b\b\b\b\b\b\b\b\b\b\b\b\b\b\b\b\b\b\r306/306 [==============================] - 148s 482ms/step - loss: 0.1485 - binary_accuracy: 0.9430 - val_loss: 0.1410 - val_binary_accuracy: 0.9510\n",
            "Epoch 2/5\n",
            "306/306 [==============================] - 147s 480ms/step - loss: 0.0956 - binary_accuracy: 0.9647 - val_loss: 0.1208 - val_binary_accuracy: 0.9583\n",
            "Epoch 3/5\n",
            "306/306 [==============================] - 147s 480ms/step - loss: 0.0511 - binary_accuracy: 0.9836 - val_loss: 0.1576 - val_binary_accuracy: 0.9542\n",
            "Epoch 4/5\n",
            "306/306 [==============================] - 147s 480ms/step - loss: 0.0225 - binary_accuracy: 0.9927 - val_loss: 0.2290 - val_binary_accuracy: 0.9542\n",
            "Epoch 5/5\n",
            "306/306 [==============================] - 147s 480ms/step - loss: 0.0161 - binary_accuracy: 0.9954 - val_loss: 0.2059 - val_binary_accuracy: 0.9552\n"
          ],
          "name": "stdout"
        }
      ]
    },
    {
      "cell_type": "markdown",
      "metadata": {
        "id": "kNZl1lx_cA5Y"
      },
      "source": [
        "## Task 11: Evaluate the BERT Text Classification Model"
      ]
    },
    {
      "cell_type": "code",
      "metadata": {
        "id": "dCjgrUYH_IsE"
      },
      "source": [
        "import matplotlib.pyplot as plt\n",
        "\n",
        "def plot_graphs(history, metric):\n",
        "  plt.plot(history.history[metric])\n",
        "  plt.plot(history.history['val_'+metric], '')\n",
        "  plt.xlabel(\"Epochs\")\n",
        "  plt.ylabel(metric)\n",
        "  plt.legend([metric, 'val_'+metric])\n",
        "  plt.show()"
      ],
      "execution_count": 29,
      "outputs": []
    },
    {
      "cell_type": "code",
      "metadata": {
        "id": "v6lrFRra_KmA",
        "outputId": "24b2ee80-dc07-4221-e2d3-f89dac905c1a",
        "colab": {
          "base_uri": "https://localhost:8080/",
          "height": 279
        }
      },
      "source": [
        "# Plot Loss\n",
        "plot_graphs(history, 'loss')\n",
        "\n",
        "# Model Overfits after 2 Epochs"
      ],
      "execution_count": 30,
      "outputs": [
        {
          "output_type": "display_data",
          "data": {
            "image/png": "[encoded data removed]",
            "text/plain": [
              "<Figure size 432x288 with 1 Axes>"
            ]
          },
          "metadata": {
            "tags": [],
            "needs_background": "light"
          }
        }
      ]
    },
    {
      "cell_type": "code",
      "metadata": {
        "id": "opu9neBA_98R",
        "outputId": "799b18b0-6908-49af-b697-eb3fffaa78d2",
        "colab": {
          "base_uri": "https://localhost:8080/",
          "height": 279
        }
      },
      "source": [
        "# Plot Binary Accuracy\n",
        "plot_graphs(history, 'binary_accuracy')\n",
        "\n",
        "# Model Overfits after 2 Epochs"
      ],
      "execution_count": 31,
      "outputs": [
        {
          "output_type": "display_data",
          "data": {
            "image/png": "[encoded data removed]",
            "text/plain": [
              "<Figure size 432x288 with 1 Axes>"
            ]
          },
          "metadata": {
            "tags": [],
            "needs_background": "light"
          }
        }
      ]
    },
    {
      "cell_type": "code",
      "metadata": {
        "id": "hkhtCCgnUbY6",
        "outputId": "f1c37f81-afc9-491d-da6a-5e7f9ce1e558",
        "colab": {
          "base_uri": "https://localhost:8080/",
          "height": 34
        }
      },
      "source": [
        "# Sample Input Example\n",
        "\n",
        "sample_example = [\"Should America be made an anti-Islamic country\", \n",
        "                  \"Am I the only liberal who's happy that the economies of the American southern states are pathetically poor?\",\n",
        "                  \"Its so good to be here\"]\n",
        "\n",
        "test_dataset = tf.data.Dataset.from_tensor_slices((sample_example, [0]*len(sample_example))) # Fill vector of 0\n",
        "\n",
        "# Mapping the Data\n",
        "test_dataset = (test_dataset.map(to_feature_map).batch(1))\n",
        "preds = model.predict(test_dataset)\n",
        "\n",
        "# Define Classification Threshold\n",
        "threshold = 0.5\n",
        "\n",
        "['Insincere' if pred >= threshold else 'Sincere' for pred in preds]"
      ],
      "execution_count": 46,
      "outputs": [
        {
          "output_type": "execute_result",
          "data": {
            "text/plain": [
              "['Insincere', 'Insincere', 'Sincere']"
            ]
          },
          "metadata": {
            "tags": []
          },
          "execution_count": 46
        }
      ]
    },
    {
      "cell_type": "markdown",
      "metadata": {
        "id": "_-Px7MB23j1T"
      },
      "source": [
        "Process: After the Input List is populated, Create a Tensorflow Dataset from it, and use dataset.map function to map raw string to BERT required input data structures. Then pass the Data Structure to the Model predict function for predictions"
      ]
    }
  ]
}
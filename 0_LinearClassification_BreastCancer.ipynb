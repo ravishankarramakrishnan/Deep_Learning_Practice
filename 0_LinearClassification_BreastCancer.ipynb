{
  "nbformat": 4,
  "nbformat_minor": 0,
  "metadata": {
    "colab": {
      "name": "0_LinearClassification_BreastCancer.ipynb",
      "provenance": [],
      "collapsed_sections": [],
      "authorship_tag": "ABX9TyNGQAPg4EBlOjmEh7py/ggN",
      "include_colab_link": true
    },
    "kernelspec": {
      "name": "python3",
      "display_name": "Python 3"
    }
  },
  "cells": [
    {
      "cell_type": "markdown",
      "metadata": {
        "id": "view-in-github",
        "colab_type": "text"
      },
      "source": [
        "<a href=\"https://colab.research.google.com/github/ravishankarramakrishnan/Deep_Learning_Practice/blob/master/0_LinearClassification_BreastCancer.ipynb\" target=\"_parent\"><img src=\"https://colab.research.google.com/assets/colab-badge.svg\" alt=\"Open In Colab\"/></a>"
      ]
    },
    {
      "cell_type": "code",
      "metadata": {
        "id": "91YtNADj_mwf",
        "colab_type": "code",
        "outputId": "1c8ae4b8-393e-41b2-e6dc-80511cc68731",
        "colab": {
          "base_uri": "https://localhost:8080/",
          "height": 68
        }
      },
      "source": [
        "!pip install -q tensorflow==2.0.0-beta1"
      ],
      "execution_count": 0,
      "outputs": [
        {
          "output_type": "stream",
          "text": [
            "\u001b[K     |████████████████████████████████| 87.9MB 63kB/s \n",
            "\u001b[K     |████████████████████████████████| 3.1MB 46.6MB/s \n",
            "\u001b[K     |████████████████████████████████| 501kB 52.9MB/s \n",
            "\u001b[?25h"
          ],
          "name": "stdout"
        }
      ]
    },
    {
      "cell_type": "code",
      "metadata": {
        "id": "SsM_CDCy_7fV",
        "colab_type": "code",
        "outputId": "2b285cf1-5cdf-4c69-b469-c1e9433d9073",
        "colab": {
          "base_uri": "https://localhost:8080/",
          "height": 462
        }
      },
      "source": [
        "# importing the Libraries\n",
        "\n",
        "import tensorflow as tf\n",
        "print(tf.__version__)"
      ],
      "execution_count": 0,
      "outputs": [
        {
          "output_type": "stream",
          "text": [
            "/usr/local/lib/python3.6/dist-packages/tensorflow/python/framework/dtypes.py:516: FutureWarning: Passing (type, 1) or '1type' as a synonym of type is deprecated; in a future version of numpy, it will be understood as (type, (1,)) / '(1,)type'.\n",
            "  _np_qint8 = np.dtype([(\"qint8\", np.int8, 1)])\n",
            "/usr/local/lib/python3.6/dist-packages/tensorflow/python/framework/dtypes.py:517: FutureWarning: Passing (type, 1) or '1type' as a synonym of type is deprecated; in a future version of numpy, it will be understood as (type, (1,)) / '(1,)type'.\n",
            "  _np_quint8 = np.dtype([(\"quint8\", np.uint8, 1)])\n",
            "/usr/local/lib/python3.6/dist-packages/tensorflow/python/framework/dtypes.py:518: FutureWarning: Passing (type, 1) or '1type' as a synonym of type is deprecated; in a future version of numpy, it will be understood as (type, (1,)) / '(1,)type'.\n",
            "  _np_qint16 = np.dtype([(\"qint16\", np.int16, 1)])\n",
            "/usr/local/lib/python3.6/dist-packages/tensorflow/python/framework/dtypes.py:519: FutureWarning: Passing (type, 1) or '1type' as a synonym of type is deprecated; in a future version of numpy, it will be understood as (type, (1,)) / '(1,)type'.\n",
            "  _np_quint16 = np.dtype([(\"quint16\", np.uint16, 1)])\n",
            "/usr/local/lib/python3.6/dist-packages/tensorflow/python/framework/dtypes.py:520: FutureWarning: Passing (type, 1) or '1type' as a synonym of type is deprecated; in a future version of numpy, it will be understood as (type, (1,)) / '(1,)type'.\n",
            "  _np_qint32 = np.dtype([(\"qint32\", np.int32, 1)])\n",
            "/usr/local/lib/python3.6/dist-packages/tensorflow/python/framework/dtypes.py:525: FutureWarning: Passing (type, 1) or '1type' as a synonym of type is deprecated; in a future version of numpy, it will be understood as (type, (1,)) / '(1,)type'.\n",
            "  np_resource = np.dtype([(\"resource\", np.ubyte, 1)])\n"
          ],
          "name": "stderr"
        },
        {
          "output_type": "stream",
          "text": [
            "2.0.0-beta1\n"
          ],
          "name": "stdout"
        },
        {
          "output_type": "stream",
          "text": [
            "/usr/local/lib/python3.6/dist-packages/tensorboard/compat/tensorflow_stub/dtypes.py:541: FutureWarning: Passing (type, 1) or '1type' as a synonym of type is deprecated; in a future version of numpy, it will be understood as (type, (1,)) / '(1,)type'.\n",
            "  _np_qint8 = np.dtype([(\"qint8\", np.int8, 1)])\n",
            "/usr/local/lib/python3.6/dist-packages/tensorboard/compat/tensorflow_stub/dtypes.py:542: FutureWarning: Passing (type, 1) or '1type' as a synonym of type is deprecated; in a future version of numpy, it will be understood as (type, (1,)) / '(1,)type'.\n",
            "  _np_quint8 = np.dtype([(\"quint8\", np.uint8, 1)])\n",
            "/usr/local/lib/python3.6/dist-packages/tensorboard/compat/tensorflow_stub/dtypes.py:543: FutureWarning: Passing (type, 1) or '1type' as a synonym of type is deprecated; in a future version of numpy, it will be understood as (type, (1,)) / '(1,)type'.\n",
            "  _np_qint16 = np.dtype([(\"qint16\", np.int16, 1)])\n",
            "/usr/local/lib/python3.6/dist-packages/tensorboard/compat/tensorflow_stub/dtypes.py:544: FutureWarning: Passing (type, 1) or '1type' as a synonym of type is deprecated; in a future version of numpy, it will be understood as (type, (1,)) / '(1,)type'.\n",
            "  _np_quint16 = np.dtype([(\"quint16\", np.uint16, 1)])\n",
            "/usr/local/lib/python3.6/dist-packages/tensorboard/compat/tensorflow_stub/dtypes.py:545: FutureWarning: Passing (type, 1) or '1type' as a synonym of type is deprecated; in a future version of numpy, it will be understood as (type, (1,)) / '(1,)type'.\n",
            "  _np_qint32 = np.dtype([(\"qint32\", np.int32, 1)])\n",
            "/usr/local/lib/python3.6/dist-packages/tensorboard/compat/tensorflow_stub/dtypes.py:550: FutureWarning: Passing (type, 1) or '1type' as a synonym of type is deprecated; in a future version of numpy, it will be understood as (type, (1,)) / '(1,)type'.\n",
            "  np_resource = np.dtype([(\"resource\", np.ubyte, 1)])\n"
          ],
          "name": "stderr"
        }
      ]
    },
    {
      "cell_type": "code",
      "metadata": {
        "id": "psyVyqn-AE9a",
        "colab_type": "code",
        "colab": {}
      },
      "source": [
        "# Load Data\n",
        "from sklearn.datasets import load_breast_cancer\n",
        "\n",
        "data = load_breast_cancer()"
      ],
      "execution_count": 0,
      "outputs": []
    },
    {
      "cell_type": "code",
      "metadata": {
        "id": "XqCaTlHjAUHi",
        "colab_type": "code",
        "outputId": "03f12f43-78ed-42a0-d7b3-da90e242a566",
        "colab": {
          "base_uri": "https://localhost:8080/",
          "height": 34
        }
      },
      "source": [
        "# Check type of data\n",
        "type(data)"
      ],
      "execution_count": 0,
      "outputs": [
        {
          "output_type": "execute_result",
          "data": {
            "text/plain": [
              "sklearn.utils.Bunch"
            ]
          },
          "metadata": {
            "tags": []
          },
          "execution_count": 4
        }
      ]
    },
    {
      "cell_type": "code",
      "metadata": {
        "id": "byaQSd18AaeS",
        "colab_type": "code",
        "outputId": "3d7fd031-9ee5-486a-d476-3d64e78f45b1",
        "colab": {
          "base_uri": "https://localhost:8080/",
          "height": 34
        }
      },
      "source": [
        "# Bunck is like Dictionary\n",
        "data.keys()"
      ],
      "execution_count": 0,
      "outputs": [
        {
          "output_type": "execute_result",
          "data": {
            "text/plain": [
              "dict_keys(['data', 'target', 'target_names', 'DESCR', 'feature_names', 'filename'])"
            ]
          },
          "metadata": {
            "tags": []
          },
          "execution_count": 5
        }
      ]
    },
    {
      "cell_type": "code",
      "metadata": {
        "id": "JgsVhrsuAeAq",
        "colab_type": "code",
        "outputId": "2da120dd-9c31-4f39-a97e-6579e9694e42",
        "colab": {
          "base_uri": "https://localhost:8080/",
          "height": 34
        }
      },
      "source": [
        "# Check the Shape of the Dataset\n",
        "data.data.shape"
      ],
      "execution_count": 0,
      "outputs": [
        {
          "output_type": "execute_result",
          "data": {
            "text/plain": [
              "(569, 30)"
            ]
          },
          "metadata": {
            "tags": []
          },
          "execution_count": 6
        }
      ]
    },
    {
      "cell_type": "code",
      "metadata": {
        "id": "cXoe70YKAoZo",
        "colab_type": "code",
        "outputId": "ec95ae00-cefc-427c-dc27-f996ae02440a",
        "colab": {
          "base_uri": "https://localhost:8080/",
          "height": 459
        }
      },
      "source": [
        "# Check the Target Column\n",
        "data.target"
      ],
      "execution_count": 0,
      "outputs": [
        {
          "output_type": "execute_result",
          "data": {
            "text/plain": [
              "array([0, 0, 0, 0, 0, 0, 0, 0, 0, 0, 0, 0, 0, 0, 0, 0, 0, 0, 0, 1, 1, 1,\n",
              "       0, 0, 0, 0, 0, 0, 0, 0, 0, 0, 0, 0, 0, 0, 0, 1, 0, 0, 0, 0, 0, 0,\n",
              "       0, 0, 1, 0, 1, 1, 1, 1, 1, 0, 0, 1, 0, 0, 1, 1, 1, 1, 0, 1, 0, 0,\n",
              "       1, 1, 1, 1, 0, 1, 0, 0, 1, 0, 1, 0, 0, 1, 1, 1, 0, 0, 1, 0, 0, 0,\n",
              "       1, 1, 1, 0, 1, 1, 0, 0, 1, 1, 1, 0, 0, 1, 1, 1, 1, 0, 1, 1, 0, 1,\n",
              "       1, 1, 1, 1, 1, 1, 1, 0, 0, 0, 1, 0, 0, 1, 1, 1, 0, 0, 1, 0, 1, 0,\n",
              "       0, 1, 0, 0, 1, 1, 0, 1, 1, 0, 1, 1, 1, 1, 0, 1, 1, 1, 1, 1, 1, 1,\n",
              "       1, 1, 0, 1, 1, 1, 1, 0, 0, 1, 0, 1, 1, 0, 0, 1, 1, 0, 0, 1, 1, 1,\n",
              "       1, 0, 1, 1, 0, 0, 0, 1, 0, 1, 0, 1, 1, 1, 0, 1, 1, 0, 0, 1, 0, 0,\n",
              "       0, 0, 1, 0, 0, 0, 1, 0, 1, 0, 1, 1, 0, 1, 0, 0, 0, 0, 1, 1, 0, 0,\n",
              "       1, 1, 1, 0, 1, 1, 1, 1, 1, 0, 0, 1, 1, 0, 1, 1, 0, 0, 1, 0, 1, 1,\n",
              "       1, 1, 0, 1, 1, 1, 1, 1, 0, 1, 0, 0, 0, 0, 0, 0, 0, 0, 0, 0, 0, 0,\n",
              "       0, 0, 1, 1, 1, 1, 1, 1, 0, 1, 0, 1, 1, 0, 1, 1, 0, 1, 0, 0, 1, 1,\n",
              "       1, 1, 1, 1, 1, 1, 1, 1, 1, 1, 1, 0, 1, 1, 0, 1, 0, 1, 1, 1, 1, 1,\n",
              "       1, 1, 1, 1, 1, 1, 1, 1, 1, 0, 1, 1, 1, 0, 1, 0, 1, 1, 1, 1, 0, 0,\n",
              "       0, 1, 1, 1, 1, 0, 1, 0, 1, 0, 1, 1, 1, 0, 1, 1, 1, 1, 1, 1, 1, 0,\n",
              "       0, 0, 1, 1, 1, 1, 1, 1, 1, 1, 1, 1, 1, 0, 0, 1, 0, 0, 0, 1, 0, 0,\n",
              "       1, 1, 1, 1, 1, 0, 1, 1, 1, 1, 1, 0, 1, 1, 1, 0, 1, 1, 0, 0, 1, 1,\n",
              "       1, 1, 1, 1, 0, 1, 1, 1, 1, 1, 1, 1, 0, 1, 1, 1, 1, 1, 0, 1, 1, 0,\n",
              "       1, 1, 1, 1, 1, 1, 1, 1, 1, 1, 1, 1, 0, 1, 0, 0, 1, 0, 1, 1, 1, 1,\n",
              "       1, 0, 1, 1, 0, 1, 0, 1, 1, 0, 1, 0, 1, 1, 1, 1, 1, 1, 1, 1, 0, 0,\n",
              "       1, 1, 1, 1, 1, 1, 0, 1, 1, 1, 1, 1, 1, 1, 1, 1, 1, 0, 1, 1, 1, 1,\n",
              "       1, 1, 1, 0, 1, 0, 1, 1, 0, 1, 1, 1, 1, 1, 0, 0, 1, 0, 1, 0, 1, 1,\n",
              "       1, 1, 1, 0, 1, 1, 0, 1, 0, 1, 0, 0, 1, 1, 1, 0, 1, 1, 1, 1, 1, 1,\n",
              "       1, 1, 1, 1, 1, 0, 1, 0, 0, 1, 1, 1, 1, 1, 1, 1, 1, 1, 1, 1, 1, 1,\n",
              "       1, 1, 1, 1, 1, 1, 1, 1, 1, 1, 1, 1, 0, 0, 0, 0, 0, 0, 1])"
            ]
          },
          "metadata": {
            "tags": []
          },
          "execution_count": 7
        }
      ]
    },
    {
      "cell_type": "code",
      "metadata": {
        "id": "NslHJOWYAuAx",
        "colab_type": "code",
        "outputId": "408f62e6-707b-4dce-c9c1-2b514f102bcf",
        "colab": {
          "base_uri": "https://localhost:8080/",
          "height": 34
        }
      },
      "source": [
        "# Check their Names\n",
        "data.target_names"
      ],
      "execution_count": 0,
      "outputs": [
        {
          "output_type": "execute_result",
          "data": {
            "text/plain": [
              "array(['malignant', 'benign'], dtype='<U9')"
            ]
          },
          "metadata": {
            "tags": []
          },
          "execution_count": 8
        }
      ]
    },
    {
      "cell_type": "code",
      "metadata": {
        "id": "q7TqepLpAz0h",
        "colab_type": "code",
        "outputId": "b9807092-3706-4e5e-eb21-c1890c7928fe",
        "colab": {
          "base_uri": "https://localhost:8080/",
          "height": 187
        }
      },
      "source": [
        "# Check Feature Names\n",
        "data.feature_names"
      ],
      "execution_count": 0,
      "outputs": [
        {
          "output_type": "execute_result",
          "data": {
            "text/plain": [
              "array(['mean radius', 'mean texture', 'mean perimeter', 'mean area',\n",
              "       'mean smoothness', 'mean compactness', 'mean concavity',\n",
              "       'mean concave points', 'mean symmetry', 'mean fractal dimension',\n",
              "       'radius error', 'texture error', 'perimeter error', 'area error',\n",
              "       'smoothness error', 'compactness error', 'concavity error',\n",
              "       'concave points error', 'symmetry error',\n",
              "       'fractal dimension error', 'worst radius', 'worst texture',\n",
              "       'worst perimeter', 'worst area', 'worst smoothness',\n",
              "       'worst compactness', 'worst concavity', 'worst concave points',\n",
              "       'worst symmetry', 'worst fractal dimension'], dtype='<U23')"
            ]
          },
          "metadata": {
            "tags": []
          },
          "execution_count": 9
        }
      ]
    },
    {
      "cell_type": "code",
      "metadata": {
        "id": "xQll6TsLA4Vh",
        "colab_type": "code",
        "colab": {}
      },
      "source": [
        "# Model Building\n",
        "\n",
        "from sklearn.model_selection import train_test_split\n",
        "\n",
        "X_train, X_test, y_train, y_test = train_test_split(data.data, data.target, test_size=0.33, random_state = 42)"
      ],
      "execution_count": 0,
      "outputs": []
    },
    {
      "cell_type": "code",
      "metadata": {
        "id": "YZNpmcWnBQPZ",
        "colab_type": "code",
        "colab": {}
      },
      "source": [
        "# Get the Numbers and Dimensions for Entering into Deep Learning Input Layer Size\n",
        "N,D = X_train.shape"
      ],
      "execution_count": 0,
      "outputs": []
    },
    {
      "cell_type": "code",
      "metadata": {
        "id": "n9k0nPfEBZIh",
        "colab_type": "code",
        "colab": {}
      },
      "source": [
        "# Scale the Data for even distribution of Range across Features\n",
        "\n",
        "from sklearn.preprocessing import StandardScaler\n",
        "\n",
        "sc = StandardScaler()\n",
        "\n",
        "X_train = sc.fit_transform(X_train)\n",
        "X_test = sc.transform(X_test)\n"
      ],
      "execution_count": 0,
      "outputs": []
    },
    {
      "cell_type": "code",
      "metadata": {
        "id": "8FNRo54iB5d4",
        "colab_type": "code",
        "colab": {}
      },
      "source": [
        "# Building the Model\n",
        "'''\n",
        "model = tf.keras.models.Sequential([\n",
        "                                    tf.keras.layers.Input(shape = (D,)),\n",
        "                                    tf.keras.layers.Dense(1, activation=\"sigmoid\")\n",
        "])\n",
        "'''\n",
        "\n",
        "# As We get Model Load Error, we follow the below\n",
        "\n",
        "model = tf.keras.models.Sequential()\n",
        "model.add(tf.keras.layers.Dense(1, input_shape = (D,), activation=\"sigmoid\"))"
      ],
      "execution_count": 0,
      "outputs": []
    },
    {
      "cell_type": "code",
      "metadata": {
        "id": "XOmW8UBFCWkC",
        "colab_type": "code",
        "colab": {}
      },
      "source": [
        "# Compile the Model\n",
        "\n",
        "model.compile(optimizer=\"adam\", loss=\"binary_crossentropy\", metrics=[\"accuracy\"])"
      ],
      "execution_count": 0,
      "outputs": []
    },
    {
      "cell_type": "code",
      "metadata": {
        "id": "LAXrxWwyCmpK",
        "colab_type": "code",
        "outputId": "52be75f5-5098-48c3-ab50-91b055d40ac9",
        "colab": {
          "base_uri": "https://localhost:8080/",
          "height": 1000
        }
      },
      "source": [
        "# Train the Model\n",
        "\n",
        "r = model.fit(X_train, y_train, validation_data=(X_test, y_test), epochs=100)\n",
        "\n",
        "print(\"Train Score:\", model.evaluate(X_train, y_train))\n",
        "print(\"Test Score:\", model.evaluate(X_test, y_test))"
      ],
      "execution_count": 0,
      "outputs": [
        {
          "output_type": "stream",
          "text": [
            "Train on 381 samples, validate on 188 samples\n",
            "Epoch 1/100\n",
            "381/381 [==============================] - 0s 451us/sample - loss: 0.5890 - accuracy: 0.7218 - val_loss: 0.5564 - val_accuracy: 0.7340\n",
            "Epoch 2/100\n",
            "381/381 [==============================] - 0s 61us/sample - loss: 0.5367 - accuracy: 0.7900 - val_loss: 0.5118 - val_accuracy: 0.7926\n",
            "Epoch 3/100\n",
            "381/381 [==============================] - 0s 64us/sample - loss: 0.4929 - accuracy: 0.8058 - val_loss: 0.4743 - val_accuracy: 0.8298\n",
            "Epoch 4/100\n",
            "381/381 [==============================] - 0s 58us/sample - loss: 0.4564 - accuracy: 0.8268 - val_loss: 0.4428 - val_accuracy: 0.8351\n",
            "Epoch 5/100\n",
            "381/381 [==============================] - 0s 59us/sample - loss: 0.4251 - accuracy: 0.8583 - val_loss: 0.4164 - val_accuracy: 0.8511\n",
            "Epoch 6/100\n",
            "381/381 [==============================] - 0s 55us/sample - loss: 0.3992 - accuracy: 0.8924 - val_loss: 0.3931 - val_accuracy: 0.8883\n",
            "Epoch 7/100\n",
            "381/381 [==============================] - 0s 55us/sample - loss: 0.3763 - accuracy: 0.8976 - val_loss: 0.3732 - val_accuracy: 0.8883\n",
            "Epoch 8/100\n",
            "381/381 [==============================] - 0s 74us/sample - loss: 0.3562 - accuracy: 0.9081 - val_loss: 0.3556 - val_accuracy: 0.9043\n",
            "Epoch 9/100\n",
            "381/381 [==============================] - 0s 75us/sample - loss: 0.3388 - accuracy: 0.9081 - val_loss: 0.3397 - val_accuracy: 0.9043\n",
            "Epoch 10/100\n",
            "381/381 [==============================] - 0s 57us/sample - loss: 0.3229 - accuracy: 0.9134 - val_loss: 0.3256 - val_accuracy: 0.9096\n",
            "Epoch 11/100\n",
            "381/381 [==============================] - 0s 58us/sample - loss: 0.3089 - accuracy: 0.9134 - val_loss: 0.3125 - val_accuracy: 0.9043\n",
            "Epoch 12/100\n",
            "381/381 [==============================] - 0s 62us/sample - loss: 0.2960 - accuracy: 0.9160 - val_loss: 0.3007 - val_accuracy: 0.9096\n",
            "Epoch 13/100\n",
            "381/381 [==============================] - 0s 87us/sample - loss: 0.2845 - accuracy: 0.9186 - val_loss: 0.2898 - val_accuracy: 0.9149\n",
            "Epoch 14/100\n",
            "381/381 [==============================] - 0s 58us/sample - loss: 0.2735 - accuracy: 0.9186 - val_loss: 0.2802 - val_accuracy: 0.9149\n",
            "Epoch 15/100\n",
            "381/381 [==============================] - 0s 55us/sample - loss: 0.2641 - accuracy: 0.9213 - val_loss: 0.2710 - val_accuracy: 0.9202\n",
            "Epoch 16/100\n",
            "381/381 [==============================] - 0s 59us/sample - loss: 0.2550 - accuracy: 0.9239 - val_loss: 0.2624 - val_accuracy: 0.9202\n",
            "Epoch 17/100\n",
            "381/381 [==============================] - 0s 64us/sample - loss: 0.2468 - accuracy: 0.9318 - val_loss: 0.2543 - val_accuracy: 0.9202\n",
            "Epoch 18/100\n",
            "381/381 [==============================] - 0s 61us/sample - loss: 0.2390 - accuracy: 0.9370 - val_loss: 0.2470 - val_accuracy: 0.9255\n",
            "Epoch 19/100\n",
            "381/381 [==============================] - 0s 68us/sample - loss: 0.2316 - accuracy: 0.9423 - val_loss: 0.2402 - val_accuracy: 0.9255\n",
            "Epoch 20/100\n",
            "381/381 [==============================] - 0s 75us/sample - loss: 0.2251 - accuracy: 0.9475 - val_loss: 0.2336 - val_accuracy: 0.9309\n",
            "Epoch 21/100\n",
            "381/381 [==============================] - 0s 61us/sample - loss: 0.2188 - accuracy: 0.9475 - val_loss: 0.2274 - val_accuracy: 0.9362\n",
            "Epoch 22/100\n",
            "381/381 [==============================] - 0s 65us/sample - loss: 0.2129 - accuracy: 0.9449 - val_loss: 0.2216 - val_accuracy: 0.9468\n",
            "Epoch 23/100\n",
            "381/381 [==============================] - 0s 64us/sample - loss: 0.2073 - accuracy: 0.9475 - val_loss: 0.2161 - val_accuracy: 0.9468\n",
            "Epoch 24/100\n",
            "381/381 [==============================] - 0s 58us/sample - loss: 0.2024 - accuracy: 0.9475 - val_loss: 0.2107 - val_accuracy: 0.9468\n",
            "Epoch 25/100\n",
            "381/381 [==============================] - 0s 57us/sample - loss: 0.1971 - accuracy: 0.9501 - val_loss: 0.2059 - val_accuracy: 0.9468\n",
            "Epoch 26/100\n",
            "381/381 [==============================] - 0s 62us/sample - loss: 0.1924 - accuracy: 0.9501 - val_loss: 0.2014 - val_accuracy: 0.9521\n",
            "Epoch 27/100\n",
            "381/381 [==============================] - 0s 57us/sample - loss: 0.1882 - accuracy: 0.9554 - val_loss: 0.1969 - val_accuracy: 0.9521\n",
            "Epoch 28/100\n",
            "381/381 [==============================] - 0s 57us/sample - loss: 0.1840 - accuracy: 0.9554 - val_loss: 0.1926 - val_accuracy: 0.9521\n",
            "Epoch 29/100\n",
            "381/381 [==============================] - 0s 71us/sample - loss: 0.1801 - accuracy: 0.9554 - val_loss: 0.1887 - val_accuracy: 0.9521\n",
            "Epoch 30/100\n",
            "381/381 [==============================] - 0s 62us/sample - loss: 0.1763 - accuracy: 0.9606 - val_loss: 0.1849 - val_accuracy: 0.9574\n",
            "Epoch 31/100\n",
            "381/381 [==============================] - 0s 72us/sample - loss: 0.1728 - accuracy: 0.9606 - val_loss: 0.1813 - val_accuracy: 0.9574\n",
            "Epoch 32/100\n",
            "381/381 [==============================] - 0s 64us/sample - loss: 0.1694 - accuracy: 0.9633 - val_loss: 0.1778 - val_accuracy: 0.9574\n",
            "Epoch 33/100\n",
            "381/381 [==============================] - 0s 68us/sample - loss: 0.1661 - accuracy: 0.9633 - val_loss: 0.1744 - val_accuracy: 0.9574\n",
            "Epoch 34/100\n",
            "381/381 [==============================] - 0s 67us/sample - loss: 0.1633 - accuracy: 0.9633 - val_loss: 0.1711 - val_accuracy: 0.9574\n",
            "Epoch 35/100\n",
            "381/381 [==============================] - 0s 59us/sample - loss: 0.1602 - accuracy: 0.9633 - val_loss: 0.1680 - val_accuracy: 0.9574\n",
            "Epoch 36/100\n",
            "381/381 [==============================] - 0s 59us/sample - loss: 0.1574 - accuracy: 0.9633 - val_loss: 0.1651 - val_accuracy: 0.9574\n",
            "Epoch 37/100\n",
            "381/381 [==============================] - 0s 67us/sample - loss: 0.1547 - accuracy: 0.9633 - val_loss: 0.1624 - val_accuracy: 0.9574\n",
            "Epoch 38/100\n",
            "381/381 [==============================] - 0s 61us/sample - loss: 0.1523 - accuracy: 0.9633 - val_loss: 0.1596 - val_accuracy: 0.9574\n",
            "Epoch 39/100\n",
            "381/381 [==============================] - 0s 56us/sample - loss: 0.1498 - accuracy: 0.9633 - val_loss: 0.1570 - val_accuracy: 0.9574\n",
            "Epoch 40/100\n",
            "381/381 [==============================] - 0s 59us/sample - loss: 0.1474 - accuracy: 0.9633 - val_loss: 0.1546 - val_accuracy: 0.9574\n",
            "Epoch 41/100\n",
            "381/381 [==============================] - 0s 61us/sample - loss: 0.1452 - accuracy: 0.9633 - val_loss: 0.1522 - val_accuracy: 0.9628\n",
            "Epoch 42/100\n",
            "381/381 [==============================] - 0s 70us/sample - loss: 0.1432 - accuracy: 0.9633 - val_loss: 0.1498 - val_accuracy: 0.9628\n",
            "Epoch 43/100\n",
            "381/381 [==============================] - 0s 60us/sample - loss: 0.1411 - accuracy: 0.9633 - val_loss: 0.1475 - val_accuracy: 0.9628\n",
            "Epoch 44/100\n",
            "381/381 [==============================] - 0s 73us/sample - loss: 0.1391 - accuracy: 0.9633 - val_loss: 0.1454 - val_accuracy: 0.9628\n",
            "Epoch 45/100\n",
            "381/381 [==============================] - 0s 59us/sample - loss: 0.1373 - accuracy: 0.9633 - val_loss: 0.1433 - val_accuracy: 0.9628\n",
            "Epoch 46/100\n",
            "381/381 [==============================] - 0s 64us/sample - loss: 0.1355 - accuracy: 0.9633 - val_loss: 0.1414 - val_accuracy: 0.9628\n",
            "Epoch 47/100\n",
            "381/381 [==============================] - 0s 60us/sample - loss: 0.1338 - accuracy: 0.9633 - val_loss: 0.1394 - val_accuracy: 0.9628\n",
            "Epoch 48/100\n",
            "381/381 [==============================] - 0s 60us/sample - loss: 0.1321 - accuracy: 0.9659 - val_loss: 0.1376 - val_accuracy: 0.9628\n",
            "Epoch 49/100\n",
            "381/381 [==============================] - 0s 58us/sample - loss: 0.1305 - accuracy: 0.9659 - val_loss: 0.1358 - val_accuracy: 0.9628\n",
            "Epoch 50/100\n",
            "381/381 [==============================] - 0s 68us/sample - loss: 0.1291 - accuracy: 0.9659 - val_loss: 0.1340 - val_accuracy: 0.9628\n",
            "Epoch 51/100\n",
            "381/381 [==============================] - 0s 61us/sample - loss: 0.1275 - accuracy: 0.9659 - val_loss: 0.1324 - val_accuracy: 0.9628\n",
            "Epoch 52/100\n",
            "381/381 [==============================] - 0s 62us/sample - loss: 0.1261 - accuracy: 0.9685 - val_loss: 0.1308 - val_accuracy: 0.9628\n",
            "Epoch 53/100\n",
            "381/381 [==============================] - 0s 63us/sample - loss: 0.1248 - accuracy: 0.9685 - val_loss: 0.1292 - val_accuracy: 0.9628\n",
            "Epoch 54/100\n",
            "381/381 [==============================] - 0s 65us/sample - loss: 0.1234 - accuracy: 0.9711 - val_loss: 0.1276 - val_accuracy: 0.9628\n",
            "Epoch 55/100\n",
            "381/381 [==============================] - 0s 63us/sample - loss: 0.1222 - accuracy: 0.9711 - val_loss: 0.1262 - val_accuracy: 0.9628\n",
            "Epoch 56/100\n",
            "381/381 [==============================] - 0s 68us/sample - loss: 0.1209 - accuracy: 0.9711 - val_loss: 0.1248 - val_accuracy: 0.9681\n",
            "Epoch 57/100\n",
            "381/381 [==============================] - 0s 61us/sample - loss: 0.1197 - accuracy: 0.9738 - val_loss: 0.1235 - val_accuracy: 0.9681\n",
            "Epoch 58/100\n",
            "381/381 [==============================] - 0s 63us/sample - loss: 0.1187 - accuracy: 0.9738 - val_loss: 0.1221 - val_accuracy: 0.9681\n",
            "Epoch 59/100\n",
            "381/381 [==============================] - 0s 53us/sample - loss: 0.1176 - accuracy: 0.9738 - val_loss: 0.1210 - val_accuracy: 0.9681\n",
            "Epoch 60/100\n",
            "381/381 [==============================] - 0s 55us/sample - loss: 0.1165 - accuracy: 0.9738 - val_loss: 0.1197 - val_accuracy: 0.9681\n",
            "Epoch 61/100\n",
            "381/381 [==============================] - 0s 57us/sample - loss: 0.1154 - accuracy: 0.9738 - val_loss: 0.1184 - val_accuracy: 0.9681\n",
            "Epoch 62/100\n",
            "381/381 [==============================] - 0s 69us/sample - loss: 0.1145 - accuracy: 0.9738 - val_loss: 0.1172 - val_accuracy: 0.9681\n",
            "Epoch 63/100\n",
            "381/381 [==============================] - 0s 66us/sample - loss: 0.1134 - accuracy: 0.9738 - val_loss: 0.1161 - val_accuracy: 0.9681\n",
            "Epoch 64/100\n",
            "381/381 [==============================] - 0s 92us/sample - loss: 0.1125 - accuracy: 0.9738 - val_loss: 0.1150 - val_accuracy: 0.9681\n",
            "Epoch 65/100\n",
            "381/381 [==============================] - 0s 64us/sample - loss: 0.1117 - accuracy: 0.9738 - val_loss: 0.1140 - val_accuracy: 0.9681\n",
            "Epoch 66/100\n",
            "381/381 [==============================] - 0s 57us/sample - loss: 0.1108 - accuracy: 0.9738 - val_loss: 0.1130 - val_accuracy: 0.9681\n",
            "Epoch 67/100\n",
            "381/381 [==============================] - 0s 62us/sample - loss: 0.1099 - accuracy: 0.9711 - val_loss: 0.1120 - val_accuracy: 0.9681\n",
            "Epoch 68/100\n",
            "381/381 [==============================] - 0s 58us/sample - loss: 0.1091 - accuracy: 0.9738 - val_loss: 0.1110 - val_accuracy: 0.9681\n",
            "Epoch 69/100\n",
            "381/381 [==============================] - 0s 59us/sample - loss: 0.1083 - accuracy: 0.9738 - val_loss: 0.1101 - val_accuracy: 0.9681\n",
            "Epoch 70/100\n",
            "381/381 [==============================] - 0s 60us/sample - loss: 0.1075 - accuracy: 0.9738 - val_loss: 0.1091 - val_accuracy: 0.9681\n",
            "Epoch 71/100\n",
            "381/381 [==============================] - 0s 59us/sample - loss: 0.1067 - accuracy: 0.9738 - val_loss: 0.1081 - val_accuracy: 0.9681\n",
            "Epoch 72/100\n",
            "381/381 [==============================] - 0s 62us/sample - loss: 0.1059 - accuracy: 0.9738 - val_loss: 0.1073 - val_accuracy: 0.9681\n",
            "Epoch 73/100\n",
            "381/381 [==============================] - 0s 66us/sample - loss: 0.1052 - accuracy: 0.9738 - val_loss: 0.1064 - val_accuracy: 0.9681\n",
            "Epoch 74/100\n",
            "381/381 [==============================] - 0s 60us/sample - loss: 0.1046 - accuracy: 0.9738 - val_loss: 0.1055 - val_accuracy: 0.9681\n",
            "Epoch 75/100\n",
            "381/381 [==============================] - 0s 66us/sample - loss: 0.1039 - accuracy: 0.9738 - val_loss: 0.1047 - val_accuracy: 0.9681\n",
            "Epoch 76/100\n",
            "381/381 [==============================] - 0s 69us/sample - loss: 0.1032 - accuracy: 0.9738 - val_loss: 0.1039 - val_accuracy: 0.9681\n",
            "Epoch 77/100\n",
            "381/381 [==============================] - 0s 61us/sample - loss: 0.1026 - accuracy: 0.9764 - val_loss: 0.1031 - val_accuracy: 0.9681\n",
            "Epoch 78/100\n",
            "381/381 [==============================] - 0s 59us/sample - loss: 0.1019 - accuracy: 0.9764 - val_loss: 0.1024 - val_accuracy: 0.9681\n",
            "Epoch 79/100\n",
            "381/381 [==============================] - 0s 61us/sample - loss: 0.1013 - accuracy: 0.9764 - val_loss: 0.1017 - val_accuracy: 0.9681\n",
            "Epoch 80/100\n",
            "381/381 [==============================] - 0s 58us/sample - loss: 0.1007 - accuracy: 0.9764 - val_loss: 0.1009 - val_accuracy: 0.9681\n",
            "Epoch 81/100\n",
            "381/381 [==============================] - 0s 59us/sample - loss: 0.1001 - accuracy: 0.9764 - val_loss: 0.1002 - val_accuracy: 0.9734\n",
            "Epoch 82/100\n",
            "381/381 [==============================] - 0s 60us/sample - loss: 0.0996 - accuracy: 0.9764 - val_loss: 0.0997 - val_accuracy: 0.9734\n",
            "Epoch 83/100\n",
            "381/381 [==============================] - 0s 63us/sample - loss: 0.0990 - accuracy: 0.9764 - val_loss: 0.0989 - val_accuracy: 0.9734\n",
            "Epoch 84/100\n",
            "381/381 [==============================] - 0s 63us/sample - loss: 0.0984 - accuracy: 0.9764 - val_loss: 0.0982 - val_accuracy: 0.9734\n",
            "Epoch 85/100\n",
            "381/381 [==============================] - 0s 58us/sample - loss: 0.0979 - accuracy: 0.9764 - val_loss: 0.0976 - val_accuracy: 0.9734\n",
            "Epoch 86/100\n",
            "381/381 [==============================] - 0s 69us/sample - loss: 0.0974 - accuracy: 0.9764 - val_loss: 0.0970 - val_accuracy: 0.9734\n",
            "Epoch 87/100\n",
            "381/381 [==============================] - 0s 74us/sample - loss: 0.0969 - accuracy: 0.9764 - val_loss: 0.0964 - val_accuracy: 0.9734\n",
            "Epoch 88/100\n",
            "381/381 [==============================] - 0s 67us/sample - loss: 0.0964 - accuracy: 0.9764 - val_loss: 0.0957 - val_accuracy: 0.9734\n",
            "Epoch 89/100\n",
            "381/381 [==============================] - 0s 59us/sample - loss: 0.0959 - accuracy: 0.9764 - val_loss: 0.0952 - val_accuracy: 0.9734\n",
            "Epoch 90/100\n",
            "381/381 [==============================] - 0s 58us/sample - loss: 0.0955 - accuracy: 0.9764 - val_loss: 0.0947 - val_accuracy: 0.9734\n",
            "Epoch 91/100\n",
            "381/381 [==============================] - 0s 56us/sample - loss: 0.0949 - accuracy: 0.9764 - val_loss: 0.0940 - val_accuracy: 0.9734\n",
            "Epoch 92/100\n",
            "381/381 [==============================] - 0s 59us/sample - loss: 0.0945 - accuracy: 0.9764 - val_loss: 0.0935 - val_accuracy: 0.9734\n",
            "Epoch 93/100\n",
            "381/381 [==============================] - 0s 56us/sample - loss: 0.0940 - accuracy: 0.9764 - val_loss: 0.0930 - val_accuracy: 0.9734\n",
            "Epoch 94/100\n",
            "381/381 [==============================] - 0s 58us/sample - loss: 0.0937 - accuracy: 0.9764 - val_loss: 0.0925 - val_accuracy: 0.9734\n",
            "Epoch 95/100\n",
            "381/381 [==============================] - 0s 60us/sample - loss: 0.0931 - accuracy: 0.9764 - val_loss: 0.0919 - val_accuracy: 0.9734\n",
            "Epoch 96/100\n",
            "381/381 [==============================] - 0s 70us/sample - loss: 0.0927 - accuracy: 0.9764 - val_loss: 0.0915 - val_accuracy: 0.9734\n",
            "Epoch 97/100\n",
            "381/381 [==============================] - 0s 63us/sample - loss: 0.0923 - accuracy: 0.9764 - val_loss: 0.0909 - val_accuracy: 0.9734\n",
            "Epoch 98/100\n",
            "381/381 [==============================] - 0s 70us/sample - loss: 0.0919 - accuracy: 0.9764 - val_loss: 0.0904 - val_accuracy: 0.9734\n",
            "Epoch 99/100\n",
            "381/381 [==============================] - 0s 65us/sample - loss: 0.0915 - accuracy: 0.9764 - val_loss: 0.0899 - val_accuracy: 0.9734\n",
            "Epoch 100/100\n",
            "381/381 [==============================] - 0s 61us/sample - loss: 0.0912 - accuracy: 0.9764 - val_loss: 0.0895 - val_accuracy: 0.9734\n",
            "381/381 [==============================] - 0s 68us/sample - loss: 0.0909 - accuracy: 0.9764\n",
            "Train Score: [0.09086953971798964, 0.97637796]\n",
            "188/188 [==============================] - 0s 45us/sample - loss: 0.0895 - accuracy: 0.9734\n",
            "Test Score: [0.08948123550161402, 0.9734042]\n"
          ],
          "name": "stdout"
        }
      ]
    },
    {
      "cell_type": "code",
      "metadata": {
        "id": "SN8oglNXC_Wy",
        "colab_type": "code",
        "outputId": "7b4c1374-6e5e-4894-cfc6-557c7cfca52c",
        "colab": {
          "base_uri": "https://localhost:8080/",
          "height": 281
        }
      },
      "source": [
        "# Plot what's Returned by model.fit()\n",
        "\n",
        "import matplotlib.pyplot as plt\n",
        "plt.plot(r.history['loss'], label=\"Loss\")\n",
        "plt.plot(r.history['val_loss'], label=\"Val_Loss\")\n",
        "plt.title(\"Loss Plot\")\n",
        "plt.legend();"
      ],
      "execution_count": 0,
      "outputs": [
        {
          "output_type": "display_data",
          "data": {
            "image/png": "[encoded data removed]",
            "text/plain": [
              "<Figure size 432x288 with 1 Axes>"
            ]
          },
          "metadata": {
            "tags": []
          }
        }
      ]
    },
    {
      "cell_type": "code",
      "metadata": {
        "id": "TRD1fDQgDXCC",
        "colab_type": "code",
        "outputId": "c32f87c8-4351-4344-fd70-3af8cd1df22d",
        "colab": {
          "base_uri": "https://localhost:8080/",
          "height": 281
        }
      },
      "source": [
        "# Plot the Accuracy\n",
        "plt.plot(r.history['accuracy'], label=\"Accuracy\")\n",
        "plt.plot(r.history['val_accuracy'], label=\"Val_Accuracy\")\n",
        "plt.title(\"Accuracy Plot\")\n",
        "plt.legend();"
      ],
      "execution_count": 0,
      "outputs": [
        {
          "output_type": "display_data",
          "data": {
            "image/png": "[encoded data removed]",
            "text/plain": [
              "<Figure size 432x288 with 1 Axes>"
            ]
          },
          "metadata": {
            "tags": []
          }
        }
      ]
    },
    {
      "cell_type": "markdown",
      "metadata": {
        "id": "m54cayfnxf_p",
        "colab_type": "text"
      },
      "source": [
        "**Making Predictions**"
      ]
    },
    {
      "cell_type": "code",
      "metadata": {
        "id": "FfzUIh50xkny",
        "colab_type": "code",
        "outputId": "f216393f-077b-4977-81ce-6e64a9a98918",
        "colab": {
          "base_uri": "https://localhost:8080/",
          "height": 1000
        }
      },
      "source": [
        "# Make Predictions\n",
        "\n",
        "y_pred = model.predict(X_test)\n",
        "print(y_pred) # Their Probablities, Outputs of Sigmoid Function"
      ],
      "execution_count": 0,
      "outputs": [
        {
          "output_type": "stream",
          "text": [
            "[[8.38941455e-01]\n",
            " [2.72741914e-03]\n",
            " [3.95572186e-02]\n",
            " [9.80416417e-01]\n",
            " [9.96421695e-01]\n",
            " [2.38418579e-07]\n",
            " [7.21216202e-06]\n",
            " [1.44410312e-01]\n",
            " [5.61171114e-01]\n",
            " [9.91328716e-01]\n",
            " [8.76091003e-01]\n",
            " [1.31120503e-01]\n",
            " [9.49967146e-01]\n",
            " [1.16317213e-01]\n",
            " [9.85732913e-01]\n",
            " [2.34213471e-03]\n",
            " [9.84621763e-01]\n",
            " [9.99141335e-01]\n",
            " [9.99842107e-01]\n",
            " [2.63482332e-04]\n",
            " [8.28539491e-01]\n",
            " [9.44780767e-01]\n",
            " [5.48362732e-06]\n",
            " [9.98432994e-01]\n",
            " [9.87057209e-01]\n",
            " [9.85932291e-01]\n",
            " [9.83720183e-01]\n",
            " [9.71815348e-01]\n",
            " [9.72840488e-01]\n",
            " [5.57601452e-04]\n",
            " [9.84126985e-01]\n",
            " [9.96514082e-01]\n",
            " [9.94547486e-01]\n",
            " [9.64595437e-01]\n",
            " [9.96539414e-01]\n",
            " [9.87420917e-01]\n",
            " [2.45417297e-01]\n",
            " [9.96303856e-01]\n",
            " [5.36909699e-03]\n",
            " [8.62635970e-01]\n",
            " [9.97031212e-01]\n",
            " [2.05549598e-02]\n",
            " [9.74925339e-01]\n",
            " [9.87488627e-01]\n",
            " [9.71595466e-01]\n",
            " [9.00433779e-01]\n",
            " [9.94728327e-01]\n",
            " [9.95833635e-01]\n",
            " [8.87150824e-01]\n",
            " [9.86477852e-01]\n",
            " [6.94948435e-03]\n",
            " [3.72529030e-05]\n",
            " [5.30468047e-01]\n",
            " [9.30728018e-01]\n",
            " [9.97247636e-01]\n",
            " [9.70982075e-01]\n",
            " [9.96093035e-01]\n",
            " [1.78813934e-07]\n",
            " [2.98844874e-01]\n",
            " [9.97025013e-01]\n",
            " [9.56211150e-01]\n",
            " [1.86771154e-04]\n",
            " [1.38282776e-05]\n",
            " [9.08287644e-01]\n",
            " [9.92434502e-01]\n",
            " [8.18646073e-01]\n",
            " [1.06301904e-03]\n",
            " [1.66893005e-06]\n",
            " [9.85178411e-01]\n",
            " [8.70352507e-01]\n",
            " [3.65447104e-02]\n",
            " [3.05637121e-02]\n",
            " [9.80083108e-01]\n",
            " [2.54650712e-02]\n",
            " [9.99192357e-01]\n",
            " [9.32718635e-01]\n",
            " [9.35856521e-01]\n",
            " [5.07397652e-01]\n",
            " [9.98852968e-01]\n",
            " [9.34856832e-01]\n",
            " [3.55309546e-02]\n",
            " [9.98409152e-01]\n",
            " [3.22043151e-01]\n",
            " [1.42753124e-05]\n",
            " [4.35074568e-02]\n",
            " [1.33241713e-02]\n",
            " [1.85742974e-03]\n",
            " [4.03699279e-03]\n",
            " [9.92554426e-01]\n",
            " [9.60808516e-01]\n",
            " [9.59826231e-01]\n",
            " [5.58856845e-01]\n",
            " [8.84517431e-01]\n",
            " [9.91650701e-01]\n",
            " [9.93054867e-01]\n",
            " [9.97630835e-01]\n",
            " [2.17288733e-04]\n",
            " [3.45021486e-04]\n",
            " [9.98260498e-01]\n",
            " [8.72036815e-03]\n",
            " [4.36648428e-02]\n",
            " [9.99785423e-01]\n",
            " [1.79213285e-03]\n",
            " [1.43125057e-02]\n",
            " [9.76458549e-01]\n",
            " [9.31509733e-01]\n",
            " [9.55346465e-01]\n",
            " [4.50015068e-06]\n",
            " [7.96664238e-01]\n",
            " [8.78837705e-01]\n",
            " [5.24104536e-02]\n",
            " [9.88199055e-01]\n",
            " [4.28205192e-01]\n",
            " [2.38418579e-07]\n",
            " [3.28276098e-01]\n",
            " [4.20212746e-06]\n",
            " [9.99708772e-01]\n",
            " [9.11579370e-01]\n",
            " [9.98973370e-01]\n",
            " [2.24873424e-03]\n",
            " [9.64007139e-01]\n",
            " [9.92888451e-01]\n",
            " [9.75321889e-01]\n",
            " [2.93126702e-03]\n",
            " [8.89983773e-01]\n",
            " [1.82509422e-04]\n",
            " [1.35444105e-02]\n",
            " [9.94726896e-01]\n",
            " [9.84768271e-01]\n",
            " [2.43782997e-04]\n",
            " [1.85072422e-05]\n",
            " [2.01165676e-04]\n",
            " [9.70476866e-01]\n",
            " [9.86820459e-01]\n",
            " [9.32486534e-01]\n",
            " [3.41478586e-02]\n",
            " [6.59332752e-01]\n",
            " [9.77902234e-01]\n",
            " [6.29623413e-01]\n",
            " [1.78372264e-02]\n",
            " [9.79208708e-01]\n",
            " [3.42726707e-05]\n",
            " [9.98808861e-01]\n",
            " [9.98812973e-01]\n",
            " [5.11045158e-02]\n",
            " [9.84801531e-01]\n",
            " [5.10841608e-04]\n",
            " [5.91129065e-04]\n",
            " [3.80596995e-01]\n",
            " [9.95822906e-01]\n",
            " [2.49587536e-01]\n",
            " [9.98238444e-01]\n",
            " [9.99608696e-01]\n",
            " [9.03495610e-01]\n",
            " [9.89566803e-01]\n",
            " [0.00000000e+00]\n",
            " [2.06959248e-03]\n",
            " [9.99570489e-01]\n",
            " [9.50167418e-01]\n",
            " [9.99287605e-01]\n",
            " [9.99923825e-01]\n",
            " [9.94051039e-01]\n",
            " [9.97835636e-01]\n",
            " [9.80899692e-01]\n",
            " [2.34930366e-01]\n",
            " [9.89198267e-01]\n",
            " [9.90928650e-01]\n",
            " [7.16663837e-01]\n",
            " [9.96319056e-01]\n",
            " [6.33195341e-02]\n",
            " [8.68153095e-01]\n",
            " [9.84066010e-01]\n",
            " [9.86598015e-01]\n",
            " [7.37115860e-01]\n",
            " [9.84237194e-01]\n",
            " [8.85484278e-01]\n",
            " [2.39392191e-01]\n",
            " [8.72271061e-01]\n",
            " [9.82779086e-01]\n",
            " [9.24523234e-01]\n",
            " [8.49235654e-01]\n",
            " [9.08971310e-01]\n",
            " [9.94688034e-01]\n",
            " [1.11094922e-01]\n",
            " [8.98022018e-03]\n",
            " [1.71438739e-01]\n",
            " [3.28855246e-01]\n",
            " [9.05951023e-01]]\n"
          ],
          "name": "stdout"
        }
      ]
    },
    {
      "cell_type": "code",
      "metadata": {
        "id": "7RNscxlFx0gN",
        "colab_type": "code",
        "outputId": "63528113-34b3-4603-f636-5c638a06ad49",
        "colab": {
          "base_uri": "https://localhost:8080/",
          "height": 153
        }
      },
      "source": [
        "# Actual Prediction. It Must be Flattened, as Targets are of size (N,) and predictions are of size (N,1)\n",
        "import numpy as np\n",
        "y_pred = np.round(y_pred).flatten()\n",
        "print(y_pred)"
      ],
      "execution_count": 0,
      "outputs": [
        {
          "output_type": "stream",
          "text": [
            "[1. 0. 0. 1. 1. 0. 0. 0. 1. 1. 1. 0. 1. 0. 1. 0. 1. 1. 1. 0. 1. 1. 0. 1.\n",
            " 1. 1. 1. 1. 1. 0. 1. 1. 1. 1. 1. 1. 0. 1. 0. 1. 1. 0. 1. 1. 1. 1. 1. 1.\n",
            " 1. 1. 0. 0. 1. 1. 1. 1. 1. 0. 0. 1. 1. 0. 0. 1. 1. 1. 0. 0. 1. 1. 0. 0.\n",
            " 1. 0. 1. 1. 1. 1. 1. 1. 0. 1. 0. 0. 0. 0. 0. 0. 1. 1. 1. 1. 1. 1. 1. 1.\n",
            " 0. 0. 1. 0. 0. 1. 0. 0. 1. 1. 1. 0. 1. 1. 0. 1. 0. 0. 0. 0. 1. 1. 1. 0.\n",
            " 1. 1. 1. 0. 1. 0. 0. 1. 1. 0. 0. 0. 1. 1. 1. 0. 1. 1. 1. 0. 1. 0. 1. 1.\n",
            " 0. 1. 0. 0. 0. 1. 0. 1. 1. 1. 1. 0. 0. 1. 1. 1. 1. 1. 1. 1. 0. 1. 1. 1.\n",
            " 1. 0. 1. 1. 1. 1. 1. 1. 0. 1. 1. 1. 1. 1. 1. 0. 0. 0. 0. 1.]\n"
          ],
          "name": "stdout"
        }
      ]
    },
    {
      "cell_type": "code",
      "metadata": {
        "id": "De_fIffSyK-G",
        "colab_type": "code",
        "outputId": "2e58da53-e424-4e1b-b804-9926f700b7f9",
        "colab": {
          "base_uri": "https://localhost:8080/",
          "height": 68
        }
      },
      "source": [
        "# Calculating Accuracy\n",
        "from sklearn.metrics import accuracy_score\n",
        "\n",
        "print(\"The Evaluation of Model is: \", model.evaluate(X_test, y_test))\n",
        "print(\"The Accuracy of the model is: \", accuracy_score(y_pred, y_test)*100)"
      ],
      "execution_count": 0,
      "outputs": [
        {
          "output_type": "stream",
          "text": [
            "188/188 [==============================] - 0s 71us/sample - loss: 0.0895 - accuracy: 0.9734\n",
            "The Evaluation of Model is:  [0.08948123550161402, 0.9734042]\n",
            "The Accuracy of the model is:  97.3404255319149\n"
          ],
          "name": "stdout"
        }
      ]
    },
    {
      "cell_type": "markdown",
      "metadata": {
        "id": "d-rRw6Fk06ma",
        "colab_type": "text"
      },
      "source": [
        "**Saving the Model**"
      ]
    },
    {
      "cell_type": "code",
      "metadata": {
        "id": "BECgbLOv0-zn",
        "colab_type": "code",
        "colab": {}
      },
      "source": [
        "# Saving as h5 file\n",
        "\n",
        "model.save('0_linear_Classification.h5')"
      ],
      "execution_count": 0,
      "outputs": []
    },
    {
      "cell_type": "code",
      "metadata": {
        "id": "ve06CU3m1H2k",
        "colab_type": "code",
        "outputId": "125d1c52-ac58-4c9b-d7ad-a934bab110ed",
        "colab": {
          "base_uri": "https://localhost:8080/",
          "height": 68
        }
      },
      "source": [
        "# Check the existence of model file\n",
        "!ls -lh"
      ],
      "execution_count": 0,
      "outputs": [
        {
          "output_type": "stream",
          "text": [
            "total 24K\n",
            "-rw-r--r-- 1 root root  19K Jan 16 14:53 0_linear_Classification.h5\n",
            "drwxr-xr-x 1 root root 4.0K Jan 13 16:38 sample_data\n"
          ],
          "name": "stdout"
        }
      ]
    },
    {
      "cell_type": "code",
      "metadata": {
        "id": "npISiDuq1MbH",
        "colab_type": "code",
        "outputId": "1c114adb-2905-4834-e1d0-53f083b38881",
        "colab": {
          "base_uri": "https://localhost:8080/",
          "height": 323
        }
      },
      "source": [
        "# Loading the Model\n",
        "\n",
        "model = tf.keras.models.load_model('0_linear_Classification.h5')"
      ],
      "execution_count": 0,
      "outputs": [
        {
          "output_type": "error",
          "ename": "ValueError",
          "evalue": "ignored",
          "traceback": [
            "\u001b[0;31m---------------------------------------------------------------------------\u001b[0m",
            "\u001b[0;31mValueError\u001b[0m                                Traceback (most recent call last)",
            "\u001b[0;32m<ipython-input-26-df48071e2a9c>\u001b[0m in \u001b[0;36m<module>\u001b[0;34m()\u001b[0m\n\u001b[1;32m      1\u001b[0m \u001b[0;34m\u001b[0m\u001b[0m\n\u001b[0;32m----> 2\u001b[0;31m \u001b[0mmodel\u001b[0m \u001b[0;34m=\u001b[0m \u001b[0mtf\u001b[0m\u001b[0;34m.\u001b[0m\u001b[0mkeras\u001b[0m\u001b[0;34m.\u001b[0m\u001b[0mmodels\u001b[0m\u001b[0;34m.\u001b[0m\u001b[0mload_model\u001b[0m\u001b[0;34m(\u001b[0m\u001b[0;34m'0_linear_Classification.h5'\u001b[0m\u001b[0;34m)\u001b[0m\u001b[0;34m\u001b[0m\u001b[0;34m\u001b[0m\u001b[0m\n\u001b[0m",
            "\u001b[0;32m/usr/local/lib/python3.6/dist-packages/tensorflow/python/keras/saving/save.py\u001b[0m in \u001b[0;36mload_model\u001b[0;34m(filepath, custom_objects, compile)\u001b[0m\n\u001b[1;32m    135\u001b[0m   if (h5py is not None and (\n\u001b[1;32m    136\u001b[0m       isinstance(filepath, h5py.File) or h5py.is_hdf5(filepath))):\n\u001b[0;32m--> 137\u001b[0;31m     \u001b[0;32mreturn\u001b[0m \u001b[0mhdf5_format\u001b[0m\u001b[0;34m.\u001b[0m\u001b[0mload_model_from_hdf5\u001b[0m\u001b[0;34m(\u001b[0m\u001b[0mfilepath\u001b[0m\u001b[0;34m,\u001b[0m \u001b[0mcustom_objects\u001b[0m\u001b[0;34m,\u001b[0m \u001b[0mcompile\u001b[0m\u001b[0;34m)\u001b[0m\u001b[0;34m\u001b[0m\u001b[0;34m\u001b[0m\u001b[0m\n\u001b[0m\u001b[1;32m    138\u001b[0m \u001b[0;34m\u001b[0m\u001b[0m\n\u001b[1;32m    139\u001b[0m   \u001b[0;32mif\u001b[0m \u001b[0misinstance\u001b[0m\u001b[0;34m(\u001b[0m\u001b[0mfilepath\u001b[0m\u001b[0;34m,\u001b[0m \u001b[0msix\u001b[0m\u001b[0;34m.\u001b[0m\u001b[0mstring_types\u001b[0m\u001b[0;34m)\u001b[0m\u001b[0;34m:\u001b[0m\u001b[0;34m\u001b[0m\u001b[0;34m\u001b[0m\u001b[0m\n",
            "\u001b[0;32m/usr/local/lib/python3.6/dist-packages/tensorflow/python/keras/saving/hdf5_format.py\u001b[0m in \u001b[0;36mload_model_from_hdf5\u001b[0;34m(filepath, custom_objects, compile)\u001b[0m\n\u001b[1;32m    163\u001b[0m \u001b[0;34m\u001b[0m\u001b[0m\n\u001b[1;32m    164\u001b[0m     \u001b[0;31m# set weights\u001b[0m\u001b[0;34m\u001b[0m\u001b[0;34m\u001b[0m\u001b[0;34m\u001b[0m\u001b[0m\n\u001b[0;32m--> 165\u001b[0;31m     \u001b[0mload_weights_from_hdf5_group\u001b[0m\u001b[0;34m(\u001b[0m\u001b[0mf\u001b[0m\u001b[0;34m[\u001b[0m\u001b[0;34m'model_weights'\u001b[0m\u001b[0;34m]\u001b[0m\u001b[0;34m,\u001b[0m \u001b[0mmodel\u001b[0m\u001b[0;34m.\u001b[0m\u001b[0mlayers\u001b[0m\u001b[0;34m)\u001b[0m\u001b[0;34m\u001b[0m\u001b[0;34m\u001b[0m\u001b[0m\n\u001b[0m\u001b[1;32m    166\u001b[0m \u001b[0;34m\u001b[0m\u001b[0m\n\u001b[1;32m    167\u001b[0m     \u001b[0;32mif\u001b[0m \u001b[0mcompile\u001b[0m\u001b[0;34m:\u001b[0m\u001b[0;34m\u001b[0m\u001b[0;34m\u001b[0m\u001b[0m\n",
            "\u001b[0;32m/usr/local/lib/python3.6/dist-packages/tensorflow/python/keras/saving/hdf5_format.py\u001b[0m in \u001b[0;36mload_weights_from_hdf5_group\u001b[0;34m(f, layers)\u001b[0m\n\u001b[1;32m    669\u001b[0m                      \u001b[0;34m'containing '\u001b[0m \u001b[0;34m+\u001b[0m \u001b[0mstr\u001b[0m\u001b[0;34m(\u001b[0m\u001b[0mlen\u001b[0m\u001b[0;34m(\u001b[0m\u001b[0mlayer_names\u001b[0m\u001b[0;34m)\u001b[0m\u001b[0;34m)\u001b[0m \u001b[0;34m+\u001b[0m\u001b[0;34m\u001b[0m\u001b[0;34m\u001b[0m\u001b[0m\n\u001b[1;32m    670\u001b[0m                      \u001b[0;34m' layers into a model with '\u001b[0m \u001b[0;34m+\u001b[0m \u001b[0mstr\u001b[0m\u001b[0;34m(\u001b[0m\u001b[0mlen\u001b[0m\u001b[0;34m(\u001b[0m\u001b[0mfiltered_layers\u001b[0m\u001b[0;34m)\u001b[0m\u001b[0;34m)\u001b[0m \u001b[0;34m+\u001b[0m\u001b[0;34m\u001b[0m\u001b[0;34m\u001b[0m\u001b[0m\n\u001b[0;32m--> 671\u001b[0;31m                      ' layers.')\n\u001b[0m\u001b[1;32m    672\u001b[0m \u001b[0;34m\u001b[0m\u001b[0m\n\u001b[1;32m    673\u001b[0m   \u001b[0;31m# We batch weight value assignments in a single backend call\u001b[0m\u001b[0;34m\u001b[0m\u001b[0;34m\u001b[0m\u001b[0;34m\u001b[0m\u001b[0m\n",
            "\u001b[0;31mValueError\u001b[0m: You are trying to load a weight file containing 1 layers into a model with 0 layers."
          ]
        }
      ]
    },
    {
      "cell_type": "code",
      "metadata": {
        "id": "LMejG32P1XyP",
        "colab_type": "code",
        "colab": {}
      },
      "source": [
        "# We need to load the model by changing the Model creation by removing Explicit Input function\n",
        "\n",
        "# Loading the Model\n",
        "\n",
        "model = tf.keras.models.load_model('0_linear_Classification.h5')"
      ],
      "execution_count": 0,
      "outputs": []
    },
    {
      "cell_type": "code",
      "metadata": {
        "id": "VRlrv8122J8B",
        "colab_type": "code",
        "outputId": "4045f974-9015-455c-c428-ab95ad08efaa",
        "colab": {
          "base_uri": "https://localhost:8080/",
          "height": 68
        }
      },
      "source": [
        "# Verifying the Loaded Weights\n",
        "print(model.layers)\n",
        "model.evaluate(X_test, y_test)"
      ],
      "execution_count": 0,
      "outputs": [
        {
          "output_type": "stream",
          "text": [
            "[<tensorflow.python.keras.layers.core.Dense object at 0x7fc8f55e42e8>]\n",
            "188/188 [==============================] - 0s 171us/sample - loss: 0.0895 - accuracy: 0.9734\n"
          ],
          "name": "stdout"
        },
        {
          "output_type": "execute_result",
          "data": {
            "text/plain": [
              "[0.08948123550161402, 0.9734042]"
            ]
          },
          "metadata": {
            "tags": []
          },
          "execution_count": 38
        }
      ]
    },
    {
      "cell_type": "code",
      "metadata": {
        "id": "pX7UY0ff2TDA",
        "colab_type": "code",
        "colab": {}
      },
      "source": [
        ""
      ],
      "execution_count": 0,
      "outputs": []
    }
  ]
}